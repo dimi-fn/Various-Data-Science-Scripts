{
  "nbformat": 4,
  "nbformat_minor": 0,
  "metadata": {
    "colab": {
      "name": "RegEx.ipynb",
      "provenance": [],
      "collapsed_sections": [],
      "authorship_tag": "ABX9TyP7xUIo8idWb6zqRORDTO6k",
      "include_colab_link": true
    },
    "kernelspec": {
      "name": "python3",
      "display_name": "Python 3"
    },
    "language_info": {
      "name": "python"
    }
  },
  "cells": [
    {
      "cell_type": "markdown",
      "metadata": {
        "id": "view-in-github",
        "colab_type": "text"
      },
      "source": [
        "<a href=\"https://colab.research.google.com/github/dimi-fn/Various-Data-Science-Scripts/blob/main/RegEx.ipynb\" target=\"_parent\"><img src=\"https://colab.research.google.com/assets/colab-badge.svg\" alt=\"Open In Colab\"/></a>"
      ]
    },
    {
      "cell_type": "markdown",
      "metadata": {
        "id": "iTil7nOponHu"
      },
      "source": [
        "# Regular Expressions"
      ]
    },
    {
      "cell_type": "markdown",
      "metadata": {
        "id": "BBAP5P5GrfTB"
      },
      "source": [
        "Regex strings often use backslashes (like \\d), so they are often written using raw strings: e.g. r'\\d'\n",
        "\n",
        "* `d` is the regex with regard to numeric digit characters\n",
        "\n",
        "> Procedure:\n",
        "\n",
        "* import the re module first\n",
        "* create a regex object: call the re.compile() function \n",
        "* create a match object: call the regex object's search() method \n",
        "* to get the matched string: call the match object's group() method\n"
      ]
    },
    {
      "cell_type": "markdown",
      "metadata": {
        "id": "q4XH_ik7rb-K"
      },
      "source": [
        "## Groups\n"
      ]
    },
    {
      "cell_type": "markdown",
      "metadata": {
        "id": "sN0KhPpKrj42"
      },
      "source": [
        "Groups are created in regex strings with parentheses.\n",
        "The first set of parentheses is group 1, the second is 2, and so on.\n",
        "Calling group() or group(0) returns the full matching string, group(1) returns group 1's matching string, and so on.\n",
        "* use `\\` to match literal parentheses in the regex string\n",
        "* the `|` pipe can match one of many possible groups\n",
        "\n",
        "* `?`: the group matches zero or one times\n",
        "* `*`: the group matches zero or more times\n",
        "* `+`: the group matches one or more times\n",
        "* curly braces can match a specific number of times\n",
        "  * the curly braces with two numbers matches a minimum and maximum number of times\n",
        "  * leaving out the first or second number in the curly braces says there is no minimum or maximum.\n",
        "  * \"**Greedy matching**\" matches the longest string possible, \"**non-greedy matching**\" (or \"lazy matching\") matches the shortest string possible. Putting a question mark after the curly braces makes it do a non-greedy/lazy match.\n"
      ]
    },
    {
      "cell_type": "markdown",
      "metadata": {
        "id": "8eqSaRqys2e5"
      },
      "source": [
        "## findall()\n",
        "\n",
        "The regex method findall() is passed as a string, and returns all matches in it, not just the first match.\n",
        "* if the regex has 0 or 1 group, it returns a list of strings\n",
        "* if the regex has 2 or more groups, it returns a list of tuples of strings\n",
        "* `\\d` is a shorthand character class that matches digits\n",
        "* `\\w` matches \"word characters\" (letters, numbers, and the underscore)\n",
        "* `\\s` matches whitespace characters (space, tab, newline).\n",
        "* the uppercase shorthand character classes `\\D`, `\\W`, and `\\S` match charaters that are not digits, word characters, and whitespace"
      ]
    },
    {
      "cell_type": "code",
      "metadata": {
        "id": "7IxPzQ-6opRV",
        "colab": {
          "base_uri": "https://localhost:8080/"
        },
        "outputId": "16619b3f-bed1-417c-a548-d44fa571955b"
      },
      "source": [
        "import re\n",
        "phone_RegEx = re.compile(r'\\d\\d\\d-\\d\\d\\d')\n",
        "print(\"The regular expression object is:\\n{}\".format(phone_RegEx))"
      ],
      "execution_count": 1,
      "outputs": [
        {
          "output_type": "stream",
          "name": "stdout",
          "text": [
            "The regular expression object is:\n",
            "re.compile('\\\\d\\\\d\\\\d-\\\\d\\\\d\\\\d')\n"
          ]
        }
      ]
    },
    {
      "cell_type": "code",
      "metadata": {
        "colab": {
          "base_uri": "https://localhost:8080/"
        },
        "id": "laH9uqU8ujX7",
        "outputId": "d654fac3-04ed-40ee-dcaa-e009bd9e3c4b"
      },
      "source": [
        "phone_RegEx.search(\"this is the number 789-984 and the number 888-999\") # it returns the 1st match"
      ],
      "execution_count": 2,
      "outputs": [
        {
          "output_type": "execute_result",
          "data": {
            "text/plain": [
              "<re.Match object; span=(19, 26), match='789-984'>"
            ]
          },
          "metadata": {},
          "execution_count": 2
        }
      ]
    },
    {
      "cell_type": "code",
      "metadata": {
        "colab": {
          "base_uri": "https://localhost:8080/"
        },
        "id": "mN3wTnmTv0hv",
        "outputId": "c70b07ac-25b7-45df-8caa-94d0bcd421ce"
      },
      "source": [
        "phone_RegEx.findall(\"this is the number 789-984 and the number 888-999\") # all matches"
      ],
      "execution_count": 3,
      "outputs": [
        {
          "output_type": "execute_result",
          "data": {
            "text/plain": [
              "['789-984', '888-999']"
            ]
          },
          "metadata": {},
          "execution_count": 3
        }
      ]
    }
  ]
}