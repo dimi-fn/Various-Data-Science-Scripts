{
  "nbformat": 4,
  "nbformat_minor": 0,
  "metadata": {
    "colab": {
      "name": "Data_Types_&_Structures.ipynb",
      "provenance": [],
      "collapsed_sections": [],
      "toc_visible": true,
      "authorship_tag": "ABX9TyO6BamhwuxaSYp5tMpnv9oo",
      "include_colab_link": true
    },
    "kernelspec": {
      "name": "python3",
      "display_name": "Python 3"
    }
  },
  "cells": [
    {
      "cell_type": "markdown",
      "metadata": {
        "id": "view-in-github",
        "colab_type": "text"
      },
      "source": [
        "<a href=\"https://colab.research.google.com/github/dimi-fn/Various-Data-Science-Scripts/blob/main/Data_Types_%26_Structures.ipynb\" target=\"_parent\"><img src=\"https://colab.research.google.com/assets/colab-badge.svg\" alt=\"Open In Colab\"/></a>"
      ]
    },
    {
      "cell_type": "markdown",
      "metadata": {
        "id": "a_Rh4ynpfMuK"
      },
      "source": [
        "# Primitive Data Types vs Reference Types in Memory\r\n",
        "\r\n",
        "| **References Types** | **Primitive Types**  |\r\n",
        "|------|------|\r\n",
        "|  `variable name --> memory adress (pointers) --> value`  | `variable name --> data` |\r\n",
        "|  Strings  | int|\r\n",
        "|  Data Structures | boolean|\r\n",
        "|   | char |\r\n",
        "|   | float |\r\n",
        "|  |  double|\r\n",
        "|  |  short|\r\n",
        "| |  long|\r\n",
        "\r\n",
        "\r\n"
      ]
    },
    {
      "cell_type": "markdown",
      "metadata": {
        "id": "_vPVsXeqfWdv"
      },
      "source": [
        "## Primitive Data Types\r\n",
        "With primitive data types we know exactly how much space they will take up beforehand, i.e. before allocating space for them.\r\n",
        "\r\n",
        "* `shorts`, `ints` and `longs`, `floats` and `doubles`, as well as `booleans` and `chars` --> each of these data types are of certain size (i.e. they contain a specific number of bits (16, 32, or 64) and have **fixed size**)\r\n",
        "\r\n",
        "  * **Python** has four primitive types: integers, floats, booleans and strings"
      ]
    },
    {
      "cell_type": "markdown",
      "metadata": {
        "id": "q7O_YFBhfZQF"
      },
      "source": [
        "## Reference Types in Memory\r\n",
        "\r\n",
        "**Strings** and other data types implemented with **data structures** are called--> `reference types`\r\n",
        "\r\n",
        "We do not know how much space they will take up until we know-declare how many items they will contain"
      ]
    },
    {
      "cell_type": "markdown",
      "metadata": {
        "id": "O979mXr8feij"
      },
      "source": [
        "# Numerical Data Types\r\n",
        "\r\n",
        "(the following concepts can be found on programming languages such as C and Java)"
      ]
    },
    {
      "cell_type": "markdown",
      "metadata": {
        "id": "6SebXEMXfhVG"
      },
      "source": [
        "`Whole Numbers`\r\n",
        "* short | 16 bits\r\n",
        "* int   | 32 bits \r\n",
        "* long  | 64 bits\r\n",
        "\r\n",
        "`Decimal Numbers`\r\n",
        "* float | 32 bits\r\n",
        "* double | 64 bits\r\n",
        "\r\n",
        "**Signed vs Unsigned**:\r\n",
        "* `Signed`: positive and negative numbers\r\n",
        "  * e.g. if short signed --> 16bits --> range: [-32.768, 32,767]\r\n",
        "* `Unsigned`: only positive values\r\n",
        "  * e.g. if short unsigned --> 16bits --> range: [0, 65,535]\r\n"
      ]
    },
    {
      "cell_type": "markdown",
      "metadata": {
        "id": "W9pgfi9V4RMG"
      },
      "source": [
        "# Data Structure\r\n",
        "\r\n",
        "It is about a **collection** with a defined way of accessing and storing items.\r\n",
        "\r\n",
        "\r\n"
      ]
    },
    {
      "cell_type": "markdown",
      "metadata": {
        "id": "m1fXQTPY4gDM"
      },
      "source": [
        "## Arrays\r\n",
        "\r\n",
        "An array is a **collection of elements** where each item is identified by an index or key."
      ]
    },
    {
      "cell_type": "markdown",
      "metadata": {
        "id": "KyNgPGZS6zqo"
      },
      "source": [
        "### Resizing Arrays\r\n",
        "\r\n",
        "> In programming languages such as C++ and Java, basic arrays cannot be resized (they are static/immutable). For this reason, e.g. in Java you should use a mutable Java class to get a resizable version array.\r\n",
        "\r\n",
        "> In programming languages such as Python, Ruby, and JavaScript basic arrays can be resized (they are dynamic/mutable)."
      ]
    },
    {
      "cell_type": "markdown",
      "metadata": {
        "id": "Rgg_lx9HfMxY"
      },
      "source": [
        "# Data Types & Structures in Python"
      ]
    },
    {
      "cell_type": "markdown",
      "metadata": {
        "id": "VeYrKerFzHca"
      },
      "source": [
        "| Class | Immutable  |\r\n",
        "|------|------|\r\n",
        "|  Bool  | Yes |\r\n",
        "|  int / float  | Yes|\r\n",
        "|  strings | Yes|\r\n",
        "|  Tuple | Yes |\r\n",
        "|  Frozenset | Yes |\r\n",
        "| List |  No|\r\n",
        "| Set |  No|\r\n",
        "| Dict|  No|\r\n"
      ]
    },
    {
      "cell_type": "markdown",
      "metadata": {
        "id": "0sWZkXOpy-6t"
      },
      "source": [
        "## Lists vs Sets vs Tuples"
      ]
    },
    {
      "cell_type": "markdown",
      "metadata": {
        "id": "paylQpBeuiv5"
      },
      "source": [
        "| List | Tuple  | Set |\r\n",
        "|------|------|------|\r\n",
        "|  Mutable  | Immutable | Mutable | \r\n",
        "|  Ordered  | Ordered| Unordered |\r\n",
        "|  Item values can be changed/replaced | Item values cannot be changed/replaced | Item values cannot be changed/replaced"
      ]
    },
    {
      "cell_type": "markdown",
      "metadata": {
        "id": "LwQ1Uux_vsAk"
      },
      "source": [
        "### Lists\r\n",
        "\r\n",
        "* Using square brackets **[ ]**\r\n",
        "* Lists are **mutable**, i.e. a list can change its stage or contents (lists are **dynamic**).\r\n",
        "    * Thus, lists can contain strings, numbers, booleans and etc. all together separated by commas.\r\n",
        "    * Its item values can be changed or replaced\r\n",
        "        * since lists are mutable, they contain objects that are **non-hashable**\r\n",
        "* Lists are **ordered**: They will be printed-executed based on the defined order assigned.\r\n",
        "* They cannot be used for dictionary keys.\r\n",
        "* They are **resizable arrays**.\r\n"
      ]
    },
    {
      "cell_type": "code",
      "metadata": {
        "colab": {
          "base_uri": "https://localhost:8080/"
        },
        "id": "p5t4WJsuui8k",
        "outputId": "a3299d94-d7a0-4629-c073-7b0055958ea6"
      },
      "source": [
        "my_list1 = [1, 10, 10, 8, 20]\r\n",
        "my_list2= [1, 10, 10, 8, 20, \"text\"]\r\n",
        "my_list3= [\"first\", \"second\", \"second\", \"third\"]\r\n",
        "print(\"list:\", my_list1)\r\n",
        "print(\"list:\", my_list2)\r\n",
        "print(\"list:\", my_list3)"
      ],
      "execution_count": 1,
      "outputs": [
        {
          "output_type": "stream",
          "text": [
            "list: [1, 10, 10, 8, 20]\n",
            "list: [1, 10, 10, 8, 20, 'text']\n",
            "list: ['first', 'second', 'second', 'third']\n"
          ],
          "name": "stdout"
        }
      ]
    },
    {
      "cell_type": "markdown",
      "metadata": {
        "id": "p7KsU-H6ul9z"
      },
      "source": [
        "### Tuples\r\n",
        "\r\n",
        "* They are usually defined by parentheses **()**\r\n",
        "* Tuple objects are **immutable**, i.e. they do not allow modification after creation (they are **fixed size** in nature).\r\n",
        "  * e.g. you cannot add elements to a tuple (no append or extend method), and you cannot remove elements.\r\n",
        "* Tuples, as lists, are **ordered**: They will be printed-executed based on the defined order assigned.\r\n",
        "* They can be used for dictionary keys.\r\n",
        "* Useful for **heterogenous collections**\r\n",
        "\r\n",
        "> [They can be useful to be used when e.g. creating a data structure in which the position is meaningful](https://stackoverflow.com/questions/1708510/list-vs-tuple-when-to-use-each#answer-1708702).\r\n",
        "\r\n",
        "> [They can be easily promoted/extended to named tuples (for collection of heterogeneous objects)](https://stackoverflow.com/questions/1708510/list-vs-tuple-when-to-use-each#answer-1708603)."
      ]
    },
    {
      "cell_type": "code",
      "metadata": {
        "colab": {
          "base_uri": "https://localhost:8080/"
        },
        "id": "C_FXDbnaukXg",
        "outputId": "c58ae808-a171-49a0-a481-ed5abb98ccb4"
      },
      "source": [
        "my_list1 = [1, 10, 10, 8, 20]\r\n",
        "my_list2= [1, 10, 10, 8, 20, \"text\"]\r\n",
        "my_list3= [\"first\", \"second\", \"second\", \"third\"]\r\n",
        "print(\"tuple:\", tuple(my_list1))\r\n",
        "print(\"tuple:\", tuple(my_list2))\r\n",
        "print(\"tuple:\", tuple(my_list3))"
      ],
      "execution_count": 2,
      "outputs": [
        {
          "output_type": "stream",
          "text": [
            "tuple: (1, 10, 10, 8, 20)\n",
            "tuple: (1, 10, 10, 8, 20, 'text')\n",
            "tuple: ('first', 'second', 'second', 'third')\n"
          ],
          "name": "stdout"
        }
      ]
    },
    {
      "cell_type": "markdown",
      "metadata": {
        "id": "xzZpvyR4vKC2"
      },
      "source": [
        "### Sets\r\n",
        "\r\n",
        "* They are defined with curly braces **{}**.\r\n",
        "* Sets are **mutable**, i.e. they can be converted into another data type, <u>however only immutable objects can be stored in it</u>\r\n",
        "* Sets are **unordered**, i.e. the order in which the elements are added into the set is not fixed; it can change frequently\r\n",
        "    * we don't care about the order of the elements (that's why we don't have indices or keys here)\r\n",
        "        * here we care about items *membership*, i.e. if an item belongs or not in a set \r\n",
        "    * therefore, sets are also **unintended** collection of items\r\n",
        "* **duplicates** are **removed** when the set gets executed (duplicates get removed)\r\n",
        "\r\n",
        "> **frozenset** is a finite type of set => like above, you get the items that are already in the set, nothing more or less\r\n",
        "\r\n",
        ">> if a set is not declared as a frozenset => infinite type of set => e.g. we can add items"
      ]
    },
    {
      "cell_type": "code",
      "metadata": {
        "colab": {
          "base_uri": "https://localhost:8080/"
        },
        "id": "jqoj5VzJv1eX",
        "outputId": "a138968b-fb7f-4622-92ae-97b7415bacdc"
      },
      "source": [
        "my_list1 = [1, 10, 10, 8, 20]\r\n",
        "my_list2= [1, 10, 10, 8, 20, \"text\"]\r\n",
        "my_list3= [\"first\", \"second\", \"second\", \"third\"]\r\n",
        "print(\"set:\", set(my_list1))\r\n",
        "print(\"set:\", set(my_list2))\r\n",
        "print(\"set:\", set(my_list3))"
      ],
      "execution_count": 3,
      "outputs": [
        {
          "output_type": "stream",
          "text": [
            "set: {8, 1, 10, 20}\n",
            "set: {1, 'text', 8, 10, 20}\n",
            "set: {'second', 'first', 'third'}\n"
          ],
          "name": "stdout"
        }
      ]
    },
    {
      "cell_type": "markdown",
      "metadata": {
        "id": "X9wTv3fNinZ-"
      },
      "source": [
        "## Stacks and Queues\r\n",
        "\r\n",
        "Stacks and queues are data structures that allow data storing and retrieval in a sequential way.\r\n",
        "\r\n",
        "`Stacks` => **LIFO** functionality\r\n",
        "* good for:\r\n",
        "  * reversing\r\n",
        "  * keeping track of state (while items are added or removed)\r\n",
        "\r\n",
        "\r\n",
        "`Queues` => **FIFO** functionality\r\n",
        "* good for:\r\n",
        "  * indexing the data structure, e.g. getting a specific item in the middle of array\r\n"
      ]
    }
  ]
}