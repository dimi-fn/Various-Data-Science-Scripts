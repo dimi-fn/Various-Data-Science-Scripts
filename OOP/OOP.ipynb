{
  "nbformat": 4,
  "nbformat_minor": 0,
  "metadata": {
    "colab": {
      "name": "OOP.ipynb",
      "provenance": [],
      "collapsed_sections": [],
      "authorship_tag": "ABX9TyNVUmI8wvNj9aPS+EqC7aUk",
      "include_colab_link": true
    },
    "kernelspec": {
      "name": "python3",
      "display_name": "Python 3"
    }
  },
  "cells": [
    {
      "cell_type": "markdown",
      "metadata": {
        "id": "view-in-github",
        "colab_type": "text"
      },
      "source": [
        "<a href=\"https://colab.research.google.com/github/dimi-fn/Various-Data-Science-Scripts/blob/main/OOP.ipynb\" target=\"_parent\"><img src=\"https://colab.research.google.com/assets/colab-badge.svg\" alt=\"Open In Colab\"/></a>"
      ]
    },
    {
      "cell_type": "markdown",
      "metadata": {
        "id": "yz8vFFw0iVTb"
      },
      "source": [
        "# Classes & Objects\r\n",
        "\r\n",
        "Everything in python is an object, and a class is how an object is defined\r\n",
        "\r\n",
        "- Classes in python create objects\r\n",
        "\r\n",
        "    * Objects are instances of classes, and they get created by calling the respective class\r\n",
        "    * Objects can have attributes/properties and can contain methods\r\n",
        "      * attributes are variables\r\n",
        "      * methods are functions that belong to an object\r\n"
      ]
    },
    {
      "cell_type": "markdown",
      "metadata": {
        "id": "aoqK6V1R8_r0"
      },
      "source": [
        "\r\n",
        "- All classes have a function called \"__init__()\"\r\n",
        "  * a **class** is a `definition`, and an **object** is an `instance of a class`\r\n",
        "  * **variables** inside of a class are called `properties` of that class. In python, they are more exclusively called `class variables`\r\n",
        "  * sometimes **functions** are called `methods` ==> else called **function definitions**\r\n",
        "\r\n"
      ]
    },
    {
      "cell_type": "markdown",
      "metadata": {
        "id": "BWW9FuKrh56P"
      },
      "source": [
        "## if __name__ == \"__main__\": main()"
      ]
    },
    {
      "cell_type": "code",
      "metadata": {
        "colab": {
          "base_uri": "https://localhost:8080/"
        },
        "id": "hL9feN_Xh6Mj",
        "outputId": "6cc39b92-f889-4117-bc93-955fea3a4159"
      },
      "source": [
        "def main():\r\n",
        "    print('Hi world!')\r\n",
        "\r\n",
        "if __name__ == '__main__': \r\n",
        "  main()"
      ],
      "execution_count": null,
      "outputs": [
        {
          "output_type": "stream",
          "text": [
            "Hi world!\n"
          ],
          "name": "stdout"
        }
      ]
    },
    {
      "cell_type": "markdown",
      "metadata": {
        "id": "zZnwPIP_9BSm"
      },
      "source": [
        "## def __init__(self, )\r\n",
        "\r\n",
        "\r\n",
        "It is a built-in function of classes\r\n",
        "* it is called/executed when:\r\n",
        "  * an object is created\r\n",
        "  * to initialize attributes and to assign values to them\r\n",
        "\r\n",
        "> `self`: It is a **reference to the object/instance, NOT the class**\r\n",
        "\r\n",
        ">>  it is called 'self' by convention and it is the 1st parameter in every instance"
      ]
    },
    {
      "cell_type": "markdown",
      "metadata": {
        "id": "GDzmFczvGauG"
      },
      "source": [
        "## Example 1"
      ]
    },
    {
      "cell_type": "code",
      "metadata": {
        "colab": {
          "base_uri": "https://localhost:8080/"
        },
        "id": "8PEo4pTEGBMj",
        "outputId": "94ec3d42-775e-4986-84d3-8d634e93068a"
      },
      "source": [
        "class Identity:\r\n",
        "    # docstring:\r\n",
        "    '''\r\n",
        "    Creating a class named \"Identity\"\r\n",
        "    Properties: first name, last name, age\r\n",
        "    Method: A function printing the output based on attributes given\r\n",
        "    Result: It prints the output of the above\r\n",
        "    '''\r\n",
        "\r\n",
        "    # assigning values to the object properties of the class \"Identity\"\r\n",
        "    ## variables next to \"self\" are **kwargs\r\n",
        "    def __init__(self, first_name, last_name, age):\r\n",
        "\r\n",
        "        # defining the object variables\r\n",
        "        self.first_name = first_name\r\n",
        "        self.last_name= last_name\r\n",
        "        self.age = age\r\n",
        "\r\n",
        "    # Creating a function definition (method) which belongs to the objects of the \"Identity\" class:\r\n",
        "    def output_function(self):\r\n",
        "        print(\"First Name: {} \\nLast Name: {} \\nAge: {}\".format(self.first_name, self.last_name, self.age))\r\n",
        "\r\n",
        "\r\n",
        "# print the docstring:\r\n",
        "print(Identity.__doc__)"
      ],
      "execution_count": null,
      "outputs": [
        {
          "output_type": "stream",
          "text": [
            "\n",
            "    Creating a class named \"Identity\"\n",
            "    Properties: first name, last name, age\n",
            "    Method: A function printing the output based on attributes given\n",
            "    Result: It prints the output of the above\n",
            "    \n"
          ],
          "name": "stdout"
        }
      ]
    },
    {
      "cell_type": "code",
      "metadata": {
        "colab": {
          "base_uri": "https://localhost:8080/"
        },
        "id": "eghalhd51ewp",
        "outputId": "5d3846e4-0fe3-4dcf-f75c-ca92371fc2e1"
      },
      "source": [
        "x = Identity(\"James\", \"Lupro\", 41)\r\n",
        "x.output_function()"
      ],
      "execution_count": null,
      "outputs": [
        {
          "output_type": "stream",
          "text": [
            "First Name: James \n",
            "Last Name: Lupro \n",
            "Age: 41\n"
          ],
          "name": "stdout"
        }
      ]
    },
    {
      "cell_type": "code",
      "metadata": {
        "colab": {
          "base_uri": "https://localhost:8080/"
        },
        "id": "2k59rcvx1ius",
        "outputId": "3e361cbe-4924-492d-a2f8-2c5bca049174"
      },
      "source": [
        "# the above is equal to the following in one line:\r\n",
        "Identity(\"James\", \"Lupro\", 41).output_function()"
      ],
      "execution_count": null,
      "outputs": [
        {
          "output_type": "stream",
          "text": [
            "First Name: James \n",
            "Last Name: Lupro \n",
            "Age: 41\n"
          ],
          "name": "stdout"
        }
      ]
    },
    {
      "cell_type": "markdown",
      "metadata": {
        "id": "oJq_t4FVGdl_"
      },
      "source": [
        "## Example 2"
      ]
    },
    {
      "cell_type": "markdown",
      "metadata": {
        "id": "dnoUQqpHE_u_"
      },
      "source": [
        "### 2.1"
      ]
    },
    {
      "cell_type": "code",
      "metadata": {
        "colab": {
          "base_uri": "https://localhost:8080/"
        },
        "id": "97izLjTkGe5X",
        "outputId": "27942b7b-b3c6-4e36-dc0a-f2290a85b2ca"
      },
      "source": [
        "class Car:\r\n",
        "\r\n",
        "  def brand(self):\r\n",
        "    print(\"mercedes\")\r\n",
        "\r\n",
        "  def colour(self):\r\n",
        "    print(\"black\")\r\n",
        "\r\n",
        "  def horses(self):\r\n",
        "    print(\"350\")\r\n",
        "\r\n",
        "def main():\r\n",
        "  car= Car()\r\n",
        "  car.brand()\r\n",
        "  car.colour()\r\n",
        "  car.horses()\r\n",
        "\r\n",
        "\r\n",
        "\r\n",
        "if __name__ == \"__main__\":\r\n",
        "  main()"
      ],
      "execution_count": null,
      "outputs": [
        {
          "output_type": "stream",
          "text": [
            "mercedes\n",
            "black\n",
            "350\n"
          ],
          "name": "stdout"
        }
      ]
    },
    {
      "cell_type": "markdown",
      "metadata": {
        "id": "WgvgbGweFC4r"
      },
      "source": [
        "### 2.2"
      ]
    },
    {
      "cell_type": "markdown",
      "metadata": {
        "id": "pY4lX-MnAxQ_"
      },
      "source": [
        "Below:\r\n",
        "\r\n",
        "> The class \"Car\" has 4 attributes, i.e. brand, colour, horses, and country_production\r\n",
        "\r\n",
        ">> country_production is initialized as \"germany\", i.e. if no value is given then the country production of every car will be \"germany\" by default."
      ]
    },
    {
      "cell_type": "code",
      "metadata": {
        "id": "1PuyarnqGh7a"
      },
      "source": [
        "class Car:\r\n",
        "  # docsting:\r\n",
        "  '''\r\n",
        "  Creating a class called \"Car\"\r\n",
        "  Properties/attributes: brand, colour, horses, country production\r\n",
        "  Method: A function printing the properties of the car\r\n",
        "  Result: Printing the function in the function definition\r\n",
        "  '''\r\n",
        "\r\n",
        "  def __init__(self, brand, colour, horses, country_production = \"Germany\"):\r\n",
        "\r\n",
        "    self.brand = brand\r\n",
        "    self.colour= colour\r\n",
        "    self.horses = horses\r\n",
        "    self.country_production = country_production\r\n",
        "\r\n",
        "  def output_function(self):\r\n",
        "    return (\"This car is a {} {} with {} horses, and the country production is {}\".format(self.colour, self.brand, self.horses, self.country_production))"
      ],
      "execution_count": null,
      "outputs": []
    },
    {
      "cell_type": "code",
      "metadata": {
        "colab": {
          "base_uri": "https://localhost:8080/"
        },
        "id": "mucclb9lGjZ2",
        "outputId": "74df1936-3bbe-429e-80f5-bdc34e34cde2"
      },
      "source": [
        "print(\"The doc string of the above class is:\\n\")\r\n",
        "print(Car.__doc__)"
      ],
      "execution_count": null,
      "outputs": [
        {
          "output_type": "stream",
          "text": [
            "The doc string of the above class is:\n",
            "\n",
            "\n",
            "  Creating a class called \"Car\"\n",
            "  Properties/attributes: brand, colour, horses, country production\n",
            "  Method: A function printing the properties of the car\n",
            "  Result: Printing the function in the function definition\n",
            "  \n"
          ],
          "name": "stdout"
        }
      ]
    },
    {
      "cell_type": "code",
      "metadata": {
        "colab": {
          "base_uri": "https://localhost:8080/",
          "height": 35
        },
        "id": "-ERX-8nAGku8",
        "outputId": "ae168d8f-c9f0-4c66-8caf-54e2e83db1f2"
      },
      "source": [
        "new_car1 = Car(brand=\"Mercedes\", horses=\"350\", colour=\"black\")\r\n",
        "new_car1.output_function()"
      ],
      "execution_count": null,
      "outputs": [
        {
          "output_type": "execute_result",
          "data": {
            "application/vnd.google.colaboratory.intrinsic+json": {
              "type": "string"
            },
            "text/plain": [
              "'This car is a black Mercedes with 350 horses, and the country production is Germany'"
            ]
          },
          "metadata": {
            "tags": []
          },
          "execution_count": 8
        }
      ]
    },
    {
      "cell_type": "markdown",
      "metadata": {
        "id": "Yhl9Ryy-EiPZ"
      },
      "source": [
        "> Altering the country production variable which was initialized with a default value earlier:"
      ]
    },
    {
      "cell_type": "code",
      "metadata": {
        "colab": {
          "base_uri": "https://localhost:8080/",
          "height": 35
        },
        "id": "RAjdOAASGltE",
        "outputId": "bdd979d0-a5dd-483c-b679-dd04d0b3fe06"
      },
      "source": [
        "new_car2 = Car(brand=\"Volvo\", horses=\"300\", colour=\"blue\", country_production=\"Sweeden\")\r\n",
        "new_car2.output_function()"
      ],
      "execution_count": null,
      "outputs": [
        {
          "output_type": "execute_result",
          "data": {
            "application/vnd.google.colaboratory.intrinsic+json": {
              "type": "string"
            },
            "text/plain": [
              "'This car is a blue Volvo with 300 horses, and the country production is Sweeden'"
            ]
          },
          "metadata": {
            "tags": []
          },
          "execution_count": 9
        }
      ]
    },
    {
      "cell_type": "markdown",
      "metadata": {
        "id": "kl4Scb7mJxax"
      },
      "source": [
        "### 2.3"
      ]
    },
    {
      "cell_type": "code",
      "metadata": {
        "id": "_0daWgwl-iTD"
      },
      "source": [
        "class Car:\r\n",
        "  '''\r\n",
        "  * Creating a class called \"Car\"\r\n",
        "\r\n",
        "  * Properties/attributes: brand, colour, horses, country production, current speed \r\n",
        "    * \"current_speed\" is set to 0, unless other value is assigned\r\n",
        "\r\n",
        "  * Function definitions/Methods: \r\n",
        "    * def move_car() moves the car by 10\r\n",
        "    * def accelerate_car() accelerates the car by the given value and adds that speed to \"current_speed\"\r\n",
        "    * def stop_car() sets \"current_speed\" to 0\r\n",
        "    * def car_details() returns the properties of the \"Car\" class\r\n",
        "  '''\r\n",
        "\r\n",
        "  def __init__(self, brand, colour, horses, country_production, current_speed = 0):\r\n",
        "    self.brand = brand\r\n",
        "    self.colour= colour\r\n",
        "    self.horses = horses\r\n",
        "    self.country_production = country_production\r\n",
        "    self.current_speed = current_speed\r\n",
        "    \r\n",
        "\r\n",
        "  def move_car(self):\r\n",
        "    self.current_speed += 10\r\n",
        "\r\n",
        "  def accelerate_car(self, value):\r\n",
        "    self.current_speed += value\r\n",
        "\r\n",
        "  def stop_car(self):\r\n",
        "    self.current_speed = 0\r\n",
        "\r\n",
        "  def car_details(self):\r\n",
        "    print (\"Brand: {}\\nColour: {}\\nHorses: {}\\nCountry production: {}\\nCurrent speed: {}\\n\".format(\r\n",
        "        self.brand, self.colour, self.horses, self.country_production, self.current_speed))"
      ],
      "execution_count": null,
      "outputs": []
    },
    {
      "cell_type": "code",
      "metadata": {
        "colab": {
          "base_uri": "https://localhost:8080/"
        },
        "id": "B5YZ8Z7w-jHo",
        "outputId": "87e9b007-153b-4914-95af-446c5bf18d67"
      },
      "source": [
        "print(\"The doc string of the above class is:\\n\")\r\n",
        "print(Car.__doc__)"
      ],
      "execution_count": null,
      "outputs": [
        {
          "output_type": "stream",
          "text": [
            "The doc string of the above class is:\n",
            "\n",
            "\n",
            "  * Creating a class called \"Car\"\n",
            "\n",
            "  * Properties/attributes: brand, colour, horses, country production, current speed \n",
            "    * \"current_speed\" is set to 0, unless other value is assigned\n",
            "\n",
            "  * Function definitions/Methods: \n",
            "    * def move_car() moves the car by 10\n",
            "    * def accelerate_car() accelerates the car by the given value and adds that speed to \"current_speed\"\n",
            "    * def stop_car() sets \"current_speed\" to 0\n",
            "    * def car_details() returns the properties of the \"Car\" class\n",
            "  \n"
          ],
          "name": "stdout"
        }
      ]
    },
    {
      "cell_type": "markdown",
      "metadata": {
        "id": "PEbsqhYGXCp7"
      },
      "source": [
        "> Creating a new instance called \"new_car\""
      ]
    },
    {
      "cell_type": "code",
      "metadata": {
        "colab": {
          "base_uri": "https://localhost:8080/"
        },
        "id": "8Ty6PuzS-jJN",
        "outputId": "1c5430b7-fa03-4c11-fc6e-8ac31fb7665c"
      },
      "source": [
        "new_car = Car(brand=\"Mercedes\", colour=\"black\", horses= 200, country_production= \"Germany\")\r\n",
        "new_car"
      ],
      "execution_count": null,
      "outputs": [
        {
          "output_type": "execute_result",
          "data": {
            "text/plain": [
              "<__main__.Car at 0x7fee57d8f910>"
            ]
          },
          "metadata": {
            "tags": []
          },
          "execution_count": 12
        }
      ]
    },
    {
      "cell_type": "code",
      "metadata": {
        "colab": {
          "base_uri": "https://localhost:8080/"
        },
        "id": "5sv_TPPlU50x",
        "outputId": "bdb66ba2-a3f8-4a03-efd9-baa831baa0f2"
      },
      "source": [
        "new_car.car_details()"
      ],
      "execution_count": null,
      "outputs": [
        {
          "output_type": "stream",
          "text": [
            "Brand: Mercedes\n",
            "Colour: black\n",
            "Horses: 200\n",
            "Country production: Germany\n",
            "Current speed: 0\n",
            "\n"
          ],
          "name": "stdout"
        }
      ]
    },
    {
      "cell_type": "code",
      "metadata": {
        "colab": {
          "base_uri": "https://localhost:8080/"
        },
        "id": "2dbzECi6-jNV",
        "outputId": "d21e836c-126c-4786-be46-0648bbe5610b"
      },
      "source": [
        "new_car.move_car()\r\n",
        "new_car.current_speed"
      ],
      "execution_count": null,
      "outputs": [
        {
          "output_type": "execute_result",
          "data": {
            "text/plain": [
              "10"
            ]
          },
          "metadata": {
            "tags": []
          },
          "execution_count": 14
        }
      ]
    },
    {
      "cell_type": "code",
      "metadata": {
        "colab": {
          "base_uri": "https://localhost:8080/"
        },
        "id": "pqe8c0AY-jPg",
        "outputId": "5f03121d-c35b-4e7c-af5f-a2670751d5a4"
      },
      "source": [
        "new_car.accelerate_car(80)\r\n",
        "new_car.current_speed"
      ],
      "execution_count": null,
      "outputs": [
        {
          "output_type": "execute_result",
          "data": {
            "text/plain": [
              "90"
            ]
          },
          "metadata": {
            "tags": []
          },
          "execution_count": 15
        }
      ]
    },
    {
      "cell_type": "code",
      "metadata": {
        "colab": {
          "base_uri": "https://localhost:8080/"
        },
        "id": "CXr3o_Gw-jRx",
        "outputId": "db98ad3b-11f8-4e1d-81b8-f210c7a350ed"
      },
      "source": [
        "new_car.stop_car()\r\n",
        "new_car.current_speed"
      ],
      "execution_count": null,
      "outputs": [
        {
          "output_type": "execute_result",
          "data": {
            "text/plain": [
              "0"
            ]
          },
          "metadata": {
            "tags": []
          },
          "execution_count": 16
        }
      ]
    },
    {
      "cell_type": "code",
      "metadata": {
        "colab": {
          "base_uri": "https://localhost:8080/"
        },
        "id": "clJMe2dGVwaz",
        "outputId": "dc21c542-3d4a-42cd-f44f-2fdcc001ecee"
      },
      "source": [
        "new_car.move_car()\r\n",
        "new_car.current_speed"
      ],
      "execution_count": null,
      "outputs": [
        {
          "output_type": "execute_result",
          "data": {
            "text/plain": [
              "10"
            ]
          },
          "metadata": {
            "tags": []
          },
          "execution_count": 17
        }
      ]
    },
    {
      "cell_type": "code",
      "metadata": {
        "colab": {
          "base_uri": "https://localhost:8080/"
        },
        "id": "hAIngwKVTPOz",
        "outputId": "3c72f2a6-234e-45a5-ebdb-fb9e55aff942"
      },
      "source": [
        "new_car.accelerate_car(280)\r\n",
        "new_car.car_details()"
      ],
      "execution_count": null,
      "outputs": [
        {
          "output_type": "stream",
          "text": [
            "Brand: Mercedes\n",
            "Colour: black\n",
            "Horses: 200\n",
            "Country production: Germany\n",
            "Current speed: 290\n",
            "\n"
          ],
          "name": "stdout"
        }
      ]
    },
    {
      "cell_type": "markdown",
      "metadata": {
        "id": "IMpmSCs3CZTd"
      },
      "source": [
        "# Encapsulation "
      ]
    },
    {
      "cell_type": "markdown",
      "metadata": {
        "id": "Hru0ypSTLrSs"
      },
      "source": [
        "* Encapsulation is used to control the object changes inside the class avoiding in that way undesired implications\r\n",
        "\r\n",
        "* If variables are **encapsulated**, this means they belong to the **object**, and not to the class.\r\n",
        "\r\n",
        "* Methods and properties/attributes can be either `public` or `private`\r\n",
        "  * **private** properties: they can only be used inside the object itself\r\n",
        "  * they are not supposed to be used outside the object\r\n",
        "    * they can be accessed with double underscores `__`\r\n",
        "    * use `get` and/or `set` to access them (getters/setters)\r\n",
        "\r\n"
      ]
    },
    {
      "cell_type": "markdown",
      "metadata": {
        "id": "nYIpuyX9VMke"
      },
      "source": [
        "## Example 3"
      ]
    },
    {
      "cell_type": "markdown",
      "metadata": {
        "id": "rimIN78p0LZL"
      },
      "source": [
        "> class \"Car\" contains private properties\r\n",
        "\r\n",
        "> `consume_gas` has double `__`, i.e. you cannot just declare it directly -> the criteria in the function should be firstly met\r\n",
        "\r\n",
        "> current speed is always zero, unless otherwise specified\r\n",
        "\r\n",
        "> the car cannot accelerate when there is not enough gas or when acceleration speed is more than 40\r\n",
        "\r\n",
        "\r\n",
        "> notice that 'gas' and current_speed' have only `get`"
      ]
    },
    {
      "cell_type": "code",
      "metadata": {
        "id": "5uDkHRbEu5PH"
      },
      "source": [
        "class Car:\r\n",
        "    def __init__(self, brand, year, colour, gas, current_speed=0):\r\n",
        "        self.__brand = brand\r\n",
        "        self.__year = year\r\n",
        "        self.__colour = colour\r\n",
        "        self.__gas = gas\r\n",
        "        self.__current_speed = current_speed\r\n",
        "\r\n",
        "    def get_year(self):\r\n",
        "        return self.__year\r\n",
        "\r\n",
        "    def set_year(self, year):\r\n",
        "        self.__year = year\r\n",
        "\r\n",
        "    def get_brand(self):\r\n",
        "        return self.__brand\r\n",
        "\r\n",
        "    def set_brand(self, brand):\r\n",
        "        self.__brand = year\r\n",
        "\r\n",
        "    def set_colour(self, colour):\r\n",
        "        self.__colour = colour\r\n",
        "\r\n",
        "    def get_colour(self):\r\n",
        "        return self.__colour\r\n",
        "\r\n",
        "    def get_gas(self):\r\n",
        "        return self.__gas\r\n",
        "\r\n",
        "    def get_current_speed(self):\r\n",
        "        return self.__current_speed\r\n",
        "\r\n",
        "    def increase_gas(self, liters):\r\n",
        "        self.__gas += value\r\n",
        "\r\n",
        "    def __consume_gas(self, liters):\r\n",
        "        if(self.__gas >= liters):\r\n",
        "            self.__gas -= liters\r\n",
        "            return True\r\n",
        "        else:\r\n",
        "            return False\r\n",
        "\r\n",
        "    def accelerate(self, value):\r\n",
        "        if(value < 40 and self.__consume_gas(value)):\r\n",
        "            self.__current_speed += value\r\n",
        "\r\n",
        "    def stop(self):\r\n",
        "        self.__current_speed = 0\r\n",
        "\r\n",
        "    def details(self):\r\n",
        "      print (\"Brand: {}\\nYear: {}\\nColour: {}\\nCurrent speed: {}\\nGas: {}\".format(\r\n",
        "          self.__brand, self.__year, self.__colour, self.__current_speed, self.__gas))"
      ],
      "execution_count": null,
      "outputs": []
    },
    {
      "cell_type": "code",
      "metadata": {
        "id": "JiEyOJb8zNiT"
      },
      "source": [
        "if __name__ == '__main__':\r\n",
        "    car = Car(year= 2018, brand='mercedes', colour='black', gas=60)"
      ],
      "execution_count": null,
      "outputs": []
    },
    {
      "cell_type": "code",
      "metadata": {
        "colab": {
          "base_uri": "https://localhost:8080/"
        },
        "id": "MfiUE7jvvyWy",
        "outputId": "09b8a656-c6e2-4521-fa8a-5879a76efb98"
      },
      "source": [
        "car.details()"
      ],
      "execution_count": null,
      "outputs": [
        {
          "output_type": "stream",
          "text": [
            "Brand: mercedes\n",
            "Year: 2018\n",
            "Colour: black\n",
            "Current speed: 0\n",
            "Gas: 60\n"
          ],
          "name": "stdout"
        }
      ]
    },
    {
      "cell_type": "code",
      "metadata": {
        "colab": {
          "base_uri": "https://localhost:8080/"
        },
        "id": "UckGM3_ZyeKg",
        "outputId": "e88a5396-55ea-4248-b03e-12662fac4d3e"
      },
      "source": [
        "car.accelerate(20)\r\n",
        "car.details()"
      ],
      "execution_count": null,
      "outputs": [
        {
          "output_type": "stream",
          "text": [
            "Brand: mercedes\n",
            "Year: 2018\n",
            "Colour: black\n",
            "Current speed: 20\n",
            "Gas: 40\n"
          ],
          "name": "stdout"
        }
      ]
    },
    {
      "cell_type": "code",
      "metadata": {
        "colab": {
          "base_uri": "https://localhost:8080/"
        },
        "id": "hDBHsq9CzJS6",
        "outputId": "7b0b3064-bd7e-4dc8-8268-7f4b41b30df8"
      },
      "source": [
        "# nothing changes because 50 > 40=security constraint=maximum possible value for acceleration\r\n",
        "car.accelerate(50)\r\n",
        "car.details()"
      ],
      "execution_count": null,
      "outputs": [
        {
          "output_type": "stream",
          "text": [
            "Brand: mercedes\n",
            "Year: 2018\n",
            "Colour: black\n",
            "Current speed: 20\n",
            "Gas: 40\n"
          ],
          "name": "stdout"
        }
      ]
    },
    {
      "cell_type": "code",
      "metadata": {
        "colab": {
          "base_uri": "https://localhost:8080/"
        },
        "id": "hwJdPfBEzu4q",
        "outputId": "31724e60-0c4f-4458-f610-6f546fa8066b"
      },
      "source": [
        "car.stop()\r\n",
        "car.details()"
      ],
      "execution_count": null,
      "outputs": [
        {
          "output_type": "stream",
          "text": [
            "Brand: mercedes\n",
            "Year: 2018\n",
            "Colour: black\n",
            "Current speed: 0\n",
            "Gas: 40\n"
          ],
          "name": "stdout"
        }
      ]
    },
    {
      "cell_type": "markdown",
      "metadata": {
        "id": "f3vPdZuo08Is"
      },
      "source": [
        "> starting with some initialized speed"
      ]
    },
    {
      "cell_type": "code",
      "metadata": {
        "id": "i_Gfxt9u0VC7"
      },
      "source": [
        "car = Car(year= 2016, brand='audi', colour='red', gas=50, current_speed=20)"
      ],
      "execution_count": null,
      "outputs": []
    },
    {
      "cell_type": "code",
      "metadata": {
        "colab": {
          "base_uri": "https://localhost:8080/"
        },
        "id": "BYDimvx80WY4",
        "outputId": "4870e3f7-b5b2-4153-d327-f8b9deb9efb2"
      },
      "source": [
        "car.details()"
      ],
      "execution_count": null,
      "outputs": [
        {
          "output_type": "stream",
          "text": [
            "Brand: audi\n",
            "Year: 2016\n",
            "Colour: red\n",
            "Current speed: 20\n",
            "Gas: 50\n"
          ],
          "name": "stdout"
        }
      ]
    },
    {
      "cell_type": "code",
      "metadata": {
        "colab": {
          "base_uri": "https://localhost:8080/"
        },
        "id": "p4_l9UkD0ymJ",
        "outputId": "d2d9e144-1a1e-4198-ae68-f38063a6deff"
      },
      "source": [
        "car.accelerate(50)\r\n",
        "car.details()"
      ],
      "execution_count": null,
      "outputs": [
        {
          "output_type": "stream",
          "text": [
            "Brand: audi\n",
            "Year: 2016\n",
            "Colour: red\n",
            "Current speed: 20\n",
            "Gas: 50\n"
          ],
          "name": "stdout"
        }
      ]
    },
    {
      "cell_type": "code",
      "metadata": {
        "colab": {
          "base_uri": "https://localhost:8080/"
        },
        "id": "0hFoDHaM1CGB",
        "outputId": "1028b879-d737-45e0-a065-1a33c7947cc4"
      },
      "source": [
        "car.accelerate(30)\r\n",
        "car.details()"
      ],
      "execution_count": null,
      "outputs": [
        {
          "output_type": "stream",
          "text": [
            "Brand: audi\n",
            "Year: 2016\n",
            "Colour: red\n",
            "Current speed: 50\n",
            "Gas: 20\n"
          ],
          "name": "stdout"
        }
      ]
    },
    {
      "cell_type": "markdown",
      "metadata": {
        "id": "X9plAosA2flv"
      },
      "source": [
        "# Inheritance | Parent & Child Classes\r\n",
        "\r\n",
        "* When a `child` class (**subclass**) inherits a parent class (**superclass**), then all attributes and methods of the parent class are inherited by the child class"
      ]
    },
    {
      "cell_type": "markdown",
      "metadata": {
        "id": "9MlBg1_f_oTE"
      },
      "source": [
        "> Below using the same example with that of 2.3 example, but changing the name of the class \"Car\" to \"Vehicle\", which is more generic.\r\n",
        "\r\n",
        ">> \"Vehicle\" will represent the parent class, \"Car\" the child one."
      ]
    },
    {
      "cell_type": "code",
      "metadata": {
        "id": "DDjP3QsG-oFD"
      },
      "source": [
        "# Parent class\r\n",
        "class Vehicle:\r\n",
        "\r\n",
        "  def __init__(self, brand, colour, horses, country_production, current_speed = 0):\r\n",
        "    self.brand = brand\r\n",
        "    self.colour= colour\r\n",
        "    self.horses = horses\r\n",
        "    self.country_production = country_production\r\n",
        "    self.current_speed = current_speed\r\n",
        "    \r\n",
        "\r\n",
        "  def move_vehicle(self):\r\n",
        "    self.current_speed += 10\r\n",
        "\r\n",
        "  def accelerate_vehicle(self, value):\r\n",
        "    self.current_speed += value\r\n",
        "\r\n",
        "  def stop_vehicle(self):\r\n",
        "    self.current_speed = 0\r\n",
        "\r\n",
        "  def vehicle_details(self):\r\n",
        "    print (\"Brand: {}\\nColour: {}\\nHorses: {}\\nCountry production: {}\\nCurrent speed: {}\\n\".format(\r\n",
        "        self.brand, self.colour, self.horses, self.country_production, self.current_speed))"
      ],
      "execution_count": null,
      "outputs": []
    },
    {
      "cell_type": "markdown",
      "metadata": {
        "id": "fWGf8l6dBD_G"
      },
      "source": [
        "> \"`super()`\" is used to reference the parent class\r\n",
        "\r\n",
        "\r\n",
        "> all properties belong to the parent class \"Vehicle\", apart from the attribute \"number_of_cars\" which belongs only to the child class \"Car\", and that's why it is now declared with `self.child's_variable = self.child's_variable`. The other properties inherited by the parent class are invoked via the super() build-in function.\r\n",
        "\r\n",
        "> all method functions that were created in the parent class in 2.3 example (e.g. move_car()), implicitly belong to the child class as well."
      ]
    },
    {
      "cell_type": "code",
      "metadata": {
        "id": "UiWpmS0FAA_y"
      },
      "source": [
        "# creating the child class: \"car\"\r\n",
        "# inside the parentheses is the parent class \"Vehicle\"\r\n",
        "'''\r\n",
        "if we had 2 python files, then the 1st one included the parent class could be called vehicle.py,\r\n",
        "and in the new file (here) we would type \"from vehicle import Vehicle\", where\r\n",
        "from vehicle -->because--> vehicle.py | import Vehicle -->because--> the name of the class was \"Vehicle\"\r\n",
        "'''\r\n",
        "class Car(Vehicle):\r\n",
        "\r\n",
        "  def __init__(self, brand, colour, horses, country_production, current_speed=0, number_of_cars=0):\r\n",
        "    super().__init__(brand, colour, horses, country_production, current_speed=0)\r\n",
        "\r\n",
        "    # object variable that belongs only to the child \"Car\" class\r\n",
        "    self.number_of_cars = number_of_cars\r\n",
        "\r\n",
        "\r\n",
        "  # method function of the child \"Car\" class\r\n",
        "  def add_car(self, new_car):\r\n",
        "    self.number_of_cars += new_car\r\n",
        "\r\n",
        "  # method function of the child \"Car\" class\r\n",
        "  def remove_car(self, new_car):\r\n",
        "    self.number_of_cars -= new_car"
      ],
      "execution_count": null,
      "outputs": []
    },
    {
      "cell_type": "code",
      "metadata": {
        "colab": {
          "base_uri": "https://localhost:8080/"
        },
        "id": "OwgDzPJeCoTb",
        "outputId": "305ba338-ae1a-495e-9a9d-51b06b799007"
      },
      "source": [
        "new_car = Car(brand=\"Mercedes\", colour=\"black\", horses= 200, country_production= \"Germany\", number_of_cars=5)\r\n",
        "new_car"
      ],
      "execution_count": null,
      "outputs": [
        {
          "output_type": "execute_result",
          "data": {
            "text/plain": [
              "<__main__.Car at 0x7fee57558090>"
            ]
          },
          "metadata": {
            "tags": []
          },
          "execution_count": 31
        }
      ]
    },
    {
      "cell_type": "code",
      "metadata": {
        "colab": {
          "base_uri": "https://localhost:8080/"
        },
        "id": "03DL6V4PEq1W",
        "outputId": "b385d61a-d61d-4420-d1cb-a1c10776e61d"
      },
      "source": [
        "# implicitly we can have access to parent's method functions\r\n",
        "# vehicle_details() was declared in the generic parent class \"Vehicle\"\r\n",
        "# but with super() we got that to the child class \"Car\" as well:\r\n",
        "new_car.vehicle_details()"
      ],
      "execution_count": null,
      "outputs": [
        {
          "output_type": "stream",
          "text": [
            "Brand: Mercedes\n",
            "Colour: black\n",
            "Horses: 200\n",
            "Country production: Germany\n",
            "Current speed: 0\n",
            "\n"
          ],
          "name": "stdout"
        }
      ]
    },
    {
      "cell_type": "code",
      "metadata": {
        "colab": {
          "base_uri": "https://localhost:8080/"
        },
        "id": "-pcKCQjrE3BS",
        "outputId": "338df4ba-ba81-48c9-c872-ea7e65b2884c"
      },
      "source": [
        "new_car.add_car(1)\r\n",
        "print(new_car.number_of_cars)"
      ],
      "execution_count": null,
      "outputs": [
        {
          "output_type": "stream",
          "text": [
            "6\n"
          ],
          "name": "stdout"
        }
      ]
    },
    {
      "cell_type": "code",
      "metadata": {
        "colab": {
          "base_uri": "https://localhost:8080/"
        },
        "id": "HPmrDrEsFbIR",
        "outputId": "20a3ff29-8936-49cd-8ae7-417975378f18"
      },
      "source": [
        "new_car.remove_car(2)\r\n",
        "print(new_car.number_of_cars)"
      ],
      "execution_count": null,
      "outputs": [
        {
          "output_type": "stream",
          "text": [
            "4\n"
          ],
          "name": "stdout"
        }
      ]
    },
    {
      "cell_type": "markdown",
      "metadata": {
        "id": "hRZuV1WT1pWl"
      },
      "source": [
        "# Polymorphism\r\n",
        "\r\n",
        "\r\n",
        "Polymorphism is about implementing the same method function to different classes (subclasses and superclasses) in a different way/form, based on conditions which lead to different implementations of the objects.\r\n",
        "\r\n",
        "> `method overriding`: overwriting an existing function method by altering it in a customized way for particular classes"
      ]
    },
    {
      "cell_type": "markdown",
      "metadata": {
        "id": "aQufpE7i2GRZ"
      },
      "source": [
        "Below, using `inheritance` for having parent and child classes:\r\n",
        "* Superclass/parent class => \"Vehicle\"\r\n",
        "* Subclass/child classes => \"Bus\", \"Car\"\r\n"
      ]
    },
    {
      "cell_type": "markdown",
      "metadata": {
        "id": "KgHbcScO4crm"
      },
      "source": [
        "\r\n",
        "\r\n",
        "`Polymorphism` is applied via the *accelerate_vehicle* function:\r\n",
        "\r\n",
        "> acceleration: the car can accept acceleration if the acceleration speed is between 10 and 90, whereas the bus cannot accelerate if the speed is greater than 40 or less than 5. Therefore, when *vehicle.accelerate_vehicle(20)* => both vehicles get accelerated, but when *vehicle.accelerate_vehicle(50)* the acceleration function is not applied to the bus (bus speed = 80+20 = 100, and not 80+20+50)\r\n",
        "\r\n"
      ]
    },
    {
      "cell_type": "markdown",
      "metadata": {
        "id": "qn_MTEKw4lrU"
      },
      "source": [
        "`Method overriding` is applied via the *vehicle_details* function:\r\n",
        "\r\n",
        "\r\n",
        "> **horses** are not printed regarding the bus information because although the generic **def vehicle_details** includes horses, this does not happen in the local **def vehicle_details** of the clild bus class."
      ]
    },
    {
      "cell_type": "code",
      "metadata": {
        "colab": {
          "base_uri": "https://localhost:8080/"
        },
        "id": "Bjmp8wMOqSh5",
        "outputId": "f5ae7707-9a10-4599-f49a-55aaec066971"
      },
      "source": [
        "# Superclass\r\n",
        "class Vehicle:\r\n",
        "    def __init__(self, brand, year, horses, current_speed):\r\n",
        "        self.brand = brand\r\n",
        "        self.year = year\r\n",
        "        self.horses = horses\r\n",
        "        self.current_speed = current_speed\r\n",
        "\r\n",
        "    def accelerate_vehicle(self, accel_speed):\r\n",
        "        raise NotImplementedError()\r\n",
        "\r\n",
        "    def stop(self):\r\n",
        "        self.current_speed = 0\r\n",
        "\r\n",
        "    def vehicle_details(self):\r\n",
        "        return (\"Brand: {}\\nYear: {}\\nHorses: {}\\n\".format(\r\n",
        "            self.brand, self.year, self.horses\r\n",
        "        ))\r\n",
        "\r\n",
        "# Subclass\r\n",
        "class Bus(Vehicle):\r\n",
        "    def __init__(self, brand, year, horses, current_speed, current_passengers):\r\n",
        "        super().__init__(brand, year, horses, current_speed)\r\n",
        "        self.current_passengers = current_passengers\r\n",
        "\r\n",
        "    def accelerate_vehicle(self, accel_speed):\r\n",
        "        if(accel_speed < 40 and accel_speed > 5):\r\n",
        "            self.current_speed += accel_speed\r\n",
        "\r\n",
        "    def add_passengers(self, passengers):\r\n",
        "        self.current_passengers += passengers\r\n",
        "\r\n",
        "    def remove_passengers(self, passengers):\r\n",
        "        self.current_passengers -= passengers\r\n",
        "    \r\n",
        "    def vehicle_details(self):\r\n",
        "        return (\"Brand: {}\\nYear: {}\".format(self.brand, self.year))\r\n",
        "\r\n",
        "# Subclass\r\n",
        "class Car(Vehicle):\r\n",
        "    def __init__(self, brand, year, horses, current_speed):\r\n",
        "        super().__init__(brand, year, horses, current_speed)\r\n",
        "\r\n",
        "    def accelerate_vehicle(self, accel_speed):\r\n",
        "        if(accel_speed < 90 and accel_speed>10):\r\n",
        "            self.current_speed += accel_speed\r\n",
        "\r\n",
        "    def vehicle_details(self):\r\n",
        "        return (\"Brand: {}\\nYear: {}\\nHorses: {}\".format(self.brand, self.year, self.horses))        \r\n",
        "\r\n",
        "if __name__ == '__main__':\r\n",
        "    new_car = Car(brand=\"benz\", year=2020, horses=250, current_speed=160)\r\n",
        "    new_bus = Bus(brand=\"some bus brand\", year=2010, horses= 120, current_speed=80, current_passengers=20)\r\n",
        "    vehicles = [new_car, new_bus]\r\n",
        "    for vehicle in vehicles:\r\n",
        "        vehicle.accelerate_vehicle(20)\r\n",
        "        vehicle.accelerate_vehicle(50)\r\n",
        "        print(\"Vehicle details:\\n\\n{}\".format(vehicle.vehicle_details()))\r\n",
        "        print(\"Current speed: {}\".format(vehicle.current_speed))\r\n",
        "        print(\"============================================================\")"
      ],
      "execution_count": null,
      "outputs": [
        {
          "output_type": "stream",
          "text": [
            "Vehicle details:\n",
            "\n",
            "Brand: benz\n",
            "Year: 2020\n",
            "Horses: 250\n",
            "Current speed: 230\n",
            "============================================================\n",
            "Vehicle details:\n",
            "\n",
            "Brand: some bus brand\n",
            "Year: 2010\n",
            "Current speed: 100\n",
            "============================================================\n"
          ],
          "name": "stdout"
        }
      ]
    },
    {
      "cell_type": "markdown",
      "metadata": {
        "id": "mEAatkLkxIl6"
      },
      "source": [
        "# Errors - Exceptions"
      ]
    },
    {
      "cell_type": "markdown",
      "metadata": {
        "id": "xS869zDexOKs"
      },
      "source": [
        "## Type of Errors\r\n",
        "\r\n",
        "* `TypeError`\r\n",
        "* `IndexError`\r\n",
        "* `NameError`\r\n",
        "* `ZeroDivisionError`"
      ]
    },
    {
      "cell_type": "markdown",
      "metadata": {
        "id": "IiOIL70VUYnH"
      },
      "source": [
        "## Exceptions Handling\r\n",
        "\r\n",
        "We can use `try/except` to give customized messages of potential particular errors\r\n",
        "\r\n"
      ]
    },
    {
      "cell_type": "code",
      "metadata": {
        "colab": {
          "base_uri": "https://localhost:8080/"
        },
        "id": "M2lFYYsZxoHp",
        "outputId": "fb850e30-d4d1-4a6b-f3a1-8b5078b16dbb"
      },
      "source": [
        "def main():\r\n",
        "  try:\r\n",
        "    car_brands = [\"benz\", \"bmw\", \"audi\"]\r\n",
        "    print(car_brands[5])\r\n",
        "  except IndexError:\r\n",
        "    print('there is no such index!')\r\n",
        "\r\n",
        "if __name__ == \"__main__\":\r\n",
        "  main()"
      ],
      "execution_count": null,
      "outputs": [
        {
          "output_type": "stream",
          "text": [
            "there is no such index!\n"
          ],
          "name": "stdout"
        }
      ]
    },
    {
      "cell_type": "code",
      "metadata": {
        "colab": {
          "base_uri": "https://localhost:8080/"
        },
        "id": "DoUYJcFhyj84",
        "outputId": "f9cfbd2d-6a3b-46dc-ce77-c1e3184b5b32"
      },
      "source": [
        "def main():\r\n",
        "  try:\r\n",
        "    x = 5/0\r\n",
        "  except ZeroDivisionError:\r\n",
        "    print(\"you tried to divide by zero!\")\r\n",
        "    \r\n",
        "if __name__ == \"__main__\":\r\n",
        "  main()"
      ],
      "execution_count": null,
      "outputs": [
        {
          "output_type": "stream",
          "text": [
            "you tried to divide by zero!\n"
          ],
          "name": "stdout"
        }
      ]
    },
    {
      "cell_type": "code",
      "metadata": {
        "colab": {
          "base_uri": "https://localhost:8080/"
        },
        "id": "AEPCetKNzNsq",
        "outputId": "ad8f7cad-240d-42ba-94ad-47b6735f8ff5"
      },
      "source": [
        "def main():\r\n",
        "  try:\r\n",
        "    x = 5/2\r\n",
        "  except ZeroDivisionError:\r\n",
        "    print(\"you tried to divide by zero!\")\r\n",
        "  # else => i.e. if there is no error!  \r\n",
        "  else:\r\n",
        "    print(\"Your operation was correct with a result of: {}\".format(x))\r\n",
        "    \r\n",
        "if __name__ == \"__main__\":\r\n",
        "  main()"
      ],
      "execution_count": null,
      "outputs": [
        {
          "output_type": "stream",
          "text": [
            "Your operation was correct with a result of: 2.5\n"
          ],
          "name": "stdout"
        }
      ]
    }
  ]
}