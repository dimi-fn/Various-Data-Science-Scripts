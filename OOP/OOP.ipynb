{
  "nbformat": 4,
  "nbformat_minor": 0,
  "metadata": {
    "colab": {
      "name": "OOP.ipynb",
      "provenance": [],
      "collapsed_sections": [],
      "toc_visible": true,
      "authorship_tag": "ABX9TyNzOAAP8bfsyjp5oi88roRj",
      "include_colab_link": true
    },
    "kernelspec": {
      "name": "python3",
      "display_name": "Python 3"
    }
  },
  "cells": [
    {
      "cell_type": "markdown",
      "metadata": {
        "id": "view-in-github",
        "colab_type": "text"
      },
      "source": [
        "<a href=\"https://colab.research.google.com/github/dimi-fn/Various-Data-Science-Scripts/blob/main/OOP.ipynb\" target=\"_parent\"><img src=\"https://colab.research.google.com/assets/colab-badge.svg\" alt=\"Open In Colab\"/></a>"
      ]
    },
    {
      "cell_type": "markdown",
      "metadata": {
        "id": "yz8vFFw0iVTb"
      },
      "source": [
        "# Classes & Objects\n",
        "\n",
        "Everything in python is an object, and a class is how an object is defined\n",
        "\n",
        "- Classes in python create objects\n",
        "\n",
        "    * Objects are instances of classes, and they get created by calling the respective class\n",
        "    * Objects can have attributes/properties and can contain methods\n",
        "      * attributes are variables\n",
        "      * methods are functions that belong to an object\n"
      ]
    },
    {
      "cell_type": "markdown",
      "metadata": {
        "id": "aoqK6V1R8_r0"
      },
      "source": [
        "\n",
        "- All classes have a function called \"__init__()\"\n",
        "  * a **class** is a `definition`, and an **object** is an `instance of a class`\n",
        "  * **variables** inside of a class are called `properties` of that class. In python, they are more exclusively called `class variables`\n",
        "  * sometimes **functions** are called `methods` ==> else called **function definitions**\n",
        "\n"
      ]
    },
    {
      "cell_type": "markdown",
      "metadata": {
        "id": "BWW9FuKrh56P"
      },
      "source": [
        "## if __name__ == \"__main__\": main()\n",
        "\n",
        "It allows you to test your script when running it as a stand-alone program"
      ]
    },
    {
      "cell_type": "code",
      "metadata": {
        "colab": {
          "base_uri": "https://localhost:8080/"
        },
        "id": "hL9feN_Xh6Mj",
        "outputId": "f6eee879-31ba-4d50-fed7-7577ca30fd8b"
      },
      "source": [
        "def main():\n",
        "    print('Hi world!')\n",
        "\n",
        "if __name__ == '__main__': \n",
        "  main()"
      ],
      "execution_count": 1,
      "outputs": [
        {
          "output_type": "stream",
          "text": [
            "Hi world!\n"
          ],
          "name": "stdout"
        }
      ]
    },
    {
      "cell_type": "markdown",
      "metadata": {
        "id": "zZnwPIP_9BSm"
      },
      "source": [
        "## def __init__(self, )\n",
        "\n",
        "\n",
        "It is a built-in function of classes\n",
        "* it is called/executed when:\n",
        "  * an object is created\n",
        "  * to initialize attributes and to assign values to them\n",
        "\n",
        "> `self`: It is a **reference to the object/instance, NOT the class**\n",
        "\n",
        ">>  it is called 'self' by convention and it is the 1st parameter in every instance"
      ]
    },
    {
      "cell_type": "markdown",
      "metadata": {
        "id": "GDzmFczvGauG"
      },
      "source": [
        "## Example 1"
      ]
    },
    {
      "cell_type": "code",
      "metadata": {
        "colab": {
          "base_uri": "https://localhost:8080/"
        },
        "id": "8PEo4pTEGBMj",
        "outputId": "da304803-c761-4591-d2db-a390cf7288de"
      },
      "source": [
        "class Identity:\n",
        "    # docstring:\n",
        "    '''\n",
        "    Creating a class named \"Identity\"\n",
        "    Properties: first name, last name, age\n",
        "    Method: A function printing the output based on attributes given\n",
        "    Result: It prints the output of the above\n",
        "    '''\n",
        "\n",
        "    # assigning values to the object properties of the class \"Identity\"\n",
        "    ## variables next to \"self\" are **kwargs\n",
        "    def __init__(self, first_name, last_name, age):\n",
        "\n",
        "        # defining the object variables\n",
        "        self.first_name = first_name\n",
        "        self.last_name= last_name\n",
        "        self.age = age\n",
        "\n",
        "    # Creating a function definition (method) which belongs to the objects of the \"Identity\" class:\n",
        "    def output_function(self):\n",
        "        print(\"First Name: {} \\nLast Name: {} \\nAge: {}\".format(self.first_name, self.last_name, self.age))\n",
        "\n",
        "\n",
        "# print the docstring:\n",
        "print(Identity.__doc__)"
      ],
      "execution_count": 2,
      "outputs": [
        {
          "output_type": "stream",
          "text": [
            "\n",
            "    Creating a class named \"Identity\"\n",
            "    Properties: first name, last name, age\n",
            "    Method: A function printing the output based on attributes given\n",
            "    Result: It prints the output of the above\n",
            "    \n"
          ],
          "name": "stdout"
        }
      ]
    },
    {
      "cell_type": "code",
      "metadata": {
        "colab": {
          "base_uri": "https://localhost:8080/"
        },
        "id": "eghalhd51ewp",
        "outputId": "858e8a5a-1d95-4522-d901-ca29b15eb1f6"
      },
      "source": [
        "x = Identity(\"James\", \"Lupro\", 41)\n",
        "x.output_function()"
      ],
      "execution_count": 3,
      "outputs": [
        {
          "output_type": "stream",
          "text": [
            "First Name: James \n",
            "Last Name: Lupro \n",
            "Age: 41\n"
          ],
          "name": "stdout"
        }
      ]
    },
    {
      "cell_type": "code",
      "metadata": {
        "colab": {
          "base_uri": "https://localhost:8080/"
        },
        "id": "2k59rcvx1ius",
        "outputId": "cbf8aa16-57a6-470f-b6f9-da97bf4f2c90"
      },
      "source": [
        "# the above is equal to the following in one line:\n",
        "Identity(\"James\", \"Lupro\", 41).output_function()"
      ],
      "execution_count": 4,
      "outputs": [
        {
          "output_type": "stream",
          "text": [
            "First Name: James \n",
            "Last Name: Lupro \n",
            "Age: 41\n"
          ],
          "name": "stdout"
        }
      ]
    },
    {
      "cell_type": "markdown",
      "metadata": {
        "id": "oJq_t4FVGdl_"
      },
      "source": [
        "## Example 2"
      ]
    },
    {
      "cell_type": "markdown",
      "metadata": {
        "id": "dnoUQqpHE_u_"
      },
      "source": [
        "### 2.1"
      ]
    },
    {
      "cell_type": "code",
      "metadata": {
        "colab": {
          "base_uri": "https://localhost:8080/"
        },
        "id": "97izLjTkGe5X",
        "outputId": "84948f44-cafd-4b08-980b-590014b65b5c"
      },
      "source": [
        "class Car:\n",
        "\n",
        "  def brand(self):\n",
        "    print(\"mercedes\")\n",
        "\n",
        "  def colour(self):\n",
        "    print(\"black\")\n",
        "\n",
        "  def horses(self):\n",
        "    print(\"350\")\n",
        "\n",
        "def main():\n",
        "  car= Car()\n",
        "  car.brand()\n",
        "  car.colour()\n",
        "  car.horses()\n",
        "\n",
        "\n",
        "\n",
        "if __name__ == \"__main__\":\n",
        "  main()"
      ],
      "execution_count": 5,
      "outputs": [
        {
          "output_type": "stream",
          "text": [
            "mercedes\n",
            "black\n",
            "350\n"
          ],
          "name": "stdout"
        }
      ]
    },
    {
      "cell_type": "markdown",
      "metadata": {
        "id": "WgvgbGweFC4r"
      },
      "source": [
        "### 2.2"
      ]
    },
    {
      "cell_type": "markdown",
      "metadata": {
        "id": "pY4lX-MnAxQ_"
      },
      "source": [
        "Below:\n",
        "\n",
        "> The class \"Car\" has 4 attributes, i.e. brand, colour, horses, and country_production\n",
        "\n",
        ">> country_production is initialized as \"germany\", i.e. if no value is given then the country production of every car will be \"germany\" by default."
      ]
    },
    {
      "cell_type": "code",
      "metadata": {
        "id": "1PuyarnqGh7a"
      },
      "source": [
        "class Car:\n",
        "  # docsting:\n",
        "  '''\n",
        "  Creating a class called \"Car\"\n",
        "  Properties/attributes: brand, colour, horses, country production\n",
        "  Method: A function printing the properties of the car\n",
        "  Result: Printing the function in the function definition\n",
        "  '''\n",
        "\n",
        "  def __init__(self, brand, colour, horses, country_production = \"Germany\"):\n",
        "\n",
        "    self.brand = brand\n",
        "    self.colour= colour\n",
        "    self.horses = horses\n",
        "    self.country_production = country_production\n",
        "\n",
        "  def output_function(self):\n",
        "    return (\"This car is a {} {} with {} horses, and the country production is {}\".format(self.colour, self.brand, self.horses, self.country_production))"
      ],
      "execution_count": 6,
      "outputs": []
    },
    {
      "cell_type": "code",
      "metadata": {
        "colab": {
          "base_uri": "https://localhost:8080/"
        },
        "id": "mucclb9lGjZ2",
        "outputId": "5763e27a-130b-427e-c3c2-d5659422ec2a"
      },
      "source": [
        "print(\"The doc string of the above class is:\\n\")\n",
        "print(Car.__doc__)"
      ],
      "execution_count": 7,
      "outputs": [
        {
          "output_type": "stream",
          "text": [
            "The doc string of the above class is:\n",
            "\n",
            "\n",
            "  Creating a class called \"Car\"\n",
            "  Properties/attributes: brand, colour, horses, country production\n",
            "  Method: A function printing the properties of the car\n",
            "  Result: Printing the function in the function definition\n",
            "  \n"
          ],
          "name": "stdout"
        }
      ]
    },
    {
      "cell_type": "code",
      "metadata": {
        "colab": {
          "base_uri": "https://localhost:8080/",
          "height": 35
        },
        "id": "-ERX-8nAGku8",
        "outputId": "3c5bf1a1-2f83-40f6-e4cb-9ccec41ba6d9"
      },
      "source": [
        "new_car1 = Car(brand=\"Mercedes\", horses=\"350\", colour=\"black\")\n",
        "new_car1.output_function()"
      ],
      "execution_count": 8,
      "outputs": [
        {
          "output_type": "execute_result",
          "data": {
            "application/vnd.google.colaboratory.intrinsic+json": {
              "type": "string"
            },
            "text/plain": [
              "'This car is a black Mercedes with 350 horses, and the country production is Germany'"
            ]
          },
          "metadata": {},
          "execution_count": 8
        }
      ]
    },
    {
      "cell_type": "markdown",
      "metadata": {
        "id": "Yhl9Ryy-EiPZ"
      },
      "source": [
        "> Altering the country production variable which was initialized with a default value earlier:"
      ]
    },
    {
      "cell_type": "code",
      "metadata": {
        "colab": {
          "base_uri": "https://localhost:8080/",
          "height": 35
        },
        "id": "RAjdOAASGltE",
        "outputId": "c16b5e14-35eb-4e03-f943-a9b9ed89a616"
      },
      "source": [
        "new_car2 = Car(brand=\"Volvo\", horses=\"300\", colour=\"blue\", country_production=\"Sweeden\")\n",
        "new_car2.output_function()"
      ],
      "execution_count": 9,
      "outputs": [
        {
          "output_type": "execute_result",
          "data": {
            "application/vnd.google.colaboratory.intrinsic+json": {
              "type": "string"
            },
            "text/plain": [
              "'This car is a blue Volvo with 300 horses, and the country production is Sweeden'"
            ]
          },
          "metadata": {},
          "execution_count": 9
        }
      ]
    },
    {
      "cell_type": "markdown",
      "metadata": {
        "id": "kl4Scb7mJxax"
      },
      "source": [
        "### 2.3"
      ]
    },
    {
      "cell_type": "code",
      "metadata": {
        "id": "_0daWgwl-iTD"
      },
      "source": [
        "class Car:\n",
        "  '''\n",
        "  * Creating a class called \"Car\"\n",
        "\n",
        "  * Properties/attributes: brand, colour, horses, country production, current speed \n",
        "    * \"current_speed\" is set to 0, unless other value is assigned\n",
        "\n",
        "  * Function definitions/Methods: \n",
        "    * def move_car() moves the car by 10\n",
        "    * def accelerate_car() accelerates the car by the given value and adds that speed to \"current_speed\"\n",
        "    * def stop_car() sets \"current_speed\" to 0\n",
        "    * def car_details() returns the properties of the \"Car\" class\n",
        "  '''\n",
        "\n",
        "  def __init__(self, brand, colour, horses, country_production, current_speed = 0):\n",
        "    self.brand = brand\n",
        "    self.colour= colour\n",
        "    self.horses = horses\n",
        "    self.country_production = country_production\n",
        "    self.current_speed = current_speed\n",
        "    \n",
        "\n",
        "  def move_car(self):\n",
        "    self.current_speed += 10\n",
        "\n",
        "  def accelerate_car(self, value):\n",
        "    self.current_speed += value\n",
        "\n",
        "  def stop_car(self):\n",
        "    self.current_speed = 0\n",
        "\n",
        "  def car_details(self):\n",
        "    print (\"Brand: {}\\nColour: {}\\nHorses: {}\\nCountry production: {}\\nCurrent speed: {}\\n\".format(\n",
        "        self.brand, self.colour, self.horses, self.country_production, self.current_speed))"
      ],
      "execution_count": 10,
      "outputs": []
    },
    {
      "cell_type": "code",
      "metadata": {
        "colab": {
          "base_uri": "https://localhost:8080/"
        },
        "id": "B5YZ8Z7w-jHo",
        "outputId": "90574795-1882-4c6d-ad37-d39023c3cd51"
      },
      "source": [
        "print(\"The doc string of the above class is:\\n\")\n",
        "print(Car.__doc__)"
      ],
      "execution_count": 11,
      "outputs": [
        {
          "output_type": "stream",
          "text": [
            "The doc string of the above class is:\n",
            "\n",
            "\n",
            "  * Creating a class called \"Car\"\n",
            "\n",
            "  * Properties/attributes: brand, colour, horses, country production, current speed \n",
            "    * \"current_speed\" is set to 0, unless other value is assigned\n",
            "\n",
            "  * Function definitions/Methods: \n",
            "    * def move_car() moves the car by 10\n",
            "    * def accelerate_car() accelerates the car by the given value and adds that speed to \"current_speed\"\n",
            "    * def stop_car() sets \"current_speed\" to 0\n",
            "    * def car_details() returns the properties of the \"Car\" class\n",
            "  \n"
          ],
          "name": "stdout"
        }
      ]
    },
    {
      "cell_type": "markdown",
      "metadata": {
        "id": "PEbsqhYGXCp7"
      },
      "source": [
        "> Creating a new instance called \"new_car\""
      ]
    },
    {
      "cell_type": "code",
      "metadata": {
        "colab": {
          "base_uri": "https://localhost:8080/"
        },
        "id": "8Ty6PuzS-jJN",
        "outputId": "d9c07260-46b5-4edc-8b6c-ca48f3373008"
      },
      "source": [
        "new_car = Car(brand=\"Mercedes\", colour=\"black\", horses= 200, country_production= \"Germany\")\n",
        "new_car"
      ],
      "execution_count": 12,
      "outputs": [
        {
          "output_type": "execute_result",
          "data": {
            "text/plain": [
              "<__main__.Car at 0x7fbcfe399310>"
            ]
          },
          "metadata": {},
          "execution_count": 12
        }
      ]
    },
    {
      "cell_type": "code",
      "metadata": {
        "colab": {
          "base_uri": "https://localhost:8080/"
        },
        "id": "5sv_TPPlU50x",
        "outputId": "51b31658-7c71-4b9e-abae-720ba7f85ba1"
      },
      "source": [
        "new_car.car_details()"
      ],
      "execution_count": 13,
      "outputs": [
        {
          "output_type": "stream",
          "text": [
            "Brand: Mercedes\n",
            "Colour: black\n",
            "Horses: 200\n",
            "Country production: Germany\n",
            "Current speed: 0\n",
            "\n"
          ],
          "name": "stdout"
        }
      ]
    },
    {
      "cell_type": "code",
      "metadata": {
        "colab": {
          "base_uri": "https://localhost:8080/"
        },
        "id": "2dbzECi6-jNV",
        "outputId": "e725cdfe-08d3-461f-e61d-d774d2ea29e8"
      },
      "source": [
        "new_car.move_car()\n",
        "new_car.current_speed"
      ],
      "execution_count": 14,
      "outputs": [
        {
          "output_type": "execute_result",
          "data": {
            "text/plain": [
              "10"
            ]
          },
          "metadata": {},
          "execution_count": 14
        }
      ]
    },
    {
      "cell_type": "code",
      "metadata": {
        "colab": {
          "base_uri": "https://localhost:8080/"
        },
        "id": "pqe8c0AY-jPg",
        "outputId": "35249104-68a7-420d-cf97-0b80a33ca105"
      },
      "source": [
        "new_car.accelerate_car(80)\n",
        "new_car.current_speed"
      ],
      "execution_count": 15,
      "outputs": [
        {
          "output_type": "execute_result",
          "data": {
            "text/plain": [
              "90"
            ]
          },
          "metadata": {},
          "execution_count": 15
        }
      ]
    },
    {
      "cell_type": "code",
      "metadata": {
        "colab": {
          "base_uri": "https://localhost:8080/"
        },
        "id": "CXr3o_Gw-jRx",
        "outputId": "1874e8e1-379d-4dff-9ce0-57913d9efc52"
      },
      "source": [
        "new_car.stop_car()\n",
        "new_car.current_speed"
      ],
      "execution_count": 16,
      "outputs": [
        {
          "output_type": "execute_result",
          "data": {
            "text/plain": [
              "0"
            ]
          },
          "metadata": {},
          "execution_count": 16
        }
      ]
    },
    {
      "cell_type": "code",
      "metadata": {
        "colab": {
          "base_uri": "https://localhost:8080/"
        },
        "id": "clJMe2dGVwaz",
        "outputId": "82ec5490-2b27-4526-9bab-0fc9b56a4f1a"
      },
      "source": [
        "new_car.move_car()\n",
        "new_car.current_speed"
      ],
      "execution_count": 17,
      "outputs": [
        {
          "output_type": "execute_result",
          "data": {
            "text/plain": [
              "10"
            ]
          },
          "metadata": {},
          "execution_count": 17
        }
      ]
    },
    {
      "cell_type": "code",
      "metadata": {
        "colab": {
          "base_uri": "https://localhost:8080/"
        },
        "id": "hAIngwKVTPOz",
        "outputId": "9950942c-eca8-4e46-8478-f9ae5f18ab15"
      },
      "source": [
        "new_car.accelerate_car(280)\n",
        "new_car.car_details()"
      ],
      "execution_count": 18,
      "outputs": [
        {
          "output_type": "stream",
          "text": [
            "Brand: Mercedes\n",
            "Colour: black\n",
            "Horses: 200\n",
            "Country production: Germany\n",
            "Current speed: 290\n",
            "\n"
          ],
          "name": "stdout"
        }
      ]
    },
    {
      "cell_type": "markdown",
      "metadata": {
        "id": "IMpmSCs3CZTd"
      },
      "source": [
        "# Encapsulation "
      ]
    },
    {
      "cell_type": "markdown",
      "metadata": {
        "id": "Hru0ypSTLrSs"
      },
      "source": [
        "* Encapsulation is used to control the object changes inside the class avoiding in that way undesired implications\n",
        "\n",
        "* If variables are **encapsulated**, this means they belong to the **object**, and not to the class.\n",
        "\n",
        "* Methods and properties/attributes can be either `public` or `private`\n",
        "  * **private** properties: they can only be used inside the object itself\n",
        "  * they are not supposed to be used outside the object\n",
        "    * they can be accessed with double underscores `__`\n",
        "    * use `get` and/or `set` to access them (getters/setters)\n",
        "\n"
      ]
    },
    {
      "cell_type": "code",
      "metadata": {
        "id": "uCUvXrFntTM0"
      },
      "source": [
        "class Car:\n",
        "  def __init__(self, name):\n",
        "    self._name = name\n",
        "\n",
        "  @property\n",
        "  def name(self):\n",
        "    print(\"Calling getter\")\n",
        "    return self._name\n",
        "\n",
        "  @name.setter\n",
        "  def name(self, new_name):\n",
        "    print(\"Calling setter\")\n",
        "    self._name = new_name\n",
        "\n",
        "  @name.deleter\n",
        "  def name(self):\n",
        "    print(\"Calling deleter\")\n",
        "    del self._name"
      ],
      "execution_count": 19,
      "outputs": []
    },
    {
      "cell_type": "code",
      "metadata": {
        "colab": {
          "base_uri": "https://localhost:8080/",
          "height": 52
        },
        "id": "3ZK5iAr6thJ9",
        "outputId": "385a56f4-7628-4b8c-9249-cde668ecd18c"
      },
      "source": [
        "my_car = Car(\"benz\")\n",
        "my_car.name"
      ],
      "execution_count": 20,
      "outputs": [
        {
          "output_type": "stream",
          "text": [
            "Calling getter\n"
          ],
          "name": "stdout"
        },
        {
          "output_type": "execute_result",
          "data": {
            "application/vnd.google.colaboratory.intrinsic+json": {
              "type": "string"
            },
            "text/plain": [
              "'benz'"
            ]
          },
          "metadata": {},
          "execution_count": 20
        }
      ]
    },
    {
      "cell_type": "code",
      "metadata": {
        "colab": {
          "base_uri": "https://localhost:8080/"
        },
        "id": "B1SZGSNtt6Mh",
        "outputId": "26582e31-2e90-4ec4-afa6-b8ea769db220"
      },
      "source": [
        "my_car.name = \"bmw\""
      ],
      "execution_count": 21,
      "outputs": [
        {
          "output_type": "stream",
          "text": [
            "Calling setter\n"
          ],
          "name": "stdout"
        }
      ]
    },
    {
      "cell_type": "code",
      "metadata": {
        "colab": {
          "base_uri": "https://localhost:8080/",
          "height": 52
        },
        "id": "YPaz0ffduLca",
        "outputId": "a95be098-b973-4fd5-90db-48467b31f34d"
      },
      "source": [
        "my_car.name"
      ],
      "execution_count": 22,
      "outputs": [
        {
          "output_type": "stream",
          "text": [
            "Calling getter\n"
          ],
          "name": "stdout"
        },
        {
          "output_type": "execute_result",
          "data": {
            "application/vnd.google.colaboratory.intrinsic+json": {
              "type": "string"
            },
            "text/plain": [
              "'bmw'"
            ]
          },
          "metadata": {},
          "execution_count": 22
        }
      ]
    },
    {
      "cell_type": "code",
      "metadata": {
        "colab": {
          "base_uri": "https://localhost:8080/"
        },
        "id": "yvkTxymquNzB",
        "outputId": "bad1e14a-fc02-4fdf-9d2a-29692e9427cd"
      },
      "source": [
        "del my_car.name"
      ],
      "execution_count": 23,
      "outputs": [
        {
          "output_type": "stream",
          "text": [
            "Calling deleter\n"
          ],
          "name": "stdout"
        }
      ]
    },
    {
      "cell_type": "markdown",
      "metadata": {
        "id": "nYIpuyX9VMke"
      },
      "source": [
        "## Example 3"
      ]
    },
    {
      "cell_type": "markdown",
      "metadata": {
        "id": "rimIN78p0LZL"
      },
      "source": [
        "> class \"Car\" contains private (non-public) properties\n",
        "\n",
        "> `consume_gas` has double `__`, i.e. you cannot just declare it directly -> the criteria in the function should be firstly met\n",
        "\n",
        "> current speed is always zero, unless otherwise specified\n",
        "\n",
        "> the car cannot accelerate when there is not enough gas or when acceleration speed is more than 40\n",
        "\n",
        "\n",
        "> notice that 'gas' and current_speed' have only `get`"
      ]
    },
    {
      "cell_type": "code",
      "metadata": {
        "id": "5uDkHRbEu5PH"
      },
      "source": [
        "class Car:\n",
        "    def __init__(self, brand, year, colour, gas, current_speed=0):\n",
        "        self.__brand = brand\n",
        "        self.__year = year\n",
        "        self.__colour = colour\n",
        "        self.__gas = gas\n",
        "        self.__current_speed = current_speed\n",
        "\n",
        "    def get_year(self):\n",
        "        return self.__year\n",
        "\n",
        "    def set_year(self, year):\n",
        "        self.__year = year\n",
        "\n",
        "    def get_brand(self):\n",
        "        return self.__brand\n",
        "\n",
        "    def set_brand(self, brand):\n",
        "        self.__brand = year\n",
        "\n",
        "    def set_colour(self, colour):\n",
        "        self.__colour = colour\n",
        "\n",
        "    def get_colour(self):\n",
        "        return self.__colour\n",
        "\n",
        "    def get_gas(self):\n",
        "        return self.__gas\n",
        "\n",
        "    def get_current_speed(self):\n",
        "        return self.__current_speed\n",
        "\n",
        "    def increase_gas(self, liters):\n",
        "        self.__gas += value\n",
        "\n",
        "    def __consume_gas(self, liters):\n",
        "        if(self.__gas >= liters):\n",
        "            self.__gas -= liters\n",
        "            return True\n",
        "        else:\n",
        "            return False\n",
        "\n",
        "    def accelerate(self, value):\n",
        "        if(value < 40 and self.__consume_gas(value)):\n",
        "            self.__current_speed += value\n",
        "\n",
        "    def stop(self):\n",
        "        self.__current_speed = 0\n",
        "\n",
        "    def details(self):\n",
        "      print (\"Brand: {}\\nYear: {}\\nColour: {}\\nCurrent speed: {}\\nGas: {}\".format(\n",
        "          self.__brand, self.__year, self.__colour, self.__current_speed, self.__gas))"
      ],
      "execution_count": 24,
      "outputs": []
    },
    {
      "cell_type": "code",
      "metadata": {
        "id": "JiEyOJb8zNiT"
      },
      "source": [
        "if __name__ == '__main__':\n",
        "    car = Car(year= 2018, brand='mercedes', colour='black', gas=60)"
      ],
      "execution_count": 25,
      "outputs": []
    },
    {
      "cell_type": "code",
      "metadata": {
        "colab": {
          "base_uri": "https://localhost:8080/"
        },
        "id": "MfiUE7jvvyWy",
        "outputId": "5fe84844-e2b6-43d0-c84c-07aae6e6f39d"
      },
      "source": [
        "car.details()"
      ],
      "execution_count": 26,
      "outputs": [
        {
          "output_type": "stream",
          "text": [
            "Brand: mercedes\n",
            "Year: 2018\n",
            "Colour: black\n",
            "Current speed: 0\n",
            "Gas: 60\n"
          ],
          "name": "stdout"
        }
      ]
    },
    {
      "cell_type": "code",
      "metadata": {
        "colab": {
          "base_uri": "https://localhost:8080/"
        },
        "id": "UckGM3_ZyeKg",
        "outputId": "dc462490-2311-4eaf-feee-2325c68ef245"
      },
      "source": [
        "car.accelerate(20)\n",
        "car.details()"
      ],
      "execution_count": 27,
      "outputs": [
        {
          "output_type": "stream",
          "text": [
            "Brand: mercedes\n",
            "Year: 2018\n",
            "Colour: black\n",
            "Current speed: 20\n",
            "Gas: 40\n"
          ],
          "name": "stdout"
        }
      ]
    },
    {
      "cell_type": "code",
      "metadata": {
        "colab": {
          "base_uri": "https://localhost:8080/"
        },
        "id": "hDBHsq9CzJS6",
        "outputId": "3ab9bb7f-1690-4a99-b95d-0e6925e7144d"
      },
      "source": [
        "# nothing changes because 50 > 40=security constraint=maximum possible value for acceleration\n",
        "car.accelerate(50)\n",
        "car.details()"
      ],
      "execution_count": 28,
      "outputs": [
        {
          "output_type": "stream",
          "text": [
            "Brand: mercedes\n",
            "Year: 2018\n",
            "Colour: black\n",
            "Current speed: 20\n",
            "Gas: 40\n"
          ],
          "name": "stdout"
        }
      ]
    },
    {
      "cell_type": "code",
      "metadata": {
        "colab": {
          "base_uri": "https://localhost:8080/"
        },
        "id": "hwJdPfBEzu4q",
        "outputId": "498e3af8-78e6-44a2-cadc-9f5c0f9348a9"
      },
      "source": [
        "car.stop()\n",
        "car.details()"
      ],
      "execution_count": 29,
      "outputs": [
        {
          "output_type": "stream",
          "text": [
            "Brand: mercedes\n",
            "Year: 2018\n",
            "Colour: black\n",
            "Current speed: 0\n",
            "Gas: 40\n"
          ],
          "name": "stdout"
        }
      ]
    },
    {
      "cell_type": "markdown",
      "metadata": {
        "id": "f3vPdZuo08Is"
      },
      "source": [
        "> starting with some initialized speed"
      ]
    },
    {
      "cell_type": "code",
      "metadata": {
        "id": "i_Gfxt9u0VC7"
      },
      "source": [
        "car = Car(year= 2016, brand='audi', colour='red', gas=50, current_speed=20)"
      ],
      "execution_count": 30,
      "outputs": []
    },
    {
      "cell_type": "code",
      "metadata": {
        "colab": {
          "base_uri": "https://localhost:8080/"
        },
        "id": "BYDimvx80WY4",
        "outputId": "7727d000-7312-463b-fab8-e15a7cb55adb"
      },
      "source": [
        "car.details()"
      ],
      "execution_count": 31,
      "outputs": [
        {
          "output_type": "stream",
          "text": [
            "Brand: audi\n",
            "Year: 2016\n",
            "Colour: red\n",
            "Current speed: 20\n",
            "Gas: 50\n"
          ],
          "name": "stdout"
        }
      ]
    },
    {
      "cell_type": "code",
      "metadata": {
        "colab": {
          "base_uri": "https://localhost:8080/"
        },
        "id": "p4_l9UkD0ymJ",
        "outputId": "e91e50bd-d6f9-4102-a230-87e0c3705157"
      },
      "source": [
        "car.accelerate(50)\n",
        "car.details()"
      ],
      "execution_count": 32,
      "outputs": [
        {
          "output_type": "stream",
          "text": [
            "Brand: audi\n",
            "Year: 2016\n",
            "Colour: red\n",
            "Current speed: 20\n",
            "Gas: 50\n"
          ],
          "name": "stdout"
        }
      ]
    },
    {
      "cell_type": "code",
      "metadata": {
        "colab": {
          "base_uri": "https://localhost:8080/"
        },
        "id": "0hFoDHaM1CGB",
        "outputId": "73f3891d-34d3-4cb5-b048-08c9d47cc663"
      },
      "source": [
        "car.accelerate(30)\n",
        "car.details()"
      ],
      "execution_count": 33,
      "outputs": [
        {
          "output_type": "stream",
          "text": [
            "Brand: audi\n",
            "Year: 2016\n",
            "Colour: red\n",
            "Current speed: 50\n",
            "Gas: 20\n"
          ],
          "name": "stdout"
        }
      ]
    },
    {
      "cell_type": "markdown",
      "metadata": {
        "id": "X9plAosA2flv"
      },
      "source": [
        "# Inheritance | Parent & Child Classes\n",
        "\n",
        "* When a `child` class (**subclass**) inherits a parent class (**superclass**), then all attributes and methods of the parent class are inherited by the child class"
      ]
    },
    {
      "cell_type": "markdown",
      "metadata": {
        "id": "9MlBg1_f_oTE"
      },
      "source": [
        "> Below using the same example with that of 2.3 example, but changing the name of the class \"Car\" to \"Vehicle\", which is more generic.\n",
        "\n",
        ">> \"Vehicle\" will represent the parent class, \"Car\" the child one."
      ]
    },
    {
      "cell_type": "code",
      "metadata": {
        "id": "DDjP3QsG-oFD"
      },
      "source": [
        "# Parent class\n",
        "class Vehicle:\n",
        "\n",
        "  def __init__(self, brand, colour, horses, country_production, current_speed = 0):\n",
        "    self.brand = brand\n",
        "    self.colour= colour\n",
        "    self.horses = horses\n",
        "    self.country_production = country_production\n",
        "    self.current_speed = current_speed\n",
        "    \n",
        "\n",
        "  def move_vehicle(self):\n",
        "    self.current_speed += 10\n",
        "\n",
        "  def accelerate_vehicle(self, value):\n",
        "    self.current_speed += value\n",
        "\n",
        "  def stop_vehicle(self):\n",
        "    self.current_speed = 0\n",
        "\n",
        "  def vehicle_details(self):\n",
        "    print (\"Brand: {}\\nColour: {}\\nHorses: {}\\nCountry production: {}\\nCurrent speed: {}\\n\".format(\n",
        "        self.brand, self.colour, self.horses, self.country_production, self.current_speed))"
      ],
      "execution_count": 34,
      "outputs": []
    },
    {
      "cell_type": "markdown",
      "metadata": {
        "id": "fWGf8l6dBD_G"
      },
      "source": [
        "> \"`super()`\" is used to reference the parent class\n",
        "\n",
        "\n",
        "> all properties belong to the parent class \"Vehicle\", apart from the attribute \"number_of_cars\" which belongs only to the child class \"Car\", and that's why it is now declared with `self.child's_variable = self.child's_variable`. The other properties inherited by the parent class are invoked via the super() build-in function.\n",
        "\n",
        "> all method functions that were created in the parent class in 2.3 example (e.g. move_car()), implicitly belong to the child class as well."
      ]
    },
    {
      "cell_type": "code",
      "metadata": {
        "id": "UiWpmS0FAA_y"
      },
      "source": [
        "# creating the child class: \"car\"\n",
        "# inside the parentheses is the parent class \"Vehicle\"\n",
        "'''\n",
        "if we had 2 python files, then the 1st one included the parent class could be called vehicle.py,\n",
        "and in the new file (here) we would type \"from vehicle import Vehicle\", where\n",
        "from vehicle -->because--> vehicle.py | import Vehicle -->because--> the name of the class was \"Vehicle\"\n",
        "'''\n",
        "class Car(Vehicle):\n",
        "\n",
        "  def __init__(self, brand, colour, horses, country_production, current_speed=0, number_of_cars=0):\n",
        "    super().__init__(brand, colour, horses, country_production, current_speed=0)\n",
        "\n",
        "    # object variable that belongs only to the child \"Car\" class\n",
        "    self.number_of_cars = number_of_cars\n",
        "\n",
        "\n",
        "  # method function of the child \"Car\" class\n",
        "  def add_car(self, new_car):\n",
        "    self.number_of_cars += new_car\n",
        "\n",
        "  # method function of the child \"Car\" class\n",
        "  def remove_car(self, new_car):\n",
        "    self.number_of_cars -= new_car"
      ],
      "execution_count": 35,
      "outputs": []
    },
    {
      "cell_type": "code",
      "metadata": {
        "colab": {
          "base_uri": "https://localhost:8080/"
        },
        "id": "OwgDzPJeCoTb",
        "outputId": "ce4ccea2-7acf-435a-da1b-b5a57058480b"
      },
      "source": [
        "new_car = Car(brand=\"Mercedes\", colour=\"black\", horses= 200, country_production= \"Germany\", number_of_cars=5)\n",
        "new_car"
      ],
      "execution_count": 36,
      "outputs": [
        {
          "output_type": "execute_result",
          "data": {
            "text/plain": [
              "<__main__.Car at 0x7fbd0060c690>"
            ]
          },
          "metadata": {},
          "execution_count": 36
        }
      ]
    },
    {
      "cell_type": "code",
      "metadata": {
        "colab": {
          "base_uri": "https://localhost:8080/"
        },
        "id": "03DL6V4PEq1W",
        "outputId": "bc761f59-6c6f-44aa-c213-dfd24d0ee1b3"
      },
      "source": [
        "# implicitly we can have access to parent's method functions\n",
        "# vehicle_details() was declared in the generic parent class \"Vehicle\"\n",
        "# but with super() we got that to the child class \"Car\" as well:\n",
        "new_car.vehicle_details()"
      ],
      "execution_count": 37,
      "outputs": [
        {
          "output_type": "stream",
          "text": [
            "Brand: Mercedes\n",
            "Colour: black\n",
            "Horses: 200\n",
            "Country production: Germany\n",
            "Current speed: 0\n",
            "\n"
          ],
          "name": "stdout"
        }
      ]
    },
    {
      "cell_type": "code",
      "metadata": {
        "colab": {
          "base_uri": "https://localhost:8080/"
        },
        "id": "-pcKCQjrE3BS",
        "outputId": "3aade025-6e6e-469f-a773-7ddbf41d00c6"
      },
      "source": [
        "new_car.add_car(1)\n",
        "print(new_car.number_of_cars)"
      ],
      "execution_count": 38,
      "outputs": [
        {
          "output_type": "stream",
          "text": [
            "6\n"
          ],
          "name": "stdout"
        }
      ]
    },
    {
      "cell_type": "code",
      "metadata": {
        "colab": {
          "base_uri": "https://localhost:8080/"
        },
        "id": "HPmrDrEsFbIR",
        "outputId": "8af30c24-44cb-4cf0-8368-e88bc7899ebb"
      },
      "source": [
        "new_car.remove_car(2)\n",
        "print(new_car.number_of_cars)"
      ],
      "execution_count": 39,
      "outputs": [
        {
          "output_type": "stream",
          "text": [
            "4\n"
          ],
          "name": "stdout"
        }
      ]
    },
    {
      "cell_type": "markdown",
      "metadata": {
        "id": "hRZuV1WT1pWl"
      },
      "source": [
        "# Polymorphism\n",
        "\n",
        "\n",
        "Polymorphism is about implementing the same method function to different classes (subclasses and superclasses) in a different way/form, based on conditions which lead to different implementations of the objects.\n",
        "\n",
        "> `method overriding`: overwriting an existing function method by altering it in a customized way for particular classes"
      ]
    },
    {
      "cell_type": "markdown",
      "metadata": {
        "id": "aQufpE7i2GRZ"
      },
      "source": [
        "Below, using `inheritance` for having parent and child classes:\n",
        "* Superclass/parent class => \"Vehicle\"\n",
        "* Subclass/child classes => \"Bus\", \"Car\"\n"
      ]
    },
    {
      "cell_type": "markdown",
      "metadata": {
        "id": "KgHbcScO4crm"
      },
      "source": [
        "\n",
        "\n",
        "`Polymorphism` is applied via the *accelerate_vehicle* function:\n",
        "\n",
        "> acceleration: the car can accept acceleration if the acceleration speed is between 10 and 90, whereas the bus cannot accelerate if the speed is greater than 40 or less than 5. Therefore, when *vehicle.accelerate_vehicle(20)* => both vehicles get accelerated, but when *vehicle.accelerate_vehicle(50)* the acceleration function is not applied to the bus (bus speed = 80+20 = 100, and not 80+20+50)\n",
        "\n"
      ]
    },
    {
      "cell_type": "markdown",
      "metadata": {
        "id": "qn_MTEKw4lrU"
      },
      "source": [
        "`Method overriding` is applied via the *vehicle_details* function:\n",
        "\n",
        "\n",
        "> **horses** are not printed regarding the bus information because although the generic **def vehicle_details** includes horses, this does not happen in the local **def vehicle_details** of the clild bus class."
      ]
    },
    {
      "cell_type": "code",
      "metadata": {
        "colab": {
          "base_uri": "https://localhost:8080/"
        },
        "id": "Bjmp8wMOqSh5",
        "outputId": "782808f8-15e7-480b-b2ee-248a8507c216"
      },
      "source": [
        "# Superclass\n",
        "class Vehicle:\n",
        "    def __init__(self, brand, year, horses, current_speed):\n",
        "        self.brand = brand\n",
        "        self.year = year\n",
        "        self.horses = horses\n",
        "        self.current_speed = current_speed\n",
        "\n",
        "    def accelerate_vehicle(self, accel_speed):\n",
        "        raise NotImplementedError()\n",
        "\n",
        "    def stop(self):\n",
        "        self.current_speed = 0\n",
        "\n",
        "    def vehicle_details(self):\n",
        "        return (\"Brand: {}\\nYear: {}\\nHorses: {}\\n\".format(\n",
        "            self.brand, self.year, self.horses\n",
        "        ))\n",
        "\n",
        "# Subclass\n",
        "class Bus(Vehicle):\n",
        "    def __init__(self, brand, year, horses, current_speed, current_passengers):\n",
        "        super().__init__(brand, year, horses, current_speed)\n",
        "        self.current_passengers = current_passengers\n",
        "\n",
        "    def accelerate_vehicle(self, accel_speed):\n",
        "        if(accel_speed < 40 and accel_speed > 5):\n",
        "            self.current_speed += accel_speed\n",
        "\n",
        "    def add_passengers(self, passengers):\n",
        "        self.current_passengers += passengers\n",
        "\n",
        "    def remove_passengers(self, passengers):\n",
        "        self.current_passengers -= passengers\n",
        "    \n",
        "    def vehicle_details(self):\n",
        "        return (\"Brand: {}\\nYear: {}\".format(self.brand, self.year))\n",
        "\n",
        "# Subclass\n",
        "class Car(Vehicle):\n",
        "    def __init__(self, brand, year, horses, current_speed):\n",
        "        super().__init__(brand, year, horses, current_speed)\n",
        "\n",
        "    def accelerate_vehicle(self, accel_speed):\n",
        "        if(accel_speed < 90 and accel_speed>10):\n",
        "            self.current_speed += accel_speed\n",
        "\n",
        "    def vehicle_details(self):\n",
        "        return (\"Brand: {}\\nYear: {}\\nHorses: {}\".format(self.brand, self.year, self.horses))        \n",
        "\n",
        "if __name__ == '__main__':\n",
        "    new_car = Car(brand=\"benz\", year=2020, horses=250, current_speed=160)\n",
        "    new_bus = Bus(brand=\"some bus brand\", year=2010, horses= 120, current_speed=80, current_passengers=20)\n",
        "    vehicles = [new_car, new_bus]\n",
        "    for vehicle in vehicles:\n",
        "        vehicle.accelerate_vehicle(20)\n",
        "        vehicle.accelerate_vehicle(50)\n",
        "        print(\"Vehicle details:\\n\\n{}\".format(vehicle.vehicle_details()))\n",
        "        print(\"Current speed: {}\".format(vehicle.current_speed))\n",
        "        print(\"============================================================\")"
      ],
      "execution_count": 40,
      "outputs": [
        {
          "output_type": "stream",
          "text": [
            "Vehicle details:\n",
            "\n",
            "Brand: benz\n",
            "Year: 2020\n",
            "Horses: 250\n",
            "Current speed: 230\n",
            "============================================================\n",
            "Vehicle details:\n",
            "\n",
            "Brand: some bus brand\n",
            "Year: 2010\n",
            "Current speed: 100\n",
            "============================================================\n"
          ],
          "name": "stdout"
        }
      ]
    },
    {
      "cell_type": "markdown",
      "metadata": {
        "id": "mEAatkLkxIl6"
      },
      "source": [
        "# Exception Handling\n",
        "\n",
        "* TypeError\n",
        "* ValueError (e.g. for input validation when user types something)\n",
        "* ZeroDivisionError\n",
        "* IndexError (when we try to index an element with an invalid index)\n",
        "* NameError (when a variable is used but has not been defined previously)\n",
        "* KeyError (when the key from the key-value pair we try to access is not in the dictionary)\n",
        "* RecursionError (when maximum recursion depth is exceeded, usually when the process never reaches the base case)"
      ]
    },
    {
      "cell_type": "markdown",
      "metadata": {
        "id": "1ASoju0ovUhI"
      },
      "source": [
        "> try - except - else"
      ]
    },
    {
      "cell_type": "code",
      "metadata": {
        "colab": {
          "base_uri": "https://localhost:8080/",
          "height": 86
        },
        "id": "70rQv8V9u6xc",
        "outputId": "57f19a3c-c9ce-4abc-98d3-7be53dd1b099"
      },
      "source": [
        "'''\n",
        "try:\n",
        "    <code_that_may_raise_an_exception>\n",
        "except:\n",
        "    <code_to_handle_the_exception_if_it_occurs>\n",
        "\n",
        "# How to Catch a Specific Type of Exception\n",
        "try:\n",
        "    <code_that_may_raise_an_exception>\n",
        "except <exception_type>:\n",
        "    <code_to_handle_an_exception_if_it_occurs> as <name>    \n",
        "'''\n",
        "\n",
        "# e.g.\n",
        "'''\n",
        "index = int(input(\"Enter the index: \"))\n",
        "\n",
        "try:\n",
        "    my_list = [10, 20, 30, 40]\n",
        "    print(my_list[index])\n",
        "except IndexError as someError:\n",
        "    print(\"Exception raised:\", someError)\n",
        "\n",
        "# try - except - else\n",
        "a = int(input(\"Enter x: \"))\n",
        "b = int(input(\"Enter y: \"))\n",
        "\n",
        "try:\n",
        "    division = x / y\n",
        "    print(division)\n",
        "except ZeroDivisionError as someError:\n",
        "    print(\"Please enter valid values!\", someError)\n",
        "else:\n",
        "    print(\"Both values were valid!\")    \n",
        "'''    "
      ],
      "execution_count": 41,
      "outputs": [
        {
          "output_type": "execute_result",
          "data": {
            "application/vnd.google.colaboratory.intrinsic+json": {
              "type": "string"
            },
            "text/plain": [
              "'\\nindex = int(input(\"Enter the index: \"))\\n\\ntry:\\n    my_list = [10, 20, 30, 40]\\n    print(my_list[index])\\nexcept IndexError as someError:\\n    print(\"Exception raised:\", someError)\\n\\n# try - except - else\\na = int(input(\"Enter x: \"))\\nb = int(input(\"Enter y: \"))\\n\\ntry:\\n    division = x / y\\n    print(division)\\nexcept ZeroDivisionError as someError:\\n    print(\"Please enter valid values!\", someError)\\nelse:\\n    print(\"Both values were valid!\")    \\n'"
            ]
          },
          "metadata": {},
          "execution_count": 41
        }
      ]
    },
    {
      "cell_type": "code",
      "metadata": {
        "colab": {
          "base_uri": "https://localhost:8080/"
        },
        "id": "M2lFYYsZxoHp",
        "outputId": "3befd7bc-ef19-4327-ac20-b66e0f1b57e9"
      },
      "source": [
        "def main():\n",
        "  try:\n",
        "    car_brands = [\"benz\", \"bmw\", \"audi\"]\n",
        "    print(car_brands[5])\n",
        "  except IndexError:\n",
        "    print('there is no such index!')\n",
        "\n",
        "if __name__ == \"__main__\":\n",
        "  main()"
      ],
      "execution_count": 42,
      "outputs": [
        {
          "output_type": "stream",
          "text": [
            "there is no such index!\n"
          ],
          "name": "stdout"
        }
      ]
    },
    {
      "cell_type": "code",
      "metadata": {
        "colab": {
          "base_uri": "https://localhost:8080/"
        },
        "id": "DoUYJcFhyj84",
        "outputId": "f28a6e7f-5da0-4f4c-f581-d436f5018284"
      },
      "source": [
        "def main():\n",
        "  try:\n",
        "    x = 5/0\n",
        "  except ZeroDivisionError:\n",
        "    print(\"you tried to divide by zero!\")\n",
        "    \n",
        "if __name__ == \"__main__\":\n",
        "  main()"
      ],
      "execution_count": 43,
      "outputs": [
        {
          "output_type": "stream",
          "text": [
            "you tried to divide by zero!\n"
          ],
          "name": "stdout"
        }
      ]
    },
    {
      "cell_type": "code",
      "metadata": {
        "colab": {
          "base_uri": "https://localhost:8080/"
        },
        "id": "AEPCetKNzNsq",
        "outputId": "c2e3a32f-8aad-4b1b-fe64-fc6260f32054"
      },
      "source": [
        "def main():\n",
        "  try:\n",
        "    x = 5/2\n",
        "  except ZeroDivisionError:\n",
        "    print(\"you tried to divide by zero!\")\n",
        "  # else => i.e. if there is no error!  \n",
        "  else:\n",
        "    print(\"Your operation was correct with a result of: {}\".format(x))\n",
        "    \n",
        "if __name__ == \"__main__\":\n",
        "  main()"
      ],
      "execution_count": 44,
      "outputs": [
        {
          "output_type": "stream",
          "text": [
            "Your operation was correct with a result of: 2.5\n"
          ],
          "name": "stdout"
        }
      ]
    },
    {
      "cell_type": "code",
      "metadata": {
        "colab": {
          "base_uri": "https://localhost:8080/"
        },
        "id": "knUs_tNrF56F",
        "outputId": "c1a91d02-3c3d-4608-ad89-f9a7745cc279"
      },
      "source": [
        "x=47\n",
        "\n",
        "y=divmod(x,3)\n",
        "print(y)"
      ],
      "execution_count": 45,
      "outputs": [
        {
          "output_type": "stream",
          "text": [
            "(15, 2)\n"
          ],
          "name": "stdout"
        }
      ]
    }
  ]
}