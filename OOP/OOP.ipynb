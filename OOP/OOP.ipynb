{
  "nbformat": 4,
  "nbformat_minor": 0,
  "metadata": {
    "colab": {
      "name": "OOP.ipynb",
      "provenance": [],
      "collapsed_sections": [],
      "toc_visible": true,
      "authorship_tag": "ABX9TyOp6joQkWQJV9ZTBs/BryJ3",
      "include_colab_link": true
    },
    "kernelspec": {
      "name": "python3",
      "display_name": "Python 3"
    }
  },
  "cells": [
    {
      "cell_type": "markdown",
      "metadata": {
        "id": "view-in-github",
        "colab_type": "text"
      },
      "source": [
        "<a href=\"https://colab.research.google.com/github/dimi-fn/Various-Data-Science-Scripts/blob/main/OOP.ipynb\" target=\"_parent\"><img src=\"https://colab.research.google.com/assets/colab-badge.svg\" alt=\"Open In Colab\"/></a>"
      ]
    },
    {
      "cell_type": "markdown",
      "metadata": {
        "id": "lpHAlyt1GA6S"
      },
      "source": [
        "# OOP"
      ]
    },
    {
      "cell_type": "markdown",
      "metadata": {
        "id": "yz8vFFw0iVTb"
      },
      "source": [
        "## Classes & Objects\r\n",
        "\r\n",
        "- Classes in python create objects\r\n",
        "\r\n",
        "    * Objects are instances of classes\r\n",
        "    * Objects can have attributes/properties and can contain methods\r\n",
        "      * attributes are variables\r\n",
        "      * methods are functions that belong to an object\r\n"
      ]
    },
    {
      "cell_type": "markdown",
      "metadata": {
        "id": "aoqK6V1R8_r0"
      },
      "source": [
        "\r\n",
        "- All classes have a function called \"__init__()\"\r\n",
        "  * a **class** is a `definition`, and an **object** is an `instance of a class`\r\n",
        "  * **variables** inside of a class are called `properties` of that class. In python, they are more exclusively called `class variables`\r\n",
        "  * sometimes **functions** are called `methods`\r\n",
        "\r\n"
      ]
    },
    {
      "cell_type": "markdown",
      "metadata": {
        "id": "zZnwPIP_9BSm"
      },
      "source": [
        "\r\n",
        " - About \"__init__()\":  \r\n",
        "    * It is executed when the class is being initiated\r\n",
        "    * It can be used to assign values to object properties or operations\r\n",
        "    * The \"self\" parameter is a reference to the instance of the class, and is used to access variables that belong to that class, i.e. the \"`self`\" is used to reference the object"
      ]
    },
    {
      "cell_type": "markdown",
      "metadata": {
        "id": "GDzmFczvGauG"
      },
      "source": [
        "### Example 1"
      ]
    },
    {
      "cell_type": "code",
      "metadata": {
        "colab": {
          "base_uri": "https://localhost:8080/"
        },
        "id": "8PEo4pTEGBMj",
        "outputId": "d4621eb5-bb19-49fb-f7e6-6f26e459d51a"
      },
      "source": [
        "class Identity:\r\n",
        "    # docstring:\r\n",
        "    '''\r\n",
        "    Creating a class named \"Identity\"\r\n",
        "    Properties: first name, last name, age\r\n",
        "    Method: A function printing the output based on attributes given\r\n",
        "    Result: It prints the output of the above\r\n",
        "    '''\r\n",
        "\r\n",
        "    # assigning values to the object properties of the class \"Identity\"\r\n",
        "    def __init__(self, first_name, last_name, age):\r\n",
        "\r\n",
        "        self.first_name = first_name\r\n",
        "        self.last_name= last_name\r\n",
        "        self.age = age\r\n",
        "\r\n",
        "    # Creating a method definition (function) which belongs to the objects of the \"Identity\" class:\r\n",
        "    def output_function(self):\r\n",
        "        print(\"First Name: {} \\nLast Name: {} \\nAge: {}\".format(self.first_name, self.last_name, self.age))\r\n",
        "\r\n",
        "\r\n",
        "# print the docstring:\r\n",
        "print(Identity.__doc__)"
      ],
      "execution_count": 1,
      "outputs": [
        {
          "output_type": "stream",
          "text": [
            "\n",
            "    Creating a class named \"Identity\"\n",
            "    Properties: first name, last name, age\n",
            "    Method: A function printing the output based on attributes given\n",
            "    Result: It prints the output of the above\n",
            "    \n"
          ],
          "name": "stdout"
        }
      ]
    },
    {
      "cell_type": "code",
      "metadata": {
        "colab": {
          "base_uri": "https://localhost:8080/"
        },
        "id": "eghalhd51ewp",
        "outputId": "445c7509-84a6-4673-a8bd-450ae734a056"
      },
      "source": [
        "x = Identity(\"James\", \"Lupro\", 41)\r\n",
        "x.output_function()"
      ],
      "execution_count": 2,
      "outputs": [
        {
          "output_type": "stream",
          "text": [
            "First Name: James \n",
            "Last Name: Lupro \n",
            "Age: 41\n"
          ],
          "name": "stdout"
        }
      ]
    },
    {
      "cell_type": "code",
      "metadata": {
        "colab": {
          "base_uri": "https://localhost:8080/"
        },
        "id": "2k59rcvx1ius",
        "outputId": "6111196e-a62a-40b9-c94f-c73d719a5a6f"
      },
      "source": [
        "# the above is equal to the following in one line:\r\n",
        "Identity(\"James\", \"Lupro\", 41).output_function()"
      ],
      "execution_count": 3,
      "outputs": [
        {
          "output_type": "stream",
          "text": [
            "First Name: James \n",
            "Last Name: Lupro \n",
            "Age: 41\n"
          ],
          "name": "stdout"
        }
      ]
    },
    {
      "cell_type": "markdown",
      "metadata": {
        "id": "oJq_t4FVGdl_"
      },
      "source": [
        "### Example 2"
      ]
    },
    {
      "cell_type": "markdown",
      "metadata": {
        "id": "dnoUQqpHE_u_"
      },
      "source": [
        "#### 2.1"
      ]
    },
    {
      "cell_type": "code",
      "metadata": {
        "colab": {
          "base_uri": "https://localhost:8080/"
        },
        "id": "97izLjTkGe5X",
        "outputId": "6d700fd7-d666-4cee-dcbb-b4c54000ac52"
      },
      "source": [
        "class Car:\r\n",
        "\r\n",
        "  def brand(self):\r\n",
        "    print(\"mercedes\")\r\n",
        "\r\n",
        "  def colour(self):\r\n",
        "    print(\"black\")\r\n",
        "\r\n",
        "  def horses(self):\r\n",
        "    print(\"350\")\r\n",
        "\r\n",
        "def main():\r\n",
        "  car= Car()\r\n",
        "  car.brand()\r\n",
        "  car.colour()\r\n",
        "  car.horses()\r\n",
        "\r\n",
        "\r\n",
        "\r\n",
        "if __name__ == \"__main__\":\r\n",
        "  main()"
      ],
      "execution_count": 4,
      "outputs": [
        {
          "output_type": "stream",
          "text": [
            "mercedes\n",
            "black\n",
            "350\n"
          ],
          "name": "stdout"
        }
      ]
    },
    {
      "cell_type": "markdown",
      "metadata": {
        "id": "WgvgbGweFC4r"
      },
      "source": [
        "#### 2.2"
      ]
    },
    {
      "cell_type": "markdown",
      "metadata": {
        "id": "pY4lX-MnAxQ_"
      },
      "source": [
        "Below:\r\n",
        "\r\n",
        "> The class \"Car\" has 4 attributes, i.e. brand, colour, horses, and country_production\r\n",
        "\r\n",
        ">> country_production is initialized as \"germany\", i.e. if no value is given then the country production of every car will be \"germany\" by default."
      ]
    },
    {
      "cell_type": "code",
      "metadata": {
        "id": "1PuyarnqGh7a"
      },
      "source": [
        "class Car:\r\n",
        "  # docsting:\r\n",
        "  '''\r\n",
        "  Creating a class called \"Car\"\r\n",
        "  Properties/attributes: brand, colour, horses, country production\r\n",
        "  Method definition: A function printing the properties of the car\r\n",
        "  Result: Printing the function in the method definition\r\n",
        "  '''\r\n",
        "\r\n",
        "  def __init__(self, brand, colour, horses, country_production = \"Germany\"):\r\n",
        "\r\n",
        "    self.brand = brand\r\n",
        "    self.colour= colour\r\n",
        "    self.horses = horses\r\n",
        "    self.country_production = country_production\r\n",
        "\r\n",
        "  def output_function(self):\r\n",
        "    return (\"This car is a {} {} with {} horses, and the country production is {}\".format(self.colour, self.brand, self.horses, self.country_production))"
      ],
      "execution_count": 5,
      "outputs": []
    },
    {
      "cell_type": "code",
      "metadata": {
        "colab": {
          "base_uri": "https://localhost:8080/"
        },
        "id": "mucclb9lGjZ2",
        "outputId": "f048fc8d-fc6f-4c71-8626-0c379bb8d602"
      },
      "source": [
        "print(\"The doc string of the above class is:\\n\")\r\n",
        "print(Car.__doc__)"
      ],
      "execution_count": 6,
      "outputs": [
        {
          "output_type": "stream",
          "text": [
            "The doc string of the above class is:\n",
            "\n",
            "\n",
            "  Creating a class called \"Car\"\n",
            "  Properties/attributes: brand, colour, horses, country production\n",
            "  Method definition: A function printing the properties of the car\n",
            "  Result: Printing the function in the method definition\n",
            "  \n"
          ],
          "name": "stdout"
        }
      ]
    },
    {
      "cell_type": "code",
      "metadata": {
        "colab": {
          "base_uri": "https://localhost:8080/",
          "height": 35
        },
        "id": "-ERX-8nAGku8",
        "outputId": "0a6ca2a6-eff1-42dd-ffec-6f5ca685a504"
      },
      "source": [
        "new_car1 = Car(brand=\"Mercedes\", horses=\"350\", colour=\"black\")\r\n",
        "new_car1.output_function()"
      ],
      "execution_count": 7,
      "outputs": [
        {
          "output_type": "execute_result",
          "data": {
            "application/vnd.google.colaboratory.intrinsic+json": {
              "type": "string"
            },
            "text/plain": [
              "'This car is a black Mercedes with 350 horses, and the country production is Germany'"
            ]
          },
          "metadata": {
            "tags": []
          },
          "execution_count": 7
        }
      ]
    },
    {
      "cell_type": "markdown",
      "metadata": {
        "id": "Yhl9Ryy-EiPZ"
      },
      "source": [
        "> Altering the country production variable which was initialized with a default value earlier:"
      ]
    },
    {
      "cell_type": "code",
      "metadata": {
        "colab": {
          "base_uri": "https://localhost:8080/",
          "height": 35
        },
        "id": "RAjdOAASGltE",
        "outputId": "aa697d15-7826-4572-d907-67571250dae4"
      },
      "source": [
        "new_car2 = Car(brand=\"Volvo\", horses=\"300\", colour=\"blue\", country_production=\"Sweeden\")\r\n",
        "new_car2.output_function()"
      ],
      "execution_count": 8,
      "outputs": [
        {
          "output_type": "execute_result",
          "data": {
            "application/vnd.google.colaboratory.intrinsic+json": {
              "type": "string"
            },
            "text/plain": [
              "'This car is a blue Volvo with 300 horses, and the country production is Sweeden'"
            ]
          },
          "metadata": {
            "tags": []
          },
          "execution_count": 8
        }
      ]
    },
    {
      "cell_type": "markdown",
      "metadata": {
        "id": "kl4Scb7mJxax"
      },
      "source": [
        "#### 2.3"
      ]
    },
    {
      "cell_type": "code",
      "metadata": {
        "id": "_0daWgwl-iTD"
      },
      "source": [
        "class Car:\r\n",
        "  '''\r\n",
        "  * Creating a class called \"Car\"\r\n",
        "  * Properties/attributes: brand, colour, horses, country production, current speed\r\n",
        "  * Method definition: \r\n",
        "    * def move_car() moves the car by 10\r\n",
        "    * def accelerate_car() accelerates the car by the given value and adds speed to \"current_speed\"\r\n",
        "    * def stop_car() sets \"current_speed\" to 0\r\n",
        "    * def car_details returns the properties of the \"Car\" class\r\n",
        "  '''\r\n",
        "\r\n",
        "  def __init__(self, brand, colour, horses, current_speed, country_production = \"Germany\"):\r\n",
        "    self.brand = brand\r\n",
        "    self.colour= colour\r\n",
        "    self.horses = horses\r\n",
        "    self.current_speed = current_speed\r\n",
        "    self.country_production = country_production\r\n",
        "\r\n",
        "  def move_car(self):\r\n",
        "    self.current_speed += 10\r\n",
        "\r\n",
        "  def accelerate_car(self, value):\r\n",
        "    self.current_speed += value\r\n",
        "\r\n",
        "  def stop_car(self):\r\n",
        "    self.current_speed = 0\r\n",
        "\r\n",
        "  def car_details(self):\r\n",
        "    print (\"Brand: {}\\nColour: {}\\nHorses: {}\\nCountry production: {}\\nCurrent speed: {}\\n\".format(self.brand, self.colour, self.horses, self.country_production, self.current_speed))"
      ],
      "execution_count": 9,
      "outputs": []
    },
    {
      "cell_type": "code",
      "metadata": {
        "colab": {
          "base_uri": "https://localhost:8080/"
        },
        "id": "B5YZ8Z7w-jHo",
        "outputId": "e65154ca-36fc-4574-aba9-4e7ddf4335a5"
      },
      "source": [
        "print(\"The doc string of the above class is:\\n\")\r\n",
        "print(Car.__doc__)"
      ],
      "execution_count": 10,
      "outputs": [
        {
          "output_type": "stream",
          "text": [
            "The doc string of the above class is:\n",
            "\n",
            "\n",
            "  * Creating a class called \"Car\"\n",
            "  * Properties/attributes: brand, colour, horses, country production, current speed\n",
            "  * Method definition: \n",
            "    * def move_car() moves the car by 10\n",
            "    * def accelerate_car() accelerates the car by the given value and adds speed to \"current_speed\"\n",
            "    * def stop_car() sets \"current_speed\" to 0\n",
            "    * def car_details returns the properties of the \"Car\" class\n",
            "  \n"
          ],
          "name": "stdout"
        }
      ]
    },
    {
      "cell_type": "markdown",
      "metadata": {
        "id": "PEbsqhYGXCp7"
      },
      "source": [
        "> Creating a new instance called \"new_car\""
      ]
    },
    {
      "cell_type": "code",
      "metadata": {
        "colab": {
          "base_uri": "https://localhost:8080/"
        },
        "id": "8Ty6PuzS-jJN",
        "outputId": "def484b3-4ae7-4739-d703-91f420e8daac"
      },
      "source": [
        "new_car = Car(brand=\"Mercedes\", colour=\"black\", horses= 200, current_speed= 60)\r\n",
        "new_car"
      ],
      "execution_count": 11,
      "outputs": [
        {
          "output_type": "execute_result",
          "data": {
            "text/plain": [
              "<__main__.Car at 0x7f6dc65ad3c8>"
            ]
          },
          "metadata": {
            "tags": []
          },
          "execution_count": 11
        }
      ]
    },
    {
      "cell_type": "code",
      "metadata": {
        "colab": {
          "base_uri": "https://localhost:8080/"
        },
        "id": "5sv_TPPlU50x",
        "outputId": "ba56c903-e945-4435-f8a7-94eeaf043a4a"
      },
      "source": [
        "new_car.car_details()"
      ],
      "execution_count": 12,
      "outputs": [
        {
          "output_type": "stream",
          "text": [
            "Brand: Mercedes\n",
            "Colour: black\n",
            "Horses: 200\n",
            "Country production: Germany\n",
            "Current speed: 60\n",
            "\n"
          ],
          "name": "stdout"
        }
      ]
    },
    {
      "cell_type": "code",
      "metadata": {
        "colab": {
          "base_uri": "https://localhost:8080/"
        },
        "id": "2dbzECi6-jNV",
        "outputId": "0f04a33c-eada-4196-920a-928f293ce034"
      },
      "source": [
        "new_car.move_car()\r\n",
        "new_car.current_speed"
      ],
      "execution_count": 13,
      "outputs": [
        {
          "output_type": "execute_result",
          "data": {
            "text/plain": [
              "70"
            ]
          },
          "metadata": {
            "tags": []
          },
          "execution_count": 13
        }
      ]
    },
    {
      "cell_type": "code",
      "metadata": {
        "colab": {
          "base_uri": "https://localhost:8080/"
        },
        "id": "pqe8c0AY-jPg",
        "outputId": "e06636a1-fc11-42d1-98ac-88a6cd9af792"
      },
      "source": [
        "new_car.accelerate_car(80)\r\n",
        "new_car.current_speed"
      ],
      "execution_count": 14,
      "outputs": [
        {
          "output_type": "execute_result",
          "data": {
            "text/plain": [
              "150"
            ]
          },
          "metadata": {
            "tags": []
          },
          "execution_count": 14
        }
      ]
    },
    {
      "cell_type": "code",
      "metadata": {
        "colab": {
          "base_uri": "https://localhost:8080/"
        },
        "id": "CXr3o_Gw-jRx",
        "outputId": "ece296ad-b70f-44b7-cf63-05d35fe6cb2e"
      },
      "source": [
        "new_car.stop_car()\r\n",
        "new_car.current_speed"
      ],
      "execution_count": 15,
      "outputs": [
        {
          "output_type": "execute_result",
          "data": {
            "text/plain": [
              "0"
            ]
          },
          "metadata": {
            "tags": []
          },
          "execution_count": 15
        }
      ]
    },
    {
      "cell_type": "code",
      "metadata": {
        "colab": {
          "base_uri": "https://localhost:8080/"
        },
        "id": "clJMe2dGVwaz",
        "outputId": "b10ed964-64cf-4458-84b9-ed5458f73096"
      },
      "source": [
        "new_car.move_car()\r\n",
        "new_car.current_speed"
      ],
      "execution_count": 16,
      "outputs": [
        {
          "output_type": "execute_result",
          "data": {
            "text/plain": [
              "10"
            ]
          },
          "metadata": {
            "tags": []
          },
          "execution_count": 16
        }
      ]
    },
    {
      "cell_type": "code",
      "metadata": {
        "colab": {
          "base_uri": "https://localhost:8080/"
        },
        "id": "hAIngwKVTPOz",
        "outputId": "2e7e768e-d914-4b2b-9590-7110736569a4"
      },
      "source": [
        "new_car.accelerate_car(280)\r\n",
        "new_car.car_details()"
      ],
      "execution_count": 17,
      "outputs": [
        {
          "output_type": "stream",
          "text": [
            "Brand: Mercedes\n",
            "Colour: black\n",
            "Horses: 200\n",
            "Country production: Germany\n",
            "Current speed: 290\n",
            "\n"
          ],
          "name": "stdout"
        }
      ]
    }
  ]
}