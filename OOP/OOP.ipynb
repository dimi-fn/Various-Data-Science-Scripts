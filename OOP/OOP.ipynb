{
  "nbformat": 4,
  "nbformat_minor": 2,
  "metadata": {
    "colab": {
      "name": "OOP.ipynb",
      "provenance": [],
      "collapsed_sections": [],
      "toc_visible": true,
      "authorship_tag": "ABX9TyNVJk/MI3m+GVPzyQAMagv7",
      "include_colab_link": true
    },
    "kernelspec": {
      "name": "python3",
      "display_name": "Python 3"
    }
  },
  "cells": [
    {
      "cell_type": "markdown",
      "source": [
        "<a href=\"https://colab.research.google.com/github/dimi-fn/Various-Data-Science-Scripts/blob/main/OOP.ipynb\" target=\"_parent\"><img src=\"https://colab.research.google.com/assets/colab-badge.svg\" alt=\"Open In Colab\"/></a>"
      ],
      "metadata": {
        "id": "view-in-github",
        "colab_type": "text"
      }
    },
    {
      "cell_type": "markdown",
      "source": [
        "# Classes & Objects\n",
        "\n",
        "Everything in python is an object, and a class is how an object is defined\n",
        "\n",
        "- Classes in python create objects\n",
        "\n",
        "    * Objects are instances of classes, and they get created by calling the respective class\n",
        "    * Objects can have attributes/properties and can contain methods\n",
        "      * attributes are variables\n",
        "      * methods are functions that belong to an object\n"
      ],
      "metadata": {
        "id": "yz8vFFw0iVTb"
      }
    },
    {
      "cell_type": "markdown",
      "source": [
        "\n",
        "- All classes have a function called \"__init__()\"\n",
        "  * a **class** is a `definition`, and an **object** is an `instance of a class`\n",
        "  * **variables** inside of a class are called `properties` of that class. In python, they are more exclusively called `class variables`\n",
        "  * sometimes **functions** are called `methods` ==> else called **function definitions**\n",
        "\n"
      ],
      "metadata": {
        "id": "aoqK6V1R8_r0"
      }
    },
    {
      "cell_type": "markdown",
      "source": [
        "## if __name__ == \"__main__\": main()\n",
        "\n",
        "It allows you to test your script when running it as a stand-alone program"
      ],
      "metadata": {
        "id": "BWW9FuKrh56P"
      }
    },
    {
      "cell_type": "code",
      "execution_count": 1,
      "source": [
        "def main():\r\n",
        "    print('Hi world!')\r\n",
        "\r\n",
        "if __name__ == '__main__': \r\n",
        "  main()"
      ],
      "outputs": [
        {
          "output_type": "stream",
          "name": "stdout",
          "text": [
            "Hi world!\n"
          ]
        }
      ],
      "metadata": {
        "colab": {
          "base_uri": "https://localhost:8080/"
        },
        "id": "hL9feN_Xh6Mj",
        "outputId": "5af285a3-08b8-49f9-83bf-b52461a59012"
      }
    },
    {
      "cell_type": "markdown",
      "source": [
        "## def __init__(self, )\n",
        "\n",
        "\n",
        "It is a built-in function of classes\n",
        "* it is called/executed when:\n",
        "  * an object is created\n",
        "  * to initialize attributes and to assign values to them\n",
        "\n",
        "> `self`: It is a **reference to the object/instance, NOT the class**\n",
        "\n",
        ">>  it is called 'self' by convention and it is the 1st parameter in every instance"
      ],
      "metadata": {
        "id": "zZnwPIP_9BSm"
      }
    },
    {
      "cell_type": "markdown",
      "source": [
        "## Example 1"
      ],
      "metadata": {
        "id": "GDzmFczvGauG"
      }
    },
    {
      "cell_type": "code",
      "execution_count": 2,
      "source": [
        "class Identity:\n",
        "    # docstring:\n",
        "    '''\n",
        "    Creating a class named \"Identity\"\n",
        "    Properties: first name, last name, age\n",
        "    Method: A function printing the output based on attributes given\n",
        "    Result: It prints the output of the above\n",
        "    '''\n",
        "\n",
        "    # assigning values to the object properties of the class \"Identity\"\n",
        "    ## variables next to \"self\" are **kwargs\n",
        "    def __init__(self, first_name, last_name, age):\n",
        "\n",
        "        # defining the object variables\n",
        "        self.first_name = first_name\n",
        "        self.last_name= last_name\n",
        "        self.age = age\n",
        "\n",
        "    # Creating a function definition (method) which belongs to the objects of the \"Identity\" class:\n",
        "    def output_function(self):\n",
        "        print(\"First Name: {} \\nLast Name: {} \\nAge: {}\".format(self.first_name, self.last_name, self.age))\n",
        "\n",
        "\n",
        "# print the docstring:\n",
        "print(Identity.__doc__)"
      ],
      "outputs": [
        {
          "output_type": "stream",
          "name": "stdout",
          "text": [
            "\n",
            "    Creating a class named \"Identity\"\n",
            "    Properties: first name, last name, age\n",
            "    Method: A function printing the output based on attributes given\n",
            "    Result: It prints the output of the above\n",
            "    \n"
          ]
        }
      ],
      "metadata": {
        "colab": {
          "base_uri": "https://localhost:8080/"
        },
        "id": "8PEo4pTEGBMj",
        "outputId": "72d57605-0350-411e-fe26-ac62c4d1c1d2"
      }
    },
    {
      "cell_type": "code",
      "execution_count": 3,
      "source": [
        "x = Identity(\"James\", \"Lupro\", 41)\n",
        "x.output_function()"
      ],
      "outputs": [
        {
          "output_type": "stream",
          "name": "stdout",
          "text": [
            "First Name: James \n",
            "Last Name: Lupro \n",
            "Age: 41\n"
          ]
        }
      ],
      "metadata": {
        "colab": {
          "base_uri": "https://localhost:8080/"
        },
        "id": "eghalhd51ewp",
        "outputId": "a21ecaf5-4846-4a23-a24c-ce2eefcb69bd"
      }
    },
    {
      "cell_type": "code",
      "execution_count": 4,
      "source": [
        "# the above is equal to the following in one line:\n",
        "Identity(\"James\", \"Lupro\", 41).output_function()"
      ],
      "outputs": [
        {
          "output_type": "stream",
          "name": "stdout",
          "text": [
            "First Name: James \n",
            "Last Name: Lupro \n",
            "Age: 41\n"
          ]
        }
      ],
      "metadata": {
        "colab": {
          "base_uri": "https://localhost:8080/"
        },
        "id": "2k59rcvx1ius",
        "outputId": "28f3c51b-3e51-4342-a943-2c4253285076"
      }
    },
    {
      "cell_type": "markdown",
      "source": [
        "## Example 2"
      ],
      "metadata": {
        "id": "oJq_t4FVGdl_"
      }
    },
    {
      "cell_type": "markdown",
      "source": [
        "### 2.1"
      ],
      "metadata": {
        "id": "dnoUQqpHE_u_"
      }
    },
    {
      "cell_type": "code",
      "execution_count": 5,
      "source": [
        "class Car:\n",
        "\n",
        "  def brand(self):\n",
        "    print(\"mercedes\")\n",
        "\n",
        "  def colour(self):\n",
        "    print(\"black\")\n",
        "\n",
        "  def horses(self):\n",
        "    print(\"350\")\n",
        "\n",
        "def main():\n",
        "  car= Car()\n",
        "  car.brand()\n",
        "  car.colour()\n",
        "  car.horses()\n",
        "\n",
        "\n",
        "\n",
        "if __name__ == \"__main__\":\n",
        "  main()"
      ],
      "outputs": [
        {
          "output_type": "stream",
          "name": "stdout",
          "text": [
            "mercedes\n",
            "black\n",
            "350\n"
          ]
        }
      ],
      "metadata": {
        "colab": {
          "base_uri": "https://localhost:8080/"
        },
        "id": "97izLjTkGe5X",
        "outputId": "0ba11572-c53f-4d7c-d10a-320f34bc2d83"
      }
    },
    {
      "cell_type": "markdown",
      "source": [
        "### 2.2"
      ],
      "metadata": {
        "id": "WgvgbGweFC4r"
      }
    },
    {
      "cell_type": "markdown",
      "source": [
        "Below:\n",
        "\n",
        "> The class \"Car\" has 4 attributes, i.e. brand, colour, horses, and country_production\n",
        "\n",
        ">> country_production is initialized as \"germany\", i.e. if no value is given then the country production of every car will be \"germany\" by default."
      ],
      "metadata": {
        "id": "pY4lX-MnAxQ_"
      }
    },
    {
      "cell_type": "code",
      "execution_count": 6,
      "source": [
        "class Car:\n",
        "  # docsting:\n",
        "  '''\n",
        "  Creating a class called \"Car\"\n",
        "  Properties/attributes: brand, colour, horses, country production\n",
        "  Method: A function printing the properties of the car\n",
        "  Result: Printing the function in the function definition\n",
        "  '''\n",
        "\n",
        "  def __init__(self, brand, colour, horses, country_production = \"Germany\"):\n",
        "\n",
        "    self.brand = brand\n",
        "    self.colour= colour\n",
        "    self.horses = horses\n",
        "    self.country_production = country_production\n",
        "\n",
        "  def output_function(self):\n",
        "    return (\"This car is a {} {} with {} horses, and the country production is {}\".format(self.colour, self.brand, self.horses, self.country_production))"
      ],
      "outputs": [],
      "metadata": {
        "id": "1PuyarnqGh7a"
      }
    },
    {
      "cell_type": "code",
      "execution_count": 7,
      "source": [
        "print(\"The doc string of the above class is:\\n\")\n",
        "print(Car.__doc__)"
      ],
      "outputs": [
        {
          "output_type": "stream",
          "name": "stdout",
          "text": [
            "The doc string of the above class is:\n",
            "\n",
            "\n",
            "  Creating a class called \"Car\"\n",
            "  Properties/attributes: brand, colour, horses, country production\n",
            "  Method: A function printing the properties of the car\n",
            "  Result: Printing the function in the function definition\n",
            "  \n"
          ]
        }
      ],
      "metadata": {
        "colab": {
          "base_uri": "https://localhost:8080/"
        },
        "id": "mucclb9lGjZ2",
        "outputId": "454c6693-a9ce-4818-f502-d8d1171b422b"
      }
    },
    {
      "cell_type": "code",
      "execution_count": 8,
      "source": [
        "new_car1 = Car(brand=\"Mercedes\", horses=\"350\", colour=\"black\")\n",
        "new_car1.output_function()"
      ],
      "outputs": [
        {
          "output_type": "execute_result",
          "data": {
            "text/plain": [
              "'This car is a black Mercedes with 350 horses, and the country production is Germany'"
            ],
            "application/vnd.google.colaboratory.intrinsic+json": {
              "type": "string"
            }
          },
          "metadata": {
            "tags": []
          },
          "execution_count": 8
        }
      ],
      "metadata": {
        "colab": {
          "base_uri": "https://localhost:8080/",
          "height": 35
        },
        "id": "-ERX-8nAGku8",
        "outputId": "0b59ab45-729f-4d46-c75f-033b795ad073"
      }
    },
    {
      "cell_type": "markdown",
      "source": [
        "> Altering the country production variable which was initialized with a default value earlier:"
      ],
      "metadata": {
        "id": "Yhl9Ryy-EiPZ"
      }
    },
    {
      "cell_type": "code",
      "execution_count": 9,
      "source": [
        "new_car2 = Car(brand=\"Volvo\", horses=\"300\", colour=\"blue\", country_production=\"Sweeden\")\n",
        "new_car2.output_function()"
      ],
      "outputs": [
        {
          "output_type": "execute_result",
          "data": {
            "text/plain": [
              "'This car is a blue Volvo with 300 horses, and the country production is Sweeden'"
            ],
            "application/vnd.google.colaboratory.intrinsic+json": {
              "type": "string"
            }
          },
          "metadata": {
            "tags": []
          },
          "execution_count": 9
        }
      ],
      "metadata": {
        "colab": {
          "base_uri": "https://localhost:8080/",
          "height": 35
        },
        "id": "RAjdOAASGltE",
        "outputId": "25be49f6-e029-40c9-ade3-5af0cb2664b7"
      }
    },
    {
      "cell_type": "markdown",
      "source": [
        "### 2.3"
      ],
      "metadata": {
        "id": "kl4Scb7mJxax"
      }
    },
    {
      "cell_type": "code",
      "execution_count": 10,
      "source": [
        "class Car:\n",
        "  '''\n",
        "  * Creating a class called \"Car\"\n",
        "\n",
        "  * Properties/attributes: brand, colour, horses, country production, current speed \n",
        "    * \"current_speed\" is set to 0, unless other value is assigned\n",
        "\n",
        "  * Function definitions/Methods: \n",
        "    * def move_car() moves the car by 10\n",
        "    * def accelerate_car() accelerates the car by the given value and adds that speed to \"current_speed\"\n",
        "    * def stop_car() sets \"current_speed\" to 0\n",
        "    * def car_details() returns the properties of the \"Car\" class\n",
        "  '''\n",
        "\n",
        "  def __init__(self, brand, colour, horses, country_production, current_speed = 0):\n",
        "    self.brand = brand\n",
        "    self.colour= colour\n",
        "    self.horses = horses\n",
        "    self.country_production = country_production\n",
        "    self.current_speed = current_speed\n",
        "    \n",
        "\n",
        "  def move_car(self):\n",
        "    self.current_speed += 10\n",
        "\n",
        "  def accelerate_car(self, value):\n",
        "    self.current_speed += value\n",
        "\n",
        "  def stop_car(self):\n",
        "    self.current_speed = 0\n",
        "\n",
        "  def car_details(self):\n",
        "    print (\"Brand: {}\\nColour: {}\\nHorses: {}\\nCountry production: {}\\nCurrent speed: {}\\n\".format(\n",
        "        self.brand, self.colour, self.horses, self.country_production, self.current_speed))"
      ],
      "outputs": [],
      "metadata": {
        "id": "_0daWgwl-iTD"
      }
    },
    {
      "cell_type": "code",
      "execution_count": 11,
      "source": [
        "print(\"The doc string of the above class is:\\n\")\n",
        "print(Car.__doc__)"
      ],
      "outputs": [
        {
          "output_type": "stream",
          "name": "stdout",
          "text": [
            "The doc string of the above class is:\n",
            "\n",
            "\n",
            "  * Creating a class called \"Car\"\n",
            "\n",
            "  * Properties/attributes: brand, colour, horses, country production, current speed \n",
            "    * \"current_speed\" is set to 0, unless other value is assigned\n",
            "\n",
            "  * Function definitions/Methods: \n",
            "    * def move_car() moves the car by 10\n",
            "    * def accelerate_car() accelerates the car by the given value and adds that speed to \"current_speed\"\n",
            "    * def stop_car() sets \"current_speed\" to 0\n",
            "    * def car_details() returns the properties of the \"Car\" class\n",
            "  \n"
          ]
        }
      ],
      "metadata": {
        "colab": {
          "base_uri": "https://localhost:8080/"
        },
        "id": "B5YZ8Z7w-jHo",
        "outputId": "e57e10c0-6f7a-427d-a540-4d3b8bd7fc18"
      }
    },
    {
      "cell_type": "markdown",
      "source": [
        "> Creating a new instance called \"new_car\""
      ],
      "metadata": {
        "id": "PEbsqhYGXCp7"
      }
    },
    {
      "cell_type": "code",
      "execution_count": 12,
      "source": [
        "new_car = Car(brand=\"Mercedes\", colour=\"black\", horses= 200, country_production= \"Germany\")\n",
        "new_car"
      ],
      "outputs": [
        {
          "output_type": "execute_result",
          "data": {
            "text/plain": [
              "<__main__.Car at 0x7f89e8d2dd90>"
            ]
          },
          "metadata": {
            "tags": []
          },
          "execution_count": 12
        }
      ],
      "metadata": {
        "colab": {
          "base_uri": "https://localhost:8080/"
        },
        "id": "8Ty6PuzS-jJN",
        "outputId": "439eb86c-4e84-4b67-e3dc-223138866851"
      }
    },
    {
      "cell_type": "code",
      "execution_count": 13,
      "source": [
        "new_car.car_details()"
      ],
      "outputs": [
        {
          "output_type": "stream",
          "name": "stdout",
          "text": [
            "Brand: Mercedes\n",
            "Colour: black\n",
            "Horses: 200\n",
            "Country production: Germany\n",
            "Current speed: 0\n",
            "\n"
          ]
        }
      ],
      "metadata": {
        "colab": {
          "base_uri": "https://localhost:8080/"
        },
        "id": "5sv_TPPlU50x",
        "outputId": "f13f9649-b095-4bf6-d7c4-fabdaee03830"
      }
    },
    {
      "cell_type": "code",
      "execution_count": 14,
      "source": [
        "new_car.move_car()\n",
        "new_car.current_speed"
      ],
      "outputs": [
        {
          "output_type": "execute_result",
          "data": {
            "text/plain": [
              "10"
            ]
          },
          "metadata": {
            "tags": []
          },
          "execution_count": 14
        }
      ],
      "metadata": {
        "colab": {
          "base_uri": "https://localhost:8080/"
        },
        "id": "2dbzECi6-jNV",
        "outputId": "3443a48b-2e47-4b74-86c7-719eeafb1fa2"
      }
    },
    {
      "cell_type": "code",
      "execution_count": 15,
      "source": [
        "new_car.accelerate_car(80)\n",
        "new_car.current_speed"
      ],
      "outputs": [
        {
          "output_type": "execute_result",
          "data": {
            "text/plain": [
              "90"
            ]
          },
          "metadata": {
            "tags": []
          },
          "execution_count": 15
        }
      ],
      "metadata": {
        "colab": {
          "base_uri": "https://localhost:8080/"
        },
        "id": "pqe8c0AY-jPg",
        "outputId": "3f315932-6ac6-45bc-9a77-91333da52e6e"
      }
    },
    {
      "cell_type": "code",
      "execution_count": 16,
      "source": [
        "new_car.stop_car()\n",
        "new_car.current_speed"
      ],
      "outputs": [
        {
          "output_type": "execute_result",
          "data": {
            "text/plain": [
              "0"
            ]
          },
          "metadata": {
            "tags": []
          },
          "execution_count": 16
        }
      ],
      "metadata": {
        "colab": {
          "base_uri": "https://localhost:8080/"
        },
        "id": "CXr3o_Gw-jRx",
        "outputId": "f06a730e-057a-42cf-c203-7b49fe689bad"
      }
    },
    {
      "cell_type": "code",
      "execution_count": 17,
      "source": [
        "new_car.move_car()\n",
        "new_car.current_speed"
      ],
      "outputs": [
        {
          "output_type": "execute_result",
          "data": {
            "text/plain": [
              "10"
            ]
          },
          "metadata": {
            "tags": []
          },
          "execution_count": 17
        }
      ],
      "metadata": {
        "colab": {
          "base_uri": "https://localhost:8080/"
        },
        "id": "clJMe2dGVwaz",
        "outputId": "73726033-c30b-460c-bde1-29748e3a3d4a"
      }
    },
    {
      "cell_type": "code",
      "execution_count": 18,
      "source": [
        "new_car.accelerate_car(280)\n",
        "new_car.car_details()"
      ],
      "outputs": [
        {
          "output_type": "stream",
          "name": "stdout",
          "text": [
            "Brand: Mercedes\n",
            "Colour: black\n",
            "Horses: 200\n",
            "Country production: Germany\n",
            "Current speed: 290\n",
            "\n"
          ]
        }
      ],
      "metadata": {
        "colab": {
          "base_uri": "https://localhost:8080/"
        },
        "id": "hAIngwKVTPOz",
        "outputId": "ce489a84-4390-4e99-a799-681516a6a43c"
      }
    },
    {
      "cell_type": "markdown",
      "source": [
        "# Encapsulation "
      ],
      "metadata": {
        "id": "IMpmSCs3CZTd"
      }
    },
    {
      "cell_type": "markdown",
      "source": [
        "* Encapsulation is used to control the object changes inside the class avoiding in that way undesired implications\n",
        "\n",
        "* If variables are **encapsulated**, this means they belong to the **object**, and not to the class.\n",
        "\n",
        "* Methods and properties/attributes can be either `public` or `private`\n",
        "  * **private** properties: they can only be used inside the object itself\n",
        "  * they are not supposed to be used outside the object\n",
        "    * they can be accessed with double underscores `__`\n",
        "    * use `get` and/or `set` to access them (getters/setters)\n",
        "\n"
      ],
      "metadata": {
        "id": "Hru0ypSTLrSs"
      }
    },
    {
      "cell_type": "code",
      "execution_count": 19,
      "source": [
        "class Car:\n",
        "  def __init__(self, name):\n",
        "    self._name = name\n",
        "\n",
        "  @property\n",
        "  def name(self):\n",
        "    print(\"Calling getter\")\n",
        "    return self._name\n",
        "\n",
        "  @name.setter\n",
        "  def name(self, new_name):\n",
        "    print(\"Calling setter\")\n",
        "    self._name = new_name\n",
        "\n",
        "  @name.deleter\n",
        "  def name(self):\n",
        "    print(\"Calling deleter\")\n",
        "    del self._name"
      ],
      "outputs": [],
      "metadata": {
        "id": "uCUvXrFntTM0"
      }
    },
    {
      "cell_type": "code",
      "execution_count": 20,
      "source": [
        "my_car = Car(\"benz\")\n",
        "my_car.name"
      ],
      "outputs": [
        {
          "output_type": "stream",
          "name": "stdout",
          "text": [
            "Calling getter\n"
          ]
        },
        {
          "output_type": "execute_result",
          "data": {
            "text/plain": [
              "'benz'"
            ],
            "application/vnd.google.colaboratory.intrinsic+json": {
              "type": "string"
            }
          },
          "metadata": {
            "tags": []
          },
          "execution_count": 20
        }
      ],
      "metadata": {
        "colab": {
          "base_uri": "https://localhost:8080/",
          "height": 52
        },
        "id": "3ZK5iAr6thJ9",
        "outputId": "6063feb2-31c2-4b4c-e7fc-73054960dffa"
      }
    },
    {
      "cell_type": "code",
      "execution_count": 21,
      "source": [
        "my_car.name = \"bmw\""
      ],
      "outputs": [
        {
          "output_type": "stream",
          "name": "stdout",
          "text": [
            "Calling setter\n"
          ]
        }
      ],
      "metadata": {
        "colab": {
          "base_uri": "https://localhost:8080/"
        },
        "id": "B1SZGSNtt6Mh",
        "outputId": "d22ae4dc-7c63-4e27-94e2-e6ac00314f67"
      }
    },
    {
      "cell_type": "code",
      "execution_count": 22,
      "source": [
        "my_car.name"
      ],
      "outputs": [
        {
          "output_type": "stream",
          "name": "stdout",
          "text": [
            "Calling getter\n"
          ]
        },
        {
          "output_type": "execute_result",
          "data": {
            "text/plain": [
              "'bmw'"
            ],
            "application/vnd.google.colaboratory.intrinsic+json": {
              "type": "string"
            }
          },
          "metadata": {
            "tags": []
          },
          "execution_count": 22
        }
      ],
      "metadata": {
        "colab": {
          "base_uri": "https://localhost:8080/",
          "height": 52
        },
        "id": "YPaz0ffduLca",
        "outputId": "013dcefd-b803-4d00-bb7b-0098b1d46c8d"
      }
    },
    {
      "cell_type": "code",
      "execution_count": 23,
      "source": [
        "del my_car.name"
      ],
      "outputs": [
        {
          "output_type": "stream",
          "name": "stdout",
          "text": [
            "Calling deleter\n"
          ]
        }
      ],
      "metadata": {
        "colab": {
          "base_uri": "https://localhost:8080/"
        },
        "id": "yvkTxymquNzB",
        "outputId": "bbac7f5b-d1d2-4fda-bfa6-35031104f82d"
      }
    },
    {
      "cell_type": "markdown",
      "source": [
        "## Example 3"
      ],
      "metadata": {
        "id": "nYIpuyX9VMke"
      }
    },
    {
      "cell_type": "markdown",
      "source": [
        "> class \"Car\" contains private (non-public) properties\n",
        "\n",
        "> `consume_gas` has double `__`, i.e. you cannot just declare it directly -> the criteria in the function should be firstly met\n",
        "\n",
        "> current speed is always zero, unless otherwise specified\n",
        "\n",
        "> the car cannot accelerate when there is not enough gas or when acceleration speed is more than 40\n",
        "\n",
        "\n",
        "> notice that 'gas' and current_speed' have only `get`"
      ],
      "metadata": {
        "id": "rimIN78p0LZL"
      }
    },
    {
      "cell_type": "code",
      "execution_count": 24,
      "source": [
        "class Car:\n",
        "    def __init__(self, brand, year, colour, gas, current_speed=0):\n",
        "        self.__brand = brand\n",
        "        self.__year = year\n",
        "        self.__colour = colour\n",
        "        self.__gas = gas\n",
        "        self.__current_speed = current_speed\n",
        "\n",
        "    def get_year(self):\n",
        "        return self.__year\n",
        "\n",
        "    def set_year(self, year):\n",
        "        self.__year = year\n",
        "\n",
        "    def get_brand(self):\n",
        "        return self.__brand\n",
        "\n",
        "    def set_brand(self, brand):\n",
        "        self.__brand = year\n",
        "\n",
        "    def set_colour(self, colour):\n",
        "        self.__colour = colour\n",
        "\n",
        "    def get_colour(self):\n",
        "        return self.__colour\n",
        "\n",
        "    def get_gas(self):\n",
        "        return self.__gas\n",
        "\n",
        "    def get_current_speed(self):\n",
        "        return self.__current_speed\n",
        "\n",
        "    def increase_gas(self, liters):\n",
        "        self.__gas += value\n",
        "\n",
        "    def __consume_gas(self, liters):\n",
        "        if(self.__gas >= liters):\n",
        "            self.__gas -= liters\n",
        "            return True\n",
        "        else:\n",
        "            return False\n",
        "\n",
        "    def accelerate(self, value):\n",
        "        if(value < 40 and self.__consume_gas(value)):\n",
        "            self.__current_speed += value\n",
        "\n",
        "    def stop(self):\n",
        "        self.__current_speed = 0\n",
        "\n",
        "    def details(self):\n",
        "      print (\"Brand: {}\\nYear: {}\\nColour: {}\\nCurrent speed: {}\\nGas: {}\".format(\n",
        "          self.__brand, self.__year, self.__colour, self.__current_speed, self.__gas))"
      ],
      "outputs": [],
      "metadata": {
        "id": "5uDkHRbEu5PH"
      }
    },
    {
      "cell_type": "code",
      "execution_count": 25,
      "source": [
        "if __name__ == '__main__':\n",
        "    car = Car(year= 2018, brand='mercedes', colour='black', gas=60)"
      ],
      "outputs": [],
      "metadata": {
        "id": "JiEyOJb8zNiT"
      }
    },
    {
      "cell_type": "code",
      "execution_count": 26,
      "source": [
        "car.details()"
      ],
      "outputs": [
        {
          "output_type": "stream",
          "name": "stdout",
          "text": [
            "Brand: mercedes\n",
            "Year: 2018\n",
            "Colour: black\n",
            "Current speed: 0\n",
            "Gas: 60\n"
          ]
        }
      ],
      "metadata": {
        "colab": {
          "base_uri": "https://localhost:8080/"
        },
        "id": "MfiUE7jvvyWy",
        "outputId": "19356246-cc6d-4f66-b03d-d6559d47c730"
      }
    },
    {
      "cell_type": "code",
      "execution_count": 27,
      "source": [
        "car.accelerate(20)\n",
        "car.details()"
      ],
      "outputs": [
        {
          "output_type": "stream",
          "name": "stdout",
          "text": [
            "Brand: mercedes\n",
            "Year: 2018\n",
            "Colour: black\n",
            "Current speed: 20\n",
            "Gas: 40\n"
          ]
        }
      ],
      "metadata": {
        "colab": {
          "base_uri": "https://localhost:8080/"
        },
        "id": "UckGM3_ZyeKg",
        "outputId": "5218d96b-5d50-46eb-bc73-a474989eb15a"
      }
    },
    {
      "cell_type": "code",
      "execution_count": 28,
      "source": [
        "# nothing changes because 50 > 40=security constraint=maximum possible value for acceleration\n",
        "car.accelerate(50)\n",
        "car.details()"
      ],
      "outputs": [
        {
          "output_type": "stream",
          "name": "stdout",
          "text": [
            "Brand: mercedes\n",
            "Year: 2018\n",
            "Colour: black\n",
            "Current speed: 20\n",
            "Gas: 40\n"
          ]
        }
      ],
      "metadata": {
        "colab": {
          "base_uri": "https://localhost:8080/"
        },
        "id": "hDBHsq9CzJS6",
        "outputId": "2e725e18-3a1a-4fbe-e403-600b308510d2"
      }
    },
    {
      "cell_type": "code",
      "execution_count": 29,
      "source": [
        "car.stop()\n",
        "car.details()"
      ],
      "outputs": [
        {
          "output_type": "stream",
          "name": "stdout",
          "text": [
            "Brand: mercedes\n",
            "Year: 2018\n",
            "Colour: black\n",
            "Current speed: 0\n",
            "Gas: 40\n"
          ]
        }
      ],
      "metadata": {
        "colab": {
          "base_uri": "https://localhost:8080/"
        },
        "id": "hwJdPfBEzu4q",
        "outputId": "b818371b-dde9-47b6-aeb5-d07fa0e517a4"
      }
    },
    {
      "cell_type": "markdown",
      "source": [
        "> starting with some initialized speed"
      ],
      "metadata": {
        "id": "f3vPdZuo08Is"
      }
    },
    {
      "cell_type": "code",
      "execution_count": 30,
      "source": [
        "car = Car(year= 2016, brand='audi', colour='red', gas=50, current_speed=20)"
      ],
      "outputs": [],
      "metadata": {
        "id": "i_Gfxt9u0VC7"
      }
    },
    {
      "cell_type": "code",
      "execution_count": 31,
      "source": [
        "car.details()"
      ],
      "outputs": [
        {
          "output_type": "stream",
          "name": "stdout",
          "text": [
            "Brand: audi\n",
            "Year: 2016\n",
            "Colour: red\n",
            "Current speed: 20\n",
            "Gas: 50\n"
          ]
        }
      ],
      "metadata": {
        "colab": {
          "base_uri": "https://localhost:8080/"
        },
        "id": "BYDimvx80WY4",
        "outputId": "700d0377-17b8-4a13-d2d5-77b989b722ec"
      }
    },
    {
      "cell_type": "code",
      "execution_count": 32,
      "source": [
        "car.accelerate(50)\n",
        "car.details()"
      ],
      "outputs": [
        {
          "output_type": "stream",
          "name": "stdout",
          "text": [
            "Brand: audi\n",
            "Year: 2016\n",
            "Colour: red\n",
            "Current speed: 20\n",
            "Gas: 50\n"
          ]
        }
      ],
      "metadata": {
        "colab": {
          "base_uri": "https://localhost:8080/"
        },
        "id": "p4_l9UkD0ymJ",
        "outputId": "8196187a-a713-48b8-d2d8-3f2a119d7774"
      }
    },
    {
      "cell_type": "code",
      "execution_count": 33,
      "source": [
        "car.accelerate(30)\n",
        "car.details()"
      ],
      "outputs": [
        {
          "output_type": "stream",
          "name": "stdout",
          "text": [
            "Brand: audi\n",
            "Year: 2016\n",
            "Colour: red\n",
            "Current speed: 50\n",
            "Gas: 20\n"
          ]
        }
      ],
      "metadata": {
        "colab": {
          "base_uri": "https://localhost:8080/"
        },
        "id": "0hFoDHaM1CGB",
        "outputId": "1bf92105-04b5-4018-d4e8-2ebabb5b2839"
      }
    },
    {
      "cell_type": "markdown",
      "source": [
        "# Inheritance | Parent & Child Classes\n",
        "\n",
        "* When a `child` class (**subclass**) inherits a parent class (**superclass**), then all attributes and methods of the parent class are inherited by the child class"
      ],
      "metadata": {
        "id": "X9plAosA2flv"
      }
    },
    {
      "cell_type": "markdown",
      "source": [
        "> Below using the same example with that of 2.3 example, but changing the name of the class \"Car\" to \"Vehicle\", which is more generic.\n",
        "\n",
        ">> \"Vehicle\" will represent the parent class, \"Car\" the child one."
      ],
      "metadata": {
        "id": "9MlBg1_f_oTE"
      }
    },
    {
      "cell_type": "code",
      "execution_count": 34,
      "source": [
        "# Parent class\n",
        "class Vehicle:\n",
        "\n",
        "  def __init__(self, brand, colour, horses, country_production, current_speed = 0):\n",
        "    self.brand = brand\n",
        "    self.colour= colour\n",
        "    self.horses = horses\n",
        "    self.country_production = country_production\n",
        "    self.current_speed = current_speed\n",
        "    \n",
        "\n",
        "  def move_vehicle(self):\n",
        "    self.current_speed += 10\n",
        "\n",
        "  def accelerate_vehicle(self, value):\n",
        "    self.current_speed += value\n",
        "\n",
        "  def stop_vehicle(self):\n",
        "    self.current_speed = 0\n",
        "\n",
        "  def vehicle_details(self):\n",
        "    print (\"Brand: {}\\nColour: {}\\nHorses: {}\\nCountry production: {}\\nCurrent speed: {}\\n\".format(\n",
        "        self.brand, self.colour, self.horses, self.country_production, self.current_speed))"
      ],
      "outputs": [],
      "metadata": {
        "id": "DDjP3QsG-oFD"
      }
    },
    {
      "cell_type": "markdown",
      "source": [
        "> \"`super()`\" is used to reference the parent class\n",
        "\n",
        "\n",
        "> all properties belong to the parent class \"Vehicle\", apart from the attribute \"number_of_cars\" which belongs only to the child class \"Car\", and that's why it is now declared with `self.child's_variable = self.child's_variable`. The other properties inherited by the parent class are invoked via the super() build-in function.\n",
        "\n",
        "> all method functions that were created in the parent class in 2.3 example (e.g. move_car()), implicitly belong to the child class as well."
      ],
      "metadata": {
        "id": "fWGf8l6dBD_G"
      }
    },
    {
      "cell_type": "code",
      "execution_count": 35,
      "source": [
        "# creating the child class: \"car\"\n",
        "# inside the parentheses is the parent class \"Vehicle\"\n",
        "'''\n",
        "if we had 2 python files, then the 1st one included the parent class could be called vehicle.py,\n",
        "and in the new file (here) we would type \"from vehicle import Vehicle\", where\n",
        "from vehicle -->because--> vehicle.py | import Vehicle -->because--> the name of the class was \"Vehicle\"\n",
        "'''\n",
        "class Car(Vehicle):\n",
        "\n",
        "  def __init__(self, brand, colour, horses, country_production, current_speed=0, number_of_cars=0):\n",
        "    super().__init__(brand, colour, horses, country_production, current_speed=0)\n",
        "\n",
        "    # object variable that belongs only to the child \"Car\" class\n",
        "    self.number_of_cars = number_of_cars\n",
        "\n",
        "\n",
        "  # method function of the child \"Car\" class\n",
        "  def add_car(self, new_car):\n",
        "    self.number_of_cars += new_car\n",
        "\n",
        "  # method function of the child \"Car\" class\n",
        "  def remove_car(self, new_car):\n",
        "    self.number_of_cars -= new_car"
      ],
      "outputs": [],
      "metadata": {
        "id": "UiWpmS0FAA_y"
      }
    },
    {
      "cell_type": "code",
      "execution_count": 36,
      "source": [
        "new_car = Car(brand=\"Mercedes\", colour=\"black\", horses= 200, country_production= \"Germany\", number_of_cars=5)\n",
        "new_car"
      ],
      "outputs": [
        {
          "output_type": "execute_result",
          "data": {
            "text/plain": [
              "<__main__.Car at 0x7f89ea7aaed0>"
            ]
          },
          "metadata": {
            "tags": []
          },
          "execution_count": 36
        }
      ],
      "metadata": {
        "colab": {
          "base_uri": "https://localhost:8080/"
        },
        "id": "OwgDzPJeCoTb",
        "outputId": "682dec78-69ca-4ecc-b9a0-0631bb0ed94f"
      }
    },
    {
      "cell_type": "code",
      "execution_count": 37,
      "source": [
        "# implicitly we can have access to parent's method functions\n",
        "# vehicle_details() was declared in the generic parent class \"Vehicle\"\n",
        "# but with super() we got that to the child class \"Car\" as well:\n",
        "new_car.vehicle_details()"
      ],
      "outputs": [
        {
          "output_type": "stream",
          "name": "stdout",
          "text": [
            "Brand: Mercedes\n",
            "Colour: black\n",
            "Horses: 200\n",
            "Country production: Germany\n",
            "Current speed: 0\n",
            "\n"
          ]
        }
      ],
      "metadata": {
        "colab": {
          "base_uri": "https://localhost:8080/"
        },
        "id": "03DL6V4PEq1W",
        "outputId": "e3688ec9-1fc8-408e-ec8e-28fdab42296a"
      }
    },
    {
      "cell_type": "code",
      "execution_count": 38,
      "source": [
        "new_car.add_car(1)\n",
        "print(new_car.number_of_cars)"
      ],
      "outputs": [
        {
          "output_type": "stream",
          "name": "stdout",
          "text": [
            "6\n"
          ]
        }
      ],
      "metadata": {
        "colab": {
          "base_uri": "https://localhost:8080/"
        },
        "id": "-pcKCQjrE3BS",
        "outputId": "49eb8c81-d9d6-4ebc-c6a2-bb9a1a464e9a"
      }
    },
    {
      "cell_type": "code",
      "execution_count": 39,
      "source": [
        "new_car.remove_car(2)\n",
        "print(new_car.number_of_cars)"
      ],
      "outputs": [
        {
          "output_type": "stream",
          "name": "stdout",
          "text": [
            "4\n"
          ]
        }
      ],
      "metadata": {
        "colab": {
          "base_uri": "https://localhost:8080/"
        },
        "id": "HPmrDrEsFbIR",
        "outputId": "00323119-d108-4772-eb03-b55c8eaa1e69"
      }
    },
    {
      "cell_type": "markdown",
      "source": [
        "# Polymorphism\n",
        "\n",
        "\n",
        "Polymorphism is about implementing the same method function to different classes (subclasses and superclasses) in a different way/form, based on conditions which lead to different implementations of the objects.\n",
        "\n",
        "> `method overriding`: overwriting an existing function method by altering it in a customized way for particular classes"
      ],
      "metadata": {
        "id": "hRZuV1WT1pWl"
      }
    },
    {
      "cell_type": "markdown",
      "source": [
        "Below, using `inheritance` for having parent and child classes:\n",
        "* Superclass/parent class => \"Vehicle\"\n",
        "* Subclass/child classes => \"Bus\", \"Car\"\n"
      ],
      "metadata": {
        "id": "aQufpE7i2GRZ"
      }
    },
    {
      "cell_type": "markdown",
      "source": [
        "\n",
        "\n",
        "`Polymorphism` is applied via the *accelerate_vehicle* function:\n",
        "\n",
        "> acceleration: the car can accept acceleration if the acceleration speed is between 10 and 90, whereas the bus cannot accelerate if the speed is greater than 40 or less than 5. Therefore, when *vehicle.accelerate_vehicle(20)* => both vehicles get accelerated, but when *vehicle.accelerate_vehicle(50)* the acceleration function is not applied to the bus (bus speed = 80+20 = 100, and not 80+20+50)\n",
        "\n"
      ],
      "metadata": {
        "id": "KgHbcScO4crm"
      }
    },
    {
      "cell_type": "markdown",
      "source": [
        "`Method overriding` is applied via the *vehicle_details* function:\n",
        "\n",
        "\n",
        "> **horses** are not printed regarding the bus information because although the generic **def vehicle_details** includes horses, this does not happen in the local **def vehicle_details** of the clild bus class."
      ],
      "metadata": {
        "id": "qn_MTEKw4lrU"
      }
    },
    {
      "cell_type": "code",
      "execution_count": 40,
      "source": [
        "# Superclass\n",
        "class Vehicle:\n",
        "    def __init__(self, brand, year, horses, current_speed):\n",
        "        self.brand = brand\n",
        "        self.year = year\n",
        "        self.horses = horses\n",
        "        self.current_speed = current_speed\n",
        "\n",
        "    def accelerate_vehicle(self, accel_speed):\n",
        "        raise NotImplementedError()\n",
        "\n",
        "    def stop(self):\n",
        "        self.current_speed = 0\n",
        "\n",
        "    def vehicle_details(self):\n",
        "        return (\"Brand: {}\\nYear: {}\\nHorses: {}\\n\".format(\n",
        "            self.brand, self.year, self.horses\n",
        "        ))\n",
        "\n",
        "# Subclass\n",
        "class Bus(Vehicle):\n",
        "    def __init__(self, brand, year, horses, current_speed, current_passengers):\n",
        "        super().__init__(brand, year, horses, current_speed)\n",
        "        self.current_passengers = current_passengers\n",
        "\n",
        "    def accelerate_vehicle(self, accel_speed):\n",
        "        if(accel_speed < 40 and accel_speed > 5):\n",
        "            self.current_speed += accel_speed\n",
        "\n",
        "    def add_passengers(self, passengers):\n",
        "        self.current_passengers += passengers\n",
        "\n",
        "    def remove_passengers(self, passengers):\n",
        "        self.current_passengers -= passengers\n",
        "    \n",
        "    def vehicle_details(self):\n",
        "        return (\"Brand: {}\\nYear: {}\".format(self.brand, self.year))\n",
        "\n",
        "# Subclass\n",
        "class Car(Vehicle):\n",
        "    def __init__(self, brand, year, horses, current_speed):\n",
        "        super().__init__(brand, year, horses, current_speed)\n",
        "\n",
        "    def accelerate_vehicle(self, accel_speed):\n",
        "        if(accel_speed < 90 and accel_speed>10):\n",
        "            self.current_speed += accel_speed\n",
        "\n",
        "    def vehicle_details(self):\n",
        "        return (\"Brand: {}\\nYear: {}\\nHorses: {}\".format(self.brand, self.year, self.horses))        \n",
        "\n",
        "if __name__ == '__main__':\n",
        "    new_car = Car(brand=\"benz\", year=2020, horses=250, current_speed=160)\n",
        "    new_bus = Bus(brand=\"some bus brand\", year=2010, horses= 120, current_speed=80, current_passengers=20)\n",
        "    vehicles = [new_car, new_bus]\n",
        "    for vehicle in vehicles:\n",
        "        vehicle.accelerate_vehicle(20)\n",
        "        vehicle.accelerate_vehicle(50)\n",
        "        print(\"Vehicle details:\\n\\n{}\".format(vehicle.vehicle_details()))\n",
        "        print(\"Current speed: {}\".format(vehicle.current_speed))\n",
        "        print(\"============================================================\")"
      ],
      "outputs": [
        {
          "output_type": "stream",
          "name": "stdout",
          "text": [
            "Vehicle details:\n",
            "\n",
            "Brand: benz\n",
            "Year: 2020\n",
            "Horses: 250\n",
            "Current speed: 230\n",
            "============================================================\n",
            "Vehicle details:\n",
            "\n",
            "Brand: some bus brand\n",
            "Year: 2010\n",
            "Current speed: 100\n",
            "============================================================\n"
          ]
        }
      ],
      "metadata": {
        "colab": {
          "base_uri": "https://localhost:8080/"
        },
        "id": "Bjmp8wMOqSh5",
        "outputId": "4f0ffb26-161c-4f5d-ddaf-30692e81bffa"
      }
    },
    {
      "cell_type": "markdown",
      "source": [
        "# Exception Handling\n",
        "\n",
        "* TypeError\n",
        "* ZeroDivisionError\n",
        "* IndexError (when we try to index an element with an invalid index)\n",
        "* NameError (when a variable is used but has not been defined previously)\n",
        "* KeyError (when the key from the key-value pair we try to access is not in the dictionary)\n",
        "* RecursionError (when maximum recursion depth is exceeded, usually when the process never reaches the base case)"
      ],
      "metadata": {
        "id": "mEAatkLkxIl6"
      }
    },
    {
      "cell_type": "markdown",
      "source": [
        "> try - except - else"
      ],
      "metadata": {
        "id": "1ASoju0ovUhI"
      }
    },
    {
      "cell_type": "code",
      "execution_count": 41,
      "source": [
        "'''\n",
        "try:\n",
        "    <code_that_may_raise_an_exception>\n",
        "except:\n",
        "    <code_to_handle_the_exception_if_it_occurs>\n",
        "\n",
        "# How to Catch a Specific Type of Exception\n",
        "try:\n",
        "    <code_that_may_raise_an_exception>\n",
        "except <exception_type>:\n",
        "    <code_to_handle_an_exception_if_it_occurs> as <name>    \n",
        "'''\n",
        "\n",
        "# e.g.\n",
        "'''\n",
        "index = int(input(\"Enter the index: \"))\n",
        "\n",
        "try:\n",
        "    my_list = [10, 20, 30, 40]\n",
        "    print(my_list[index])\n",
        "except IndexError as someError:\n",
        "    print(\"Exception raised:\", someError)\n",
        "\n",
        "# try - except - else\n",
        "a = int(input(\"Enter x: \"))\n",
        "b = int(input(\"Enter y: \"))\n",
        "\n",
        "try:\n",
        "    division = x / y\n",
        "    print(division)\n",
        "except ZeroDivisionError as someError:\n",
        "    print(\"Please enter valid values!\", someError)\n",
        "else:\n",
        "    print(\"Both values were valid!\")    \n",
        "'''    "
      ],
      "outputs": [
        {
          "output_type": "execute_result",
          "data": {
            "text/plain": [
              "'\\nindex = int(input(\"Enter the index: \"))\\n\\ntry:\\n    my_list = [10, 20, 30, 40]\\n    print(my_list[index])\\nexcept IndexError as someError:\\n    print(\"Exception raised:\", someError)\\n\\n# try - except - else\\na = int(input(\"Enter x: \"))\\nb = int(input(\"Enter y: \"))\\n\\ntry:\\n    division = x / y\\n    print(division)\\nexcept ZeroDivisionError as someError:\\n    print(\"Please enter valid values!\", someError)\\nelse:\\n    print(\"Both values were valid!\")    \\n'"
            ],
            "application/vnd.google.colaboratory.intrinsic+json": {
              "type": "string"
            }
          },
          "metadata": {
            "tags": []
          },
          "execution_count": 41
        }
      ],
      "metadata": {
        "colab": {
          "base_uri": "https://localhost:8080/",
          "height": 86
        },
        "id": "70rQv8V9u6xc",
        "outputId": "54205487-14c7-42ff-b46d-75edfc520c4a"
      }
    },
    {
      "cell_type": "code",
      "execution_count": 42,
      "source": [
        "def main():\n",
        "  try:\n",
        "    car_brands = [\"benz\", \"bmw\", \"audi\"]\n",
        "    print(car_brands[5])\n",
        "  except IndexError:\n",
        "    print('there is no such index!')\n",
        "\n",
        "if __name__ == \"__main__\":\n",
        "  main()"
      ],
      "outputs": [
        {
          "output_type": "stream",
          "name": "stdout",
          "text": [
            "there is no such index!\n"
          ]
        }
      ],
      "metadata": {
        "colab": {
          "base_uri": "https://localhost:8080/"
        },
        "id": "M2lFYYsZxoHp",
        "outputId": "c1745438-55c3-40c4-babf-87997cce735b"
      }
    },
    {
      "cell_type": "code",
      "execution_count": 43,
      "source": [
        "def main():\n",
        "  try:\n",
        "    x = 5/0\n",
        "  except ZeroDivisionError:\n",
        "    print(\"you tried to divide by zero!\")\n",
        "    \n",
        "if __name__ == \"__main__\":\n",
        "  main()"
      ],
      "outputs": [
        {
          "output_type": "stream",
          "name": "stdout",
          "text": [
            "you tried to divide by zero!\n"
          ]
        }
      ],
      "metadata": {
        "colab": {
          "base_uri": "https://localhost:8080/"
        },
        "id": "DoUYJcFhyj84",
        "outputId": "fd9b7f74-616d-4188-9c0f-e255a9095934"
      }
    },
    {
      "cell_type": "code",
      "execution_count": 44,
      "source": [
        "def main():\n",
        "  try:\n",
        "    x = 5/2\n",
        "  except ZeroDivisionError:\n",
        "    print(\"you tried to divide by zero!\")\n",
        "  # else => i.e. if there is no error!  \n",
        "  else:\n",
        "    print(\"Your operation was correct with a result of: {}\".format(x))\n",
        "    \n",
        "if __name__ == \"__main__\":\n",
        "  main()"
      ],
      "outputs": [
        {
          "output_type": "stream",
          "name": "stdout",
          "text": [
            "Your operation was correct with a result of: 2.5\n"
          ]
        }
      ],
      "metadata": {
        "colab": {
          "base_uri": "https://localhost:8080/"
        },
        "id": "AEPCetKNzNsq",
        "outputId": "39a82513-4309-43c8-8b26-2558f68abea8"
      }
    },
    {
      "cell_type": "code",
      "execution_count": 45,
      "source": [
        "x=47\n",
        "\n",
        "y=divmod(x,3)\n",
        "print(y)"
      ],
      "outputs": [
        {
          "output_type": "stream",
          "name": "stdout",
          "text": [
            "(15, 2)\n"
          ]
        }
      ],
      "metadata": {
        "colab": {
          "base_uri": "https://localhost:8080/"
        },
        "id": "knUs_tNrF56F",
        "outputId": "c59c0868-c818-44b9-e2ad-ebaa45ef3279"
      }
    }
  ]
}