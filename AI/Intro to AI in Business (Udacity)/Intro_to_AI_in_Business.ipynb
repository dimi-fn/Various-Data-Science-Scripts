{
  "nbformat": 4,
  "nbformat_minor": 0,
  "metadata": {
    "colab": {
      "name": "Intro_to_AI_in_Business.ipynb",
      "provenance": [],
      "collapsed_sections": [],
      "authorship_tag": "ABX9TyMtMhuAkAmUmDMtXyq/7Web",
      "include_colab_link": true
    },
    "kernelspec": {
      "name": "python3",
      "display_name": "Python 3"
    }
  },
  "cells": [
    {
      "cell_type": "markdown",
      "metadata": {
        "id": "view-in-github",
        "colab_type": "text"
      },
      "source": [
        "<a href=\"https://colab.research.google.com/github/dimi-fn/Various-Data-Science-Scripts/blob/main/Intro_to_AI_in_Business.ipynb\" target=\"_parent\"><img src=\"https://colab.research.google.com/assets/colab-badge.svg\" alt=\"Open In Colab\"/></a>"
      ]
    },
    {
      "cell_type": "markdown",
      "metadata": {
        "id": "ZOQNK77anQ9B"
      },
      "source": [
        "# Intro to AI and ML\n",
        "- AI > Machine Learning > Deep Learning\n",
        "\n",
        "**Techniques:**\n",
        "\n",
        "* Supervised: the data contains true labels\n",
        "    * Classification -> categories/classes (discrete data)\n",
        "    * Regression -> numerical features/labels (continuous data)\n",
        "\n",
        "* Unsupervised: we do not know the labels beforehand\n",
        "    * Clustering -> finding groups of data (e.g. cluster customer paths when they visit website)\n",
        "    * Association\n",
        "    * Dimensionality Reduction\n",
        "\n",
        "* Reinforcement Learning -> Agents/ Rewards - Penalties\n",
        "    * Real-time\n",
        "    * Offline"
      ]
    },
    {
      "cell_type": "markdown",
      "metadata": {
        "id": "2s7X0qymnW-c"
      },
      "source": [
        "# Neural Networks\n",
        "\n",
        "* inputs -> output based on weights of the inputs and the defined thresholds\n",
        "\n"
      ]
    },
    {
      "cell_type": "markdown",
      "metadata": {
        "id": "H_N62O42nZWS"
      },
      "source": [
        "# Using AI & ML in Business"
      ]
    },
    {
      "cell_type": "markdown",
      "metadata": {
        "id": "S7MR3bL_nayN"
      },
      "source": [
        "## Procedure\n",
        "Data ingestion > Data Cleaning & Transformation > Model Traininig > Testing & Validation > Deployment\n",
        "\n",
        "## Business Value Identification\n",
        "\n",
        "* Business Problem definition\n",
        "    * Value/Stakeholders/Investments/ Getting people-customer support\n",
        "    * Narrow down the problem for targeted use cases\n",
        "* Data \n",
        "    * Availability/Augmentation/Cleaning/Refreshing-pipeline\n",
        "* Model building\n",
        "    * Feature extraction/engineering\n",
        "    * Hyperparameters tuning/selection, benchmarking\n",
        "    * Accuracy of model\n",
        "* Deploy & Measure\n",
        "    * AB Testing\n",
        "    * Versioning (different versions of models)\n",
        "    * Business Process Integration\n",
        "* Active Learning & Tuning\n",
        "    * Bias mitigation\n",
        "    * Monitoring/ Version control"
      ]
    },
    {
      "cell_type": "markdown",
      "metadata": {
        "id": "qh8NFnr5ncv3"
      },
      "source": [
        "## Data Fit & Annotation \n",
        "\n",
        "https://client.appen.com/welcome\n",
        "\n",
        "\n",
        "\n"
      ]
    },
    {
      "cell_type": "markdown",
      "metadata": {
        "id": "hOdGKWcju6Ea"
      },
      "source": [
        "# Build a Model\n",
        "\n",
        "Neural networks are made up of neurons, sometimes called nodes. One neuron is responsible for processing some input data and producing an output\n",
        "\n",
        "> A series of layers comprised of computational neurons (nodes)."
      ]
    },
    {
      "cell_type": "markdown",
      "metadata": {
        "id": "CAuHdoxuxPi-"
      },
      "source": [
        "## Activation Functions - Backpropagation - Percepton\n",
        "\n",
        "As a neural network trains, it starts off randomly guessing appropriate weights and will often produce the incorrect outputs, with some error that can be measured as the difference between a model-output value and a true output label or value. For a model to improve, it needs a way to:\n",
        "\n",
        "1) Identify the source of its error (which model weights are responsible for the error?)\n",
        "\n",
        "2) Update those weights to a new, better value\n",
        "\n"
      ]
    },
    {
      "cell_type": "markdown",
      "metadata": {
        "id": "V1-IPOc3xTVl"
      },
      "source": [
        "\n",
        "### Activation Functions\n",
        "\n",
        "They serve as the **decision boundary** to pass on information\n",
        "* eg sigmoid function returns a continuous value in range of values from 0 to 1.\n",
        "\n"
      ]
    },
    {
      "cell_type": "markdown",
      "metadata": {
        "id": "iun3w8uHxVtv"
      },
      "source": [
        "### Backpropagation\n",
        "\n",
        "It is referred to the procedure of identifying the weights causing an output error.\n",
        "\n",
        "> Essentially, backpropagation looks at the output of a model and goes backwards through the neurons (nodes) and layers of a network to find the source or error\n",
        "\n",
        ">> The cycle of backpropagation and updating weights\n",
        "\n"
      ]
    },
    {
      "cell_type": "markdown",
      "metadata": {
        "id": "oSm9XxovxXQ1"
      },
      "source": [
        "### Perceptron \n",
        "A perceptron is a neural network unit (an artificial neuron) that does certain computations to detect features in the input data\n",
        "\n",
        "Different Types:\n",
        "\n",
        "> Multilayer perceptron:basic perceptron model\n",
        "\n",
        "> CNNs\n",
        "\n",
        "> RNNs\n",
        "\n",
        "\n",
        "\n"
      ]
    },
    {
      "cell_type": "markdown",
      "metadata": {
        "id": "5RBZCGMIyGnf"
      },
      "source": [
        "## Training Data\n",
        "\n",
        "* Models will only learn about data that they are trained with\n",
        "\n",
        "* Use a diverse set of data \n",
        "\n",
        "* Need for real-world data\n",
        "\n"
      ]
    },
    {
      "cell_type": "markdown",
      "metadata": {
        "id": "6g8RNdPpuyEE"
      },
      "source": [
        "### Model Evaluation\n",
        "\n",
        "Train and test set should be separate, with diversity of data in both train and test data for reducing bias.\n",
        "\n",
        "> Hence, the model should never see the test data until model evaluation"
      ]
    },
    {
      "cell_type": "markdown",
      "metadata": {
        "id": "8CBF9W7DwCp_"
      },
      "source": [
        "### Transfer Learning & Automated ML & Fine Tuning\n",
        "\n",
        "\n",
        "Through **transfer learning** we can take the architecture of an existed network and adapt it and customize it into our own network projects (taking the architecture, weights and activation functions, and changing the output layers with our own output layer with our desired new classes and then --> retrain to tune the last layers of the network that give will give us the supported classes we are looking for)\n",
        "\n",
        "> E.g. previous network had 4 output layers (i.e. 4 classes) and our project has 2 classes, so then we retrain the network with 2 output layers (not 4), having copied the weights from the pre-trained model (probably we should also change the activation function since here would be binary result ==> Therefore only retrain the **last layers** of the new (our) model. --> Transfer Learning\n",
        "\n",
        ">> Transfer Learning: the weights on the earlier layers do not change (only the last-output layers change to customize the number of classes we specifically want to predict).\n",
        "\n",
        "\n",
        "#### Fine Tuning\n",
        "Fine tuning == Transfer Learning + retraining the earlier inputs\n",
        "\n",
        "> In transfer learning you only retrain the last-output layers, whereas in fine tuning we can also retrain the earlier inputs\n",
        "\n",
        "#### Automated ML\n",
        "\n",
        "It just the automation of ML procedure via e.g. google cloud or IBM watchon (i.e. you do not code, they \"code\" automatically)."
      ]
    },
    {
      "cell_type": "markdown",
      "metadata": {
        "id": "5QJdZ_4J3A5r"
      },
      "source": [
        "# Measuring Impact & Updating Models"
      ]
    },
    {
      "cell_type": "markdown",
      "metadata": {
        "id": "RVkiOqtZ8NjU"
      },
      "source": [
        "## Success Metrics\n",
        "\n",
        "* Customer experience\n",
        "* Customer engagement\n",
        "* Revenues\n",
        "* Business process automation\n",
        "* Better and faster decision making\n",
        "\n"
      ]
    },
    {
      "cell_type": "markdown",
      "metadata": {
        "id": "dTtxr9gW9AIb"
      },
      "source": [
        "## A/B Testing \n",
        "\n",
        "It is very common to send about 20% of your customers to a new model (v2, a \"challenger\" model) and 80% to a well-tested model (v1, a \"controlled\" model). This way, you can get some good experimental data and really see if the v2 of your model does indeed work better; if it does, you can then switch all user traffic (100%) to that new model.\n",
        "\n",
        "You can repeat this process as necessary, and as you continually improve different versions of a model.\n",
        "\n",
        "Control the experiment to avoid \"novelty effect\", i.e. customers that are curious to inverstigate the new model"
      ]
    },
    {
      "cell_type": "markdown",
      "metadata": {
        "id": "xSP607Sb_bAy"
      },
      "source": [
        "<iframe src=\"https://drive.google.com/file/d/15o-kQX_v3wxXiCm_ojcweOmsxibpRbZ2/preview\" width=\"640\" height=\"480\"></iframe>"
      ]
    },
    {
      "cell_type": "code",
      "metadata": {
        "colab": {
          "base_uri": "https://localhost:8080/"
        },
        "id": "crHAfa1-_ccw",
        "outputId": "3699a554-2c87-4f25-9d33-53c3df50827b"
      },
      "source": [
        "%%html\n",
        "<iframe src=\"https://drive.google.com/file/d/15o-kQX_v3wxXiCm_ojcweOmsxibpRbZ2/preview\" width=\"1100\" height=\"500\"></iframe>"
      ],
      "execution_count": null,
      "outputs": [
        {
          "output_type": "display_data",
          "data": {
            "text/html": [
              "<iframe src=\"https://drive.google.com/file/d/15o-kQX_v3wxXiCm_ojcweOmsxibpRbZ2/preview\" width=\"1100\" height=\"500\"></iframe>"
            ],
            "text/plain": [
              "<IPython.core.display.HTML object>"
            ]
          },
          "metadata": {
            "tags": []
          }
        }
      ]
    },
    {
      "cell_type": "markdown",
      "metadata": {
        "id": "PxKJEY0jAe29"
      },
      "source": [
        "### Bias\n",
        "\n",
        "1) Model bias (when the model generates biased outcome)\n",
        "\n",
        "2) Data Bias (e.g. unbalanced sample)\n",
        "\n",
        "3) Annotation bias"
      ]
    },
    {
      "cell_type": "markdown",
      "metadata": {
        "id": "wfVnHZ0LIuf0"
      },
      "source": [
        "### Accuracy and Recall vs. Precision\n",
        "\n",
        "\n",
        "Model accuracy is not enough metric: based on the problem you want to solve you should consider the trade-off between **recall** and **precision**\n",
        "\n",
        "* Information Retrieval\n",
        "\n",
        "> **Accuary**= (TP + TN) / (TP+FP+FN+TN)\n",
        "\n",
        "\n",
        "\n",
        "> `Precision`: (number of retrieved and relevant docs) / (number of **retrieved** docs)\n",
        ">> = TP / (TP + FP)\n",
        ">> Percentage of relevant data points identified by the model that were actually relevant\n",
        "\n",
        "\n",
        "\n",
        "> `Recall`: (number of retrieved and relevant docs) / (number of **relevant** docs)\n",
        ">> = TP / (TP + FN)\n",
        ">> Percentage of total relevant results correctly classified by the model\n",
        "\n",
        "\n",
        "Based on your use case you should choose if you prefer higher precision or recall:\n",
        "\n",
        "E.g.:\n",
        "\n",
        "> Cancel diagnosis: You prefer higher recall because a false negative prediction should absolutely be avoided (telling you you don't have cancer when you actually have)\n",
        "\n",
        "\n",
        "> Youtube/social media recommendation: you prefer higher precision because false negative is of less concern\n",
        "\n",
        "\n",
        "You can take the mean harmony between recall and precision which is `F1`\n",
        "\n",
        "> F1 = 2 * precision * recall / (precision+recall)"
      ]
    },
    {
      "cell_type": "markdown",
      "metadata": {
        "id": "Prscf52TI17b"
      },
      "source": [
        "### Model Stateless\n",
        "\n",
        "Again based on the use case. e.g. if you want to discriminate between cats and dogs model stateless is low, whereas in e.g. fashion industry, you need to refresh the model with new data since model stateless here is high"
      ]
    },
    {
      "cell_type": "markdown",
      "metadata": {
        "id": "Lw1W-gOTXpjf"
      },
      "source": [
        "# Data Privacy\n",
        "\n",
        "https://www.youtube.com/watch?v=8usbdtQ1yKQ&ab_channel=Udacity"
      ]
    }
  ]
}