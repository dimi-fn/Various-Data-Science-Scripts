{
  "nbformat": 4,
  "nbformat_minor": 0,
  "metadata": {
    "colab": {
      "name": "special_matrices.ipynb",
      "provenance": [],
      "collapsed_sections": [],
      "authorship_tag": "ABX9TyNlw8U+m4TZ/NUIVvziGSj9",
      "include_colab_link": true
    },
    "kernelspec": {
      "name": "python3",
      "display_name": "Python 3"
    }
  },
  "cells": [
    {
      "cell_type": "markdown",
      "metadata": {
        "id": "view-in-github",
        "colab_type": "text"
      },
      "source": [
        "<a href=\"https://colab.research.google.com/github/dimi-fn/Various-Data-Science-Scripts/blob/main/special_matrices.ipynb\" target=\"_parent\"><img src=\"https://colab.research.google.com/assets/colab-badge.svg\" alt=\"Open In Colab\"/></a>"
      ]
    },
    {
      "cell_type": "markdown",
      "metadata": {
        "id": "FC4zCCrz9j9z"
      },
      "source": [
        "Writing a function that will test if a 4x4 matrix is singular before calculating it.\r\n",
        "\r\n",
        "Note: A matrix A is singular if an inverse matrix A-1 exists.\r\n",
        "\r\n",
        "The function goes through the matrix replacing each row so that it can be turned into the echelor form. A matrix is in elechon form if it has the shape resulting from a Gaussian elimination [reference](https://en.wikipedia.org/wiki/Row_echelon_form)"
      ]
    },
    {
      "cell_type": "code",
      "metadata": {
        "id": "mMh73IfY9lD0"
      },
      "source": [
        "import numpy as np"
      ],
      "execution_count": null,
      "outputs": []
    },
    {
      "cell_type": "code",
      "metadata": {
        "id": "UdWNJzJ39tf8"
      },
      "source": [
        "# Creating a function that will go through the matrix replacing each row in order to turn it into the echelon form.\r\n",
        "def is_Singular(a) :\r\n",
        "\r\n",
        "    # making matrix b as a copy of a (since its values are going to be altered)\r\n",
        "    b = np.array(a, dtype=np.float_)\r\n",
        "    try:\r\n",
        "        fix_row_zero(b)\r\n",
        "        fix_row_one(b)\r\n",
        "        fix_row_two(b)\r\n",
        "        fix_row_three(b)\r\n",
        "    except matrix_is_Singular:\r\n",
        "        return True\r\n",
        "    return False"
      ],
      "execution_count": null,
      "outputs": []
    },
    {
      "cell_type": "code",
      "metadata": {
        "id": "mXeXtE2t9v-9"
      },
      "source": [
        "# handling errors\r\n",
        "class matrix_is_Singular(Exception): pass"
      ],
      "execution_count": null,
      "outputs": []
    },
    {
      "cell_type": "code",
      "metadata": {
        "id": "GdY7VgbZ9xVL"
      },
      "source": [
        "# In the first row a[0], the 1st element a[0,0] should be equal to 1\r\n",
        "# In the end, the row is divided by the value of a[0, 0]\r\n",
        "def fix_row_zero(a) :\r\n",
        "\r\n",
        "    # check if a[0,0] is equal to zero\r\n",
        "    # if a[0,0]=0, one of the lower rows will be added to the first one before the division\r\n",
        "    if a[0,0] == 0 :\r\n",
        "        a[0] = a[0] + a[1]\r\n",
        "    if a[0,0] == 0 :\r\n",
        "        a[0] = a[0] + a[2]\r\n",
        "    if a[0,0] == 0 :\r\n",
        "        a[0] = a[0] + a[3]\r\n",
        "    if a[0,0] == 0 :\r\n",
        "        raise matrix_is_Singular()\r\n",
        "\r\n",
        "    # divide the 1st row by the value of the 1st element a[0, 0]\r\n",
        "    a[0] = a[0] / a[0,0]\r\n",
        "    return a"
      ],
      "execution_count": null,
      "outputs": []
    },
    {
      "cell_type": "code",
      "metadata": {
        "id": "MaQ1BKhf9zGH"
      },
      "source": [
        "# 2nd row\r\n",
        "def fix_row_one(a):\r\n",
        "\r\n",
        "    # setting the sub-diagonal elements to zero; in the 2nd row there is only the a[1,0] element\r\n",
        "    a[1] = a[1] - a[1,0] * a[0]\r\n",
        "\r\n",
        "    # check if the sub-diagonal element a[1,1] is equal to zero\r\n",
        "    if a[1,1] == 0 :\r\n",
        "        a[1] = a[1] + a[2]\r\n",
        "        a[1] = a[1] - a[1,0] * a[0]\r\n",
        "    if a[1,1] == 0 :\r\n",
        "        a[1] = a[1] + a[3]\r\n",
        "        a[1] = a[1] - a[1,0] * a[0]\r\n",
        "    if a[1,1] == 0 :\r\n",
        "        raise matrix_is_Singular()\r\n",
        "\r\n",
        "    # divide the 2nd row by the value of a[1, 1]\r\n",
        "    a[1] = a[1] / a[1,1]\r\n",
        "    return a"
      ],
      "execution_count": null,
      "outputs": []
    },
    {
      "cell_type": "code",
      "metadata": {
        "id": "gCmfmUE290zb"
      },
      "source": [
        "# 3rd row\r\n",
        "def fix_row_two(a) :\r\n",
        "\r\n",
        "    # setting the sub-diagonal elements to zero, i.e. a[2,0] and a[2,1]\r\n",
        "    a[2] = a[2] - a[2,0] * a[0]\r\n",
        "    a[2] = a[2] - a[2,1] * a[1]\r\n",
        "    \r\n",
        "    # check if the sub-diagonal elements a[2,0] and a[2,1] are equal to zero\r\n",
        "    if a[2,2] == 0 :\r\n",
        "        a[2] = a[2] + a[3]\r\n",
        "        a[2] = a[2] - a[2,0] * a[0]\r\n",
        "        a[2] = a[2] - a[2,1] * a[1]\r\n",
        "        \r\n",
        "        a[2] = a[2] + a[3]\r\n",
        "        a[2] = a[2] - a[1,0] * a[0]\r\n",
        "\r\n",
        "    if a[2,2] == 0 :\r\n",
        "        raise matrix_is_Singular()\r\n",
        "    # setting the diagonal element to one by dividing the 3rd row by the value of a[2,2]\r\n",
        "    a[2] = a[2] / a[2,2]\r\n",
        "    return a"
      ],
      "execution_count": null,
      "outputs": []
    },
    {
      "cell_type": "code",
      "metadata": {
        "id": "ZC2bdmja92sM"
      },
      "source": [
        "# 4th row\r\n",
        "def fix_row_three(a) :\r\n",
        "\r\n",
        "    # setting the sub-diagonal elements to zero, i.e. elements a[3,0], a[3,1], and a[3,2]\r\n",
        "    a[3] = a[3] - a[3,0] * a[0]\r\n",
        "    a[3] = a[3] - a[3,1] * a[1]\r\n",
        "    a[3] = a[3] - a[3,2] * a[2]\r\n",
        "    \r\n",
        "    if a[3,3] == 0 :\r\n",
        "        raise matrix_is_Singular()\r\n",
        "    # Transform the row to set the diagonal element to one.\r\n",
        "    # setting the diagonal element a[3,3] to one by dividing the 4th row by the value of a[3,3]\r\n",
        "    a[3] = a[3] / a[3,3] \r\n",
        "    \r\n",
        "    return a"
      ],
      "execution_count": null,
      "outputs": []
    }
  ]
}