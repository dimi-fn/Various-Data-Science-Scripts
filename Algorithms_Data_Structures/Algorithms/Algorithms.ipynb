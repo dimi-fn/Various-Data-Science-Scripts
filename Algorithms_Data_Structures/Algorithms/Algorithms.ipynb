{
  "nbformat": 4,
  "nbformat_minor": 0,
  "metadata": {
    "colab": {
      "name": "Algorithms.ipynb",
      "provenance": [],
      "collapsed_sections": [],
      "toc_visible": true,
      "authorship_tag": "ABX9TyOBB7uYi6Ld4mhzHc1Tdy0m",
      "include_colab_link": true
    },
    "kernelspec": {
      "name": "python3",
      "display_name": "Python 3"
    }
  },
  "cells": [
    {
      "cell_type": "markdown",
      "metadata": {
        "id": "view-in-github",
        "colab_type": "text"
      },
      "source": [
        "<a href=\"https://colab.research.google.com/github/dimi-fn/Various-Data-Science-Scripts/blob/main/Algorithms.ipynb\" target=\"_parent\"><img src=\"https://colab.research.google.com/assets/colab-badge.svg\" alt=\"Open In Colab\"/></a>"
      ]
    },
    {
      "cell_type": "markdown",
      "metadata": {
        "id": "d-m761ZTbkTA"
      },
      "source": [
        "# Algorithm Analysis with Big-O Notation\r\n",
        "\r\n",
        "* Execution time is not considered a good metric to measure algorithmic complexity (different hardware will give different time), then the `Big-O notation` is used as a standard metric instead.\r\n",
        "\r\n",
        "* Algorithm speed is not measured in seconds but in terms of growth\r\n",
        "\r\n",
        "* The Big-O Notation indicates the grade of how an algorithm **scales** with regard to changes in the input dataset size\r\n",
        "\r\n",
        "> **Big-0 Notation**: Statistical measure used to describe the **complexity** of the algorithm.\r\n",
        "\r\n",
        ">> **n**: the relationship between the input and the steps taken by the algorithm. In the examples below, `n` will b the number of items in the input array\r\n",
        "\r\n",
        "\r\n",
        "| Name | Big-O | \r\n",
        "| --- | --- | \r\n",
        "| Constant | \tO(c) | \r\n",
        "| Linear | O(n) | \r\n",
        "| Quadratic | O(n^2) | \r\n",
        "| Cubic | \tO(n^3) | \r\n",
        "| Exponential | \tO(2^n) | \r\n",
        "| Logarithmic | \tO(log(n)) | \r\n",
        "| Log Linear | O(nlog(n)) | \r\n",
        "\r\n"
      ]
    },
    {
      "cell_type": "markdown",
      "metadata": {
        "id": "ZYvdGhbxjJeT"
      },
      "source": [
        "### Constant complexity - O(c)\r\n",
        "\r\n",
        "* complexity remains constant\r\n",
        "\r\n",
        "* the steps required to complete the execution of an algorithm remain constant, irrespective of the number of inputs\r\n",
        "\r\n",
        "> e.g. below the algorithm 1) finds the square of the first element of the list, and 2) it prints it out. It does that every time independently of the number of items in the list -> complexity = constant"
      ]
    },
    {
      "cell_type": "code",
      "metadata": {
        "colab": {
          "base_uri": "https://localhost:8080/"
        },
        "id": "SRkbGMqXjQ_E",
        "outputId": "7d6dfc30-7e54-4e2e-a536-e9b7d5130af3"
      },
      "source": [
        "def constant_complexity(items):\r\n",
        "    result = items[0] * items[0]\r\n",
        "    print (result)\r\n",
        "\r\n",
        "constant_complexity([10, 15, 20, 25, 30])"
      ],
      "execution_count": 1,
      "outputs": [
        {
          "output_type": "stream",
          "text": [
            "100\n"
          ],
          "name": "stdout"
        }
      ]
    },
    {
      "cell_type": "code",
      "metadata": {
        "colab": {
          "base_uri": "https://localhost:8080/",
          "height": 458
        },
        "id": "WN-mI8E4jcmV",
        "outputId": "439dca81-8058-4755-ef18-8aad7e7fee0f"
      },
      "source": [
        "import matplotlib.pyplot as plt\r\n",
        "import numpy as np\r\n",
        "\r\n",
        "x = [10, 15, 20, 25, 30]\r\n",
        "\r\n",
        "y = [2, 2, 2, 2, 2]\r\n",
        "\r\n",
        "plt.figure(figsize=(14,7))\r\n",
        "plt.plot(x, y, 'b')\r\n",
        "plt.xlabel('Inputs')\r\n",
        "plt.ylabel('Steps')\r\n",
        "\r\n",
        "plt.title('Constant Complexity - O(c)')\r\n",
        "plt.show()"
      ],
      "execution_count": 2,
      "outputs": [
        {
          "output_type": "display_data",
          "data": {
            "image/png": "[encoded data removed]",
            "text/plain": [
              "<Figure size 1008x504 with 1 Axes>"
            ]
          },
          "metadata": {
            "tags": [],
            "needs_background": "light"
          }
        }
      ]
    },
    {
      "cell_type": "markdown",
      "metadata": {
        "id": "5n8vCz6nnYqz"
      },
      "source": [
        "### Linear Complexity - O(n)\r\n",
        "\r\n",
        "* the steps required to complete the execution of an algorithm increase or decrease linearly with the number of inputs.\r\n",
        "\r\n",
        "* the number of the iterations that the algorithm will proceed to will be equal to the size of the input items array. Example:"
      ]
    },
    {
      "cell_type": "code",
      "metadata": {
        "colab": {
          "base_uri": "https://localhost:8080/"
        },
        "id": "Zjco9_4skZwv",
        "outputId": "8406a799-a3ac-4d54-86f0-600d9ada3b3a"
      },
      "source": [
        "def linear_complexity(items):\r\n",
        "    for item in items:\r\n",
        "        print(item)\r\n",
        "\r\n",
        "linear_complexity([10, 15, 20, 25, 30])"
      ],
      "execution_count": 3,
      "outputs": [
        {
          "output_type": "stream",
          "text": [
            "10\n",
            "15\n",
            "20\n",
            "25\n",
            "30\n"
          ],
          "name": "stdout"
        }
      ]
    },
    {
      "cell_type": "code",
      "metadata": {
        "colab": {
          "base_uri": "https://localhost:8080/",
          "height": 458
        },
        "id": "WetFqt5coR_X",
        "outputId": "df708071-ed2a-428f-ffbe-6888d9fed549"
      },
      "source": [
        "import matplotlib.pyplot as plt\r\n",
        "import numpy as np\r\n",
        "\r\n",
        "x = [10, 15, 20, 25, 30]\r\n",
        "\r\n",
        "y = [10, 15, 20, 25, 30]\r\n",
        "\r\n",
        "plt.figure(figsize=(14,7))\r\n",
        "plt.plot(x, y, 'b')\r\n",
        "plt.xlabel('Inputs')\r\n",
        "plt.ylabel('Steps')\r\n",
        "plt.title('Linear Complexity - O(n)')\r\n",
        "plt.show()"
      ],
      "execution_count": 4,
      "outputs": [
        {
          "output_type": "display_data",
          "data": {
            "image/png": "[encoded data removed]",
            "text/plain": [
              "<Figure size 1008x504 with 1 Axes>"
            ]
          },
          "metadata": {
            "tags": [],
            "needs_background": "light"
          }
        }
      ]
    },
    {
      "cell_type": "markdown",
      "metadata": {
        "id": "n3QILHSLpnE5"
      },
      "source": [
        "### Quadratic Complexity O(n^2)\r\n",
        "\r\n",
        "* the steps required to execute an algorithm are a quadratic function of the number of items in the input\r\n",
        "\r\n",
        "* total number of steps: n * n, e.g.  if the input has 10 elements then the algorithm will do 100 operations\r\n",
        "\r\n",
        "> Below: a total of 25 operations since the number of items in list is 5"
      ]
    },
    {
      "cell_type": "code",
      "metadata": {
        "colab": {
          "base_uri": "https://localhost:8080/"
        },
        "id": "sY825OempqDr",
        "outputId": "50e6b16a-aee5-4437-db30-6abc3e421935"
      },
      "source": [
        "def quadratic_complexity(items):\r\n",
        "\r\n",
        "  count_operations=0\r\n",
        "\r\n",
        "  for item in items:  \r\n",
        "    for item2 in items:\r\n",
        "      \r\n",
        "      print(item, '---' ,item)    \r\n",
        "      count_operations = count_operations +1\r\n",
        "      \r\n",
        "  print(\"Number of operations was: {}\".format(count_operations))\r\n",
        "\r\n",
        "quadratic_complexity([10, 15, 20, 25, 30])"
      ],
      "execution_count": 5,
      "outputs": [
        {
          "output_type": "stream",
          "text": [
            "10 --- 10\n",
            "10 --- 10\n",
            "10 --- 10\n",
            "10 --- 10\n",
            "10 --- 10\n",
            "15 --- 15\n",
            "15 --- 15\n",
            "15 --- 15\n",
            "15 --- 15\n",
            "15 --- 15\n",
            "20 --- 20\n",
            "20 --- 20\n",
            "20 --- 20\n",
            "20 --- 20\n",
            "20 --- 20\n",
            "25 --- 25\n",
            "25 --- 25\n",
            "25 --- 25\n",
            "25 --- 25\n",
            "25 --- 25\n",
            "30 --- 30\n",
            "30 --- 30\n",
            "30 --- 30\n",
            "30 --- 30\n",
            "30 --- 30\n",
            "Number of operations was: 25\n"
          ],
          "name": "stdout"
        }
      ]
    },
    {
      "cell_type": "markdown",
      "metadata": {
        "id": "ZfL6IrkouZ3F"
      },
      "source": [
        " Logarithmic - O(logN) \r\n",
        "\r\n",
        " * the number of operations increases by one each time the data is doubled\r\n",
        "\r\n",
        " * binary search -> logarithmic time\r\n",
        "  * simply put: the algorithm compares the target value to the middle element of a *sorted* array, and then it goes up or down based on the item position to match"
      ]
    }
  ]
}