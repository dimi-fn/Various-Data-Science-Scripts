{
  "nbformat": 4,
  "nbformat_minor": 0,
  "metadata": {
    "colab": {
      "name": "Data_Types_&_Structures.ipynb",
      "provenance": [],
      "collapsed_sections": [],
      "authorship_tag": "ABX9TyPn/eGZ/ARYN8tJYEDoGQ1Q",
      "include_colab_link": true
    },
    "kernelspec": {
      "name": "python3",
      "display_name": "Python 3"
    }
  },
  "cells": [
    {
      "cell_type": "markdown",
      "metadata": {
        "id": "view-in-github",
        "colab_type": "text"
      },
      "source": [
        "<a href=\"https://colab.research.google.com/github/dimi-fn/Various-Data-Science-Scripts/blob/main/Data_Types_%26_Structures.ipynb\" target=\"_parent\"><img src=\"https://colab.research.google.com/assets/colab-badge.svg\" alt=\"Open In Colab\"/></a>"
      ]
    },
    {
      "cell_type": "markdown",
      "metadata": {
        "id": "a_Rh4ynpfMuK"
      },
      "source": [
        "# Primitive Data Types vs Reference Types in Memory\r\n",
        "\r\n",
        "| **References Types** | **Primitive Types**  |\r\n",
        "|------|------|\r\n",
        "|  `variable name --> memory adress (pointers) --> value`  | `variable name --> data` |\r\n",
        "|  Strings  | int|\r\n",
        "|  Data Structures | boolean|\r\n",
        "|   | char |\r\n",
        "|   | float |\r\n",
        "|  |  double|\r\n",
        "|  |  short|\r\n",
        "| |  long|\r\n",
        "\r\n",
        "\r\n"
      ]
    },
    {
      "cell_type": "markdown",
      "metadata": {
        "id": "_vPVsXeqfWdv"
      },
      "source": [
        "## Primitive Data Types\r\n",
        "With primitive data types we know exactly how much space they will take up beforehand, i.e. before allocating space for them.\r\n",
        "\r\n",
        "* `shorts`, `ints` and `longs`, `floats` and `doubles`, as well as `booleans` and `chars` --> each of these data types are of certain size (i.e. they contain a specific number of bits (16, 32, or 64) and have **fixed size**)\r\n",
        "\r\n",
        "  * **Python** has four primitive types: integers, floats, booleans and strings"
      ]
    },
    {
      "cell_type": "markdown",
      "metadata": {
        "id": "q7O_YFBhfZQF"
      },
      "source": [
        "## Reference Types in Memory\r\n",
        "\r\n",
        "**Strings** and other data types implemented with **data structures** are called--> `reference types`\r\n",
        "\r\n",
        "We do not know how much space they will take up until we know-declare how many items they will contain"
      ]
    },
    {
      "cell_type": "markdown",
      "metadata": {
        "id": "O979mXr8feij"
      },
      "source": [
        "# Numerical Data Types\r\n",
        "\r\n",
        "(the following concepts can be found on programming languages such as C and Java)"
      ]
    },
    {
      "cell_type": "markdown",
      "metadata": {
        "id": "6SebXEMXfhVG"
      },
      "source": [
        "`Whole Numbers`\r\n",
        "* short | 16 bits\r\n",
        "* int   | 32 bits \r\n",
        "* long  | 64 bits\r\n",
        "\r\n",
        "`Decimal Numbers`\r\n",
        "* float | 32 bits\r\n",
        "* double | 64 bits\r\n",
        "\r\n",
        "**Signed vs Unsigned**:\r\n",
        "* `Signed`: positive and negative numbers\r\n",
        "  * e.g. if short signed --> 16bits --> range: [-32.768, 32,767]\r\n",
        "* `Unsigned`: only positive values\r\n",
        "  * e.g. if short unsigned --> 16bits --> range: [0, 65,535]\r\n"
      ]
    },
    {
      "cell_type": "markdown",
      "metadata": {
        "id": "W9pgfi9V4RMG"
      },
      "source": [
        "# Data Structure\r\n",
        "\r\n",
        "It is about a **collection** with a defined way of accessing and storing items.\r\n",
        "\r\n",
        "\r\n"
      ]
    },
    {
      "cell_type": "markdown",
      "metadata": {
        "id": "m1fXQTPY4gDM"
      },
      "source": [
        "## Arrays\r\n",
        "\r\n",
        "An array is a **collection of elements** where each item is identified by an index or key."
      ]
    },
    {
      "cell_type": "markdown",
      "metadata": {
        "id": "KyNgPGZS6zqo"
      },
      "source": [
        "### Resizing Arrays\r\n",
        "\r\n",
        "> In programming languages such as C++ and Java, basic arrays cannot be resized (they are static/immutable). For this reason, e.g. in Java you should use a mutable Java class to get a resizable version array.\r\n",
        "\r\n",
        "> In programming languages such as Python, Ruby, and JavaScript basic arrays can be resized (they are dynamic/mutable)."
      ]
    },
    {
      "cell_type": "markdown",
      "metadata": {
        "id": "Rgg_lx9HfMxY"
      },
      "source": [
        "# Data Types & Structures in Python"
      ]
    },
    {
      "cell_type": "markdown",
      "metadata": {
        "id": "VeYrKerFzHca"
      },
      "source": [
        "| Class | Immutable  |\r\n",
        "|------|------|\r\n",
        "|  Bool  | Yes |\r\n",
        "|  int / float  | Yes|\r\n",
        "|  strings | Yes|\r\n",
        "|  Tuple | Yes |\r\n",
        "|  Frozenset | Yes |\r\n",
        "| List |  No|\r\n",
        "| Set |  No|\r\n",
        "| Dict|  No|\r\n"
      ]
    },
    {
      "cell_type": "markdown",
      "metadata": {
        "id": "0sWZkXOpy-6t"
      },
      "source": [
        "## Lists vs Sets vs Tuples"
      ]
    },
    {
      "cell_type": "markdown",
      "metadata": {
        "id": "paylQpBeuiv5"
      },
      "source": [
        "| List | Tuple  | Set |\r\n",
        "|------|------|------|\r\n",
        "|  Mutable  | Immutable | Mutable | \r\n",
        "|  Ordered  | Ordered| Unordered |\r\n",
        "|  Item values can be changed/replaced | Item values cannot be changed/replaced | Item values cannot be changed/replaced"
      ]
    },
    {
      "cell_type": "markdown",
      "metadata": {
        "id": "LwQ1Uux_vsAk"
      },
      "source": [
        "### Lists\r\n",
        "\r\n",
        "* Using square brackets **[ ]**\r\n",
        "* Lists are **mutable**, i.e. a list can change its stage or contents (lists are **dynamic**). You can add, delete, or change values.\r\n",
        "    * Thus, lists can contain strings, numbers, booleans and etc. all together separated by commas.\r\n",
        "    * Its item values can be changed or replaced\r\n",
        "        * since lists are mutable, they contain objects that are **non-hashable**\r\n",
        "* Lists are **ordered**: They will be printed-executed based on the defined order assigned.\r\n",
        "* They cannot be used for dictionary keys.\r\n",
        "* They are **resizable arrays**.\r\n"
      ]
    },
    {
      "cell_type": "code",
      "metadata": {
        "colab": {
          "base_uri": "https://localhost:8080/"
        },
        "id": "p5t4WJsuui8k",
        "outputId": "2859e712-1107-4782-f9c9-7042aba58750"
      },
      "source": [
        "my_list1 = [1, 10, 10, 8, 20]\r\n",
        "my_list2= [1, 10, 10, 8, 20, \"text\"]\r\n",
        "my_list3= [\"first\", \"second\", \"second\", \"third\"]\r\n",
        "print(\"list:\", my_list1)\r\n",
        "print(\"list:\", my_list2)\r\n",
        "print(\"list:\", my_list3)"
      ],
      "execution_count": 1,
      "outputs": [
        {
          "output_type": "stream",
          "text": [
            "list: [1, 10, 10, 8, 20]\n",
            "list: [1, 10, 10, 8, 20, 'text']\n",
            "list: ['first', 'second', 'second', 'third']\n"
          ],
          "name": "stdout"
        }
      ]
    },
    {
      "cell_type": "markdown",
      "metadata": {
        "id": "p7KsU-H6ul9z"
      },
      "source": [
        "### Tuples\r\n",
        "\r\n",
        "* They are usually defined by parentheses **()**\r\n",
        "* Tuple objects are **immutable**, i.e. they do not allow modification after creation (they are **fixed size** in nature).\r\n",
        "  * e.g. you cannot add elements to a tuple (no append or extend method), and you cannot remove elements.\r\n",
        "* Tuples, as lists, are **ordered**: They will be printed-executed based on the defined order assigned.\r\n",
        "* They can be used for dictionary keys.\r\n",
        "* Useful for **heterogenous collections**\r\n",
        "\r\n",
        "> [They can be useful to be used when e.g. creating a data structure in which the position is meaningful](https://stackoverflow.com/questions/1708510/list-vs-tuple-when-to-use-each#answer-1708702).\r\n",
        "\r\n",
        "> [They can be easily promoted/extended to named tuples (for collection of heterogeneous objects)](https://stackoverflow.com/questions/1708510/list-vs-tuple-when-to-use-each#answer-1708603)."
      ]
    },
    {
      "cell_type": "code",
      "metadata": {
        "colab": {
          "base_uri": "https://localhost:8080/"
        },
        "id": "C_FXDbnaukXg",
        "outputId": "0fff41ef-8172-4889-df58-3f5be7aae962"
      },
      "source": [
        "my_list1 = [1, 10, 10, 8, 20]\r\n",
        "my_list2= [1, 10, 10, 8, 20, \"text\"]\r\n",
        "my_list3= [\"first\", \"second\", \"second\", \"third\"]\r\n",
        "print(\"tuple:\", tuple(my_list1))\r\n",
        "print(\"tuple:\", tuple(my_list2))\r\n",
        "print(\"tuple:\", tuple(my_list3))"
      ],
      "execution_count": 2,
      "outputs": [
        {
          "output_type": "stream",
          "text": [
            "tuple: (1, 10, 10, 8, 20)\n",
            "tuple: (1, 10, 10, 8, 20, 'text')\n",
            "tuple: ('first', 'second', 'second', 'third')\n"
          ],
          "name": "stdout"
        }
      ]
    },
    {
      "cell_type": "markdown",
      "metadata": {
        "id": "xzZpvyR4vKC2"
      },
      "source": [
        "### Sets\r\n",
        "\r\n",
        "* They are defined with curly braces **{}**.\r\n",
        "* Sets are **mutable**, i.e. they can be converted into another data type, <u>however only immutable objects can be stored in it</u>\r\n",
        "* Sets are **unordered**, i.e. the order in which the elements are added into the set is not fixed; it can change frequently\r\n",
        "    * we don't care about the order of the elements (that's why we don't have indices or keys here)\r\n",
        "        * here we care about items *membership*, i.e. if an item belongs or not in a set \r\n",
        "    * therefore, sets are also **unintended** collection of items\r\n",
        "* **duplicates** are **removed** when the set gets executed (duplicates get removed) ==> **_there are not duplicates in sets_**\r\n",
        "\r\n",
        "> **frozenset** is a finite type of set => like above, you get the items that are already in the set, nothing more or less\r\n",
        "\r\n",
        ">> if a set is not declared as a frozenset => infinite type of set => e.g. we can add items"
      ]
    },
    {
      "cell_type": "code",
      "metadata": {
        "colab": {
          "base_uri": "https://localhost:8080/"
        },
        "id": "jqoj5VzJv1eX",
        "outputId": "a5665e5a-2586-4481-8e1e-42a9a6924716"
      },
      "source": [
        "my_list1 = [1, 10, 10, 8, 20]\r\n",
        "my_list2= [1, 10, 10, 8, 20, \"text\"]\r\n",
        "my_list3= [\"first\", \"second\", \"second\", \"third\"]\r\n",
        "print(\"set:\", set(my_list1))\r\n",
        "print(\"set:\", set(my_list2))\r\n",
        "print(\"set:\", set(my_list3))"
      ],
      "execution_count": 3,
      "outputs": [
        {
          "output_type": "stream",
          "text": [
            "set: {8, 1, 10, 20}\n",
            "set: {1, 8, 10, 20, 'text'}\n",
            "set: {'third', 'first', 'second'}\n"
          ],
          "name": "stdout"
        }
      ]
    },
    {
      "cell_type": "code",
      "metadata": {
        "colab": {
          "base_uri": "https://localhost:8080/"
        },
        "id": "wPfGbZhhmOK7",
        "outputId": "67373688-73e1-4859-fcfd-e19f27ee823b"
      },
      "source": [
        "one_set = set(\"This is a set\")\r\n",
        "print(one_set)\r\n",
        "# no duplicates\r\n",
        "# unordered"
      ],
      "execution_count": 4,
      "outputs": [
        {
          "output_type": "stream",
          "text": [
            "{' ', 's', 'i', 'T', 'h', 'a', 'e', 't'}\n"
          ],
          "name": "stdout"
        }
      ]
    },
    {
      "cell_type": "markdown",
      "metadata": {
        "id": "Vg5h-Wh8k9G_"
      },
      "source": [
        "## Dictionaries\r\n",
        "\r\n",
        "* Sequence of key-value pairs\r\n",
        "  * In other languages they can be found as `associative arrays` or `hash arrays`"
      ]
    },
    {
      "cell_type": "code",
      "metadata": {
        "colab": {
          "base_uri": "https://localhost:8080/"
        },
        "id": "Gh_ZEDk4jdKs",
        "outputId": "aaa457ae-880c-44ab-d313-e05e5ed147e2"
      },
      "source": [
        "cars= dict(brand=\"mercedes\", colour=\"black\", horses=250, year=2021)\r\n",
        "\r\n",
        "for key,value in cars.items():\r\n",
        "  print (\"{}: {}\".format(key, value))"
      ],
      "execution_count": 5,
      "outputs": [
        {
          "output_type": "stream",
          "text": [
            "brand: mercedes\n",
            "colour: black\n",
            "horses: 250\n",
            "year: 2021\n"
          ],
          "name": "stdout"
        }
      ]
    },
    {
      "cell_type": "code",
      "metadata": {
        "colab": {
          "base_uri": "https://localhost:8080/"
        },
        "id": "5YcFDfDjleQn",
        "outputId": "b3d436f7-2aeb-4ab4-cdff-cd675a00fd98"
      },
      "source": [
        "print(cars)"
      ],
      "execution_count": 6,
      "outputs": [
        {
          "output_type": "stream",
          "text": [
            "{'brand': 'mercedes', 'colour': 'black', 'horses': 250, 'year': 2021}\n"
          ],
          "name": "stdout"
        }
      ]
    },
    {
      "cell_type": "code",
      "metadata": {
        "colab": {
          "base_uri": "https://localhost:8080/"
        },
        "id": "Rww-dZJ7lSDE",
        "outputId": "32c3a1c9-3027-4467-f198-e7e393e7117e"
      },
      "source": [
        "print(cars[\"brand\"])"
      ],
      "execution_count": 7,
      "outputs": [
        {
          "output_type": "stream",
          "text": [
            "mercedes\n"
          ],
          "name": "stdout"
        }
      ]
    },
    {
      "cell_type": "code",
      "metadata": {
        "colab": {
          "base_uri": "https://localhost:8080/"
        },
        "id": "ILOJajMEliau",
        "outputId": "a3ef7982-b31f-4cf9-92c0-5886397a42e6"
      },
      "source": [
        "# print only the keys\r\n",
        "for keys in cars.keys():\r\n",
        "  print(keys)"
      ],
      "execution_count": 8,
      "outputs": [
        {
          "output_type": "stream",
          "text": [
            "brand\n",
            "colour\n",
            "horses\n",
            "year\n"
          ],
          "name": "stdout"
        }
      ]
    },
    {
      "cell_type": "code",
      "metadata": {
        "colab": {
          "base_uri": "https://localhost:8080/"
        },
        "id": "u6lEETmYlioA",
        "outputId": "572428b8-16ca-46f0-acc3-94e8496ccc4f"
      },
      "source": [
        "# print only values\r\n",
        "for values in cars.values():\r\n",
        "  print(values)"
      ],
      "execution_count": 9,
      "outputs": [
        {
          "output_type": "stream",
          "text": [
            "mercedes\n",
            "black\n",
            "250\n",
            "2021\n"
          ],
          "name": "stdout"
        }
      ]
    },
    {
      "cell_type": "code",
      "metadata": {
        "colab": {
          "base_uri": "https://localhost:8080/"
        },
        "id": "smzDHXk9kjIW",
        "outputId": "25b363de-f41f-4ae1-ad30-0792a96af8ea"
      },
      "source": [
        "def main():\r\n",
        "  cars= dict(brand=\"mercedes\", colour=\"black\", horses=250, year=2021)\r\n",
        "  print_dict(cars)\r\n",
        "\r\n",
        "def print_dict(o):\r\n",
        "  for key, value in o.items():\r\n",
        "    print(\"{}: {}\".format(key, value))\r\n",
        "\r\n",
        "if __name__== \"__main__\":\r\n",
        "  main()"
      ],
      "execution_count": 10,
      "outputs": [
        {
          "output_type": "stream",
          "text": [
            "brand: mercedes\n",
            "colour: black\n",
            "horses: 250\n",
            "year: 2021\n"
          ],
          "name": "stdout"
        }
      ]
    },
    {
      "cell_type": "markdown",
      "metadata": {
        "id": "X9wTv3fNinZ-"
      },
      "source": [
        "## Stacks and Queues\r\n",
        "\r\n",
        "Stacks and queues are data structures that allow data storing and retrieval in a sequential way.\r\n",
        "\r\n",
        "`Stacks` => **LIFO** functionality\r\n",
        "* good for:\r\n",
        "  * reversing\r\n",
        "  * keeping track of state (while items are added or removed)\r\n",
        "\r\n",
        "\r\n",
        "`Queues` => **FIFO** functionality\r\n",
        "* good for:\r\n",
        "  * indexing the data structure, e.g. getting a specific item in the middle of array\r\n"
      ]
    },
    {
      "cell_type": "markdown",
      "metadata": {
        "id": "UIAgXwR72jYk"
      },
      "source": [
        "## Strings\r\n",
        "\r\n",
        "> Formatting strings"
      ]
    },
    {
      "cell_type": "code",
      "metadata": {
        "colab": {
          "base_uri": "https://localhost:8080/"
        },
        "id": "T_CXEq3b17bd",
        "outputId": "8e88a718-db83-417a-e6f9-e549b0598e85"
      },
      "source": [
        "x = 30.35 * 50.4 * 5626562\r\n",
        "\r\n",
        "print(\"{}\".format(x))"
      ],
      "execution_count": 11,
      "outputs": [
        {
          "output_type": "stream",
          "text": [
            "8606614297.68\n"
          ],
          "name": "stdout"
        }
      ]
    },
    {
      "cell_type": "code",
      "metadata": {
        "colab": {
          "base_uri": "https://localhost:8080/"
        },
        "id": "67vZmJR_192c",
        "outputId": "2d0e47c4-9a18-46b1-e59d-f8b5c14353a3"
      },
      "source": [
        "# printing with commas\r\n",
        "x = 30.35 * 50.4 * 5626562\r\n",
        "\r\n",
        "print(\"{:,}\".format(x))"
      ],
      "execution_count": 12,
      "outputs": [
        {
          "output_type": "stream",
          "text": [
            "8,606,614,297.68\n"
          ],
          "name": "stdout"
        }
      ]
    },
    {
      "cell_type": "code",
      "metadata": {
        "colab": {
          "base_uri": "https://localhost:8080/"
        },
        "id": "YlAZgP4W2Hau",
        "outputId": "4218ea43-72ce-42a8-96b3-0dabfd682694"
      },
      "source": [
        "# printing with commas and dot for expressing decimal point in the end\r\n",
        "x = 30.35 * 50.4 * 5626562\r\n",
        "\r\n",
        "print(\"{:,.3f}\".format(x))"
      ],
      "execution_count": 13,
      "outputs": [
        {
          "output_type": "stream",
          "text": [
            "8,606,614,297.680\n"
          ],
          "name": "stdout"
        }
      ]
    },
    {
      "cell_type": "markdown",
      "metadata": {
        "id": "aa5gVAbI3QP1"
      },
      "source": [
        "> Splitting & Joining"
      ]
    },
    {
      "cell_type": "code",
      "metadata": {
        "colab": {
          "base_uri": "https://localhost:8080/"
        },
        "id": "rGGu9n_m3TJA",
        "outputId": "dd4b1ce4-2570-4f27-9a7e-f362411f4499"
      },
      "source": [
        "# spitting:\r\n",
        "my_string = \"This is a long string\"\r\n",
        "print(\"Splitting: {}\\n\".format(my_string.split()))\r\n",
        "\r\n",
        "# splitting without some character included:\r\n",
        "print(\"Splitting without 's': {}\\n\".format(my_string.split(\"s\")))\r\n",
        "\r\n",
        "\r\n",
        "# string split and join something\r\n",
        "string_split = my_string.split()\r\n",
        "string_join = \" | \".join(string_split)\r\n",
        "print(\"Splitting and joining something: {}\".format(string_join))"
      ],
      "execution_count": 14,
      "outputs": [
        {
          "output_type": "stream",
          "text": [
            "Splitting: ['This', 'is', 'a', 'long', 'string']\n",
            "\n",
            "Splitting without 's': ['Thi', ' i', ' a long ', 'tring']\n",
            "\n",
            "Splitting and joining something: This | is | a | long | string\n"
          ],
          "name": "stdout"
        }
      ]
    },
    {
      "cell_type": "code",
      "metadata": {
        "colab": {
          "base_uri": "https://localhost:8080/",
          "height": 35
        },
        "id": "EZ1Q4JkfDvAu",
        "outputId": "a78843b7-f6dd-4121-88b7-285f280dcc1f"
      },
      "source": [
        "'''\r\n",
        "from google.colab import files\r\n",
        "import io\r\n",
        "\r\n",
        "uploaded = files.upload()\r\n",
        "'''"
      ],
      "execution_count": 15,
      "outputs": [
        {
          "output_type": "execute_result",
          "data": {
            "application/vnd.google.colaboratory.intrinsic+json": {
              "type": "string"
            },
            "text/plain": [
              "'\\nfrom google.colab import files\\nimport io\\n\\nuploaded = files.upload()\\n'"
            ]
          },
          "metadata": {
            "tags": []
          },
          "execution_count": 15
        }
      ]
    },
    {
      "cell_type": "code",
      "metadata": {
        "colab": {
          "base_uri": "https://localhost:8080/"
        },
        "id": "3NlMbclFGIHy",
        "outputId": "de71bb07-7412-4ada-a976-fc359c07742d"
      },
      "source": [
        "lines = \"/content/lines.txt\"\r\n",
        "# r = read mode\r\n",
        "with open(lines, \"r\") as my_txt_file:\r\n",
        "    file_content = my_txt_file.read()\r\n",
        "    print(file_content)"
      ],
      "execution_count": 16,
      "outputs": [
        {
          "output_type": "stream",
          "text": [
            "1 this is the 1st line\n",
            "2 this is the 2nd line\n",
            "3 this is the 3rd line\n"
          ],
          "name": "stdout"
        }
      ]
    },
    {
      "cell_type": "code",
      "metadata": {
        "colab": {
          "base_uri": "https://localhost:8080/"
        },
        "id": "80ayVnUi3c6Q",
        "outputId": "22cf704b-ddfd-4afd-e988-9532323879e1"
      },
      "source": [
        "def main():\r\n",
        "  # r ==>read mode t==> text mode\r\n",
        "  # w ==> write mode\r\n",
        "  input_file = open(\"/content/lines.txt\", 'rt')\r\n",
        "  output_file = open('lines-copy.txt', 'wt')\r\n",
        "  for line in input_file:\r\n",
        "      print(line.rstrip(), file=output_file)\r\n",
        "      print('.', end='', flush=True)\r\n",
        "  output_file.close()\r\n",
        "  print('\\ndone.')\r\n",
        "\r\n",
        "if __name__ == '__main__': main()"
      ],
      "execution_count": 17,
      "outputs": [
        {
          "output_type": "stream",
          "text": [
            "...\n",
            "done.\n"
          ],
          "name": "stdout"
        }
      ]
    }
  ]
}