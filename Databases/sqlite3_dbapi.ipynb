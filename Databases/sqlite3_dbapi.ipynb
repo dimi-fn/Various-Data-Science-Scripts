{
  "nbformat": 4,
  "nbformat_minor": 0,
  "metadata": {
    "colab": {
      "name": "sqlite3_dbapi.ipynb",
      "provenance": [],
      "collapsed_sections": [],
      "authorship_tag": "ABX9TyOcpm5bgv5BK7OYnK6RB/9z",
      "include_colab_link": true
    },
    "kernelspec": {
      "name": "python3",
      "display_name": "Python 3"
    }
  },
  "cells": [
    {
      "cell_type": "markdown",
      "metadata": {
        "id": "view-in-github",
        "colab_type": "text"
      },
      "source": [
        "<a href=\"https://colab.research.google.com/github/dimi-fn/Various-Data-Science-Scripts/blob/main/sqlite3_dbapi.ipynb\" target=\"_parent\"><img src=\"https://colab.research.google.com/assets/colab-badge.svg\" alt=\"Open In Colab\"/></a>"
      ]
    },
    {
      "cell_type": "code",
      "metadata": {
        "colab": {
          "base_uri": "https://localhost:8080/"
        },
        "id": "NBpQF7rXORr1",
        "outputId": "fbaf7c7d-1431-4d71-e07e-8688db711475"
      },
      "source": [
        "import sqlite3\r\n",
        "\r\n",
        "def main():\r\n",
        "    \r\n",
        "    # connecting to sqlite3 \r\n",
        "    ''' \r\n",
        "    connection returns a db handle that can be used to interface with db\r\n",
        "    and this can be managed via the db.cursor() \r\n",
        "    '''\r\n",
        "    print('Connecting...')\r\n",
        "    print(\"**************************************************************\\n\")\r\n",
        "    db = sqlite3.connect('db-api.db')\r\n",
        "    cur = db.cursor()\r\n",
        "    \r\n",
        "    ''' Create table '''\r\n",
        "    print('Creating tables:\\n')\r\n",
        "    # first check if table exists\r\n",
        "    cur.execute(\"DROP TABLE IF EXISTS test\")\r\n",
        "    cur.execute(\"\"\"\r\n",
        "        CREATE TABLE test (\r\n",
        "            id INTEGER PRIMARY KEY, string TEXT, number INTEGER\r\n",
        "        )\r\n",
        "        \"\"\")\r\n",
        "    \r\n",
        "    # Insert rows\r\n",
        "    print('Inserting 3 rows')\r\n",
        "    cur.execute(\"\"\"\r\n",
        "        INSERT INTO test (string, number) VALUES ('Mercedes', 25000)\r\n",
        "        \"\"\")\r\n",
        "    cur.execute(\"\"\"\r\n",
        "        INSERT INTO test (string, number) VALUES ('BMW', 20000)\r\n",
        "        \"\"\")\r\n",
        "    cur.execute(\"\"\"\r\n",
        "        INSERT INTO test (string, number) VALUES ('Audi', 18000)\r\n",
        "        \"\"\")\r\n",
        "    \r\n",
        "    # Commit\r\n",
        "    print('Inserts were committed')\r\n",
        "    db.commit()\r\n",
        "\r\n",
        "    # Query - count rows\r\n",
        "    cur.execute(\"SELECT COUNT(*) FROM test\")\r\n",
        "    count = cur.fetchone()[0]\r\n",
        "    print(f'There are {count} rows in the table')\r\n",
        "\r\n",
        "    # Query - print rows\r\n",
        "    print(\"\\nPrinting the table's rows:\")\r\n",
        "    for row in cur.execute(\"SELECT * FROM test\"):\r\n",
        "        print(row)\r\n",
        "\r\n",
        "    # drop table  \r\n",
        "    print(\"**************************************************************\\n\")  \r\n",
        "    print(\"Dropping the 'test' table\")\r\n",
        "    cur.execute(\"DROP TABLE test\")\r\n",
        "\r\n",
        "    # Closing db\r\n",
        "    db.close()\r\n",
        "    print('db closed')\r\n",
        "\r\n",
        "if __name__ == '__main__': main()"
      ],
      "execution_count": 26,
      "outputs": [
        {
          "output_type": "stream",
          "text": [
            "Connecting...\n",
            "**************************************************************\n",
            "\n",
            "Creating tables:\n",
            "\n",
            "Inserting 3 rows\n",
            "Inserts were committed\n",
            "There are 3 rows in the table\n",
            "\n",
            "Printing the table's rows:\n",
            "(1, 'Mercedes', 25000)\n",
            "(2, 'BMW', 20000)\n",
            "(3, 'Audi', 18000)\n",
            "**************************************************************\n",
            "\n",
            "Dropping the 'test' table\n",
            "db closed\n"
          ],
          "name": "stdout"
        }
      ]
    }
  ]
}