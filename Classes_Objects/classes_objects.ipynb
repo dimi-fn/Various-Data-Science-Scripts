{
 "metadata": {
  "language_info": {
   "codemirror_mode": {
    "name": "ipython",
    "version": 3
   },
   "file_extension": ".py",
   "mimetype": "text/x-python",
   "name": "python",
   "nbconvert_exporter": "python",
   "pygments_lexer": "ipython3",
   "version": "3.8.3-final"
  },
  "orig_nbformat": 2,
  "kernelspec": {
   "name": "python3",
   "display_name": "Python 3",
   "language": "python"
  }
 },
 "nbformat": 4,
 "nbformat_minor": 2,
 "cells": [
  {
   "cell_type": "code",
   "execution_count": 1,
   "metadata": {},
   "outputs": [
    {
     "output_type": "stream",
     "name": "stdout",
     "text": [
      "\n    Creating a class named \"Identity\"\n    Properties: first name, last name, age\n    Method: A function printing the output based on attributes given\n    Result: It prints the output of the above\n    \n"
     ]
    }
   ],
   "source": [
    "class Identity:\n",
    "    # docstring:\n",
    "    '''\n",
    "    Creating a class named \"Identity\"\n",
    "    Properties: first name, last name, age\n",
    "    Method: A function printing the output based on attributes given\n",
    "    Result: It prints the output of the above\n",
    "    '''\n",
    "\n",
    "    # assigning values to the object properties of the class \"Identity\"\n",
    "    def __init__(self, first_name, last_name, age):\n",
    "\n",
    "        self.first_name = first_name\n",
    "        self.last_name= last_name\n",
    "        self.age = age\n",
    "\n",
    "    # Creating a method (function) belonging to the objects of the \"Identity\" class:\n",
    "    def output_function(self):\n",
    "        print(\"First Name: {} \\nLast Name: {} \\nAge: {}\".format(self.first_name, self.last_name, self.age))\n",
    "\n",
    "\n",
    "# print the docstring:\n",
    "print(Identity.__doc__)"
   ]
  },
  {
   "cell_type": "code",
   "execution_count": 2,
   "metadata": {},
   "outputs": [
    {
     "output_type": "stream",
     "name": "stdout",
     "text": [
      "First Name: Peter \nLast Name: Dosh \nAge: 41\n"
     ]
    }
   ],
   "source": [
    "x = Identity(\"Peter\", \"Dosh\", 41)\n",
    "x.output_function()"
   ]
  },
  {
   "cell_type": "code",
   "execution_count": 3,
   "metadata": {},
   "outputs": [
    {
     "output_type": "stream",
     "name": "stdout",
     "text": [
      "First Name: Peter \nLast Name: Dosh \nAge: 41\n"
     ]
    }
   ],
   "source": [
    "# the above is equal to this in one line:\n",
    "Identity(\"Peter\", \"Dosh\", 41).output_function()"
   ]
  }
 ]
}