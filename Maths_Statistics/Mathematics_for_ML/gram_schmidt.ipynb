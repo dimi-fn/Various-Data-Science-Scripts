{
  "nbformat": 4,
  "nbformat_minor": 0,
  "metadata": {
    "colab": {
      "name": "gram_schmidt.ipynb",
      "provenance": [],
      "collapsed_sections": [],
      "authorship_tag": "ABX9TyOG6nZIMpMVx+eMQWv7nU0L",
      "include_colab_link": true
    },
    "kernelspec": {
      "name": "python3",
      "display_name": "Python 3"
    }
  },
  "cells": [
    {
      "cell_type": "markdown",
      "metadata": {
        "id": "view-in-github",
        "colab_type": "text"
      },
      "source": [
        "<a href=\"https://colab.research.google.com/github/dimi-fn/Various-Data-Science-Scripts/blob/main/gram_schmidt.ipynb\" target=\"_parent\"><img src=\"https://colab.research.google.com/assets/colab-badge.svg\" alt=\"Open In Colab\"/></a>"
      ]
    },
    {
      "cell_type": "code",
      "metadata": {
        "id": "9hZBaXbO8VKd"
      },
      "source": [
        "import numpy as np\r\n",
        "import numpy.linalg as la\r\n",
        "\r\n",
        "small_number= 1e-14 \r\n",
        "\r\n",
        "def gram_schmidt_basis(A):\r\n",
        "\r\n",
        "    # set B as a copy of A, since its values are going to be altered\r\n",
        "    B = np.array(A, dtype=np.float_) \r\n",
        "\r\n",
        "    # looping over the vectors, starting with zero, label them with i\r\n",
        "    for i in range(B.shape[1]) :\r\n",
        "\r\n",
        "        # Inside the above loop, looping all previous j vectors to substract\r\n",
        "        for j in range(i):\r\n",
        "\r\n",
        "            # Substracting the overlap with previous vectors using the corresponding dot product\r\n",
        "            # current vector is B[:, i], previous vector is B[:, j]\r\n",
        "            B[:, i] = B[:,i] - B[:,i] @ B[:,j] * B[:,j]\r\n",
        "\r\n",
        "        # normalisation test for B[:, i]\r\n",
        "        if la.norm(B[:, i]) > small_number:\r\n",
        "            B[:, i] = B[:, i] / la.norm(B[:, i])  \r\n",
        "        else :\r\n",
        "            B[:, i] = np.zeros_like(B[:, i])      \r\n",
        "            \r\n",
        "    # returning the result\r\n",
        "    return B\r\n",
        "\r\n",
        "# using the Gram-schmidt process to calculate the dimension spanned by a list of vectors\r\n",
        "# the sum of all the norms will be the final number of dimensions (since each vector is normalized to 1 or 0)\r\n",
        "def calc_dimensions(A):\r\n",
        "    return np.sum(la.norm(gram_schmidt_basis(A), axis=0))"
      ],
      "execution_count": null,
      "outputs": []
    },
    {
      "cell_type": "code",
      "metadata": {
        "colab": {
          "base_uri": "https://localhost:8080/"
        },
        "id": "NuIQghQ_8YEW",
        "outputId": "066c9942-4a9e-4899-f7fb-d64dfc7576fa"
      },
      "source": [
        "# test the function\r\n",
        "vector_v = np.array([[1,0,2,6],\r\n",
        "                    [0,1,8,2],\r\n",
        "                    [2,8,3,1],\r\n",
        "                    [1,-6,2,3]], dtype=np.float_)\r\n",
        "\r\n",
        "gram_schmidt_basis(vector_v)"
      ],
      "execution_count": null,
      "outputs": [
        {
          "output_type": "execute_result",
          "data": {
            "text/plain": [
              "array([[ 0.40824829, -0.1814885 ,  0.04982278,  0.89325973],\n",
              "       [ 0.        ,  0.1088931 ,  0.99349591, -0.03328918],\n",
              "       [ 0.81649658,  0.50816781, -0.06462163, -0.26631346],\n",
              "       [ 0.40824829, -0.83484711,  0.07942048, -0.36063281]])"
            ]
          },
          "metadata": {
            "tags": []
          },
          "execution_count": 2
        }
      ]
    },
    {
      "cell_type": "code",
      "metadata": {
        "colab": {
          "base_uri": "https://localhost:8080/"
        },
        "id": "fep9_Blm8cMg",
        "outputId": "77c572a1-16eb-4f76-9307-1337c0161e9a"
      },
      "source": [
        "# find number of dimensions of \"vector_v\"\r\n",
        "calc_dimensions(vector_v)"
      ],
      "execution_count": null,
      "outputs": [
        {
          "output_type": "execute_result",
          "data": {
            "text/plain": [
              "4.0"
            ]
          },
          "metadata": {
            "tags": []
          },
          "execution_count": 3
        }
      ]
    }
  ]
}