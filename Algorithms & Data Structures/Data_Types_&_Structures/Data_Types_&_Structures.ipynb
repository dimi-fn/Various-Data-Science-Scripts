{
  "nbformat": 4,
  "nbformat_minor": 0,
  "metadata": {
    "colab": {
      "name": "Data_Types_&_Structures.ipynb",
      "provenance": [],
      "collapsed_sections": [],
      "toc_visible": true,
      "authorship_tag": "ABX9TyP+ClbfaaYZvuG2xz9dKz21",
      "include_colab_link": true
    },
    "kernelspec": {
      "name": "python3",
      "display_name": "Python 3"
    }
  },
  "cells": [
    {
      "cell_type": "markdown",
      "metadata": {
        "id": "view-in-github",
        "colab_type": "text"
      },
      "source": [
        "<a href=\"https://colab.research.google.com/github/dimi-fn/Various-Data-Science-Scripts/blob/main/Data_Types_%26_Structures.ipynb\" target=\"_parent\"><img src=\"https://colab.research.google.com/assets/colab-badge.svg\" alt=\"Open In Colab\"/></a>"
      ]
    },
    {
      "cell_type": "markdown",
      "metadata": {
        "id": "a_Rh4ynpfMuK"
      },
      "source": [
        "# Primitive Data Types vs Reference Types in Memory\n",
        "\n",
        "| **References Types** | **Primitive Types**  |\n",
        "|------|------|\n",
        "|  `variable name --> memory adress (pointers) --> value`  | `variable name --> data` |\n",
        "|  Strings  | int|\n",
        "|  Data Structures | boolean|\n",
        "|   | char |\n",
        "|   | float |\n",
        "|  |  double|\n",
        "|  |  short|\n",
        "| |  long|\n",
        "\n",
        "\n"
      ]
    },
    {
      "cell_type": "markdown",
      "metadata": {
        "id": "_vPVsXeqfWdv"
      },
      "source": [
        "## Primitive Data Types\n",
        "With primitive data types we know exactly how much space they will take up beforehand, i.e. before allocating space for them.\n",
        "\n",
        "* `shorts`, `ints` and `longs`, `floats` and `doubles`, as well as `booleans` and `chars` --> each of these data types are of certain size (i.e. they contain a specific number of bits (16, 32, or 64) and have **fixed size**)\n",
        "\n",
        "  * **Python** has four primitive types: integers, floats, booleans and strings"
      ]
    },
    {
      "cell_type": "markdown",
      "metadata": {
        "id": "q7O_YFBhfZQF"
      },
      "source": [
        "## Reference Types in Memory\n",
        "\n",
        "**Strings** and other data types implemented with **data structures** are called--> `reference types`\n",
        "\n",
        "We do not know how much space they will take up until we know-declare how many items they will contain"
      ]
    },
    {
      "cell_type": "markdown",
      "metadata": {
        "id": "O979mXr8feij"
      },
      "source": [
        "# Numerical Data Types\n",
        "\n",
        "(the following concepts can be found on programming languages such as C and Java)"
      ]
    },
    {
      "cell_type": "markdown",
      "metadata": {
        "id": "6SebXEMXfhVG"
      },
      "source": [
        "`Whole Numbers`\n",
        "* short | 16 bits\n",
        "* int   | 32 bits \n",
        "* long  | 64 bits\n",
        "\n",
        "`Decimal Numbers`\n",
        "* float | 32 bits\n",
        "* double | 64 bits\n",
        "\n",
        "**Signed vs Unsigned**:\n",
        "* `Signed`: positive and negative numbers\n",
        "  * e.g. if short signed --> 16bits --> range: [-32.768, 32,767]\n",
        "* `Unsigned`: only positive values\n",
        "  * e.g. if short unsigned --> 16bits --> range: [0, 65,535]\n"
      ]
    },
    {
      "cell_type": "markdown",
      "metadata": {
        "id": "W9pgfi9V4RMG"
      },
      "source": [
        "# Data Structure\n",
        "\n",
        "It is about a **collection** with a defined way of accessing and storing items.\n",
        "\n",
        "\n"
      ]
    },
    {
      "cell_type": "markdown",
      "metadata": {
        "id": "m1fXQTPY4gDM"
      },
      "source": [
        "## Arrays\n",
        "\n",
        "An array is a **collection of elements** where each item is identified by an index or key."
      ]
    },
    {
      "cell_type": "markdown",
      "metadata": {
        "id": "KyNgPGZS6zqo"
      },
      "source": [
        "### Resizing Arrays\n",
        "\n",
        "> In programming languages such as C++ and Java, basic arrays cannot be resized (they are static/immutable). For this reason, e.g. in Java you should use a mutable Java class to get a resizable version array.\n",
        "\n",
        "> In programming languages such as Python, Ruby, and JavaScript basic arrays can be resized (they are dynamic/mutable)."
      ]
    },
    {
      "cell_type": "markdown",
      "metadata": {
        "id": "Rgg_lx9HfMxY"
      },
      "source": [
        "# Data Types & Structures in Python"
      ]
    },
    {
      "cell_type": "markdown",
      "metadata": {
        "id": "VeYrKerFzHca"
      },
      "source": [
        "| Class | Immutable  |\n",
        "|------|------|\n",
        "|  Bool  | Yes |\n",
        "|  int / float  | Yes|\n",
        "|  strings | Yes|\n",
        "|  Tuple | Yes |\n",
        "|  Frozenset | Yes |\n",
        "| List |  No|\n",
        "| Set |  No|\n",
        "| Dict|  No|\n"
      ]
    },
    {
      "cell_type": "markdown",
      "metadata": {
        "id": "0sWZkXOpy-6t"
      },
      "source": [
        "## Lists vs Sets vs Tuples"
      ]
    },
    {
      "cell_type": "markdown",
      "metadata": {
        "id": "paylQpBeuiv5"
      },
      "source": [
        "| List | Tuple  | Set |\n",
        "|------|------|------|\n",
        "|  Mutable  | Immutable | Mutable | \n",
        "|  Ordered  | Ordered| Unordered |\n",
        "|  Item values can be changed/replaced | Item values cannot be changed/replaced | Item values cannot be changed/replaced"
      ]
    },
    {
      "cell_type": "markdown",
      "metadata": {
        "id": "LwQ1Uux_vsAk"
      },
      "source": [
        "### Lists\n",
        "\n",
        "* Using square brackets **[ ]**\n",
        "* Lists are **mutable**, i.e. a list can change its stage or contents (lists are **dynamic**). You can add, delete, or change values.\n",
        "    * Thus, lists can contain strings, numbers, booleans and etc. all together separated by commas.\n",
        "    * Its item values can be changed or replaced\n",
        "        * since lists are mutable, they contain objects that are **non-hashable**\n",
        "* Lists are **ordered**: They will be printed-executed based on the defined order assigned.\n",
        "* They cannot be used for dictionary keys.\n",
        "* They are **resizable arrays**.\n"
      ]
    },
    {
      "cell_type": "code",
      "metadata": {
        "colab": {
          "base_uri": "https://localhost:8080/"
        },
        "id": "p5t4WJsuui8k",
        "outputId": "f5d89e9a-8b5c-49a6-81ab-210120005e3f"
      },
      "source": [
        "my_list1 = [1, 10, 10, 8, 20]\n",
        "my_list2= [1, 10, 10, 8, 20, \"text\"]\n",
        "my_list3= [\"first\", \"second\", \"second\", \"third\"]\n",
        "print(\"list:\", my_list1)\n",
        "print(\"list:\", my_list2)\n",
        "print(\"list:\", my_list3)"
      ],
      "execution_count": 1,
      "outputs": [
        {
          "output_type": "stream",
          "text": [
            "list: [1, 10, 10, 8, 20]\n",
            "list: [1, 10, 10, 8, 20, 'text']\n",
            "list: ['first', 'second', 'second', 'third']\n"
          ],
          "name": "stdout"
        }
      ]
    },
    {
      "cell_type": "markdown",
      "metadata": {
        "id": "p7KsU-H6ul9z"
      },
      "source": [
        "### Tuples\n",
        "\n",
        "* They are usually defined by parentheses **()**\n",
        "* Tuple objects are **immutable**, i.e. they do not allow modification after creation (they are **fixed size** in nature).\n",
        "  * e.g. you cannot add elements to a tuple (no append or extend method), and you cannot remove elements.\n",
        "* Tuples, as lists, are **ordered**: They will be printed-executed based on the defined order assigned.\n",
        "* They can be used for dictionary keys.\n",
        "* Useful for **heterogenous collections**\n",
        "\n",
        "> [They can be useful to be used when e.g. creating a data structure in which the position is meaningful](https://stackoverflow.com/questions/1708510/list-vs-tuple-when-to-use-each#answer-1708702).\n",
        "\n",
        "> [They can be easily promoted/extended to named tuples (for collection of heterogeneous objects)](https://stackoverflow.com/questions/1708510/list-vs-tuple-when-to-use-each#answer-1708603)."
      ]
    },
    {
      "cell_type": "code",
      "metadata": {
        "colab": {
          "base_uri": "https://localhost:8080/"
        },
        "id": "C_FXDbnaukXg",
        "outputId": "965c80ef-372e-4353-b4b2-be5645bb96ac"
      },
      "source": [
        "my_list1 = [1, 10, 10, 8, 20]\n",
        "my_list2= [1, 10, 10, 8, 20, \"text\"]\n",
        "my_list3= [\"first\", \"second\", \"second\", \"third\"]\n",
        "print(\"tuple:\", tuple(my_list1))\n",
        "print(\"tuple:\", tuple(my_list2))\n",
        "print(\"tuple:\", tuple(my_list3))"
      ],
      "execution_count": 2,
      "outputs": [
        {
          "output_type": "stream",
          "text": [
            "tuple: (1, 10, 10, 8, 20)\n",
            "tuple: (1, 10, 10, 8, 20, 'text')\n",
            "tuple: ('first', 'second', 'second', 'third')\n"
          ],
          "name": "stdout"
        }
      ]
    },
    {
      "cell_type": "markdown",
      "metadata": {
        "id": "xzZpvyR4vKC2"
      },
      "source": [
        "### Sets\n",
        "\n",
        "* They are defined with curly braces **{}**.\n",
        "* Sets are **mutable**, i.e. they can be converted into another data type, <u>however only immutable objects can be stored in it</u>\n",
        "* Sets are **unordered**, i.e. the order in which the elements are added into the set is not fixed; it can change frequently\n",
        "    * we don't care about the order of the elements (that's why we don't have indices or keys here)\n",
        "        * here we care about items *membership*, i.e. if an item belongs or not in a set \n",
        "    * therefore, sets are also **unintended** collection of items\n",
        "* **duplicates** are **removed** when the set gets executed (duplicates get removed) ==> **_there are not duplicates in sets_**\n",
        "\n",
        "> **frozenset** is a finite type of set => like above, you get the items that are already in the set, nothing more or less\n",
        "\n",
        ">> if a set is not declared as a frozenset => infinite type of set => e.g. we can add items"
      ]
    },
    {
      "cell_type": "code",
      "metadata": {
        "colab": {
          "base_uri": "https://localhost:8080/"
        },
        "id": "jqoj5VzJv1eX",
        "outputId": "d2e8ea8c-5657-4e91-c3fc-6aab9672811a"
      },
      "source": [
        "my_list1 = [1, 10, 10, 8, 20]\n",
        "my_list2= [1, 10, 10, 8, 20, \"text\"]\n",
        "my_list3= [\"first\", \"second\", \"second\", \"third\"]\n",
        "print(\"set:\", set(my_list1))\n",
        "print(\"set:\", set(my_list2))\n",
        "print(\"set:\", set(my_list3))"
      ],
      "execution_count": 3,
      "outputs": [
        {
          "output_type": "stream",
          "text": [
            "set: {8, 1, 10, 20}\n",
            "set: {1, 8, 10, 'text', 20}\n",
            "set: {'second', 'third', 'first'}\n"
          ],
          "name": "stdout"
        }
      ]
    },
    {
      "cell_type": "code",
      "metadata": {
        "colab": {
          "base_uri": "https://localhost:8080/"
        },
        "id": "wPfGbZhhmOK7",
        "outputId": "36e6cf81-94e9-4572-fe53-0dcf9dcdc2ae"
      },
      "source": [
        "one_set = set(\"This is a set\")\n",
        "print(one_set)\n",
        "# no duplicates\n",
        "# unordered"
      ],
      "execution_count": 4,
      "outputs": [
        {
          "output_type": "stream",
          "text": [
            "{'a', 'e', ' ', 's', 'T', 'h', 't', 'i'}\n"
          ],
          "name": "stdout"
        }
      ]
    },
    {
      "cell_type": "markdown",
      "metadata": {
        "id": "Vg5h-Wh8k9G_"
      },
      "source": [
        "## Dictionaries\n",
        "\n",
        "* Sequence of key-value pairs\n",
        "  * In other languages they can be found as `associative arrays` or `hash arrays`"
      ]
    },
    {
      "cell_type": "code",
      "metadata": {
        "colab": {
          "base_uri": "https://localhost:8080/"
        },
        "id": "Gh_ZEDk4jdKs",
        "outputId": "4e87d7a1-d2c7-43b4-99ef-c66ab04a7c82"
      },
      "source": [
        "cars= dict(brand=\"mercedes\", colour=\"black\", horses=250, year=2021)\n",
        "\n",
        "for key,value in cars.items():\n",
        "  print (\"{}: {}\".format(key, value))"
      ],
      "execution_count": 5,
      "outputs": [
        {
          "output_type": "stream",
          "text": [
            "brand: mercedes\n",
            "colour: black\n",
            "horses: 250\n",
            "year: 2021\n"
          ],
          "name": "stdout"
        }
      ]
    },
    {
      "cell_type": "code",
      "metadata": {
        "colab": {
          "base_uri": "https://localhost:8080/"
        },
        "id": "5YcFDfDjleQn",
        "outputId": "8ea4d259-63b2-480d-9a60-986bbc4bb048"
      },
      "source": [
        "print(cars)"
      ],
      "execution_count": 6,
      "outputs": [
        {
          "output_type": "stream",
          "text": [
            "{'brand': 'mercedes', 'colour': 'black', 'horses': 250, 'year': 2021}\n"
          ],
          "name": "stdout"
        }
      ]
    },
    {
      "cell_type": "code",
      "metadata": {
        "colab": {
          "base_uri": "https://localhost:8080/"
        },
        "id": "Rww-dZJ7lSDE",
        "outputId": "127f73ce-cc26-4bc8-c9e6-185b16353db7"
      },
      "source": [
        "print(cars[\"brand\"])"
      ],
      "execution_count": 7,
      "outputs": [
        {
          "output_type": "stream",
          "text": [
            "mercedes\n"
          ],
          "name": "stdout"
        }
      ]
    },
    {
      "cell_type": "code",
      "metadata": {
        "colab": {
          "base_uri": "https://localhost:8080/"
        },
        "id": "ILOJajMEliau",
        "outputId": "a0e97882-7448-4736-8e15-e86ec41a83cf"
      },
      "source": [
        "# print only the keys\n",
        "for keys in cars.keys():\n",
        "  print(keys)"
      ],
      "execution_count": 8,
      "outputs": [
        {
          "output_type": "stream",
          "text": [
            "brand\n",
            "colour\n",
            "horses\n",
            "year\n"
          ],
          "name": "stdout"
        }
      ]
    },
    {
      "cell_type": "code",
      "metadata": {
        "colab": {
          "base_uri": "https://localhost:8080/"
        },
        "id": "u6lEETmYlioA",
        "outputId": "89042d43-4ca9-4301-ce75-6a45575ae921"
      },
      "source": [
        "# print only values\n",
        "for values in cars.values():\n",
        "  print(values)"
      ],
      "execution_count": 9,
      "outputs": [
        {
          "output_type": "stream",
          "text": [
            "mercedes\n",
            "black\n",
            "250\n",
            "2021\n"
          ],
          "name": "stdout"
        }
      ]
    },
    {
      "cell_type": "code",
      "metadata": {
        "colab": {
          "base_uri": "https://localhost:8080/"
        },
        "id": "smzDHXk9kjIW",
        "outputId": "b500fb22-59f4-43aa-c844-f15fca76f05d"
      },
      "source": [
        "def main():\n",
        "  cars= dict(brand=\"mercedes\", colour=\"black\", horses=250, year=2021)\n",
        "  print_dict(cars)\n",
        "\n",
        "def print_dict(o):\n",
        "  for key, value in o.items():\n",
        "    print(\"{}: {}\".format(key, value))\n",
        "\n",
        "if __name__== \"__main__\":\n",
        "  main()"
      ],
      "execution_count": 10,
      "outputs": [
        {
          "output_type": "stream",
          "text": [
            "brand: mercedes\n",
            "colour: black\n",
            "horses: 250\n",
            "year: 2021\n"
          ],
          "name": "stdout"
        }
      ]
    },
    {
      "cell_type": "markdown",
      "metadata": {
        "id": "iFfbWTuurezD"
      },
      "source": [
        "### Create dictionary of lists"
      ]
    },
    {
      "cell_type": "code",
      "metadata": {
        "colab": {
          "base_uri": "https://localhost:8080/"
        },
        "id": "-KVhOvdHrimG",
        "outputId": "f004e10f-5473-4fca-ecfe-616cc20a1996"
      },
      "source": [
        "dict_cars = {}\n",
        "\n",
        "dict_cars[\"germany\"] = [\"mercedes\", \"audi\"]\n",
        "dict_cars[\"italy\"] = [\"fiat\", \"ferrari\"]\n",
        "dict_cars\n"
      ],
      "execution_count": 11,
      "outputs": [
        {
          "output_type": "execute_result",
          "data": {
            "text/plain": [
              "{'germany': ['mercedes', 'audi'], 'italy': ['fiat', 'ferrari']}"
            ]
          },
          "metadata": {
            "tags": []
          },
          "execution_count": 11
        }
      ]
    },
    {
      "cell_type": "markdown",
      "metadata": {
        "id": "A5srX3Uvr764"
      },
      "source": [
        "> add new key:"
      ]
    },
    {
      "cell_type": "code",
      "metadata": {
        "colab": {
          "base_uri": "https://localhost:8080/"
        },
        "id": "GCwBkpPqrin-",
        "outputId": "38f41c7d-95ac-484f-812e-5877cee74b75"
      },
      "source": [
        "# create list which will be the new key of the dictionary\n",
        "france_cars= [\"peugeot\", \"renault\"]\n",
        "\n",
        "# put that list in the dictionary\n",
        "dict_cars[\"france\"] = france_cars\n",
        "dict_cars"
      ],
      "execution_count": 12,
      "outputs": [
        {
          "output_type": "execute_result",
          "data": {
            "text/plain": [
              "{'france': ['peugeot', 'renault'],\n",
              " 'germany': ['mercedes', 'audi'],\n",
              " 'italy': ['fiat', 'ferrari']}"
            ]
          },
          "metadata": {
            "tags": []
          },
          "execution_count": 12
        }
      ]
    },
    {
      "cell_type": "code",
      "metadata": {
        "colab": {
          "base_uri": "https://localhost:8080/"
        },
        "id": "cicZfT-jriqM",
        "outputId": "e53ddf5a-a46f-4a5c-9e3a-327083ec2833"
      },
      "source": [
        "dict_cars[\"germany\"].append(\"bmw\")\n",
        "dict_cars"
      ],
      "execution_count": 13,
      "outputs": [
        {
          "output_type": "execute_result",
          "data": {
            "text/plain": [
              "{'france': ['peugeot', 'renault'],\n",
              " 'germany': ['mercedes', 'audi', 'bmw'],\n",
              " 'italy': ['fiat', 'ferrari']}"
            ]
          },
          "metadata": {
            "tags": []
          },
          "execution_count": 13
        }
      ]
    },
    {
      "cell_type": "markdown",
      "metadata": {
        "id": "X9wTv3fNinZ-"
      },
      "source": [
        "## Stacks and Queues\n",
        "\n",
        "Stacks and queues are data structures that allow data storing and retrieval in a sequential way.\n",
        "\n",
        "`Stacks` => **LIFO** functionality\n",
        "* good for:\n",
        "  * reversing\n",
        "  * keeping track of state (while items are added or removed)\n",
        "\n",
        "\n",
        "`Queues` => **FIFO** functionality\n",
        "* good for:\n",
        "  * indexing the data structure, e.g. getting a specific item in the middle of array\n"
      ]
    },
    {
      "cell_type": "markdown",
      "metadata": {
        "id": "UIAgXwR72jYk"
      },
      "source": [
        "## Strings\n",
        "\n",
        "> Formatting strings"
      ]
    },
    {
      "cell_type": "code",
      "metadata": {
        "colab": {
          "base_uri": "https://localhost:8080/"
        },
        "id": "T_CXEq3b17bd",
        "outputId": "c135ee6b-a656-4577-fa3e-af0b1ffc50ad"
      },
      "source": [
        "x = 30.35 * 50.4 * 5626562\n",
        "\n",
        "print(\"{}\".format(x))"
      ],
      "execution_count": 14,
      "outputs": [
        {
          "output_type": "stream",
          "text": [
            "8606614297.68\n"
          ],
          "name": "stdout"
        }
      ]
    },
    {
      "cell_type": "code",
      "metadata": {
        "colab": {
          "base_uri": "https://localhost:8080/"
        },
        "id": "67vZmJR_192c",
        "outputId": "389b6c89-7e7d-4b0b-bcce-5b6c727b4274"
      },
      "source": [
        "# printing with commas\n",
        "x = 30.35 * 50.4 * 5626562\n",
        "\n",
        "print(\"{:,}\".format(x))"
      ],
      "execution_count": 15,
      "outputs": [
        {
          "output_type": "stream",
          "text": [
            "8,606,614,297.68\n"
          ],
          "name": "stdout"
        }
      ]
    },
    {
      "cell_type": "code",
      "metadata": {
        "colab": {
          "base_uri": "https://localhost:8080/"
        },
        "id": "YlAZgP4W2Hau",
        "outputId": "b5f8b9c8-74e3-490d-8df2-4e288e2f7596"
      },
      "source": [
        "# printing with commas and dot for expressing decimal point in the end\n",
        "x = 30.35 * 50.4 * 5626562\n",
        "\n",
        "print(\"{:,.3f}\".format(x))"
      ],
      "execution_count": 16,
      "outputs": [
        {
          "output_type": "stream",
          "text": [
            "8,606,614,297.680\n"
          ],
          "name": "stdout"
        }
      ]
    },
    {
      "cell_type": "markdown",
      "metadata": {
        "id": "aa5gVAbI3QP1"
      },
      "source": [
        "> Splitting & Joining"
      ]
    },
    {
      "cell_type": "code",
      "metadata": {
        "colab": {
          "base_uri": "https://localhost:8080/"
        },
        "id": "rGGu9n_m3TJA",
        "outputId": "59ea6b08-0edf-4d60-9d39-d9c206963c35"
      },
      "source": [
        "# spitting:\n",
        "my_string = \"This is a long string\"\n",
        "print(\"Splitting: {}\\n\".format(my_string.split()))\n",
        "\n",
        "# splitting without some character included:\n",
        "print(\"Splitting without 's': {}\\n\".format(my_string.split(\"s\")))\n",
        "\n",
        "\n",
        "# string split and join something\n",
        "string_split = my_string.split()\n",
        "string_join = \" | \".join(string_split)\n",
        "print(\"Splitting and joining something: {}\".format(string_join))"
      ],
      "execution_count": 17,
      "outputs": [
        {
          "output_type": "stream",
          "text": [
            "Splitting: ['This', 'is', 'a', 'long', 'string']\n",
            "\n",
            "Splitting without 's': ['Thi', ' i', ' a long ', 'tring']\n",
            "\n",
            "Splitting and joining something: This | is | a | long | string\n"
          ],
          "name": "stdout"
        }
      ]
    },
    {
      "cell_type": "code",
      "metadata": {
        "colab": {
          "resources": {
            "http://localhost:8080/nbextensions/google.colab/files.js": {
              "data": "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",
              "ok": true,
              "headers": [
                [
                  "content-type",
                  "application/javascript"
                ]
              ],
              "status": 200,
              "status_text": ""
            }
          },
          "base_uri": "https://localhost:8080/",
          "height": 39
        },
        "id": "EZ1Q4JkfDvAu",
        "outputId": "acb17c1d-d86e-4b68-90a0-3c1605f40a2d"
      },
      "source": [
        "from google.colab import files\n",
        "import io\n",
        "\n",
        "uploaded = files.upload()"
      ],
      "execution_count": null,
      "outputs": [
        {
          "output_type": "display_data",
          "data": {
            "text/html": [
              "\n",
              "     <input type=\"file\" id=\"files-2e5596ef-e9e7-498c-a1a1-96cece39ce1b\" name=\"files[]\" multiple disabled\n",
              "        style=\"border:none\" />\n",
              "     <output id=\"result-2e5596ef-e9e7-498c-a1a1-96cece39ce1b\">\n",
              "      Upload widget is only available when the cell has been executed in the\n",
              "      current browser session. Please rerun this cell to enable.\n",
              "      </output>\n",
              "      <script src=\"/nbextensions/google.colab/files.js\"></script> "
            ],
            "text/plain": [
              "<IPython.core.display.HTML object>"
            ]
          },
          "metadata": {
            "tags": []
          }
        }
      ]
    },
    {
      "cell_type": "code",
      "metadata": {
        "id": "3NlMbclFGIHy"
      },
      "source": [
        "lines = \"/content/lines.txt\"\n",
        "# r = read mode\n",
        "with open(lines, \"r\") as my_txt_file:\n",
        "    file_content = my_txt_file.read()\n",
        "    print(file_content)"
      ],
      "execution_count": null,
      "outputs": []
    },
    {
      "cell_type": "code",
      "metadata": {
        "id": "80ayVnUi3c6Q"
      },
      "source": [
        "def main():\n",
        "  # r ==>read mode t==> text mode\n",
        "  # w ==> write mode\n",
        "  input_file = open(\"/content/lines.txt\", 'rt')\n",
        "  output_file = open('lines-copy.txt', 'wt')\n",
        "  for line in input_file:\n",
        "      print(line.rstrip(), file=output_file)\n",
        "      print('.', end='', flush=True)\n",
        "  output_file.close()\n",
        "  print('\\ndone.')\n",
        "\n",
        "if __name__ == '__main__': main()"
      ],
      "execution_count": null,
      "outputs": []
    }
  ]
}