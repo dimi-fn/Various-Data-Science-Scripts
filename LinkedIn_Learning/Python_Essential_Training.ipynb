{
  "nbformat": 4,
  "nbformat_minor": 0,
  "metadata": {
    "colab": {
      "name": "Python_Essential_Training.ipynb",
      "provenance": [],
      "collapsed_sections": [],
      "authorship_tag": "ABX9TyNbS68RgcNv0yHDS7loxBfJ",
      "include_colab_link": true
    },
    "kernelspec": {
      "name": "python3",
      "display_name": "Python 3"
    }
  },
  "cells": [
    {
      "cell_type": "markdown",
      "metadata": {
        "id": "view-in-github",
        "colab_type": "text"
      },
      "source": [
        "<a href=\"https://colab.research.google.com/github/dimi-fn/Various-Data-Science-Scripts/blob/main/Python_Essential_Training.ipynb\" target=\"_parent\"><img src=\"https://colab.research.google.com/assets/colab-badge.svg\" alt=\"Open In Colab\"/></a>"
      ]
    },
    {
      "cell_type": "markdown",
      "metadata": {
        "id": "T_GBJxgwTtQY"
      },
      "source": [
        "# Language Overview"
      ]
    },
    {
      "cell_type": "code",
      "metadata": {
        "colab": {
          "base_uri": "https://localhost:8080/"
        },
        "id": "tYB47-HhTuSd",
        "outputId": "4a3c433e-e204-479c-f8e0-f1c592f3f1d9"
      },
      "source": [
        "import platform\r\n",
        "\r\n",
        "print (\"This is python version: {}\".format(platform.python_version()))"
      ],
      "execution_count": 1,
      "outputs": [
        {
          "output_type": "stream",
          "text": [
            "This is python version: 3.6.9\n"
          ],
          "name": "stdout"
        }
      ]
    },
    {
      "cell_type": "code",
      "metadata": {
        "id": "nJRx1R1rXiOs"
      },
      "source": [
        "def main():\r\n",
        "  message()\r\n",
        "\r\n",
        "def message():\r\n",
        "  print (\"This is python version: {}\".format(platform.python_version()))\r\n",
        "\r\n",
        "if __name__ == \"main\": \r\n",
        "  main()"
      ],
      "execution_count": 3,
      "outputs": []
    },
    {
      "cell_type": "code",
      "metadata": {
        "id": "xCMTbQ48YTBa"
      },
      "source": [
        ""
      ],
      "execution_count": null,
      "outputs": []
    }
  ]
}