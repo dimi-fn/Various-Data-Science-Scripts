{
  "nbformat": 4,
  "nbformat_minor": 0,
  "metadata": {
    "colab": {
      "name": "Python_Essential_Training.ipynb",
      "provenance": [],
      "collapsed_sections": [],
      "authorship_tag": "ABX9TyOwBxOyzG6ql84s99EeMISA",
      "include_colab_link": true
    },
    "kernelspec": {
      "name": "python3",
      "display_name": "Python 3"
    }
  },
  "cells": [
    {
      "cell_type": "markdown",
      "metadata": {
        "id": "view-in-github",
        "colab_type": "text"
      },
      "source": [
        "<a href=\"https://colab.research.google.com/github/dimi-fn/Various-Data-Science-Scripts/blob/main/Python_Essential_Training.ipynb\" target=\"_parent\"><img src=\"https://colab.research.google.com/assets/colab-badge.svg\" alt=\"Open In Colab\"/></a>"
      ]
    },
    {
      "cell_type": "markdown",
      "metadata": {
        "id": "T_GBJxgwTtQY"
      },
      "source": [
        "# Language Overview"
      ]
    },
    {
      "cell_type": "code",
      "metadata": {
        "colab": {
          "base_uri": "https://localhost:8080/"
        },
        "id": "tYB47-HhTuSd",
        "outputId": "0a20f698-b71e-473b-bb02-2ecbb477fcfc"
      },
      "source": [
        "import platform\r\n",
        "\r\n",
        "print (\"This is python version: {}\".format(platform.python_version()))"
      ],
      "execution_count": 1,
      "outputs": [
        {
          "output_type": "stream",
          "text": [
            "This is python version: 3.6.9\n"
          ],
          "name": "stdout"
        }
      ]
    },
    {
      "cell_type": "code",
      "metadata": {
        "colab": {
          "base_uri": "https://localhost:8080/"
        },
        "id": "nJRx1R1rXiOs",
        "outputId": "3d2ba887-f427-4cab-9e45-a30dc2261495"
      },
      "source": [
        "def main():\r\n",
        "  message()\r\n",
        "\r\n",
        "def message():\r\n",
        "  print (\"This is python version: {}\".format(platform.python_version()))\r\n",
        "\r\n",
        "if __name__ == \"main\": \r\n",
        "  main()\r\n",
        "\r\n",
        "\r\n",
        "message()"
      ],
      "execution_count": 2,
      "outputs": [
        {
          "output_type": "stream",
          "text": [
            "This is python version: 3.6.9\n"
          ],
          "name": "stdout"
        }
      ]
    },
    {
      "cell_type": "markdown",
      "metadata": {
        "id": "yi9wyBlweeBO"
      },
      "source": [
        "> Fibonnaci series:"
      ]
    },
    {
      "cell_type": "code",
      "metadata": {
        "colab": {
          "base_uri": "https://localhost:8080/"
        },
        "id": "IGlGRcF0eaGQ",
        "outputId": "fd56911b-330d-43c6-b115-2284324a9812"
      },
      "source": [
        "a=0\r\n",
        "b=1\r\n",
        "\r\n",
        "while b < 1000:\r\n",
        "  print(b, end= \" \", flush=True)\r\n",
        "  a, b = b, a+b"
      ],
      "execution_count": 3,
      "outputs": [
        {
          "output_type": "stream",
          "text": [
            "1 1 2 3 5 8 13 21 34 55 89 144 233 377 610 987 "
          ],
          "name": "stdout"
        }
      ]
    },
    {
      "cell_type": "markdown",
      "metadata": {
        "id": "f2Rq5yXgh2xY"
      },
      "source": [
        "## Objects\r\n",
        "\r\n",
        "In python, \r\n",
        "\r\n",
        "* a **class** is a `definition`, and an **object** is an `instance of a class`\r\n",
        "\r\n",
        "  * \"`self`\" is used to reference the object\r\n",
        "  * **variables** inside of a class are called `properties` of that class. In python, they are more exclusively called `class variables`\r\n",
        "\r\n",
        "* sometimes **functions** are called `methods`"
      ]
    },
    {
      "cell_type": "code",
      "metadata": {
        "id": "Zd6WsGhbh3wJ"
      },
      "source": [
        "class Car:\r\n",
        "  brand = \"mercedes\"\r\n",
        "  colour = \"red\"\r\n",
        "  horses = \"300\"\r\n",
        "\r\n",
        "  def brand(self):\r\n",
        "    print(self.brand)\r\n",
        "\r\n",
        "  def colour(self):\r\n",
        "    print(self.colour)\r\n",
        "\r\n",
        "  def horses(self):\r\n",
        "    print(self.horses)\r\n",
        "\r\n",
        "def main():\r\n",
        "  car = Car()\r\n",
        "  car.brand()\r\n",
        "  car.colour()\r\n",
        "  car.horses()\r\n"
      ],
      "execution_count": 4,
      "outputs": []
    },
    {
      "cell_type": "code",
      "metadata": {
        "id": "LU0QK3SaiXfd"
      },
      "source": [
        "class Car:\r\n",
        "  # docsting:\r\n",
        "  '''\r\n",
        "  Creating a class called \"Car\"\r\n",
        "  Properties: brand, colour, horses\r\n",
        "  Method: A function printing the properties of a car\r\n",
        "  Result: Printing the function\r\n",
        "  '''\r\n",
        "\r\n",
        "  def __init__(self, brand, colour, horses):\r\n",
        "\r\n",
        "    self.brand = brand\r\n",
        "    self.colour= colour\r\n",
        "    self.horses = horses\r\n",
        "\r\n",
        "  def output_function(self):\r\n",
        "    print(\"This car is a {} {} with {} horses\".format(self.colour, self.brand, self.horses))"
      ],
      "execution_count": 5,
      "outputs": []
    },
    {
      "cell_type": "code",
      "metadata": {
        "colab": {
          "base_uri": "https://localhost:8080/"
        },
        "id": "i70WEjHCnHZM",
        "outputId": "71969cd1-4d1b-4748-99d4-85d17fd4cda1"
      },
      "source": [
        "print(\"The doc string of the above class is:\\n\")\r\n",
        "print(Car.__doc__)"
      ],
      "execution_count": 6,
      "outputs": [
        {
          "output_type": "stream",
          "text": [
            "The doc string of the above class is:\n",
            "\n",
            "\n",
            "  Creating a class called \"Car\"\n",
            "  Properties: brand, colour, horses\n",
            "  Method: A function printing the properties of a car\n",
            "  Result: Printing the function\n",
            "  \n"
          ],
          "name": "stdout"
        }
      ]
    },
    {
      "cell_type": "code",
      "metadata": {
        "colab": {
          "base_uri": "https://localhost:8080/"
        },
        "id": "5vKL5v0aniEJ",
        "outputId": "f2c3a5e5-f3b6-4de5-e18b-f0ee21bfe67b"
      },
      "source": [
        "new_car = Car(brand=\"mercedes\", horses=\"350\", colour=\"black\")\r\n",
        "new_car.output_function()"
      ],
      "execution_count": 7,
      "outputs": [
        {
          "output_type": "stream",
          "text": [
            "This car is a black mercedes with 350 horses\n"
          ],
          "name": "stdout"
        }
      ]
    },
    {
      "cell_type": "code",
      "metadata": {
        "id": "kNb3Gxagn2HZ"
      },
      "source": [
        ""
      ],
      "execution_count": 7,
      "outputs": []
    }
  ]
}