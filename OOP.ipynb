{
  "nbformat": 4,
  "nbformat_minor": 0,
  "metadata": {
    "colab": {
      "name": "OOP.ipynb",
      "provenance": [],
      "collapsed_sections": [],
      "authorship_tag": "ABX9TyN1vYkeVfM5Xxp3JXfTPpuj",
      "include_colab_link": true
    },
    "kernelspec": {
      "name": "python3",
      "display_name": "Python 3"
    }
  },
  "cells": [
    {
      "cell_type": "markdown",
      "metadata": {
        "id": "view-in-github",
        "colab_type": "text"
      },
      "source": [
        "<a href=\"https://colab.research.google.com/github/dimi-fn/Various-Data-Science-Scripts/blob/main/OOP.ipynb\" target=\"_parent\"><img src=\"https://colab.research.google.com/assets/colab-badge.svg\" alt=\"Open In Colab\"/></a>"
      ]
    },
    {
      "cell_type": "markdown",
      "metadata": {
        "id": "lpHAlyt1GA6S"
      },
      "source": [
        "# OOP"
      ]
    },
    {
      "cell_type": "markdown",
      "metadata": {
        "id": "yz8vFFw0iVTb"
      },
      "source": [
        "## Objects & Classes\r\n",
        "\r\n",
        "- Classes in python create objects\r\n",
        "    * Objects can have properties and can contain methods (functions that belong to an object)\r\n",
        "\r\n",
        "- All classes have a function called \"__init__()\"\r\n",
        "  * a **class** is a `definition`, and an **object** is an `instance of a class`\r\n",
        "  * **variables** inside of a class are called `properties` of that class. In python, they are more exclusively called `class variables`\r\n",
        "  * sometimes **functions** are called `methods`\r\n",
        "\r\n",
        "\r\n",
        " - About \"__init__()\":  \r\n",
        "    * It is executed when the class is being initiated\r\n",
        "    * It can be used to assign values to object properties or operations\r\n",
        "    * The \"self\" parameter is a reference to the instance of the class, and is used to access variables that belong to that class, i.e. the \"`self`\" is used to reference the object"
      ]
    },
    {
      "cell_type": "markdown",
      "metadata": {
        "id": "GDzmFczvGauG"
      },
      "source": [
        "### Example 1"
      ]
    },
    {
      "cell_type": "code",
      "metadata": {
        "colab": {
          "base_uri": "https://localhost:8080/"
        },
        "id": "8PEo4pTEGBMj",
        "outputId": "96b7b056-1932-497e-cb71-a5efcb2895ca"
      },
      "source": [
        "class Identity:\r\n",
        "    # docstring:\r\n",
        "    '''\r\n",
        "    Creating a class named \"Identity\"\r\n",
        "    Properties: first name, last name, age\r\n",
        "    Method: A function printing the output based on attributes given\r\n",
        "    Result: It prints the output of the above\r\n",
        "    '''\r\n",
        "\r\n",
        "    # assigning values to the object properties of the class \"Identity\"\r\n",
        "    def __init__(self, first_name, last_name, age):\r\n",
        "\r\n",
        "        self.first_name = first_name\r\n",
        "        self.last_name= last_name\r\n",
        "        self.age = age\r\n",
        "\r\n",
        "    # Creating a method (function) belonging to the objects of the \"Identity\" class:\r\n",
        "    def output_function(self):\r\n",
        "        print(\"First Name: {} \\nLast Name: {} \\nAge: {}\".format(self.first_name, self.last_name, self.age))\r\n",
        "\r\n",
        "\r\n",
        "# print the docstring:\r\n",
        "print(Identity.__doc__)"
      ],
      "execution_count": 1,
      "outputs": [
        {
          "output_type": "stream",
          "text": [
            "\n",
            "    Creating a class named \"Identity\"\n",
            "    Properties: first name, last name, age\n",
            "    Method: A function printing the output based on attributes given\n",
            "    Result: It prints the output of the above\n",
            "    \n"
          ],
          "name": "stdout"
        }
      ]
    },
    {
      "cell_type": "code",
      "metadata": {
        "colab": {
          "base_uri": "https://localhost:8080/"
        },
        "id": "eghalhd51ewp",
        "outputId": "598a4413-3586-459c-db0b-3364e14cee32"
      },
      "source": [
        "x = Identity(\"James\", \"Lupro\", 41)\r\n",
        "x.output_function()"
      ],
      "execution_count": 2,
      "outputs": [
        {
          "output_type": "stream",
          "text": [
            "First Name: James \n",
            "Last Name: Lupro \n",
            "Age: 41\n"
          ],
          "name": "stdout"
        }
      ]
    },
    {
      "cell_type": "code",
      "metadata": {
        "colab": {
          "base_uri": "https://localhost:8080/"
        },
        "id": "2k59rcvx1ius",
        "outputId": "d1d4912c-9576-4a82-de24-b38dccfc54b9"
      },
      "source": [
        "# the above is equal to that in one line:\r\n",
        "Identity(\"James\", \"Lupro\", 41).output_function()"
      ],
      "execution_count": 3,
      "outputs": [
        {
          "output_type": "stream",
          "text": [
            "First Name: James \n",
            "Last Name: Lupro \n",
            "Age: 41\n"
          ],
          "name": "stdout"
        }
      ]
    },
    {
      "cell_type": "markdown",
      "metadata": {
        "id": "oJq_t4FVGdl_"
      },
      "source": [
        "### Example 2"
      ]
    },
    {
      "cell_type": "code",
      "metadata": {
        "colab": {
          "base_uri": "https://localhost:8080/"
        },
        "id": "97izLjTkGe5X",
        "outputId": "e4a58262-3047-4d48-db29-64e529ae9c07"
      },
      "source": [
        "class Car:\r\n",
        "\r\n",
        "  def brand(self):\r\n",
        "    print(\"mercedes\")\r\n",
        "\r\n",
        "  def colour(self):\r\n",
        "    print(\"black\")\r\n",
        "\r\n",
        "  def horses(self):\r\n",
        "    print(\"350\")\r\n",
        "\r\n",
        "def main():\r\n",
        "  car= Car()\r\n",
        "  car.brand()\r\n",
        "  car.colour()\r\n",
        "  car.horses()\r\n",
        "\r\n",
        "\r\n",
        "\r\n",
        "if __name__ == \"__main__\":\r\n",
        "  main()"
      ],
      "execution_count": 4,
      "outputs": [
        {
          "output_type": "stream",
          "text": [
            "mercedes\n",
            "black\n",
            "350\n"
          ],
          "name": "stdout"
        }
      ]
    },
    {
      "cell_type": "code",
      "metadata": {
        "id": "1PuyarnqGh7a"
      },
      "source": [
        "class Car:\r\n",
        "  # docsting:\r\n",
        "  '''\r\n",
        "  Creating a class called \"Car\"\r\n",
        "  Properties: brand, colour, horses\r\n",
        "  Method: A function printing the properties of a car\r\n",
        "  Result: Printing the function\r\n",
        "  '''\r\n",
        "\r\n",
        "  def __init__(self, brand, colour, horses):\r\n",
        "\r\n",
        "    self.brand = brand\r\n",
        "    self.colour= colour\r\n",
        "    self.horses = horses\r\n",
        "\r\n",
        "  def output_function(self):\r\n",
        "    print(\"This car is a {} {} with {} horses\".format(self.colour, self.brand, self.horses))"
      ],
      "execution_count": 5,
      "outputs": []
    },
    {
      "cell_type": "code",
      "metadata": {
        "colab": {
          "base_uri": "https://localhost:8080/"
        },
        "id": "mucclb9lGjZ2",
        "outputId": "fa92ae5c-7e9c-44d5-b247-f250f890268e"
      },
      "source": [
        "print(\"The doc string of the above class is:\\n\")\r\n",
        "print(Car.__doc__)"
      ],
      "execution_count": 6,
      "outputs": [
        {
          "output_type": "stream",
          "text": [
            "The doc string of the above class is:\n",
            "\n",
            "\n",
            "  Creating a class called \"Car\"\n",
            "  Properties: brand, colour, horses\n",
            "  Method: A function printing the properties of a car\n",
            "  Result: Printing the function\n",
            "  \n"
          ],
          "name": "stdout"
        }
      ]
    },
    {
      "cell_type": "code",
      "metadata": {
        "colab": {
          "base_uri": "https://localhost:8080/"
        },
        "id": "-ERX-8nAGku8",
        "outputId": "65954b23-2d1f-4e65-a56c-b167c8b5d514"
      },
      "source": [
        "new_car1 = Car(brand=\"mercedes\", horses=\"350\", colour=\"black\")\r\n",
        "new_car1.output_function()"
      ],
      "execution_count": 7,
      "outputs": [
        {
          "output_type": "stream",
          "text": [
            "This car is a black mercedes with 350 horses\n"
          ],
          "name": "stdout"
        }
      ]
    },
    {
      "cell_type": "code",
      "metadata": {
        "colab": {
          "base_uri": "https://localhost:8080/"
        },
        "id": "RAjdOAASGltE",
        "outputId": "50ded9c0-2f52-4336-97d8-0f3e471fcefb"
      },
      "source": [
        "new_car2 = Car(brand=\"bmw\", horses=\"300\", colour=\"blue\")\r\n",
        "new_car2.output_function()"
      ],
      "execution_count": 8,
      "outputs": [
        {
          "output_type": "stream",
          "text": [
            "This car is a blue bmw with 300 horses\n"
          ],
          "name": "stdout"
        }
      ]
    }
  ]
}