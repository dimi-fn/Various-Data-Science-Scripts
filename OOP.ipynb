{
  "nbformat": 4,
  "nbformat_minor": 0,
  "metadata": {
    "colab": {
      "name": "OOP.ipynb",
      "provenance": [],
      "collapsed_sections": [],
      "toc_visible": true,
      "authorship_tag": "ABX9TyMkCGMNLyjuwM3Z/3KMgG9g",
      "include_colab_link": true
    },
    "kernelspec": {
      "name": "python3",
      "display_name": "Python 3"
    }
  },
  "cells": [
    {
      "cell_type": "markdown",
      "metadata": {
        "id": "view-in-github",
        "colab_type": "text"
      },
      "source": [
        "<a href=\"https://colab.research.google.com/github/dimi-fn/Various-Data-Science-Scripts/blob/main/OOP.ipynb\" target=\"_parent\"><img src=\"https://colab.research.google.com/assets/colab-badge.svg\" alt=\"Open In Colab\"/></a>"
      ]
    },
    {
      "cell_type": "markdown",
      "metadata": {
        "id": "yz8vFFw0iVTb"
      },
      "source": [
        "# Classes & Objects\r\n",
        "\r\n",
        "Everything in python is an object, and a class is how an object is defined\r\n",
        "\r\n",
        "- Classes in python create objects\r\n",
        "\r\n",
        "    * Objects are instances of classes, and they get created by calling the respective class\r\n",
        "    * Objects can have attributes/properties and can contain methods\r\n",
        "      * attributes are variables\r\n",
        "      * methods are functions that belong to an object\r\n"
      ]
    },
    {
      "cell_type": "markdown",
      "metadata": {
        "id": "aoqK6V1R8_r0"
      },
      "source": [
        "\r\n",
        "- All classes have a function called \"__init__()\"\r\n",
        "  * a **class** is a `definition`, and an **object** is an `instance of a class`\r\n",
        "  * **variables** inside of a class are called `properties` of that class. In python, they are more exclusively called `class variables`\r\n",
        "  * sometimes **functions** are called `methods` ==> else called **function definitions**\r\n",
        "\r\n"
      ]
    },
    {
      "cell_type": "markdown",
      "metadata": {
        "id": "BWW9FuKrh56P"
      },
      "source": [
        "## if __name__ == \"__main__\": main()\r\n",
        "\r\n",
        "It allows you to test your script when running it as a stand-alone program"
      ]
    },
    {
      "cell_type": "code",
      "metadata": {
        "colab": {
          "base_uri": "https://localhost:8080/"
        },
        "id": "hL9feN_Xh6Mj",
        "outputId": "a1ab644e-89dc-4a7c-df07-14638c74e177"
      },
      "source": [
        "def main():\r\n",
        "    print('Hi world!')\r\n",
        "\r\n",
        "if __name__ == '__main__': \r\n",
        "  main()"
      ],
      "execution_count": 1,
      "outputs": [
        {
          "output_type": "stream",
          "text": [
            "Hi world!\n"
          ],
          "name": "stdout"
        }
      ]
    },
    {
      "cell_type": "markdown",
      "metadata": {
        "id": "zZnwPIP_9BSm"
      },
      "source": [
        "## def __init__(self, )\r\n",
        "\r\n",
        "\r\n",
        "It is a built-in function of classes\r\n",
        "* it is called/executed when:\r\n",
        "  * an object is created\r\n",
        "  * to initialize attributes and to assign values to them\r\n",
        "\r\n",
        "> `self`: It is a **reference to the object/instance, NOT the class**\r\n",
        "\r\n",
        ">>  it is called 'self' by convention and it is the 1st parameter in every instance"
      ]
    },
    {
      "cell_type": "markdown",
      "metadata": {
        "id": "GDzmFczvGauG"
      },
      "source": [
        "## Example 1"
      ]
    },
    {
      "cell_type": "code",
      "metadata": {
        "colab": {
          "base_uri": "https://localhost:8080/"
        },
        "id": "8PEo4pTEGBMj",
        "outputId": "2a79c7b2-d84e-464d-f757-ac8145fa0885"
      },
      "source": [
        "class Identity:\r\n",
        "    # docstring:\r\n",
        "    '''\r\n",
        "    Creating a class named \"Identity\"\r\n",
        "    Properties: first name, last name, age\r\n",
        "    Method: A function printing the output based on attributes given\r\n",
        "    Result: It prints the output of the above\r\n",
        "    '''\r\n",
        "\r\n",
        "    # assigning values to the object properties of the class \"Identity\"\r\n",
        "    ## variables next to \"self\" are **kwargs\r\n",
        "    def __init__(self, first_name, last_name, age):\r\n",
        "\r\n",
        "        # defining the object variables\r\n",
        "        self.first_name = first_name\r\n",
        "        self.last_name= last_name\r\n",
        "        self.age = age\r\n",
        "\r\n",
        "    # Creating a function definition (method) which belongs to the objects of the \"Identity\" class:\r\n",
        "    def output_function(self):\r\n",
        "        print(\"First Name: {} \\nLast Name: {} \\nAge: {}\".format(self.first_name, self.last_name, self.age))\r\n",
        "\r\n",
        "\r\n",
        "# print the docstring:\r\n",
        "print(Identity.__doc__)"
      ],
      "execution_count": 2,
      "outputs": [
        {
          "output_type": "stream",
          "text": [
            "\n",
            "    Creating a class named \"Identity\"\n",
            "    Properties: first name, last name, age\n",
            "    Method: A function printing the output based on attributes given\n",
            "    Result: It prints the output of the above\n",
            "    \n"
          ],
          "name": "stdout"
        }
      ]
    },
    {
      "cell_type": "code",
      "metadata": {
        "colab": {
          "base_uri": "https://localhost:8080/"
        },
        "id": "eghalhd51ewp",
        "outputId": "703c688c-10e9-4d8e-df7d-707d7b9f6ff9"
      },
      "source": [
        "x = Identity(\"James\", \"Lupro\", 41)\r\n",
        "x.output_function()"
      ],
      "execution_count": 3,
      "outputs": [
        {
          "output_type": "stream",
          "text": [
            "First Name: James \n",
            "Last Name: Lupro \n",
            "Age: 41\n"
          ],
          "name": "stdout"
        }
      ]
    },
    {
      "cell_type": "code",
      "metadata": {
        "colab": {
          "base_uri": "https://localhost:8080/"
        },
        "id": "2k59rcvx1ius",
        "outputId": "81ee859b-b990-4e79-f3e2-a83865c9fe98"
      },
      "source": [
        "# the above is equal to the following in one line:\r\n",
        "Identity(\"James\", \"Lupro\", 41).output_function()"
      ],
      "execution_count": 4,
      "outputs": [
        {
          "output_type": "stream",
          "text": [
            "First Name: James \n",
            "Last Name: Lupro \n",
            "Age: 41\n"
          ],
          "name": "stdout"
        }
      ]
    },
    {
      "cell_type": "markdown",
      "metadata": {
        "id": "oJq_t4FVGdl_"
      },
      "source": [
        "## Example 2"
      ]
    },
    {
      "cell_type": "markdown",
      "metadata": {
        "id": "dnoUQqpHE_u_"
      },
      "source": [
        "### 2.1"
      ]
    },
    {
      "cell_type": "code",
      "metadata": {
        "colab": {
          "base_uri": "https://localhost:8080/"
        },
        "id": "97izLjTkGe5X",
        "outputId": "645e4bb9-e6a1-4cf9-a8ad-4089bb81bc7f"
      },
      "source": [
        "class Car:\r\n",
        "\r\n",
        "  def brand(self):\r\n",
        "    print(\"mercedes\")\r\n",
        "\r\n",
        "  def colour(self):\r\n",
        "    print(\"black\")\r\n",
        "\r\n",
        "  def horses(self):\r\n",
        "    print(\"350\")\r\n",
        "\r\n",
        "def main():\r\n",
        "  car= Car()\r\n",
        "  car.brand()\r\n",
        "  car.colour()\r\n",
        "  car.horses()\r\n",
        "\r\n",
        "\r\n",
        "\r\n",
        "if __name__ == \"__main__\":\r\n",
        "  main()"
      ],
      "execution_count": 5,
      "outputs": [
        {
          "output_type": "stream",
          "text": [
            "mercedes\n",
            "black\n",
            "350\n"
          ],
          "name": "stdout"
        }
      ]
    },
    {
      "cell_type": "markdown",
      "metadata": {
        "id": "WgvgbGweFC4r"
      },
      "source": [
        "### 2.2"
      ]
    },
    {
      "cell_type": "markdown",
      "metadata": {
        "id": "pY4lX-MnAxQ_"
      },
      "source": [
        "Below:\r\n",
        "\r\n",
        "> The class \"Car\" has 4 attributes, i.e. brand, colour, horses, and country_production\r\n",
        "\r\n",
        ">> country_production is initialized as \"germany\", i.e. if no value is given then the country production of every car will be \"germany\" by default."
      ]
    },
    {
      "cell_type": "code",
      "metadata": {
        "id": "1PuyarnqGh7a"
      },
      "source": [
        "class Car:\r\n",
        "  # docsting:\r\n",
        "  '''\r\n",
        "  Creating a class called \"Car\"\r\n",
        "  Properties/attributes: brand, colour, horses, country production\r\n",
        "  Method: A function printing the properties of the car\r\n",
        "  Result: Printing the function in the function definition\r\n",
        "  '''\r\n",
        "\r\n",
        "  def __init__(self, brand, colour, horses, country_production = \"Germany\"):\r\n",
        "\r\n",
        "    self.brand = brand\r\n",
        "    self.colour= colour\r\n",
        "    self.horses = horses\r\n",
        "    self.country_production = country_production\r\n",
        "\r\n",
        "  def output_function(self):\r\n",
        "    return (\"This car is a {} {} with {} horses, and the country production is {}\".format(self.colour, self.brand, self.horses, self.country_production))"
      ],
      "execution_count": 6,
      "outputs": []
    },
    {
      "cell_type": "code",
      "metadata": {
        "colab": {
          "base_uri": "https://localhost:8080/"
        },
        "id": "mucclb9lGjZ2",
        "outputId": "eb3f529d-ed59-49ab-c2d4-3f457a322f76"
      },
      "source": [
        "print(\"The doc string of the above class is:\\n\")\r\n",
        "print(Car.__doc__)"
      ],
      "execution_count": 7,
      "outputs": [
        {
          "output_type": "stream",
          "text": [
            "The doc string of the above class is:\n",
            "\n",
            "\n",
            "  Creating a class called \"Car\"\n",
            "  Properties/attributes: brand, colour, horses, country production\n",
            "  Method: A function printing the properties of the car\n",
            "  Result: Printing the function in the function definition\n",
            "  \n"
          ],
          "name": "stdout"
        }
      ]
    },
    {
      "cell_type": "code",
      "metadata": {
        "colab": {
          "base_uri": "https://localhost:8080/",
          "height": 35
        },
        "id": "-ERX-8nAGku8",
        "outputId": "56952e27-b856-472b-eb1d-2173744be6b8"
      },
      "source": [
        "new_car1 = Car(brand=\"Mercedes\", horses=\"350\", colour=\"black\")\r\n",
        "new_car1.output_function()"
      ],
      "execution_count": 8,
      "outputs": [
        {
          "output_type": "execute_result",
          "data": {
            "application/vnd.google.colaboratory.intrinsic+json": {
              "type": "string"
            },
            "text/plain": [
              "'This car is a black Mercedes with 350 horses, and the country production is Germany'"
            ]
          },
          "metadata": {
            "tags": []
          },
          "execution_count": 8
        }
      ]
    },
    {
      "cell_type": "markdown",
      "metadata": {
        "id": "Yhl9Ryy-EiPZ"
      },
      "source": [
        "> Altering the country production variable which was initialized with a default value earlier:"
      ]
    },
    {
      "cell_type": "code",
      "metadata": {
        "colab": {
          "base_uri": "https://localhost:8080/",
          "height": 35
        },
        "id": "RAjdOAASGltE",
        "outputId": "2be4af39-8b75-469b-e942-3aa2386b4883"
      },
      "source": [
        "new_car2 = Car(brand=\"Volvo\", horses=\"300\", colour=\"blue\", country_production=\"Sweeden\")\r\n",
        "new_car2.output_function()"
      ],
      "execution_count": 9,
      "outputs": [
        {
          "output_type": "execute_result",
          "data": {
            "application/vnd.google.colaboratory.intrinsic+json": {
              "type": "string"
            },
            "text/plain": [
              "'This car is a blue Volvo with 300 horses, and the country production is Sweeden'"
            ]
          },
          "metadata": {
            "tags": []
          },
          "execution_count": 9
        }
      ]
    },
    {
      "cell_type": "markdown",
      "metadata": {
        "id": "kl4Scb7mJxax"
      },
      "source": [
        "### 2.3"
      ]
    },
    {
      "cell_type": "code",
      "metadata": {
        "id": "_0daWgwl-iTD"
      },
      "source": [
        "class Car:\r\n",
        "  '''\r\n",
        "  * Creating a class called \"Car\"\r\n",
        "\r\n",
        "  * Properties/attributes: brand, colour, horses, country production, current speed \r\n",
        "    * \"current_speed\" is set to 0, unless other value is assigned\r\n",
        "\r\n",
        "  * Function definitions/Methods: \r\n",
        "    * def move_car() moves the car by 10\r\n",
        "    * def accelerate_car() accelerates the car by the given value and adds that speed to \"current_speed\"\r\n",
        "    * def stop_car() sets \"current_speed\" to 0\r\n",
        "    * def car_details() returns the properties of the \"Car\" class\r\n",
        "  '''\r\n",
        "\r\n",
        "  def __init__(self, brand, colour, horses, country_production, current_speed = 0):\r\n",
        "    self.brand = brand\r\n",
        "    self.colour= colour\r\n",
        "    self.horses = horses\r\n",
        "    self.country_production = country_production\r\n",
        "    self.current_speed = current_speed\r\n",
        "    \r\n",
        "\r\n",
        "  def move_car(self):\r\n",
        "    self.current_speed += 10\r\n",
        "\r\n",
        "  def accelerate_car(self, value):\r\n",
        "    self.current_speed += value\r\n",
        "\r\n",
        "  def stop_car(self):\r\n",
        "    self.current_speed = 0\r\n",
        "\r\n",
        "  def car_details(self):\r\n",
        "    print (\"Brand: {}\\nColour: {}\\nHorses: {}\\nCountry production: {}\\nCurrent speed: {}\\n\".format(\r\n",
        "        self.brand, self.colour, self.horses, self.country_production, self.current_speed))"
      ],
      "execution_count": 10,
      "outputs": []
    },
    {
      "cell_type": "code",
      "metadata": {
        "colab": {
          "base_uri": "https://localhost:8080/"
        },
        "id": "B5YZ8Z7w-jHo",
        "outputId": "bd121631-a891-4ba5-b1af-46072725e311"
      },
      "source": [
        "print(\"The doc string of the above class is:\\n\")\r\n",
        "print(Car.__doc__)"
      ],
      "execution_count": 11,
      "outputs": [
        {
          "output_type": "stream",
          "text": [
            "The doc string of the above class is:\n",
            "\n",
            "\n",
            "  * Creating a class called \"Car\"\n",
            "\n",
            "  * Properties/attributes: brand, colour, horses, country production, current speed \n",
            "    * \"current_speed\" is set to 0, unless other value is assigned\n",
            "\n",
            "  * Function definitions/Methods: \n",
            "    * def move_car() moves the car by 10\n",
            "    * def accelerate_car() accelerates the car by the given value and adds that speed to \"current_speed\"\n",
            "    * def stop_car() sets \"current_speed\" to 0\n",
            "    * def car_details() returns the properties of the \"Car\" class\n",
            "  \n"
          ],
          "name": "stdout"
        }
      ]
    },
    {
      "cell_type": "markdown",
      "metadata": {
        "id": "PEbsqhYGXCp7"
      },
      "source": [
        "> Creating a new instance called \"new_car\""
      ]
    },
    {
      "cell_type": "code",
      "metadata": {
        "colab": {
          "base_uri": "https://localhost:8080/"
        },
        "id": "8Ty6PuzS-jJN",
        "outputId": "e6362d8c-d4bb-45d0-f025-142907c74d97"
      },
      "source": [
        "new_car = Car(brand=\"Mercedes\", colour=\"black\", horses= 200, country_production= \"Germany\")\r\n",
        "new_car"
      ],
      "execution_count": 12,
      "outputs": [
        {
          "output_type": "execute_result",
          "data": {
            "text/plain": [
              "<__main__.Car at 0x7f9724a06b90>"
            ]
          },
          "metadata": {
            "tags": []
          },
          "execution_count": 12
        }
      ]
    },
    {
      "cell_type": "code",
      "metadata": {
        "colab": {
          "base_uri": "https://localhost:8080/"
        },
        "id": "5sv_TPPlU50x",
        "outputId": "3681ca9f-edc6-4d31-e444-5c43ce734cb7"
      },
      "source": [
        "new_car.car_details()"
      ],
      "execution_count": 13,
      "outputs": [
        {
          "output_type": "stream",
          "text": [
            "Brand: Mercedes\n",
            "Colour: black\n",
            "Horses: 200\n",
            "Country production: Germany\n",
            "Current speed: 0\n",
            "\n"
          ],
          "name": "stdout"
        }
      ]
    },
    {
      "cell_type": "code",
      "metadata": {
        "colab": {
          "base_uri": "https://localhost:8080/"
        },
        "id": "2dbzECi6-jNV",
        "outputId": "497299df-6cd5-4ebe-cf50-8bb825bd20aa"
      },
      "source": [
        "new_car.move_car()\r\n",
        "new_car.current_speed"
      ],
      "execution_count": 14,
      "outputs": [
        {
          "output_type": "execute_result",
          "data": {
            "text/plain": [
              "10"
            ]
          },
          "metadata": {
            "tags": []
          },
          "execution_count": 14
        }
      ]
    },
    {
      "cell_type": "code",
      "metadata": {
        "colab": {
          "base_uri": "https://localhost:8080/"
        },
        "id": "pqe8c0AY-jPg",
        "outputId": "3ac2953f-7ef3-4c70-8f2e-eb11435fb20b"
      },
      "source": [
        "new_car.accelerate_car(80)\r\n",
        "new_car.current_speed"
      ],
      "execution_count": 15,
      "outputs": [
        {
          "output_type": "execute_result",
          "data": {
            "text/plain": [
              "90"
            ]
          },
          "metadata": {
            "tags": []
          },
          "execution_count": 15
        }
      ]
    },
    {
      "cell_type": "code",
      "metadata": {
        "colab": {
          "base_uri": "https://localhost:8080/"
        },
        "id": "CXr3o_Gw-jRx",
        "outputId": "a8f7b4c1-f214-4fec-e94a-d46b75f95413"
      },
      "source": [
        "new_car.stop_car()\r\n",
        "new_car.current_speed"
      ],
      "execution_count": 16,
      "outputs": [
        {
          "output_type": "execute_result",
          "data": {
            "text/plain": [
              "0"
            ]
          },
          "metadata": {
            "tags": []
          },
          "execution_count": 16
        }
      ]
    },
    {
      "cell_type": "code",
      "metadata": {
        "colab": {
          "base_uri": "https://localhost:8080/"
        },
        "id": "clJMe2dGVwaz",
        "outputId": "d65358c8-437d-434f-bc8b-d8f98ebbc8c7"
      },
      "source": [
        "new_car.move_car()\r\n",
        "new_car.current_speed"
      ],
      "execution_count": 17,
      "outputs": [
        {
          "output_type": "execute_result",
          "data": {
            "text/plain": [
              "10"
            ]
          },
          "metadata": {
            "tags": []
          },
          "execution_count": 17
        }
      ]
    },
    {
      "cell_type": "code",
      "metadata": {
        "colab": {
          "base_uri": "https://localhost:8080/"
        },
        "id": "hAIngwKVTPOz",
        "outputId": "688f89ed-b2ff-46c4-dda1-c11ebd344613"
      },
      "source": [
        "new_car.accelerate_car(280)\r\n",
        "new_car.car_details()"
      ],
      "execution_count": 18,
      "outputs": [
        {
          "output_type": "stream",
          "text": [
            "Brand: Mercedes\n",
            "Colour: black\n",
            "Horses: 200\n",
            "Country production: Germany\n",
            "Current speed: 290\n",
            "\n"
          ],
          "name": "stdout"
        }
      ]
    },
    {
      "cell_type": "markdown",
      "metadata": {
        "id": "IMpmSCs3CZTd"
      },
      "source": [
        "# Encapsulation "
      ]
    },
    {
      "cell_type": "markdown",
      "metadata": {
        "id": "Hru0ypSTLrSs"
      },
      "source": [
        "* Encapsulation is used to control the object changes inside the class avoiding in that way undesired implications\r\n",
        "\r\n",
        "* If variables are **encapsulated**, this means they belong to the **object**, and not to the class.\r\n",
        "\r\n",
        "* Methods and properties/attributes can be either `public` or `private`\r\n",
        "  * **private** properties: they can only be used inside the object itself\r\n",
        "  * they are not supposed to be used outside the object\r\n",
        "    * they can be accessed with double underscores `__`\r\n",
        "    * use `get` and/or `set` to access them (getters/setters)\r\n",
        "\r\n"
      ]
    },
    {
      "cell_type": "markdown",
      "metadata": {
        "id": "nYIpuyX9VMke"
      },
      "source": [
        "## Example 3"
      ]
    },
    {
      "cell_type": "markdown",
      "metadata": {
        "id": "rimIN78p0LZL"
      },
      "source": [
        "> class \"Car\" contains private properties\r\n",
        "\r\n",
        "> `consume_gas` has double `__`, i.e. you cannot just declare it directly -> the criteria in the function should be firstly met\r\n",
        "\r\n",
        "> current speed is always zero, unless otherwise specified\r\n",
        "\r\n",
        "> the car cannot accelerate when there is not enough gas or when acceleration speed is more than 40\r\n",
        "\r\n",
        "\r\n",
        "> notice that 'gas' and current_speed' have only `get`"
      ]
    },
    {
      "cell_type": "code",
      "metadata": {
        "id": "5uDkHRbEu5PH"
      },
      "source": [
        "class Car:\r\n",
        "    def __init__(self, brand, year, colour, gas, current_speed=0):\r\n",
        "        self.__brand = brand\r\n",
        "        self.__year = year\r\n",
        "        self.__colour = colour\r\n",
        "        self.__gas = gas\r\n",
        "        self.__current_speed = current_speed\r\n",
        "\r\n",
        "    def get_year(self):\r\n",
        "        return self.__year\r\n",
        "\r\n",
        "    def set_year(self, year):\r\n",
        "        self.__year = year\r\n",
        "\r\n",
        "    def get_brand(self):\r\n",
        "        return self.__brand\r\n",
        "\r\n",
        "    def set_brand(self, brand):\r\n",
        "        self.__brand = year\r\n",
        "\r\n",
        "    def set_colour(self, colour):\r\n",
        "        self.__colour = colour\r\n",
        "\r\n",
        "    def get_colour(self):\r\n",
        "        return self.__colour\r\n",
        "\r\n",
        "    def get_gas(self):\r\n",
        "        return self.__gas\r\n",
        "\r\n",
        "    def get_current_speed(self):\r\n",
        "        return self.__current_speed\r\n",
        "\r\n",
        "    def increase_gas(self, liters):\r\n",
        "        self.__gas += value\r\n",
        "\r\n",
        "    def __consume_gas(self, liters):\r\n",
        "        if(self.__gas >= liters):\r\n",
        "            self.__gas -= liters\r\n",
        "            return True\r\n",
        "        else:\r\n",
        "            return False\r\n",
        "\r\n",
        "    def accelerate(self, value):\r\n",
        "        if(value < 40 and self.__consume_gas(value)):\r\n",
        "            self.__current_speed += value\r\n",
        "\r\n",
        "    def stop(self):\r\n",
        "        self.__current_speed = 0\r\n",
        "\r\n",
        "    def details(self):\r\n",
        "      print (\"Brand: {}\\nYear: {}\\nColour: {}\\nCurrent speed: {}\\nGas: {}\".format(\r\n",
        "          self.__brand, self.__year, self.__colour, self.__current_speed, self.__gas))"
      ],
      "execution_count": 19,
      "outputs": []
    },
    {
      "cell_type": "code",
      "metadata": {
        "id": "JiEyOJb8zNiT"
      },
      "source": [
        "if __name__ == '__main__':\r\n",
        "    car = Car(year= 2018, brand='mercedes', colour='black', gas=60)"
      ],
      "execution_count": 20,
      "outputs": []
    },
    {
      "cell_type": "code",
      "metadata": {
        "colab": {
          "base_uri": "https://localhost:8080/"
        },
        "id": "MfiUE7jvvyWy",
        "outputId": "865d9971-7fc0-4440-dcc7-b60ae794605f"
      },
      "source": [
        "car.details()"
      ],
      "execution_count": 21,
      "outputs": [
        {
          "output_type": "stream",
          "text": [
            "Brand: mercedes\n",
            "Year: 2018\n",
            "Colour: black\n",
            "Current speed: 0\n",
            "Gas: 60\n"
          ],
          "name": "stdout"
        }
      ]
    },
    {
      "cell_type": "code",
      "metadata": {
        "colab": {
          "base_uri": "https://localhost:8080/"
        },
        "id": "UckGM3_ZyeKg",
        "outputId": "dd6fe0c8-2e86-44f3-c787-f3f2eee632d4"
      },
      "source": [
        "car.accelerate(20)\r\n",
        "car.details()"
      ],
      "execution_count": 22,
      "outputs": [
        {
          "output_type": "stream",
          "text": [
            "Brand: mercedes\n",
            "Year: 2018\n",
            "Colour: black\n",
            "Current speed: 20\n",
            "Gas: 40\n"
          ],
          "name": "stdout"
        }
      ]
    },
    {
      "cell_type": "code",
      "metadata": {
        "colab": {
          "base_uri": "https://localhost:8080/"
        },
        "id": "hDBHsq9CzJS6",
        "outputId": "4ad4df94-59f0-4fcf-8350-3e2049aff932"
      },
      "source": [
        "# nothing changes because 50 > 40=security constraint=maximum possible value for acceleration\r\n",
        "car.accelerate(50)\r\n",
        "car.details()"
      ],
      "execution_count": 23,
      "outputs": [
        {
          "output_type": "stream",
          "text": [
            "Brand: mercedes\n",
            "Year: 2018\n",
            "Colour: black\n",
            "Current speed: 20\n",
            "Gas: 40\n"
          ],
          "name": "stdout"
        }
      ]
    },
    {
      "cell_type": "code",
      "metadata": {
        "colab": {
          "base_uri": "https://localhost:8080/"
        },
        "id": "hwJdPfBEzu4q",
        "outputId": "d8c94ba3-2c31-4bb2-a70f-57a859ca8d44"
      },
      "source": [
        "car.stop()\r\n",
        "car.details()"
      ],
      "execution_count": 24,
      "outputs": [
        {
          "output_type": "stream",
          "text": [
            "Brand: mercedes\n",
            "Year: 2018\n",
            "Colour: black\n",
            "Current speed: 0\n",
            "Gas: 40\n"
          ],
          "name": "stdout"
        }
      ]
    },
    {
      "cell_type": "markdown",
      "metadata": {
        "id": "f3vPdZuo08Is"
      },
      "source": [
        "> starting with some initialized speed"
      ]
    },
    {
      "cell_type": "code",
      "metadata": {
        "id": "i_Gfxt9u0VC7"
      },
      "source": [
        "car = Car(year= 2016, brand='audi', colour='red', gas=50, current_speed=20)"
      ],
      "execution_count": 25,
      "outputs": []
    },
    {
      "cell_type": "code",
      "metadata": {
        "colab": {
          "base_uri": "https://localhost:8080/"
        },
        "id": "BYDimvx80WY4",
        "outputId": "b167342c-c049-47e2-aa0a-5dffc117dc86"
      },
      "source": [
        "car.details()"
      ],
      "execution_count": 26,
      "outputs": [
        {
          "output_type": "stream",
          "text": [
            "Brand: audi\n",
            "Year: 2016\n",
            "Colour: red\n",
            "Current speed: 20\n",
            "Gas: 50\n"
          ],
          "name": "stdout"
        }
      ]
    },
    {
      "cell_type": "code",
      "metadata": {
        "colab": {
          "base_uri": "https://localhost:8080/"
        },
        "id": "p4_l9UkD0ymJ",
        "outputId": "c2b5ce4a-ffdd-4243-a6a6-e1d124d30485"
      },
      "source": [
        "car.accelerate(50)\r\n",
        "car.details()"
      ],
      "execution_count": 27,
      "outputs": [
        {
          "output_type": "stream",
          "text": [
            "Brand: audi\n",
            "Year: 2016\n",
            "Colour: red\n",
            "Current speed: 20\n",
            "Gas: 50\n"
          ],
          "name": "stdout"
        }
      ]
    },
    {
      "cell_type": "code",
      "metadata": {
        "colab": {
          "base_uri": "https://localhost:8080/"
        },
        "id": "0hFoDHaM1CGB",
        "outputId": "84fd8abf-2da4-4950-e21c-7f1334cf8283"
      },
      "source": [
        "car.accelerate(30)\r\n",
        "car.details()"
      ],
      "execution_count": 28,
      "outputs": [
        {
          "output_type": "stream",
          "text": [
            "Brand: audi\n",
            "Year: 2016\n",
            "Colour: red\n",
            "Current speed: 50\n",
            "Gas: 20\n"
          ],
          "name": "stdout"
        }
      ]
    },
    {
      "cell_type": "markdown",
      "metadata": {
        "id": "X9plAosA2flv"
      },
      "source": [
        "# Inheritance | Parent & Child Classes\r\n",
        "\r\n",
        "* When a `child` class (**subclass**) inherits a parent class (**superclass**), then all attributes and methods of the parent class are inherited by the child class"
      ]
    },
    {
      "cell_type": "markdown",
      "metadata": {
        "id": "9MlBg1_f_oTE"
      },
      "source": [
        "> Below using the same example with that of 2.3 example, but changing the name of the class \"Car\" to \"Vehicle\", which is more generic.\r\n",
        "\r\n",
        ">> \"Vehicle\" will represent the parent class, \"Car\" the child one."
      ]
    },
    {
      "cell_type": "code",
      "metadata": {
        "id": "DDjP3QsG-oFD"
      },
      "source": [
        "# Parent class\r\n",
        "class Vehicle:\r\n",
        "\r\n",
        "  def __init__(self, brand, colour, horses, country_production, current_speed = 0):\r\n",
        "    self.brand = brand\r\n",
        "    self.colour= colour\r\n",
        "    self.horses = horses\r\n",
        "    self.country_production = country_production\r\n",
        "    self.current_speed = current_speed\r\n",
        "    \r\n",
        "\r\n",
        "  def move_vehicle(self):\r\n",
        "    self.current_speed += 10\r\n",
        "\r\n",
        "  def accelerate_vehicle(self, value):\r\n",
        "    self.current_speed += value\r\n",
        "\r\n",
        "  def stop_vehicle(self):\r\n",
        "    self.current_speed = 0\r\n",
        "\r\n",
        "  def vehicle_details(self):\r\n",
        "    print (\"Brand: {}\\nColour: {}\\nHorses: {}\\nCountry production: {}\\nCurrent speed: {}\\n\".format(\r\n",
        "        self.brand, self.colour, self.horses, self.country_production, self.current_speed))"
      ],
      "execution_count": 29,
      "outputs": []
    },
    {
      "cell_type": "markdown",
      "metadata": {
        "id": "fWGf8l6dBD_G"
      },
      "source": [
        "> \"`super()`\" is used to reference the parent class\r\n",
        "\r\n",
        "\r\n",
        "> all properties belong to the parent class \"Vehicle\", apart from the attribute \"number_of_cars\" which belongs only to the child class \"Car\", and that's why it is now declared with `self.child's_variable = self.child's_variable`. The other properties inherited by the parent class are invoked via the super() build-in function.\r\n",
        "\r\n",
        "> all method functions that were created in the parent class in 2.3 example (e.g. move_car()), implicitly belong to the child class as well."
      ]
    },
    {
      "cell_type": "code",
      "metadata": {
        "id": "UiWpmS0FAA_y"
      },
      "source": [
        "# creating the child class: \"car\"\r\n",
        "# inside the parentheses is the parent class \"Vehicle\"\r\n",
        "'''\r\n",
        "if we had 2 python files, then the 1st one included the parent class could be called vehicle.py,\r\n",
        "and in the new file (here) we would type \"from vehicle import Vehicle\", where\r\n",
        "from vehicle -->because--> vehicle.py | import Vehicle -->because--> the name of the class was \"Vehicle\"\r\n",
        "'''\r\n",
        "class Car(Vehicle):\r\n",
        "\r\n",
        "  def __init__(self, brand, colour, horses, country_production, current_speed=0, number_of_cars=0):\r\n",
        "    super().__init__(brand, colour, horses, country_production, current_speed=0)\r\n",
        "\r\n",
        "    # object variable that belongs only to the child \"Car\" class\r\n",
        "    self.number_of_cars = number_of_cars\r\n",
        "\r\n",
        "\r\n",
        "  # method function of the child \"Car\" class\r\n",
        "  def add_car(self, new_car):\r\n",
        "    self.number_of_cars += new_car\r\n",
        "\r\n",
        "  # method function of the child \"Car\" class\r\n",
        "  def remove_car(self, new_car):\r\n",
        "    self.number_of_cars -= new_car"
      ],
      "execution_count": 30,
      "outputs": []
    },
    {
      "cell_type": "code",
      "metadata": {
        "colab": {
          "base_uri": "https://localhost:8080/"
        },
        "id": "OwgDzPJeCoTb",
        "outputId": "c2dbcaba-f1dd-4c71-c38a-2d1694b6f066"
      },
      "source": [
        "new_car = Car(brand=\"Mercedes\", colour=\"black\", horses= 200, country_production= \"Germany\", number_of_cars=5)\r\n",
        "new_car"
      ],
      "execution_count": 31,
      "outputs": [
        {
          "output_type": "execute_result",
          "data": {
            "text/plain": [
              "<__main__.Car at 0x7f9724a06510>"
            ]
          },
          "metadata": {
            "tags": []
          },
          "execution_count": 31
        }
      ]
    },
    {
      "cell_type": "code",
      "metadata": {
        "colab": {
          "base_uri": "https://localhost:8080/"
        },
        "id": "03DL6V4PEq1W",
        "outputId": "7cc6a02b-04f6-4153-a425-c8ae6ff5cb6d"
      },
      "source": [
        "# implicitly we can have access to parent's method functions\r\n",
        "# vehicle_details() was declared in the generic parent class \"Vehicle\"\r\n",
        "# but with super() we got that to the child class \"Car\" as well:\r\n",
        "new_car.vehicle_details()"
      ],
      "execution_count": 32,
      "outputs": [
        {
          "output_type": "stream",
          "text": [
            "Brand: Mercedes\n",
            "Colour: black\n",
            "Horses: 200\n",
            "Country production: Germany\n",
            "Current speed: 0\n",
            "\n"
          ],
          "name": "stdout"
        }
      ]
    },
    {
      "cell_type": "code",
      "metadata": {
        "colab": {
          "base_uri": "https://localhost:8080/"
        },
        "id": "-pcKCQjrE3BS",
        "outputId": "9cbe4711-1074-49d9-fd66-0d4454f4f418"
      },
      "source": [
        "new_car.add_car(1)\r\n",
        "print(new_car.number_of_cars)"
      ],
      "execution_count": 33,
      "outputs": [
        {
          "output_type": "stream",
          "text": [
            "6\n"
          ],
          "name": "stdout"
        }
      ]
    },
    {
      "cell_type": "code",
      "metadata": {
        "colab": {
          "base_uri": "https://localhost:8080/"
        },
        "id": "HPmrDrEsFbIR",
        "outputId": "83647a8d-9f16-437b-d83a-c52180bcabe1"
      },
      "source": [
        "new_car.remove_car(2)\r\n",
        "print(new_car.number_of_cars)"
      ],
      "execution_count": 34,
      "outputs": [
        {
          "output_type": "stream",
          "text": [
            "4\n"
          ],
          "name": "stdout"
        }
      ]
    },
    {
      "cell_type": "markdown",
      "metadata": {
        "id": "hRZuV1WT1pWl"
      },
      "source": [
        "# Polymorphism\r\n",
        "\r\n",
        "\r\n",
        "Polymorphism is about implementing the same method function to different classes (subclasses and superclasses) in a different way/form, based on conditions which lead to different implementations of the objects.\r\n",
        "\r\n",
        "> `method overriding`: overwriting an existing function method by altering it in a customized way for particular classes"
      ]
    },
    {
      "cell_type": "markdown",
      "metadata": {
        "id": "aQufpE7i2GRZ"
      },
      "source": [
        "Below, using `inheritance` for having parent and child classes:\r\n",
        "* Superclass/parent class => \"Vehicle\"\r\n",
        "* Subclass/child classes => \"Bus\", \"Car\"\r\n"
      ]
    },
    {
      "cell_type": "markdown",
      "metadata": {
        "id": "KgHbcScO4crm"
      },
      "source": [
        "\r\n",
        "\r\n",
        "`Polymorphism` is applied via the *accelerate_vehicle* function:\r\n",
        "\r\n",
        "> acceleration: the car can accept acceleration if the acceleration speed is between 10 and 90, whereas the bus cannot accelerate if the speed is greater than 40 or less than 5. Therefore, when *vehicle.accelerate_vehicle(20)* => both vehicles get accelerated, but when *vehicle.accelerate_vehicle(50)* the acceleration function is not applied to the bus (bus speed = 80+20 = 100, and not 80+20+50)\r\n",
        "\r\n"
      ]
    },
    {
      "cell_type": "markdown",
      "metadata": {
        "id": "qn_MTEKw4lrU"
      },
      "source": [
        "`Method overriding` is applied via the *vehicle_details* function:\r\n",
        "\r\n",
        "\r\n",
        "> **horses** are not printed regarding the bus information because although the generic **def vehicle_details** includes horses, this does not happen in the local **def vehicle_details** of the clild bus class."
      ]
    },
    {
      "cell_type": "code",
      "metadata": {
        "colab": {
          "base_uri": "https://localhost:8080/"
        },
        "id": "Bjmp8wMOqSh5",
        "outputId": "a4eb6403-d356-4854-b98c-0a40557af11c"
      },
      "source": [
        "# Superclass\r\n",
        "class Vehicle:\r\n",
        "    def __init__(self, brand, year, horses, current_speed):\r\n",
        "        self.brand = brand\r\n",
        "        self.year = year\r\n",
        "        self.horses = horses\r\n",
        "        self.current_speed = current_speed\r\n",
        "\r\n",
        "    def accelerate_vehicle(self, accel_speed):\r\n",
        "        raise NotImplementedError()\r\n",
        "\r\n",
        "    def stop(self):\r\n",
        "        self.current_speed = 0\r\n",
        "\r\n",
        "    def vehicle_details(self):\r\n",
        "        return (\"Brand: {}\\nYear: {}\\nHorses: {}\\n\".format(\r\n",
        "            self.brand, self.year, self.horses\r\n",
        "        ))\r\n",
        "\r\n",
        "# Subclass\r\n",
        "class Bus(Vehicle):\r\n",
        "    def __init__(self, brand, year, horses, current_speed, current_passengers):\r\n",
        "        super().__init__(brand, year, horses, current_speed)\r\n",
        "        self.current_passengers = current_passengers\r\n",
        "\r\n",
        "    def accelerate_vehicle(self, accel_speed):\r\n",
        "        if(accel_speed < 40 and accel_speed > 5):\r\n",
        "            self.current_speed += accel_speed\r\n",
        "\r\n",
        "    def add_passengers(self, passengers):\r\n",
        "        self.current_passengers += passengers\r\n",
        "\r\n",
        "    def remove_passengers(self, passengers):\r\n",
        "        self.current_passengers -= passengers\r\n",
        "    \r\n",
        "    def vehicle_details(self):\r\n",
        "        return (\"Brand: {}\\nYear: {}\".format(self.brand, self.year))\r\n",
        "\r\n",
        "# Subclass\r\n",
        "class Car(Vehicle):\r\n",
        "    def __init__(self, brand, year, horses, current_speed):\r\n",
        "        super().__init__(brand, year, horses, current_speed)\r\n",
        "\r\n",
        "    def accelerate_vehicle(self, accel_speed):\r\n",
        "        if(accel_speed < 90 and accel_speed>10):\r\n",
        "            self.current_speed += accel_speed\r\n",
        "\r\n",
        "    def vehicle_details(self):\r\n",
        "        return (\"Brand: {}\\nYear: {}\\nHorses: {}\".format(self.brand, self.year, self.horses))        \r\n",
        "\r\n",
        "if __name__ == '__main__':\r\n",
        "    new_car = Car(brand=\"benz\", year=2020, horses=250, current_speed=160)\r\n",
        "    new_bus = Bus(brand=\"some bus brand\", year=2010, horses= 120, current_speed=80, current_passengers=20)\r\n",
        "    vehicles = [new_car, new_bus]\r\n",
        "    for vehicle in vehicles:\r\n",
        "        vehicle.accelerate_vehicle(20)\r\n",
        "        vehicle.accelerate_vehicle(50)\r\n",
        "        print(\"Vehicle details:\\n\\n{}\".format(vehicle.vehicle_details()))\r\n",
        "        print(\"Current speed: {}\".format(vehicle.current_speed))\r\n",
        "        print(\"============================================================\")"
      ],
      "execution_count": 35,
      "outputs": [
        {
          "output_type": "stream",
          "text": [
            "Vehicle details:\n",
            "\n",
            "Brand: benz\n",
            "Year: 2020\n",
            "Horses: 250\n",
            "Current speed: 230\n",
            "============================================================\n",
            "Vehicle details:\n",
            "\n",
            "Brand: some bus brand\n",
            "Year: 2010\n",
            "Current speed: 100\n",
            "============================================================\n"
          ],
          "name": "stdout"
        }
      ]
    },
    {
      "cell_type": "markdown",
      "metadata": {
        "id": "mEAatkLkxIl6"
      },
      "source": [
        "# Errors - Exceptions"
      ]
    },
    {
      "cell_type": "markdown",
      "metadata": {
        "id": "xS869zDexOKs"
      },
      "source": [
        "## Type of Errors\r\n",
        "\r\n",
        "* `TypeError`\r\n",
        "* `IndexError`\r\n",
        "* `NameError`\r\n",
        "* `ZeroDivisionError`"
      ]
    },
    {
      "cell_type": "markdown",
      "metadata": {
        "id": "IiOIL70VUYnH"
      },
      "source": [
        "## Exceptions Handling\r\n",
        "\r\n",
        "We can use `try/except` to give customized messages of potential particular errors\r\n",
        "\r\n"
      ]
    },
    {
      "cell_type": "code",
      "metadata": {
        "colab": {
          "base_uri": "https://localhost:8080/"
        },
        "id": "M2lFYYsZxoHp",
        "outputId": "549e905b-baa8-4a25-aef5-a4c0b9302c7c"
      },
      "source": [
        "def main():\r\n",
        "  try:\r\n",
        "    car_brands = [\"benz\", \"bmw\", \"audi\"]\r\n",
        "    print(car_brands[5])\r\n",
        "  except IndexError:\r\n",
        "    print('there is no such index!')\r\n",
        "\r\n",
        "if __name__ == \"__main__\":\r\n",
        "  main()"
      ],
      "execution_count": 36,
      "outputs": [
        {
          "output_type": "stream",
          "text": [
            "there is no such index!\n"
          ],
          "name": "stdout"
        }
      ]
    },
    {
      "cell_type": "code",
      "metadata": {
        "colab": {
          "base_uri": "https://localhost:8080/"
        },
        "id": "DoUYJcFhyj84",
        "outputId": "3371d763-836f-4991-816c-7fd6afc0165f"
      },
      "source": [
        "def main():\r\n",
        "  try:\r\n",
        "    x = 5/0\r\n",
        "  except ZeroDivisionError:\r\n",
        "    print(\"you tried to divide by zero!\")\r\n",
        "    \r\n",
        "if __name__ == \"__main__\":\r\n",
        "  main()"
      ],
      "execution_count": 37,
      "outputs": [
        {
          "output_type": "stream",
          "text": [
            "you tried to divide by zero!\n"
          ],
          "name": "stdout"
        }
      ]
    },
    {
      "cell_type": "code",
      "metadata": {
        "colab": {
          "base_uri": "https://localhost:8080/"
        },
        "id": "AEPCetKNzNsq",
        "outputId": "359b27d5-8dfe-47e5-f785-113eed846574"
      },
      "source": [
        "def main():\r\n",
        "  try:\r\n",
        "    x = 5/2\r\n",
        "  except ZeroDivisionError:\r\n",
        "    print(\"you tried to divide by zero!\")\r\n",
        "  # else => i.e. if there is no error!  \r\n",
        "  else:\r\n",
        "    print(\"Your operation was correct with a result of: {}\".format(x))\r\n",
        "    \r\n",
        "if __name__ == \"__main__\":\r\n",
        "  main()"
      ],
      "execution_count": 38,
      "outputs": [
        {
          "output_type": "stream",
          "text": [
            "Your operation was correct with a result of: 2.5\n"
          ],
          "name": "stdout"
        }
      ]
    },
    {
      "cell_type": "code",
      "metadata": {
        "colab": {
          "base_uri": "https://localhost:8080/"
        },
        "id": "knUs_tNrF56F",
        "outputId": "f5f95b56-7b7c-4f61-f6dd-6eaa74f70d96"
      },
      "source": [
        "x=47\r\n",
        "\r\n",
        "y=divmod(x,3)\r\n",
        "print(y)"
      ],
      "execution_count": 39,
      "outputs": [
        {
          "output_type": "stream",
          "text": [
            "(15, 2)\n"
          ],
          "name": "stdout"
        }
      ]
    }
  ]
}