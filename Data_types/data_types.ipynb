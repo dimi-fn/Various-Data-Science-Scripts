{
 "metadata": {
  "language_info": {
   "codemirror_mode": {
    "name": "ipython",
    "version": 3
   },
   "file_extension": ".py",
   "mimetype": "text/x-python",
   "name": "python",
   "nbconvert_exporter": "python",
   "pygments_lexer": "ipython3",
   "version": "3.8.3-final"
  },
  "orig_nbformat": 2,
  "kernelspec": {
   "name": "python3",
   "display_name": "Python 3",
   "language": "python"
  }
 },
 "nbformat": 4,
 "nbformat_minor": 2,
 "cells": [
  {
   "source": [
    "# Lists vs Sets vs Tuples"
   ],
   "cell_type": "markdown",
   "metadata": {}
  },
  {
   "source": [
    "| List | Set  |Set  |\n",
    "|------|------|------|\n",
    "|  Mutable  | Mutable| Immutable|\n",
    "|------|------|------|\n",
    "|  Mutable  | Mutable| Immutable|\n",
    "|------|------|------|\n",
    "|  Mutable  | Mutable| Immutable|"
   ],
   "cell_type": "markdown",
   "metadata": {}
  },
  {
   "source": [
    "## Lists"
   ],
   "cell_type": "markdown",
   "metadata": {}
  },
  {
   "cell_type": "code",
   "execution_count": 1,
   "metadata": {},
   "outputs": [
    {
     "output_type": "stream",
     "name": "stdout",
     "text": [
      "list: [1, 10, 10, 8, 20]\n"
     ]
    }
   ],
   "source": [
    "my_list = [1, 10, 10, 8, 20]\n",
    "print(\"list:\", my_list)"
   ]
  }
 ]
}