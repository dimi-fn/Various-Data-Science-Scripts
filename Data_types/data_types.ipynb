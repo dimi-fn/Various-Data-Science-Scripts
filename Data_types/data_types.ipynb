{
 "metadata": {
  "language_info": {
   "codemirror_mode": {
    "name": "ipython",
    "version": 3
   },
   "file_extension": ".py",
   "mimetype": "text/x-python",
   "name": "python",
   "nbconvert_exporter": "python",
   "pygments_lexer": "ipython3",
   "version": "3.8.3-final"
  },
  "orig_nbformat": 2,
  "kernelspec": {
   "name": "python3",
   "display_name": "Python 3",
   "language": "python"
  }
 },
 "nbformat": 4,
 "nbformat_minor": 2,
 "cells": [
  {
   "source": [
    "# Lists vs Sets vs Tuples"
   ],
   "cell_type": "markdown",
   "metadata": {}
  },
  {
   "source": [
    "| List | Tuple  | Set |\n",
    "|------|------|------|\n",
    "|  Mutable  | Immutable | Mutable | \n",
    "|  Ordered  | Ordered| Unordered |\n",
    "|  Item values can be changed/replaced | Item values cannot be changed/replaced | Item values cannot be changed/replaced"
   ],
   "cell_type": "markdown",
   "metadata": {}
  },
  {
   "source": [
    "## Lists\n",
    "\n",
    "* Using square brackets **[]**\n",
    "* Lists are **mutable**, i.e. they can be converted into another data type\n",
    "    * Thus, lists can contain strings, numbers, booleans and etc. all together separated by commas\n",
    "    * Its item values can be changed or replaced\n",
    "* Lists are **ordered**: They will be printed-executed based on the defined order assigned    "
   ],
   "cell_type": "markdown",
   "metadata": {}
  },
  {
   "cell_type": "code",
   "execution_count": 2,
   "metadata": {},
   "outputs": [
    {
     "output_type": "stream",
     "name": "stdout",
     "text": [
      "list: [1, 10, 10, 8, 20]\nlist: [1, 10, 10, 8, 20, 'text']\nlist: ['first', 'second', 'second', 'third']\n"
     ]
    }
   ],
   "source": [
    "my_list1 = [1, 10, 10, 8, 20]\n",
    "my_list2= [1, 10, 10, 8, 20, \"text\"]\n",
    "my_list3= [\"first\", \"second\", \"second\", \"third\"]\n",
    "print(\"list:\", my_list1)\n",
    "print(\"list:\", my_list2)\n",
    "print(\"list:\", my_list3)"
   ]
  },
  {
   "source": [
    "## Tuples\n",
    "\n",
    "* They are usually defined by parentheses **()**\n",
    "* Tuple objects are **immutable**, i.e. they cannot be changed or replaced \n",
    "* Tuples, as lists, are **ordered**: They will be printed-executed based on the defined order assigned "
   ],
   "cell_type": "markdown",
   "metadata": {}
  },
  {
   "cell_type": "code",
   "execution_count": 3,
   "metadata": {},
   "outputs": [
    {
     "output_type": "stream",
     "name": "stdout",
     "text": [
      "tuple: (1, 10, 10, 8, 20)\ntuple: (1, 10, 10, 8, 20, 'text')\ntuple: ('first', 'second', 'second', 'third')\n"
     ]
    }
   ],
   "source": [
    "my_list1 = [1, 10, 10, 8, 20]\n",
    "my_list2= [1, 10, 10, 8, 20, \"text\"]\n",
    "my_list3= [\"first\", \"second\", \"second\", \"third\"]\n",
    "print(\"tuple:\", tuple(my_list1))\n",
    "print(\"tuple:\", tuple(my_list2))\n",
    "print(\"tuple:\", tuple(my_list3))"
   ]
  },
  {
   "source": [
    "## Sets\n",
    "\n",
    "* They are defined with curly braces **{}**\n",
    "* Sets are **mutable**, i.e. they can be converted into another data type, <u>however only immutable objects can be stored in it</u>\n",
    "* Sets are **unordered**, i.e. the order in which the elements are added into the set is not fixed; it can change frequently\n",
    "    * therefore, sets are also **unintended** collection of items"
   ],
   "cell_type": "markdown",
   "metadata": {}
  },
  {
   "cell_type": "code",
   "execution_count": 4,
   "metadata": {},
   "outputs": [
    {
     "output_type": "stream",
     "name": "stdout",
     "text": [
      "set: {8, 1, 10, 20}\nset: {1, 8, 10, 20, 'text'}\nset: {'second', 'third', 'first'}\n"
     ]
    }
   ],
   "source": [
    "my_list1 = [1, 10, 10, 8, 20]\n",
    "my_list2= [1, 10, 10, 8, 20, \"text\"]\n",
    "my_list3= [\"first\", \"second\", \"second\", \"third\"]\n",
    "print(\"set:\", set(my_list1))\n",
    "print(\"set:\", set(my_list2))\n",
    "print(\"set:\", set(my_list3))"
   ]
  }
 ]
}