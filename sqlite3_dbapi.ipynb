{
  "nbformat": 4,
  "nbformat_minor": 0,
  "metadata": {
    "colab": {
      "name": "sqlite3_dbapi.ipynb",
      "provenance": [],
      "collapsed_sections": [],
      "authorship_tag": "ABX9TyOaOlRWi4HWj3viOub56DlS",
      "include_colab_link": true
    },
    "kernelspec": {
      "name": "python3",
      "display_name": "Python 3"
    }
  },
  "cells": [
    {
      "cell_type": "markdown",
      "metadata": {
        "id": "view-in-github",
        "colab_type": "text"
      },
      "source": [
        "<a href=\"https://colab.research.google.com/github/dimi-fn/Various-Data-Science-Scripts/blob/main/sqlite3_dbapi.ipynb\" target=\"_parent\"><img src=\"https://colab.research.google.com/assets/colab-badge.svg\" alt=\"Open In Colab\"/></a>"
      ]
    },
    {
      "cell_type": "code",
      "metadata": {
        "colab": {
          "base_uri": "https://localhost:8080/"
        },
        "id": "NBpQF7rXORr1",
        "outputId": "232ef9c0-38d7-483a-d258-1f4c4b47b1f3"
      },
      "source": [
        "import sqlite3\r\n",
        "\r\n",
        "def main():\r\n",
        "    \r\n",
        "    # connect to sqlite3 db api\r\n",
        "    print('connect')\r\n",
        "    db = sqlite3.connect('db-api.db')\r\n",
        "    cur = db.cursor()\r\n",
        "    print('create')\r\n",
        "\r\n",
        "    ''' Create table '''\r\n",
        "    # first check if table exists\r\n",
        "    cur.execute(\"DROP TABLE IF EXISTS test\")\r\n",
        "    cur.execute(\"\"\"\r\n",
        "        CREATE TABLE test (\r\n",
        "            id INTEGER PRIMARY KEY, string TEXT, number INTEGER\r\n",
        "        )\r\n",
        "        \"\"\")\r\n",
        "    \r\n",
        "    # Insert rows\r\n",
        "    print('Inserting a row')\r\n",
        "    cur.execute(\"\"\"\r\n",
        "        INSERT INTO test (string, number) VALUES ('Mercedes', 25000)\r\n",
        "        \"\"\")\r\n",
        "    print('insert row')\r\n",
        "    cur.execute(\"\"\"\r\n",
        "        INSERT INTO test (string, number) VALUES ('BMW', 20000)\r\n",
        "        \"\"\")\r\n",
        "    print('insert row')\r\n",
        "    cur.execute(\"\"\"\r\n",
        "        INSERT INTO test (string, number) VALUES ('Audi', 18000)\r\n",
        "        \"\"\")\r\n",
        "    \r\n",
        "    # Commit\r\n",
        "    print('commit')\r\n",
        "    db.commit()\r\n",
        "    print('count')\r\n",
        "    cur.execute(\"SELECT COUNT(*) FROM test\")\r\n",
        "    count = cur.fetchone()[0]\r\n",
        "    print(f'there are {count} rows in the table.')\r\n",
        "    print('read')\r\n",
        "    for row in cur.execute(\"SELECT * FROM test\"):\r\n",
        "        print(row)\r\n",
        "    print('drop')\r\n",
        "    cur.execute(\"DROP TABLE test\")\r\n",
        "    print('close')\r\n",
        "    db.close()\r\n",
        "\r\n",
        "if __name__ == '__main__': main()"
      ],
      "execution_count": 1,
      "outputs": [
        {
          "output_type": "stream",
          "text": [
            "connect\n",
            "create\n",
            "Inserting a row\n",
            "insert row\n",
            "insert row\n",
            "commit\n",
            "count\n",
            "there are 3 rows in the table.\n",
            "read\n",
            "(1, 'Mercedes', 25000)\n",
            "(2, 'BMW', 20000)\n",
            "(3, 'Audi', 18000)\n",
            "drop\n",
            "close\n"
          ],
          "name": "stdout"
        }
      ]
    },
    {
      "cell_type": "code",
      "metadata": {
        "id": "vjbuR9AOOZLu"
      },
      "source": [
        ""
      ],
      "execution_count": null,
      "outputs": []
    }
  ]
}