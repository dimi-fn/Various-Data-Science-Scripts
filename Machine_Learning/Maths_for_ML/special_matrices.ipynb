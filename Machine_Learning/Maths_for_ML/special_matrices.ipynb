{
 "metadata": {
  "language_info": {
   "codemirror_mode": {
    "name": "ipython",
    "version": 3
   },
   "file_extension": ".py",
   "mimetype": "text/x-python",
   "name": "python",
   "nbconvert_exporter": "python",
   "pygments_lexer": "ipython3",
   "version": "3.8.3-final"
  },
  "orig_nbformat": 2,
  "kernelspec": {
   "name": "python3",
   "display_name": "Python 3"
  }
 },
 "nbformat": 4,
 "nbformat_minor": 2,
 "cells": [
  {
   "source": [
    "Writing a function that will test if a 4x4 matrix is singular before calculating it.\n",
    "\n",
    "Note: A matrix A is singular if an inverse matrix A<sup>-1</sup> exists."
   ],
   "cell_type": "markdown",
   "metadata": {}
  },
  {
   "source": [
    "The function goes through the matrix replacing each row so that it can be turned into the echelor form. A matrix is in elechon form if it has the shape resulting from a Gaussian elimination [reference](https://en.wikipedia.org/wiki/Row_echelon_form)."
   ],
   "cell_type": "markdown",
   "metadata": {}
  },
  {
   "cell_type": "code",
   "execution_count": 1,
   "metadata": {},
   "outputs": [],
   "source": [
    "import numpy as np"
   ]
  },
  {
   "cell_type": "code",
   "execution_count": 2,
   "metadata": {},
   "outputs": [],
   "source": [
    "# Creating a function that will go through the matrix replacing each row in order to turn it into the echelon form.\n",
    "def is_Singular(a) :\n",
    "\n",
    "    # making matrix b as a copy of a (since its values are going to be altered)\n",
    "    b = np.array(a, dtype=np.float_)\n",
    "    try:\n",
    "        fix_row_zero(b)\n",
    "        fix_row_one(b)\n",
    "        fix_row_two(b)\n",
    "        fix_row_three(b)\n",
    "    except matrix_is_Singular:\n",
    "        return True\n",
    "    return False"
   ]
  },
  {
   "cell_type": "code",
   "execution_count": 3,
   "metadata": {},
   "outputs": [],
   "source": [
    "# handling errors\n",
    "class matrix_is_Singular(Exception): pass"
   ]
  },
  {
   "cell_type": "code",
   "execution_count": 4,
   "metadata": {},
   "outputs": [],
   "source": [
    "# In the first row a[0], the 1st element a[0,0] should be equal to 1\n",
    "# In the end, the row is divided by the value of a[0, 0]\n",
    "def fix_row_zero(a) :\n",
    "\n",
    "    # check if a[0,0] is equal to zero\n",
    "    # if a[0,0]=0, one of the lower rows will be added to the first one before the division\n",
    "    if a[0,0] == 0 :\n",
    "        a[0] = a[0] + a[1]\n",
    "    if a[0,0] == 0 :\n",
    "        a[0] = a[0] + a[2]\n",
    "    if a[0,0] == 0 :\n",
    "        a[0] = a[0] + a[3]\n",
    "    if a[0,0] == 0 :\n",
    "        raise matrix_is_Singular()\n",
    "\n",
    "    # divide the 1st row by the value of the 1st element a[0, 0]\n",
    "    a[0] = a[0] / a[0,0]\n",
    "    return a"
   ]
  },
  {
   "cell_type": "code",
   "execution_count": 5,
   "metadata": {},
   "outputs": [],
   "source": [
    "# 2nd row\n",
    "def fix_row_one(a):\n",
    "\n",
    "    # setting the sub-diagonal elements to zero; in the 2nd row there is only the a[1,0] element\n",
    "    a[1] = a[1] - a[1,0] * a[0]\n",
    "\n",
    "    # check if the sub-diagonal element a[1,1] is equal to zero\n",
    "    if a[1,1] == 0 :\n",
    "        a[1] = a[1] + a[2]\n",
    "        a[1] = a[1] - a[1,0] * a[0]\n",
    "    if a[1,1] == 0 :\n",
    "        a[1] = a[1] + a[3]\n",
    "        a[1] = a[1] - a[1,0] * a[0]\n",
    "    if a[1,1] == 0 :\n",
    "        raise matrix_is_Singular()\n",
    "\n",
    "    # divide the 2nd row by the value of a[1, 1]\n",
    "    a[1] = a[1] / a[1,1]\n",
    "    return a"
   ]
  },
  {
   "cell_type": "code",
   "execution_count": 6,
   "metadata": {},
   "outputs": [],
   "source": [
    "# 3rd row\n",
    "def fix_row_two(a) :\n",
    "\n",
    "    # setting the sub-diagonal elements to zero, i.e. a[2,0] and a[2,1]\n",
    "    a[2] = a[2] - a[2,0] * a[0]\n",
    "    a[2] = a[2] - a[2,1] * a[1]\n",
    "    \n",
    "    # check if the sub-diagonal elements a[2,0] and a[2,1] are equal to zero\n",
    "    if a[2,2] == 0 :\n",
    "        a[2] = a[2] + a[3]\n",
    "        a[2] = a[2] - a[2,0] * a[0]\n",
    "        a[2] = a[2] - a[2,1] * a[1]\n",
    "        \n",
    "        a[2] = a[2] + a[3]\n",
    "        a[2] = a[2] - a[1,0] * a[0]\n",
    "\n",
    "    if a[2,2] == 0 :\n",
    "        raise matrix_is_Singular()\n",
    "    # setting the diagonal element to one by dividing the 3rd row by the value of a[2,2]\n",
    "    a[2] = a[2] / a[2,2]\n",
    "    return a\n"
   ]
  },
  {
   "cell_type": "code",
   "execution_count": 7,
   "metadata": {},
   "outputs": [],
   "source": [
    "# 4th row\n",
    "def fix_row_three(a) :\n",
    "\n",
    "    # setting the sub-diagonal elements to zero, i.e. elements a[3,0], a[3,1], and a[3,2]\n",
    "    a[3] = a[3] - a[3,0] * a[0]\n",
    "    a[3] = a[3] - a[3,1] * a[1]\n",
    "    a[3] = a[3] - a[3,2] * a[2]\n",
    "    \n",
    "    if a[3,3] == 0 :\n",
    "        raise matrix_is_Singular()\n",
    "    # Transform the row to set the diagonal element to one.\n",
    "    # setting the diagonal element a[3,3] to one by dividing the 4th row by the value of a[3,3]\n",
    "    a[3] = a[3] / a[3,3] \n",
    "    \n",
    "    return a"
   ]
  }
 ]
}