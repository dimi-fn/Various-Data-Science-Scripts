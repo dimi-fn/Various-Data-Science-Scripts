{
 "metadata": {
  "language_info": {
   "codemirror_mode": {
    "name": "ipython",
    "version": 3
   },
   "file_extension": ".py",
   "mimetype": "text/x-python",
   "name": "python",
   "nbconvert_exporter": "python",
   "pygments_lexer": "ipython3",
   "version": "3.8.3-final"
  },
  "orig_nbformat": 2,
  "kernelspec": {
   "name": "python3",
   "display_name": "Python 3"
  }
 },
 "nbformat": 4,
 "nbformat_minor": 2,
 "cells": [
  {
   "cell_type": "code",
   "execution_count": 1,
   "metadata": {},
   "outputs": [],
   "source": [
    "import numpy as np\n",
    "import numpy.linalg as la\n",
    "\n",
    "small_number= 1e-14 \n",
    "\n",
    "def gram_schmidt_basis(A):\n",
    "\n",
    "    # set B as a copy of A, since its values are going to be altered\n",
    "    B = np.array(A, dtype=np.float_) \n",
    "\n",
    "    # looping over the vectors, starting with zero, label them with i\n",
    "    for i in range(B.shape[1]) :\n",
    "\n",
    "        # Inside the above loop, looping all previous j vectors to substract\n",
    "        for j in range(i):\n",
    "\n",
    "            # Substracting the overlap with previous vectors using the corresponding dot product\n",
    "            # current vector is B[:, i], previous vector is B[:, j]\n",
    "            B[:, i] = B[:,i] - B[:,i] @ B[:,j] * B[:,j]\n",
    "\n",
    "        # normalisation test for B[:, i]\n",
    "        if la.norm(B[:, i]) > small_number:\n",
    "            B[:, i] = B[:, i] / la.norm(B[:, i])  \n",
    "        else :\n",
    "            B[:, i] = np.zeros_like(B[:, i])      \n",
    "            \n",
    "    # returning the result\n",
    "    return B\n",
    "\n",
    "# using the Gram-schmidt process to calculate the dimension spanned by a list of vectors\n",
    "# the sum of all the norms will be the final number of dimensions (since each vector is normalized to 1 or 0)\n",
    "def calc_dimensions(A):\n",
    "    return np.sum(la.norm(gram_schmidt_basis(A), axis=0))"
   ]
  },
  {
   "cell_type": "code",
   "execution_count": 2,
   "metadata": {},
   "outputs": [
    {
     "output_type": "execute_result",
     "data": {
      "text/plain": [
       "array([[ 0.40824829, -0.1814885 ,  0.04982278,  0.89325973],\n",
       "       [ 0.        ,  0.1088931 ,  0.99349591, -0.03328918],\n",
       "       [ 0.81649658,  0.50816781, -0.06462163, -0.26631346],\n",
       "       [ 0.40824829, -0.83484711,  0.07942048, -0.36063281]])"
      ]
     },
     "metadata": {},
     "execution_count": 2
    }
   ],
   "source": [
    "# test the function\n",
    "vector_v = np.array([[1,0,2,6],\n",
    "                    [0,1,8,2],\n",
    "                    [2,8,3,1],\n",
    "                    [1,-6,2,3]], dtype=np.float_)\n",
    "\n",
    "gram_schmidt_basis(vector_v)"
   ]
  },
  {
   "cell_type": "code",
   "execution_count": 3,
   "metadata": {},
   "outputs": [
    {
     "output_type": "execute_result",
     "data": {
      "text/plain": [
       "4.0"
      ]
     },
     "metadata": {},
     "execution_count": 3
    }
   ],
   "source": [
    "# find number of dimensions of \"vector_v\"\n",
    "calc_dimensions(vector_v)"
   ]
  }
 ]
}