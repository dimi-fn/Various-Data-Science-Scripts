{
 "metadata": {
  "language_info": {
   "codemirror_mode": {
    "name": "ipython",
    "version": 3
   },
   "file_extension": ".py",
   "mimetype": "text/x-python",
   "name": "python",
   "nbconvert_exporter": "python",
   "pygments_lexer": "ipython3",
   "version": "3.8.3-final"
  },
  "orig_nbformat": 2,
  "kernelspec": {
   "name": "python3",
   "display_name": "Python 3",
   "language": "python"
  }
 },
 "nbformat": 4,
 "nbformat_minor": 2,
 "cells": [
  {
   "source": [
    "# *args and **kwargs\n",
    "*args and **kwargs can be useful when we want to pass a variable (non pre-defined) number of arguments to a function using special symbols, making the function more flexible.\n",
    "- Thus, we can use *args and **kwargs as an argument when the number of arguments to be passed in the function is not pre-fixed.\n",
    "    * *args (Non Keyword Arguments)\n",
    "    * **kwargs (Keyword Arguments)"
   ],
   "cell_type": "markdown",
   "metadata": {}
  },
  {
   "cell_type": "code",
   "execution_count": 1,
   "metadata": {},
   "outputs": [
    {
     "output_type": "execute_result",
     "data": {
      "text/plain": [
       "'\\ndef add_function(x,y,z):\\n    print(\"sum:\",x+y+z)\\n\\nadd_function(3,10,5,4)\\n'"
      ]
     },
     "metadata": {},
     "execution_count": 1
    }
   ],
   "source": [
    "# for example, without using *args/ **kwargs, the following will give an error:\n",
    "'''\n",
    "def add_function(x,y,z):\n",
    "    print(\"sum:\",x+y+z)\n",
    "\n",
    "add_function(3,10,5,4)\n",
    "'''\n",
    "# since it is restricted only to 3 positional arguments and we gave 4"
   ]
  },
  {
   "source": [
    "## *args\n",
    "\n",
    "- arguments are passed as a **list**\n",
    "* more specifically, *args passes variable number of non-keyworded arguments list, and on which operation of the list can be performed\n",
    "\n"
   ],
   "cell_type": "markdown",
   "metadata": {}
  },
  {
   "cell_type": "code",
   "execution_count": 2,
   "metadata": {},
   "outputs": [
    {
     "output_type": "stream",
     "name": "stdout",
     "text": [
      "The sum is: 13\nThe sum is: 45\nThe sum is: 49\n"
     ]
    }
   ],
   "source": [
    "def add_function(*args):\n",
    "\n",
    "    sum = 0\n",
    "    for num in args:\n",
    "        sum = sum + num\n",
    "\n",
    "    print(\"The sum is:\", sum)\n",
    "\n",
    "add_function(3,10)\n",
    "add_function(30,10,5)\n",
    "add_function(30,10,5,4)"
   ]
  },
  {
   "cell_type": "code",
   "execution_count": 3,
   "metadata": {},
   "outputs": [
    {
     "output_type": "stream",
     "name": "stdout",
     "text": [
      "The sum is: 13\nThe sum is: 45\nThe sum is: 49\n"
     ]
    }
   ],
   "source": [
    "# instead of \"*args\", we can use any other name:\n",
    "\n",
    "def add_function(*numbers):\n",
    "\n",
    "    sum = 0\n",
    "    for num in numbers:\n",
    "        sum = sum + num\n",
    "\n",
    "    print(\"The sum is:\", sum)\n",
    "\n",
    "add_function(3,10)\n",
    "add_function(30,10,5)\n",
    "add_function(30,10,5,4)"
   ]
  },
  {
   "source": [
    "## **kwargs\n",
    "\n",
    "**kwargs passes variable number of keyword arguments **dictionary** to function on which operation of a dictionary can be performed\n"
   ],
   "cell_type": "markdown",
   "metadata": {}
  },
  {
   "cell_type": "code",
   "execution_count": 4,
   "metadata": {},
   "outputs": [
    {
     "output_type": "stream",
     "name": "stdout",
     "text": [
      "\nData type of the argument is: <class 'dict'>\n***************************************************************\nfirstname is: Peter\nlastname is: Dosh\nage is: 22\nphone is: 1234567890\n\nData type of the argument is: <class 'dict'>\n***************************************************************\nfirstname is: John\nlastname is: Last\nage is: 32\nemail is: johnlast@mail.com\ncountry is: Norway\nphone is: 9999888\n"
     ]
    }
   ],
   "source": [
    "def intro(**kwargs):\n",
    "    print(\"\\nData type of the argument is: {}\".format(type(kwargs)))\n",
    "    print(\"***************************************************************\")\n",
    "\n",
    "    for key, value in kwargs.items():\n",
    "        print(\"{} is: {}\".format(key, value))\n",
    "\n",
    "intro(firstname=\"Peter\", lastname=\"Dosh\", age=22, phone=1234567890)\n",
    "intro(firstname=\"John\", lastname=\"Last\", age=32, email=\"johnlast@mail.com\", country=\"Norway\", phone=9999888)"
   ]
  }
 ]
}