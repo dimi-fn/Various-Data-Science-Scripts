{
 "metadata": {
  "language_info": {
   "codemirror_mode": {
    "name": "ipython",
    "version": 3
   },
   "file_extension": ".py",
   "mimetype": "text/x-python",
   "name": "python",
   "nbconvert_exporter": "python",
   "pygments_lexer": "ipython3",
   "version": 3
  },
  "orig_nbformat": 2
 },
 "nbformat": 4,
 "nbformat_minor": 2,
 "cells": [
  {
   "source": [
    "# *args and **kwargs\n",
    "*args and **kwargs can be useful when we want to pass a variable (non pre-defined) number of arguments to a function using special symbols\n",
    "- Thus, we can use *args and **kwargs as an argument <u>when the number of arguments to be passed in the function is not pre-fixed</u>.\n",
    "\n",
    "    * *args (Non Keyword Arguments)\n",
    "    * **kwargs (Keyword Arguments)"
   ],
   "cell_type": "markdown",
   "metadata": {}
  },
  {
   "cell_type": "code",
   "execution_count": null,
   "metadata": {},
   "outputs": [],
   "source": [
    "# for example, without using *args/ **kwargs, the following will give an error:\n",
    "'''\n",
    "def adder(x,y,z):\n",
    "    print(\"sum:\",x+y+z)\n",
    "\n",
    "adder(5,10,15,20,25)\n",
    "'''\n",
    "# since it is restricted only to 3 arguments"
   ]
  },
  {
   "source": [
    "## *args"
   ],
   "cell_type": "markdown",
   "metadata": {}
  },
  {
   "cell_type": "code",
   "execution_count": null,
   "metadata": {},
   "outputs": [],
   "source": []
  }
 ]
}