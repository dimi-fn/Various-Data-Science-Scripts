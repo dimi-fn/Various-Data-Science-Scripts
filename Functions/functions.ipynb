{
 "metadata": {
  "language_info": {
   "codemirror_mode": {
    "name": "ipython",
    "version": 3
   },
   "file_extension": ".py",
   "mimetype": "text/x-python",
   "name": "python",
   "nbconvert_exporter": "python",
   "pygments_lexer": "ipython3",
   "version": "3.8.3-final"
  },
  "orig_nbformat": 2,
  "kernelspec": {
   "name": "python3",
   "display_name": "Python 3",
   "language": "python"
  }
 },
 "nbformat": 4,
 "nbformat_minor": 2,
 "cells": [
  {
   "source": [
    "# *args and **kwargs\n",
    "*args and **kwargs can be useful when we want to pass a variable (non pre-defined) number of arguments to a function using special symbols\n",
    "- Thus, we can use *args and **kwargs as an argument <u>when the number of arguments to be passed in the function is not pre-fixed</u>.\n",
    "    * *args (Non Keyword Arguments)\n",
    "    * **kwargs (Keyword Arguments)"
   ],
   "cell_type": "markdown",
   "metadata": {}
  },
  {
   "cell_type": "code",
   "execution_count": 1,
   "metadata": {},
   "outputs": [
    {
     "output_type": "execute_result",
     "data": {
      "text/plain": [
       "'\\ndef add_function(x,y,z):\\n    print(\"sum:\",x+y+z)\\n\\nadd_function(3,10,5,4)\\n'"
      ]
     },
     "metadata": {},
     "execution_count": 1
    }
   ],
   "source": [
    "# for example, without using *args/ **kwargs, the following will give an error:\n",
    "'''\n",
    "def add_function(x,y,z):\n",
    "    print(\"sum:\",x+y+z)\n",
    "\n",
    "add_function(3,10,5,4)\n",
    "'''\n",
    "# since it is restricted only to 3 positional arguments and we gave 4"
   ]
  },
  {
   "source": [
    "## *args\n",
    "\n",
    "- arguments are passed as a **tuple**\n",
    "\n"
   ],
   "cell_type": "markdown",
   "metadata": {}
  },
  {
   "cell_type": "code",
   "execution_count": 2,
   "metadata": {},
   "outputs": [
    {
     "output_type": "stream",
     "name": "stdout",
     "text": [
      "The sum is: 13\nThe sum is: 45\nThe sum is: 49\n"
     ]
    }
   ],
   "source": [
    "def add_function(*args):\n",
    "\n",
    "    sum = 0\n",
    "    for n in args:\n",
    "        sum = sum + n\n",
    "\n",
    "    print(\"The sum is:\", sum)\n",
    "\n",
    "add_function(3,10)\n",
    "add_function(30,10,5)\n",
    "add_function(30,10,5,4)"
   ]
  },
  {
   "cell_type": "code",
   "execution_count": 3,
   "metadata": {},
   "outputs": [
    {
     "output_type": "stream",
     "name": "stdout",
     "text": [
      "The sum is: 13\nThe sum is: 45\nThe sum is: 49\n"
     ]
    }
   ],
   "source": [
    "# instead of \"*args\", we can use any other name:\n",
    "\n",
    "def add_function(*numbers):\n",
    "\n",
    "    sum = 0\n",
    "    for n in numbers:\n",
    "        sum = sum + n\n",
    "\n",
    "    print(\"The sum is:\", sum)\n",
    "\n",
    "add_function(3,10)\n",
    "add_function(30,10,5)\n",
    "add_function(30,10,5,4)"
   ]
  },
  {
   "source": [
    "## **kwargs\n",
    "\n",
    "- It allows us to pass the variable length of keyword arguments to the function\n",
    "* The arguments are passed as a **dictionary**\n",
    "\n",
    "\n",
    "\n"
   ],
   "cell_type": "markdown",
   "metadata": {}
  },
  {
   "cell_type": "code",
   "execution_count": 4,
   "metadata": {},
   "outputs": [
    {
     "output_type": "stream",
     "name": "stdout",
     "text": [
      "\nData type of the argument is: <class 'dict'>\n***************************************************************\nFirst_name is: Peter\nLastname is: Sharma\nAge is: 22\nPhone is: 1234567890\n\nData type of the argument is: <class 'dict'>\n***************************************************************\nFirstname is: John\nLastname is: Wood\nEmail is: johnwood@nomail.com\nCountry is: Wakanda\nAge is: 25\nPhone is: 9876543210\n"
     ]
    }
   ],
   "source": [
    "def intro(**kwargs):\n",
    "    print(\"\\nData type of the argument is: {}\".format(type(kwargs)))\n",
    "    print(\"***************************************************************\")\n",
    "\n",
    "    for key, value in kwargs.items():\n",
    "        print(\"{} is: {}\".format(key, value))\n",
    "\n",
    "intro(First_name=\"Peter\", Lastname=\"Sharma\", Age=22, Phone=1234567890)\n",
    "intro(Firstname=\"John\", Lastname=\"Wood\", Email=\"johnwood@nomail.com\", Country=\"Wakanda\", Age=25, Phone=9876543210)"
   ]
  },
  {
   "cell_type": "code",
   "execution_count": null,
   "metadata": {},
   "outputs": [],
   "source": []
  },
  {
   "cell_type": "code",
   "execution_count": null,
   "metadata": {},
   "outputs": [],
   "source": []
  },
  {
   "cell_type": "code",
   "execution_count": null,
   "metadata": {},
   "outputs": [],
   "source": []
  },
  {
   "cell_type": "code",
   "execution_count": null,
   "metadata": {},
   "outputs": [],
   "source": []
  },
  {
   "cell_type": "code",
   "execution_count": null,
   "metadata": {},
   "outputs": [],
   "source": []
  }
 ]
}