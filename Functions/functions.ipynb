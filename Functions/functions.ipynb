{
  "nbformat": 4,
  "nbformat_minor": 0,
  "metadata": {
    "colab": {
      "name": "Functions.ipynb",
      "provenance": [],
      "collapsed_sections": [],
      "authorship_tag": "ABX9TyP3DkB0EcrERthjyXrN83Cz",
      "include_colab_link": true
    },
    "kernelspec": {
      "name": "python3",
      "display_name": "Python 3",
      "language": "python"
    }
  },
  "cells": [
    {
      "cell_type": "markdown",
      "metadata": {
        "id": "view-in-github",
        "colab_type": "text"
      },
      "source": [
        "<a href=\"https://colab.research.google.com/github/dimi-fn/Various-Data-Science-Scripts/blob/main/Functions.ipynb\" target=\"_parent\"><img src=\"https://colab.research.google.com/assets/colab-badge.svg\" alt=\"Open In Colab\"/></a>"
      ]
    },
    {
      "cell_type": "markdown",
      "metadata": {
        "id": "50KVICIWWgCj"
      },
      "source": [
        "# *args and **kwargs\r\n",
        "*args and **kwargs can be useful when we want to pass a variable (non pre-defined) number of arguments to a function using special symbols, making the function more flexible.\r\n",
        "- Thus, we can use *args and **kwargs as an argument <ins>when the number of arguments to be passed in the function is not pre-fixed</ins>.\r\n",
        "    * args: <ins>Non Keyword Arguments</ins> --> **Positional** arguments are declared by a _name_ only.\r\n",
        "    * kwargs: <ins>Keyword Arguments</ins> --> they are declared by a _name_ and a default _value_ (like key-value pairs in dictionaries)\r\n",
        "\r\n",
        "    * we first need to declare the positional arguments (args) and then the kewyord arguments (kwargs).\r\n",
        "\r\n",
        "    * the 1 and 2 asterisks in args and kwargs accordingly are mandatory, but the variable names can change - although it is common to maintain them."
      ]
    },
    {
      "cell_type": "code",
      "metadata": {
        "colab": {
          "base_uri": "https://localhost:8080/",
          "height": 35
        },
        "id": "E9p3NJLPWgie",
        "outputId": "ffc6a6bd-2e9c-43ad-cef1-73066ba52a77"
      },
      "source": [
        "# for example, without using *args/ **kwargs, the following will give an error:\r\n",
        "'''\r\n",
        "def add_function(x,y,z):\r\n",
        "    print(\"sum:\",x+y+z)\r\n",
        "\r\n",
        "add_function(3,10,5,4)\r\n",
        "'''\r\n",
        "# since it is restricted only to 3 positional arguments and we gave 4"
      ],
      "execution_count": 1,
      "outputs": [
        {
          "output_type": "execute_result",
          "data": {
            "application/vnd.google.colaboratory.intrinsic+json": {
              "type": "string"
            },
            "text/plain": [
              "'\\ndef add_function(x,y,z):\\n    print(\"sum:\",x+y+z)\\n\\nadd_function(3,10,5,4)\\n'"
            ]
          },
          "metadata": {
            "tags": []
          },
          "execution_count": 1
        }
      ]
    },
    {
      "cell_type": "markdown",
      "metadata": {
        "id": "4WSyd0yNWnQv"
      },
      "source": [
        "## *args\r\n",
        "\r\n",
        "- arguments are passed as a **list**\r\n",
        "* more specifically, *args passes variable number of non-keyworded arguments list, and on which operation of the list can be performed\r\n",
        "\r\n"
      ]
    },
    {
      "cell_type": "code",
      "metadata": {
        "colab": {
          "base_uri": "https://localhost:8080/"
        },
        "id": "u4bO8C-1Wi2j",
        "outputId": "f6af8dfd-49b9-4008-f518-91334b9c899a"
      },
      "source": [
        "def add_function(*args):\r\n",
        "\r\n",
        "    sum = 0\r\n",
        "    for num in args:\r\n",
        "        sum = sum + num\r\n",
        "\r\n",
        "    print(\"The sum is:\", sum)\r\n",
        "\r\n",
        "add_function(3,10)\r\n",
        "add_function(30,10,5)\r\n",
        "add_function(30,10,5,4)"
      ],
      "execution_count": 2,
      "outputs": [
        {
          "output_type": "stream",
          "text": [
            "The sum is: 13\n",
            "The sum is: 45\n",
            "The sum is: 49\n"
          ],
          "name": "stdout"
        }
      ]
    },
    {
      "cell_type": "code",
      "metadata": {
        "colab": {
          "base_uri": "https://localhost:8080/"
        },
        "id": "tBsZYtCrWovu",
        "outputId": "6d70d274-e521-4c06-b917-1047a65a22d1"
      },
      "source": [
        "# we can use any other name instead of *args:\r\n",
        "def add_function(*numbers):\r\n",
        "\r\n",
        "    sum = 0\r\n",
        "    for num in numbers:\r\n",
        "        sum = sum + num\r\n",
        "\r\n",
        "    print(\"The sum is:\", sum)\r\n",
        "\r\n",
        "add_function(3,10)\r\n",
        "add_function(30,10,5)\r\n",
        "add_function(30,10,5,4)"
      ],
      "execution_count": 3,
      "outputs": [
        {
          "output_type": "stream",
          "text": [
            "The sum is: 13\n",
            "The sum is: 45\n",
            "The sum is: 49\n"
          ],
          "name": "stdout"
        }
      ]
    },
    {
      "cell_type": "code",
      "metadata": {
        "colab": {
          "base_uri": "https://localhost:8080/"
        },
        "id": "WGZ_tNmaWqFo",
        "outputId": "336f509c-a4b2-43e7-da13-1c42a33f9f8a"
      },
      "source": [
        "def operation(*args):\r\n",
        "\r\n",
        "    sum = 0\r\n",
        "    multip= 1\r\n",
        "    for num in args:\r\n",
        "\r\n",
        "        # sum+=num\r\n",
        "        sum = sum + num\r\n",
        "\r\n",
        "        # multip*=num\r\n",
        "        multip = multip * num\r\n",
        "\r\n",
        "    print(\"Sum is: {}\".format(sum))\r\n",
        "    print(\"Multiplication is: {}\\n\".format(multip))\r\n",
        "\r\n",
        "\r\n",
        "operation(3,2)\r\n",
        "operation(3,2,5)\r\n",
        "operation(3,2,5,4)"
      ],
      "execution_count": 4,
      "outputs": [
        {
          "output_type": "stream",
          "text": [
            "Sum is: 5\n",
            "Multiplication is: 6\n",
            "\n",
            "Sum is: 10\n",
            "Multiplication is: 30\n",
            "\n",
            "Sum is: 14\n",
            "Multiplication is: 120\n",
            "\n"
          ],
          "name": "stdout"
        }
      ]
    },
    {
      "cell_type": "markdown",
      "metadata": {
        "id": "sINLKIjIWu1Y"
      },
      "source": [
        "## **kwargs\r\n",
        "\r\n",
        "**kwargs passes variable number of keyword arguments <ins>dictionary</ins> to function on which operation of a dictionary can be performed\r\n",
        "\r\n",
        "* it does the same operation as *args but for keyword arguments."
      ]
    },
    {
      "cell_type": "code",
      "metadata": {
        "colab": {
          "base_uri": "https://localhost:8080/"
        },
        "id": "_4L4n4phWtjp",
        "outputId": "0d97e5b2-7478-49a6-d61c-536297fb3dff"
      },
      "source": [
        "def intro(**kwargs):\r\n",
        "    print(\"\\nData type of the argument is: {}\".format(type(kwargs)))\r\n",
        "    print(\"***************************************************************\")\r\n",
        "\r\n",
        "    for key, value in kwargs.items():\r\n",
        "        print(\"{} is: {}\".format(key, value))\r\n",
        "\r\n",
        "intro(firstname=\"Peter\", lastname=\"Dosh\", age=22, phone=1234567890)\r\n",
        "intro(firstname=\"John\", lastname=\"Last\", age=32, email=\"johnlast@mail.com\", country=\"Norway\", phone=9999888)"
      ],
      "execution_count": 5,
      "outputs": [
        {
          "output_type": "stream",
          "text": [
            "\n",
            "Data type of the argument is: <class 'dict'>\n",
            "***************************************************************\n",
            "firstname is: Peter\n",
            "lastname is: Dosh\n",
            "age is: 22\n",
            "phone is: 1234567890\n",
            "\n",
            "Data type of the argument is: <class 'dict'>\n",
            "***************************************************************\n",
            "firstname is: John\n",
            "lastname is: Last\n",
            "age is: 32\n",
            "email is: johnlast@mail.com\n",
            "country is: Norway\n",
            "phone is: 9999888\n"
          ],
          "name": "stdout"
        }
      ]
    },
    {
      "cell_type": "markdown",
      "metadata": {
        "id": "5hD_n-njWyq2"
      },
      "source": [
        "## Additional examples"
      ]
    },
    {
      "cell_type": "code",
      "metadata": {
        "colab": {
          "base_uri": "https://localhost:8080/"
        },
        "id": "F0vTHWQxWwnv",
        "outputId": "bda0f9f0-183b-4b2f-8476-c6564e0eda7e"
      },
      "source": [
        "#a and b are positional arguments\r\n",
        "def addition(a, b): \r\n",
        "   return a + b\r\n",
        "\r\n",
        "# thus, 2 required positional arguments\r\n",
        "print(addition(10,2))"
      ],
      "execution_count": 6,
      "outputs": [
        {
          "output_type": "stream",
          "text": [
            "12\n"
          ],
          "name": "stdout"
        }
      ]
    },
    {
      "cell_type": "code",
      "metadata": {
        "colab": {
          "base_uri": "https://localhost:8080/"
        },
        "id": "wsBHklrLW0Sg",
        "outputId": "b6ba0a7f-a530-4324-c2ba-1cf8b85e13f1"
      },
      "source": [
        "def addition(a, b=2): #a is positional, b is keyword argument\r\n",
        "   return a + b\r\n",
        "\r\n",
        "# \"b\" has been defined\r\n",
        "# only \"a\" needs to be defined   \r\n",
        "print(addition(10))"
      ],
      "execution_count": 7,
      "outputs": [
        {
          "output_type": "stream",
          "text": [
            "12\n"
          ],
          "name": "stdout"
        }
      ]
    },
    {
      "cell_type": "code",
      "metadata": {
        "colab": {
          "base_uri": "https://localhost:8080/"
        },
        "id": "e-LQ5oCkW1ae",
        "outputId": "91417eb8-e10a-41d6-ffa2-a9ee8509783e"
      },
      "source": [
        "def some_args(arg_1, arg_2, arg_3):\r\n",
        "    print(\"argument_1:\", arg_1)\r\n",
        "    print(\"argument_2:\", arg_2)\r\n",
        "    print(\"argument_3:\", arg_3)\r\n",
        "\r\n",
        "args = (\"aa\", \"ab\", \"ac\")\r\n",
        "some_args(*args)"
      ],
      "execution_count": 8,
      "outputs": [
        {
          "output_type": "stream",
          "text": [
            "argument_1: aa\n",
            "argument_2: ab\n",
            "argument_3: ac\n"
          ],
          "name": "stdout"
        }
      ]
    },
    {
      "cell_type": "markdown",
      "metadata": {
        "id": "O4SvTUNpW4CQ"
      },
      "source": [
        "# Lambda - Map Functions\r\n",
        "## Lambda Expressions\r\n",
        "\r\n",
        "Lambda expressions create functions without a name, and they are quite useful when functions are needed to be used once and they can be written in a single line.\r\n",
        "\r\n",
        "### Lambda expressions with one parameter\r\n",
        "Returning the cube of a number\r\n"
      ]
    },
    {
      "cell_type": "code",
      "metadata": {
        "colab": {
          "base_uri": "https://localhost:8080/"
        },
        "id": "URBXuJWBW2pz",
        "outputId": "3da40026-afd2-423e-d273-89035f00999a"
      },
      "source": [
        "cube= lambda num: num**3\r\n",
        "print(cube(4))"
      ],
      "execution_count": 9,
      "outputs": [
        {
          "output_type": "stream",
          "text": [
            "64\n"
          ],
          "name": "stdout"
        }
      ]
    },
    {
      "cell_type": "markdown",
      "metadata": {
        "id": "B_XTgLzOXELG"
      },
      "source": [
        "### Lambda expressions with multiple parameters"
      ]
    },
    {
      "cell_type": "code",
      "metadata": {
        "colab": {
          "base_uri": "https://localhost:8080/"
        },
        "id": "V_XnoNmoW52-",
        "outputId": "abb3273b-2948-40f1-e842-bae9623943b6"
      },
      "source": [
        "greater_number = lambda num1, num2: num1 if num1>num2 else num2\r\n",
        "greater_number(5,3)"
      ],
      "execution_count": 10,
      "outputs": [
        {
          "output_type": "execute_result",
          "data": {
            "text/plain": [
              "5"
            ]
          },
          "metadata": {
            "tags": []
          },
          "execution_count": 10
        }
      ]
    },
    {
      "cell_type": "markdown",
      "metadata": {
        "id": "Fz-t8X0pXIDw"
      },
      "source": [
        "### Filter Functions\r\n",
        "\r\n",
        "Filter functions can filter out an iterable object based on specified conditions."
      ]
    },
    {
      "cell_type": "code",
      "metadata": {
        "colab": {
          "base_uri": "https://localhost:8080/"
        },
        "id": "MUFyba9GXFWQ",
        "outputId": "219854e5-9c61-4147-9101-4be290392c5e"
      },
      "source": [
        "#numbers_list = [1,2,3,4,5,6]\r\n",
        "list_even_numbers = list(filter(lambda x:x%2==0, [1,2,3,4,5,6]))\r\n",
        "print(list_even_numbers)"
      ],
      "execution_count": 11,
      "outputs": [
        {
          "output_type": "stream",
          "text": [
            "[2, 4, 6]\n"
          ],
          "name": "stdout"
        }
      ]
    },
    {
      "cell_type": "code",
      "metadata": {
        "colab": {
          "base_uri": "https://localhost:8080/"
        },
        "id": "1MlVXhmRXJcN",
        "outputId": "b9475e05-6bd6-44b9-e155-92881a0ce764"
      },
      "source": [
        "numbers_list = range(-10, 10)\r\n",
        "positive_numbers = list(filter(lambda x: x < 0, numbers_list))\r\n",
        "print(positive_numbers)"
      ],
      "execution_count": 12,
      "outputs": [
        {
          "output_type": "stream",
          "text": [
            "[-10, -9, -8, -7, -6, -5, -4, -3, -2, -1]\n"
          ],
          "name": "stdout"
        }
      ]
    },
    {
      "cell_type": "markdown",
      "metadata": {
        "id": "mPGH0ct5XL-H"
      },
      "source": [
        "## Map Function\r\n",
        "\r\n",
        "Map functions help us apply a function to each element in an iterable object, such as lists, strings, etc.\r\n",
        "\r\n",
        "> Instead of this:"
      ]
    },
    {
      "cell_type": "code",
      "metadata": {
        "colab": {
          "base_uri": "https://localhost:8080/"
        },
        "id": "KXT_w-zJXKcF",
        "outputId": "0beaa88f-13de-48ce-fef3-2d957402166a"
      },
      "source": [
        "items = [1, 2, 3, 4, 5]\r\n",
        "squared = []\r\n",
        "for i in items:\r\n",
        "    squared.append(i**2)\r\n",
        "    \r\n",
        "print(squared)"
      ],
      "execution_count": 13,
      "outputs": [
        {
          "output_type": "stream",
          "text": [
            "[1, 4, 9, 16, 25]\n"
          ],
          "name": "stdout"
        }
      ]
    },
    {
      "cell_type": "markdown",
      "metadata": {
        "id": "4MqQbl1gXTy6"
      },
      "source": [
        "> We can have this:"
      ]
    },
    {
      "cell_type": "code",
      "metadata": {
        "colab": {
          "base_uri": "https://localhost:8080/"
        },
        "id": "QwNaSTleXSqn",
        "outputId": "20c9f22b-4902-47b3-8210-3fb736a66281"
      },
      "source": [
        "numbers_list = [1,2,3,4,5]\r\n",
        "return_squared_list = list(map(lambda x:x**2, numbers_list))\r\n",
        "print(return_squared_list)"
      ],
      "execution_count": 14,
      "outputs": [
        {
          "output_type": "stream",
          "text": [
            "[1, 4, 9, 16, 25]\n"
          ],
          "name": "stdout"
        }
      ]
    },
    {
      "cell_type": "markdown",
      "metadata": {
        "id": "rSD5RCj4XYOU"
      },
      "source": [
        "### Calling functions - map"
      ]
    },
    {
      "cell_type": "code",
      "metadata": {
        "colab": {
          "base_uri": "https://localhost:8080/"
        },
        "id": "2g7T83v7XWUT",
        "outputId": "f04e4800-5e08-4408-d8fe-024c55a60c0b"
      },
      "source": [
        "def powerof(num):\r\n",
        "    return num**2\r\n",
        "\r\n",
        "number = [1,2,3,4,5,6,7,8]\r\n",
        "\r\n",
        "s = list(map(powerof,number))\r\n",
        "print(s)"
      ],
      "execution_count": 15,
      "outputs": [
        {
          "output_type": "stream",
          "text": [
            "[1, 4, 9, 16, 25, 36, 49, 64]\n"
          ],
          "name": "stdout"
        }
      ]
    },
    {
      "cell_type": "code",
      "metadata": {
        "colab": {
          "base_uri": "https://localhost:8080/"
        },
        "id": "iB6Jkt1aZI4e",
        "outputId": "23971469-23d0-4c41-eb7b-dd129c979613"
      },
      "source": [
        "def multiply(x):\r\n",
        "    return (x*x)\r\n",
        "def add(x):\r\n",
        "    return (x+x)\r\n",
        "\r\n",
        "functions = [multiply, add]\r\n",
        "for i in range(5):\r\n",
        "  value = list(map(lambda x: x(i), functions))\r\n",
        "  print(value)"
      ],
      "execution_count": 16,
      "outputs": [
        {
          "output_type": "stream",
          "text": [
            "[0, 0]\n",
            "[1, 2]\n",
            "[4, 4]\n",
            "[9, 6]\n",
            "[16, 8]\n"
          ],
          "name": "stdout"
        }
      ]
    },
    {
      "cell_type": "markdown",
      "metadata": {
        "id": "vV0HKbR9Xbby"
      },
      "source": [
        "## Reduce\r\n",
        "\r\n",
        "It can be useful for performing computations on lists and returning the result. It applies a rolling computation to sequential **pairs** of values in a list\r\n",
        "\r\n",
        "Example: Calculate the product result from a list of a given numbers.\r\n",
        "\r\n",
        "> Long way:"
      ]
    },
    {
      "cell_type": "code",
      "metadata": {
        "colab": {
          "base_uri": "https://localhost:8080/"
        },
        "id": "cp53n54pXZz1",
        "outputId": "e5bb2813-e6b0-43bf-beee-33dfe246cfdb"
      },
      "source": [
        "product = 1\r\n",
        "list = [2, 3, 4, 5]\r\n",
        "for num in list:\r\n",
        "    product = product * num\r\n",
        "\r\n",
        "print(product)"
      ],
      "execution_count": 17,
      "outputs": [
        {
          "output_type": "stream",
          "text": [
            "120\n"
          ],
          "name": "stdout"
        }
      ]
    },
    {
      "cell_type": "markdown",
      "metadata": {
        "id": "jYZpCCQVXfAZ"
      },
      "source": [
        "> Using Reduce:"
      ]
    },
    {
      "cell_type": "code",
      "metadata": {
        "colab": {
          "base_uri": "https://localhost:8080/"
        },
        "id": "8EcskpiAXdss",
        "outputId": "f09aaee3-51a2-4967-9be5-97e02665caae"
      },
      "source": [
        "from functools import reduce\r\n",
        "list_numbers = [2, 3, 4, 5]\r\n",
        "product = reduce((lambda x, y: x * y), list_numbers)\r\n",
        "\r\n",
        "print(product)"
      ],
      "execution_count": 18,
      "outputs": [
        {
          "output_type": "stream",
          "text": [
            "120\n"
          ],
          "name": "stdout"
        }
      ]
    },
    {
      "cell_type": "markdown",
      "metadata": {
        "id": "ahREzckGXhkA"
      },
      "source": [
        "## Combining Lambda - Map - Filter\r\n",
        "\r\n",
        "Example: returning the square for those numbers that are even."
      ]
    },
    {
      "cell_type": "code",
      "metadata": {
        "id": "QO0ByMl4Xhyz"
      },
      "source": [
        "# numbers_list = [1,2,3,4,5]\r\n",
        "# return_squared_even_list = list(map(lambda x:x**2, filter(lambda x:x%2==0, numbers_list)))"
      ],
      "execution_count": 19,
      "outputs": []
    }
  ]
}