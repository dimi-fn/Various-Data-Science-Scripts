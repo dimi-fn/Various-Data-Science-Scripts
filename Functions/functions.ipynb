{
  "nbformat": 4,
  "nbformat_minor": 0,
  "metadata": {
    "colab": {
      "name": "Functions.ipynb",
      "provenance": [],
      "collapsed_sections": [],
      "authorship_tag": "ABX9TyOER59Z2CRAL2sMLWQKwrdj",
      "include_colab_link": true
    },
    "kernelspec": {
      "name": "python3",
      "display_name": "Python 3"
    }
  },
  "cells": [
    {
      "cell_type": "markdown",
      "metadata": {
        "id": "view-in-github",
        "colab_type": "text"
      },
      "source": [
        "<a href=\"https://colab.research.google.com/github/dimi-fn/Various-Data-Science-Scripts/blob/main/Functions.ipynb\" target=\"_parent\"><img src=\"https://colab.research.google.com/assets/colab-badge.svg\" alt=\"Open In Colab\"/></a>"
      ]
    },
    {
      "cell_type": "markdown",
      "metadata": {
        "id": "50KVICIWWgCj"
      },
      "source": [
        "# *args and **kwargs\r\n",
        "*args and **kwargs can be useful when we want to pass a variable (non pre-defined) number of arguments to a function using special symbols, making the function more flexible.\r\n",
        "- Thus, we can use *args and **kwargs as an argument <ins>when the number of arguments to be passed in the function is not pre-fixed</ins>.\r\n",
        "    * args: <ins>Non Keyword Arguments</ins> --> **Positional** arguments are declared by a _name_ only.\r\n",
        "    * kwargs: <ins>Keyword Arguments</ins> --> they are declared by a _name_ and a default _value_ (like key-value pairs in dictionaries)\r\n",
        "\r\n",
        "    * we first need to declare the positional arguments (args) and then the kewyord arguments (kwargs).\r\n",
        "\r\n",
        "    * the 1 and 2 asterisks in args and kwargs accordingly are mandatory, but the variable names can change - although it is common to maintain them."
      ]
    },
    {
      "cell_type": "code",
      "metadata": {
        "colab": {
          "base_uri": "https://localhost:8080/",
          "height": 35
        },
        "id": "E9p3NJLPWgie",
        "outputId": "a231913a-594b-4378-ffa9-a3c886aa86ce"
      },
      "source": [
        "# for example, without using *args/ **kwargs, the following will give an error:\r\n",
        "'''\r\n",
        "def add_function(x,y,z):\r\n",
        "    print(\"sum:\",x+y+z)\r\n",
        "\r\n",
        "add_function(3,10,5,4)\r\n",
        "'''\r\n",
        "# since it is restricted only to 3 positional arguments and we gave 4"
      ],
      "execution_count": 1,
      "outputs": [
        {
          "output_type": "execute_result",
          "data": {
            "application/vnd.google.colaboratory.intrinsic+json": {
              "type": "string"
            },
            "text/plain": [
              "'\\ndef add_function(x,y,z):\\n    print(\"sum:\",x+y+z)\\n\\nadd_function(3,10,5,4)\\n'"
            ]
          },
          "metadata": {
            "tags": []
          },
          "execution_count": 1
        }
      ]
    },
    {
      "cell_type": "markdown",
      "metadata": {
        "id": "4WSyd0yNWnQv"
      },
      "source": [
        "## *args\r\n",
        "\r\n",
        "- arguments are passed as a **list**\r\n",
        "* more specifically, *args passes variable number of non-keyworded arguments list, and on which operation of the list can be performed\r\n",
        "* useful when you want a function to be called with a different number of arguments each time you call it\r\n",
        "\r\n"
      ]
    },
    {
      "cell_type": "code",
      "metadata": {
        "colab": {
          "base_uri": "https://localhost:8080/"
        },
        "id": "u4bO8C-1Wi2j",
        "outputId": "eb736347-b81c-4947-8f91-82ce77c55183"
      },
      "source": [
        "def add_function(*args):\r\n",
        "\r\n",
        "    sum = 0\r\n",
        "    for num in args:\r\n",
        "        sum = sum + num\r\n",
        "\r\n",
        "    print(\"The sum is:\", sum)\r\n",
        "\r\n",
        "add_function(3,10)\r\n",
        "add_function(30,10,5)\r\n",
        "add_function(30,10,5,4)"
      ],
      "execution_count": 2,
      "outputs": [
        {
          "output_type": "stream",
          "text": [
            "The sum is: 13\n",
            "The sum is: 45\n",
            "The sum is: 49\n"
          ],
          "name": "stdout"
        }
      ]
    },
    {
      "cell_type": "markdown",
      "metadata": {
        "id": "InonTPLBCX95"
      },
      "source": [
        "> we can use any other name instead of *args,  however \"*args\" is commonly preferable"
      ]
    },
    {
      "cell_type": "code",
      "metadata": {
        "colab": {
          "base_uri": "https://localhost:8080/"
        },
        "id": "tBsZYtCrWovu",
        "outputId": "57455018-393f-4710-f103-ab6acc155f61"
      },
      "source": [
        "def add_function(*numbers):\r\n",
        "\r\n",
        "    sum = 0\r\n",
        "    for num in numbers:\r\n",
        "        sum = sum + num\r\n",
        "\r\n",
        "    print(\"The sum is:\", sum)\r\n",
        "\r\n",
        "add_function(3,10)\r\n",
        "add_function(30,10,5)\r\n",
        "add_function(30,10,5,4)"
      ],
      "execution_count": 3,
      "outputs": [
        {
          "output_type": "stream",
          "text": [
            "The sum is: 13\n",
            "The sum is: 45\n",
            "The sum is: 49\n"
          ],
          "name": "stdout"
        }
      ]
    },
    {
      "cell_type": "code",
      "metadata": {
        "colab": {
          "base_uri": "https://localhost:8080/"
        },
        "id": "WGZ_tNmaWqFo",
        "outputId": "d944cea0-a4ea-4719-aff6-9359c3176a9e"
      },
      "source": [
        "def operation(*args):\r\n",
        "\r\n",
        "    sum = 0\r\n",
        "    multip= 1\r\n",
        "    for num in args:\r\n",
        "\r\n",
        "        # sum+=num\r\n",
        "        sum = sum + num\r\n",
        "\r\n",
        "        # multip*=num\r\n",
        "        multip = multip * num\r\n",
        "\r\n",
        "    print(\"Sum is: {}\".format(sum))\r\n",
        "    print(\"Multiplication is: {}\\n\".format(multip))\r\n",
        "\r\n",
        "\r\n",
        "operation(3,2)\r\n",
        "operation(3,2,5)\r\n",
        "operation(3,2,5,4)"
      ],
      "execution_count": 4,
      "outputs": [
        {
          "output_type": "stream",
          "text": [
            "Sum is: 5\n",
            "Multiplication is: 6\n",
            "\n",
            "Sum is: 10\n",
            "Multiplication is: 30\n",
            "\n",
            "Sum is: 14\n",
            "Multiplication is: 120\n",
            "\n"
          ],
          "name": "stdout"
        }
      ]
    },
    {
      "cell_type": "markdown",
      "metadata": {
        "id": "sINLKIjIWu1Y"
      },
      "source": [
        "## **kwargs\r\n",
        "\r\n",
        "**kwargs passes variable number of keyword arguments <ins>dictionary</ins> to function on which operation of a dictionary can be performed\r\n",
        "\r\n",
        "* it does the same operation as *args but for keyword arguments."
      ]
    },
    {
      "cell_type": "code",
      "metadata": {
        "colab": {
          "base_uri": "https://localhost:8080/"
        },
        "id": "_4L4n4phWtjp",
        "outputId": "afe74b36-27be-4df3-d6f9-f8bb00bcc83b"
      },
      "source": [
        "def intro(**kwargs):\r\n",
        "    print(\"\\nData type of the argument is: {}\".format(type(kwargs)))\r\n",
        "    print(\"***************************************************************\")\r\n",
        "\r\n",
        "    for key, value in kwargs.items():\r\n",
        "        print(\"{} is: {}\".format(key, value))\r\n",
        "\r\n",
        "intro(firstname=\"Peter\", lastname=\"Dosh\", age=22, phone=1234567890)\r\n",
        "intro(firstname=\"John\", lastname=\"Last\", age=32, email=\"johnlast@mail.com\", country=\"Norway\", phone=9999888)"
      ],
      "execution_count": 5,
      "outputs": [
        {
          "output_type": "stream",
          "text": [
            "\n",
            "Data type of the argument is: <class 'dict'>\n",
            "***************************************************************\n",
            "firstname is: Peter\n",
            "lastname is: Dosh\n",
            "age is: 22\n",
            "phone is: 1234567890\n",
            "\n",
            "Data type of the argument is: <class 'dict'>\n",
            "***************************************************************\n",
            "firstname is: John\n",
            "lastname is: Last\n",
            "age is: 32\n",
            "email is: johnlast@mail.com\n",
            "country is: Norway\n",
            "phone is: 9999888\n"
          ],
          "name": "stdout"
        }
      ]
    },
    {
      "cell_type": "markdown",
      "metadata": {
        "id": "5hD_n-njWyq2"
      },
      "source": [
        "## Additional examples"
      ]
    },
    {
      "cell_type": "code",
      "metadata": {
        "colab": {
          "base_uri": "https://localhost:8080/"
        },
        "id": "F0vTHWQxWwnv",
        "outputId": "2fa94991-6648-4130-89c3-ef0c579e63de"
      },
      "source": [
        "#a and b are positional arguments\r\n",
        "def addition(a, b): \r\n",
        "   return a + b\r\n",
        "\r\n",
        "# thus, 2 required positional arguments\r\n",
        "print(addition(10,2))"
      ],
      "execution_count": 6,
      "outputs": [
        {
          "output_type": "stream",
          "text": [
            "12\n"
          ],
          "name": "stdout"
        }
      ]
    },
    {
      "cell_type": "code",
      "metadata": {
        "colab": {
          "base_uri": "https://localhost:8080/"
        },
        "id": "wsBHklrLW0Sg",
        "outputId": "46f3e726-d019-41a7-dd0b-dcf4535e34c5"
      },
      "source": [
        "def addition(a, b=2): #a is positional, b is keyword argument\r\n",
        "   return a + b\r\n",
        "\r\n",
        "# \"b\" has been defined\r\n",
        "# only \"a\" needs to be defined   \r\n",
        "print(addition(10))"
      ],
      "execution_count": 7,
      "outputs": [
        {
          "output_type": "stream",
          "text": [
            "12\n"
          ],
          "name": "stdout"
        }
      ]
    },
    {
      "cell_type": "code",
      "metadata": {
        "colab": {
          "base_uri": "https://localhost:8080/"
        },
        "id": "e-LQ5oCkW1ae",
        "outputId": "ba4b6d80-f00c-4e5e-a1d3-38853012c113"
      },
      "source": [
        "def some_args(arg_1, arg_2, arg_3):\r\n",
        "    print(\"argument_1:\", arg_1)\r\n",
        "    print(\"argument_2:\", arg_2)\r\n",
        "    print(\"argument_3:\", arg_3)\r\n",
        "\r\n",
        "args = (\"aa\", \"ab\", \"ac\")\r\n",
        "some_args(*args)"
      ],
      "execution_count": 8,
      "outputs": [
        {
          "output_type": "stream",
          "text": [
            "argument_1: aa\n",
            "argument_2: ab\n",
            "argument_3: ac\n"
          ],
          "name": "stdout"
        }
      ]
    },
    {
      "cell_type": "markdown",
      "metadata": {
        "id": "O4SvTUNpW4CQ"
      },
      "source": [
        "# Lambda - Map Functions\r\n",
        "## Lambda Expressions\r\n",
        "\r\n",
        "Lambda expressions create functions without a name, and they are quite useful when functions are needed to be used once and they can be written in a single line.\r\n",
        "\r\n",
        "### Lambda expressions with one parameter\r\n",
        "Returning the cube of a number\r\n"
      ]
    },
    {
      "cell_type": "code",
      "metadata": {
        "colab": {
          "base_uri": "https://localhost:8080/"
        },
        "id": "URBXuJWBW2pz",
        "outputId": "c5f3d893-3a48-47fd-b633-9bc18b89a840"
      },
      "source": [
        "cube= lambda num: num**3\r\n",
        "print(cube(4))"
      ],
      "execution_count": 9,
      "outputs": [
        {
          "output_type": "stream",
          "text": [
            "64\n"
          ],
          "name": "stdout"
        }
      ]
    },
    {
      "cell_type": "markdown",
      "metadata": {
        "id": "B_XTgLzOXELG"
      },
      "source": [
        "### Lambda expressions with multiple parameters"
      ]
    },
    {
      "cell_type": "code",
      "metadata": {
        "colab": {
          "base_uri": "https://localhost:8080/"
        },
        "id": "V_XnoNmoW52-",
        "outputId": "4f7eebad-53a9-4258-9d6f-e5b13f85c3be"
      },
      "source": [
        "greater_number = lambda num1, num2: num1 if num1>num2 else num2\r\n",
        "greater_number(5,3)"
      ],
      "execution_count": 10,
      "outputs": [
        {
          "output_type": "execute_result",
          "data": {
            "text/plain": [
              "5"
            ]
          },
          "metadata": {
            "tags": []
          },
          "execution_count": 10
        }
      ]
    },
    {
      "cell_type": "markdown",
      "metadata": {
        "id": "Fz-t8X0pXIDw"
      },
      "source": [
        "### Filter Functions\r\n",
        "\r\n",
        "Filter functions can filter out an iterable object based on specified conditions."
      ]
    },
    {
      "cell_type": "code",
      "metadata": {
        "colab": {
          "base_uri": "https://localhost:8080/"
        },
        "id": "MUFyba9GXFWQ",
        "outputId": "a91761de-de6d-421d-c126-34cac4dd1644"
      },
      "source": [
        "#numbers_list = [1,2,3,4,5,6]\r\n",
        "list_even_numbers = list(filter(lambda x:x%2==0, [1,2,3,4,5,6]))\r\n",
        "print(list_even_numbers)"
      ],
      "execution_count": 11,
      "outputs": [
        {
          "output_type": "stream",
          "text": [
            "[2, 4, 6]\n"
          ],
          "name": "stdout"
        }
      ]
    },
    {
      "cell_type": "code",
      "metadata": {
        "colab": {
          "base_uri": "https://localhost:8080/"
        },
        "id": "1MlVXhmRXJcN",
        "outputId": "1744bdc3-ada9-4db7-e261-4fad69060b3a"
      },
      "source": [
        "numbers_list = range(-10, 10)\r\n",
        "positive_numbers = list(filter(lambda x: x < 0, numbers_list))\r\n",
        "print(positive_numbers)"
      ],
      "execution_count": 12,
      "outputs": [
        {
          "output_type": "stream",
          "text": [
            "[-10, -9, -8, -7, -6, -5, -4, -3, -2, -1]\n"
          ],
          "name": "stdout"
        }
      ]
    },
    {
      "cell_type": "markdown",
      "metadata": {
        "id": "mPGH0ct5XL-H"
      },
      "source": [
        "## Map Function\r\n",
        "\r\n",
        "Map functions help us apply a function to each element in an iterable object, such as lists, strings, etc.\r\n",
        "\r\n",
        "> Instead of this:"
      ]
    },
    {
      "cell_type": "code",
      "metadata": {
        "colab": {
          "base_uri": "https://localhost:8080/"
        },
        "id": "KXT_w-zJXKcF",
        "outputId": "8d729ea7-50f1-467a-cc96-6b2513664299"
      },
      "source": [
        "items = [1, 2, 3, 4, 5]\r\n",
        "squared = []\r\n",
        "for i in items:\r\n",
        "    squared.append(i**2)\r\n",
        "    \r\n",
        "print(squared)"
      ],
      "execution_count": 13,
      "outputs": [
        {
          "output_type": "stream",
          "text": [
            "[1, 4, 9, 16, 25]\n"
          ],
          "name": "stdout"
        }
      ]
    },
    {
      "cell_type": "markdown",
      "metadata": {
        "id": "4MqQbl1gXTy6"
      },
      "source": [
        "> We can have this:"
      ]
    },
    {
      "cell_type": "code",
      "metadata": {
        "colab": {
          "base_uri": "https://localhost:8080/"
        },
        "id": "QwNaSTleXSqn",
        "outputId": "d1804f6e-4b45-4759-ec95-1d245a506147"
      },
      "source": [
        "numbers_list = [1,2,3,4,5]\r\n",
        "return_squared_list = list(map(lambda x:x**2, numbers_list))\r\n",
        "print(return_squared_list)"
      ],
      "execution_count": 14,
      "outputs": [
        {
          "output_type": "stream",
          "text": [
            "[1, 4, 9, 16, 25]\n"
          ],
          "name": "stdout"
        }
      ]
    },
    {
      "cell_type": "markdown",
      "metadata": {
        "id": "rSD5RCj4XYOU"
      },
      "source": [
        "### Calling functions - map"
      ]
    },
    {
      "cell_type": "code",
      "metadata": {
        "colab": {
          "base_uri": "https://localhost:8080/"
        },
        "id": "2g7T83v7XWUT",
        "outputId": "e46521c4-f1c1-4e25-d4fc-afa119620d2b"
      },
      "source": [
        "def powerof(num):\r\n",
        "    return num**2\r\n",
        "\r\n",
        "number = [1,2,3,4,5,6,7,8]\r\n",
        "\r\n",
        "s = list(map(powerof,number))\r\n",
        "print(s)"
      ],
      "execution_count": 15,
      "outputs": [
        {
          "output_type": "stream",
          "text": [
            "[1, 4, 9, 16, 25, 36, 49, 64]\n"
          ],
          "name": "stdout"
        }
      ]
    },
    {
      "cell_type": "code",
      "metadata": {
        "colab": {
          "base_uri": "https://localhost:8080/"
        },
        "id": "iB6Jkt1aZI4e",
        "outputId": "049cca41-2bc3-49f8-83ca-6c9c5b0b3976"
      },
      "source": [
        "def multiply(x):\r\n",
        "    return (x*x)\r\n",
        "def add(x):\r\n",
        "    return (x+x)\r\n",
        "\r\n",
        "functions = [multiply, add]\r\n",
        "for i in range(5):\r\n",
        "  value = list(map(lambda x: x(i), functions))\r\n",
        "  print(value)"
      ],
      "execution_count": 16,
      "outputs": [
        {
          "output_type": "stream",
          "text": [
            "[0, 0]\n",
            "[1, 2]\n",
            "[4, 4]\n",
            "[9, 6]\n",
            "[16, 8]\n"
          ],
          "name": "stdout"
        }
      ]
    },
    {
      "cell_type": "markdown",
      "metadata": {
        "id": "vV0HKbR9Xbby"
      },
      "source": [
        "## Reduce\r\n",
        "\r\n",
        "It can be useful for performing computations on lists and returning the result. It applies a rolling computation to sequential **pairs** of values in a list\r\n",
        "\r\n",
        "Example: Calculate the product result from a list of a given numbers.\r\n",
        "\r\n",
        "> Long way:"
      ]
    },
    {
      "cell_type": "code",
      "metadata": {
        "colab": {
          "base_uri": "https://localhost:8080/"
        },
        "id": "cp53n54pXZz1",
        "outputId": "8177ce76-f839-4790-981d-e19eecc493ec"
      },
      "source": [
        "product = 1\r\n",
        "list = [2, 3, 4, 5]\r\n",
        "for num in list:\r\n",
        "    product = product * num\r\n",
        "\r\n",
        "print(product)"
      ],
      "execution_count": 17,
      "outputs": [
        {
          "output_type": "stream",
          "text": [
            "120\n"
          ],
          "name": "stdout"
        }
      ]
    },
    {
      "cell_type": "markdown",
      "metadata": {
        "id": "jYZpCCQVXfAZ"
      },
      "source": [
        "> Using Reduce:"
      ]
    },
    {
      "cell_type": "code",
      "metadata": {
        "colab": {
          "base_uri": "https://localhost:8080/"
        },
        "id": "8EcskpiAXdss",
        "outputId": "35a90cb4-fc27-4ccd-e3bf-2bd0c306bc50"
      },
      "source": [
        "from functools import reduce\r\n",
        "list_numbers = [2, 3, 4, 5]\r\n",
        "product = reduce((lambda x, y: x * y), list_numbers)\r\n",
        "\r\n",
        "print(product)"
      ],
      "execution_count": 18,
      "outputs": [
        {
          "output_type": "stream",
          "text": [
            "120\n"
          ],
          "name": "stdout"
        }
      ]
    },
    {
      "cell_type": "markdown",
      "metadata": {
        "id": "ahREzckGXhkA"
      },
      "source": [
        "## Combining Lambda - Map - Filter\r\n",
        "\r\n",
        "Example: returning the square for those numbers that are even."
      ]
    },
    {
      "cell_type": "code",
      "metadata": {
        "id": "QO0ByMl4Xhyz"
      },
      "source": [
        "# numbers_list = [1,2,3,4,5]\r\n",
        "# return_squared_even_list = list(map(lambda x:x**2, filter(lambda x:x%2==0, numbers_list)))"
      ],
      "execution_count": 19,
      "outputs": []
    },
    {
      "cell_type": "markdown",
      "metadata": {
        "id": "Z82v9u258ps1"
      },
      "source": [
        "# Recursive vs Iterative Functions"
      ]
    },
    {
      "cell_type": "code",
      "metadata": {
        "colab": {
          "base_uri": "https://localhost:8080/"
        },
        "id": "Y1hcgkrL8wNV",
        "outputId": "f3875d3f-4169-4c3b-dfe1-eed9e991bfbe"
      },
      "source": [
        "# An iterative function repeatedly gets executed until the controlling condition becomes false\r\n",
        "\r\n",
        "def iterative_sum(n):\r\n",
        "\r\n",
        "    result = 1\r\n",
        "\r\n",
        "   # controlling condition: n+1\r\n",
        "    for i in range(2,n+1):\r\n",
        "        result *= i\r\n",
        "    return result\r\n",
        "print(iterative_sum(4))"
      ],
      "execution_count": 20,
      "outputs": [
        {
          "output_type": "stream",
          "text": [
            "24\n"
          ],
          "name": "stdout"
        }
      ]
    },
    {
      "cell_type": "code",
      "metadata": {
        "colab": {
          "base_uri": "https://localhost:8080/"
        },
        "id": "QLGn_55H9Pqp",
        "outputId": "bcdd39ca-721b-4271-ecb5-28e034cc8a55"
      },
      "source": [
        "# A recursive function calls itself\r\n",
        "def recursive_sum(n):\r\n",
        "    if n == 1:\r\n",
        "        return 1\r\n",
        "    else:\r\n",
        "        return n * recursive_sum(n-1)\r\n",
        "print(recursive_sum(4))"
      ],
      "execution_count": 21,
      "outputs": [
        {
          "output_type": "stream",
          "text": [
            "24\n"
          ],
          "name": "stdout"
        }
      ]
    }
  ]
}