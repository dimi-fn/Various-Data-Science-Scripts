{
 "metadata": {
  "language_info": {
   "codemirror_mode": {
    "name": "ipython",
    "version": 3
   },
   "file_extension": ".py",
   "mimetype": "text/x-python",
   "name": "python",
   "nbconvert_exporter": "python",
   "pygments_lexer": "ipython3",
   "version": "3.8.3-final"
  },
  "orig_nbformat": 2,
  "kernelspec": {
   "name": "python3",
   "display_name": "Python 3",
   "language": "python"
  }
 },
 "nbformat": 4,
 "nbformat_minor": 2,
 "cells": [
  {
   "source": [
    "# *args and **kwargs\n",
    "*args and **kwargs can be useful when we want to pass a variable (non pre-defined) number of arguments to a function using special symbols, making the function more flexible.\n",
    "- Thus, we can use *args and **kwargs as an argument <ins>when the number of arguments to be passed in the function is not pre-fixed</ins>.\n",
    "    * args: <ins>Non Keyword Arguments</ins> --> **Positional** arguments are declared by a _name_ only.\n",
    "    * kwargs: <ins>Keyword Arguments</ins> --> they are declared by a _name_ and a default _value_ (like key-value pairs in dictionaries)\n",
    "\n",
    "    * we first need to declare the positional arguments (args) and then the kewyord arguments (kwargs).\n",
    "\n",
    "    * the 1 and 2 asterisks in args and kwargs accordingly are mandatory, but the variable names can change - although it is common to maintain them."
   ],
   "cell_type": "markdown",
   "metadata": {}
  },
  {
   "cell_type": "code",
   "execution_count": 1,
   "metadata": {},
   "outputs": [
    {
     "output_type": "execute_result",
     "data": {
      "text/plain": [
       "'\\ndef add_function(x,y,z):\\n    print(\"sum:\",x+y+z)\\n\\nadd_function(3,10,5,4)\\n'"
      ]
     },
     "metadata": {},
     "execution_count": 1
    }
   ],
   "source": [
    "# for example, without using *args/ **kwargs, the following will give an error:\n",
    "'''\n",
    "def add_function(x,y,z):\n",
    "    print(\"sum:\",x+y+z)\n",
    "\n",
    "add_function(3,10,5,4)\n",
    "'''\n",
    "# since it is restricted only to 3 positional arguments and we gave 4"
   ]
  },
  {
   "source": [
    "## *args\n",
    "\n",
    "- arguments are passed as a **list**\n",
    "* more specifically, *args passes variable number of non-keyworded arguments list, and on which operation of the list can be performed\n",
    "\n"
   ],
   "cell_type": "markdown",
   "metadata": {}
  },
  {
   "cell_type": "code",
   "execution_count": 2,
   "metadata": {},
   "outputs": [
    {
     "output_type": "stream",
     "name": "stdout",
     "text": [
      "The sum is: 13\nThe sum is: 45\nThe sum is: 49\n"
     ]
    }
   ],
   "source": [
    "def add_function(*args):\n",
    "\n",
    "    sum = 0\n",
    "    for num in args:\n",
    "        sum = sum + num\n",
    "\n",
    "    print(\"The sum is:\", sum)\n",
    "\n",
    "add_function(3,10)\n",
    "add_function(30,10,5)\n",
    "add_function(30,10,5,4)"
   ]
  },
  {
   "cell_type": "code",
   "execution_count": 3,
   "metadata": {},
   "outputs": [
    {
     "output_type": "stream",
     "name": "stdout",
     "text": [
      "The sum is: 13\nThe sum is: 45\nThe sum is: 49\n"
     ]
    }
   ],
   "source": [
    "# we can use any other name instead of *args:\n",
    "def add_function(*numbers):\n",
    "\n",
    "    sum = 0\n",
    "    for num in numbers:\n",
    "        sum = sum + num\n",
    "\n",
    "    print(\"The sum is:\", sum)\n",
    "\n",
    "add_function(3,10)\n",
    "add_function(30,10,5)\n",
    "add_function(30,10,5,4)"
   ]
  },
  {
   "cell_type": "code",
   "execution_count": 4,
   "metadata": {},
   "outputs": [
    {
     "output_type": "stream",
     "name": "stdout",
     "text": [
      "Sum is: 5\nMultiplication is: 6\n\nSum is: 10\nMultiplication is: 30\n\nSum is: 14\nMultiplication is: 120\n\n"
     ]
    }
   ],
   "source": [
    "def operation(*args):\n",
    "\n",
    "    sum = 0\n",
    "    multip= 1\n",
    "    for num in args:\n",
    "\n",
    "        # sum+=num\n",
    "        sum = sum + num\n",
    "\n",
    "        # multip*=num\n",
    "        multip = multip * num\n",
    "\n",
    "    print(\"Sum is: {}\".format(sum))\n",
    "    print(\"Multiplication is: {}\\n\".format(multip))\n",
    "\n",
    "\n",
    "operation(3,2)\n",
    "operation(3,2,5)\n",
    "operation(3,2,5,4)"
   ]
  },
  {
   "source": [
    "## **kwargs\n",
    "\n",
    "**kwargs passes variable number of keyword arguments <ins>dictionary</ins> to function on which operation of a dictionary can be performed\n",
    "\n",
    "* it does the same operation as *args but for keyword arguments.\n"
   ],
   "cell_type": "markdown",
   "metadata": {}
  },
  {
   "cell_type": "code",
   "execution_count": 5,
   "metadata": {},
   "outputs": [
    {
     "output_type": "stream",
     "name": "stdout",
     "text": [
      "\nData type of the argument is: <class 'dict'>\n***************************************************************\nfirstname is: Peter\nlastname is: Dosh\nage is: 22\nphone is: 1234567890\n\nData type of the argument is: <class 'dict'>\n***************************************************************\nfirstname is: John\nlastname is: Last\nage is: 32\nemail is: johnlast@mail.com\ncountry is: Norway\nphone is: 9999888\n"
     ]
    }
   ],
   "source": [
    "def intro(**kwargs):\n",
    "    print(\"\\nData type of the argument is: {}\".format(type(kwargs)))\n",
    "    print(\"***************************************************************\")\n",
    "\n",
    "    for key, value in kwargs.items():\n",
    "        print(\"{} is: {}\".format(key, value))\n",
    "\n",
    "intro(firstname=\"Peter\", lastname=\"Dosh\", age=22, phone=1234567890)\n",
    "intro(firstname=\"John\", lastname=\"Last\", age=32, email=\"johnlast@mail.com\", country=\"Norway\", phone=9999888)"
   ]
  },
  {
   "source": [
    "## Additional examples\n",
    "\n"
   ],
   "cell_type": "markdown",
   "metadata": {}
  },
  {
   "cell_type": "code",
   "execution_count": 6,
   "metadata": {},
   "outputs": [
    {
     "output_type": "stream",
     "name": "stdout",
     "text": [
      "12\n"
     ]
    }
   ],
   "source": [
    "#a and b are positional arguments\n",
    "def addition(a, b): \n",
    "   return a + b\n",
    "\n",
    "# thus, 2 required positional arguments\n",
    "print(addition(10,2))"
   ]
  },
  {
   "cell_type": "code",
   "execution_count": 7,
   "metadata": {},
   "outputs": [
    {
     "output_type": "stream",
     "name": "stdout",
     "text": [
      "12\n"
     ]
    }
   ],
   "source": [
    "def addition(a, b=2): #a is positional, b is keyword argument\n",
    "   return a + b\n",
    "\n",
    "# \"b\" has been defined\n",
    "# only \"a\" needs to be defined   \n",
    "print(addition(10))"
   ]
  },
  {
   "cell_type": "code",
   "execution_count": 8,
   "metadata": {},
   "outputs": [
    {
     "output_type": "stream",
     "name": "stdout",
     "text": [
      "argument_1: aa\nargument_2: ab\nargument_3: ac\n"
     ]
    }
   ],
   "source": [
    "def some_args(arg_1, arg_2, arg_3):\n",
    "    print(\"argument_1:\", arg_1)\n",
    "    print(\"argument_2:\", arg_2)\n",
    "    print(\"argument_3:\", arg_3)\n",
    "\n",
    "args = (\"aa\", \"ab\", \"ac\")\n",
    "some_args(*args)"
   ]
  }
 ]
}