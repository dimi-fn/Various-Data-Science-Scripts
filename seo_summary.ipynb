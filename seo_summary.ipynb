{
  "nbformat": 4,
  "nbformat_minor": 0,
  "metadata": {
    "colab": {
      "name": "seo_summary.ipynb",
      "provenance": [],
      "collapsed_sections": [],
      "authorship_tag": "ABX9TyMrbllzasn0MWXf8OntYrs5",
      "include_colab_link": true
    },
    "kernelspec": {
      "name": "python3",
      "display_name": "Python 3"
    },
    "language_info": {
      "name": "python"
    }
  },
  "cells": [
    {
      "cell_type": "markdown",
      "metadata": {
        "id": "view-in-github",
        "colab_type": "text"
      },
      "source": [
        "<a href=\"https://colab.research.google.com/github/dimi-fn/Various-Data-Science-Scripts/blob/main/seo_summary.ipynb\" target=\"_parent\"><img src=\"https://colab.research.google.com/assets/colab-badge.svg\" alt=\"Open In Colab\"/></a>"
      ]
    },
    {
      "cell_type": "code",
      "metadata": {
        "id": "K3_O3LdkAcSa",
        "colab": {
          "base_uri": "https://localhost:8080/"
        },
        "outputId": "afc3a1ad-d32f-423b-9835-3d91bfdfd797"
      },
      "source": [
        "seo = \"/content/seo.txt\"\n",
        "with open(seo, \"r\") as file1:\n",
        "    FileContent = file1.read()\n",
        "    print(FileContent)"
      ],
      "execution_count": 1,
      "outputs": [
        {
          "output_type": "stream",
          "text": [
            "Definition: In simple terms, SEO comprises of the steps and processes undertaken so that the search visibility and ranking of your website by the search engines can be increased. In other words, you can use SEO so that your webpage can be shown up in the Search Engine Result Pages (SERPs) in a high rank position, and so your potential customers/stakeholders can find you. Types: There are two main SEO types: Organic (natural) SEO and Non-organic (paid / artificial) SEO. In the former case, you try to increase your organic search results by focusing on factors such as content creation and optimization, keyword research, link building, and meta-tag optimization. Whereas via non-organic SEO, you essentially pay for ads such that of Google's pay-per-click (PPC) advertising solution. Comparison: The main advantages of organic SEO are that you don't have to pay for ads, and that at the same time you attract relevant users, i.e. users that are really trying to search for similar content, product, or services of yours. On the other hand, by PPC you can see instant results attracting \"ready-to-buy\" users, however, it might not be a good long-term strategy move. As Seth Stephens-Davidowitz has stated: \"Google searches are the most important dataset ever collected on the human psyche\". By that he meant that, in the context of Big Data and by collecting and analyzing data derived from Google searches, we can analyze -and even predict- people's behaviour, needs, trends, motivations, and the list goes on. SEO in the context of Information Retrieval (IR) A successful SEO strategy can be achieved by optimizing both for the search engines and the surfers/consumers. search engine ==> technical perspective ==> Information Retrieval. consumers ==> human perspective ==> Information Seeking. Information Behaviour describes the ways through which people seek and utilize information. It is a broader term than that of Information Seeking because through Information Behaviour we want to give answers to questions such as:. How do people start a search? How do users seek information and how do they utilize it? What makes people search differently? What types of search engines require different solutions?. Zipfian Distribution - Stopwords - Stemming. Words are not evenly distributed across documents, and English and other languages follow a Zipfian distribution. By that, it is meant that: A small number of words appear each in a lot of documents (high-frequency words). This is where the so-called stopword list takes place: stopwords are useless in finding an individual document ==> they offer little semantic content Stopwords removal achieves discrimination: it is the removal of words that are common to most of the documents (words like \"and\", \"are\", \"do\", \"am\", \"but\") While stopwords removal emphasizes on discrimination, stemming emphasizes on document's description ==> stemming algorithms help us achieve a common concept of the words that can take different forms, by adding all variants of the corresponding words to document descriptions (e.g., information -> inform, political -> polit). A medium number of words appear each in a medium number of documents (medium-frequency words) These are the \"best\" words in the IR context ==> they represent some recognizable concept (satisfactory description level) that does not seem to be meaningless (satisfactory discrimination level). A large number of words appear each in a small number of documents (low-frequency words). Relevance & Authenticity. Two important topics that determine search engine rankings and Search Engine Resuts Pages (SERPs), and consequently a website's PageRank are: relevance and authenticity, i.e. if the results that websites produce are relevant and authenticated. Relevance. It is determined by various factors such as: content and code implementation thematic and semantic (metadata) connections between the query and website's content. A tricky concept about relevance in IR is that we want our document to have a good description regarding its content (description), but at the same time we also want that document to be discriminated against other documents (discrimination). The problem here is that if we tried to describe our document with 'common sense' (i.e. in the way everybody would describe it) then we would probably not achieve satisfactory document discrimination because this is how everybody described similar documents as well! Relevance Levels: Some of the main relevance level categories comprised of the: System, Topical, and the Cognitive relevance level (Tefko Saracevic): System relevance level: the relationship between query and document Topical relevance levels: the relationship between the topic of query and topic of document (i.e. not just keyword matching) Cognitive relevance level: the relationship between user's state of knowledge and texts (i.e. the ability to understand the information given) Authenticity. Authenticity in the context of SEO is known as Domain Authority. Essentially, it is a measure of how authoritative your domain is. Contributing factors include: the quantity and quality of links (hyperlinks) pointing to you from other websites (third-party domains), known as inbound links (or else **backlinks) reviews - sentiment. Recommender Systems Evaluation Metrics. PageRank measures how likely a surfer is to visit a web page. Precision. Precision in the context of Information Retrieval: Precision. It tells us how useful the results are (effectiveness in terms of the given results). A perfect precision score of 1 means that every result retrieved was relevant, but it says nothing about if all relevant documents were retrieved. Preference for higher precision than recall: e.g., legal and medical queries where there is a substantial need for high precision and correct results. Recall. Recall in the context of Information Retrieval: Recall in Information Retrieval. It tells us how complete the results are (completeness in terms of the given results). A perfect recall score of 1 means that all relevant documents were retrieved, but it says nothing about how many irrelevant documents were also retrieved. Preference for higher recall than precision: e.g., youtube recommendations, seeking online library collections/sentific articles: There is a need for a plethora of information/documents/results retrieved even if some of them might be irrelevant to some extent.Further research on Recommender System metrics may include: Mean Average Precision at K (MAP@K), Mean Average Recall at K (MAR@K), Coverage, Personalization, and Intra-list Similarity.Organic Search vs. PPC. Organic search (natural search) refers to unpaid search results which are generated based on: inbound links pointing to your website, your domain authority, the relevance to the user's search query, and other organic ranking factors. Types: On-Page SEO (e.g., keyword research, keyword optimization, content creation), Technical SEO (e.g., site speed, mobile-friendliness, site architecture, website's security), Off-Site SEO (e.g., build building, backlinks). Pay-per-click advertising (PPC) generates paid search results, it belongs to paid search marketing approach, and one of its basic performance metrics is cost-per-click (CPC) evaluation. Examples: Google ads, Google Product Listing Ads, Google Shopping Ads, Bing Ads. Ranking Factors on Search Results Following the Relevance & Authenticity section, and although search ranking algorithms change over time, it can be safely claimed that good ranking results align with high quality and relevant information. Hence, some of the most important ranking factors can be found aggregately and hierarchically on importance as followed: Keywords. Understanding user's (commercial) intent (what users are looking for and how they search) is important for constructing the right keywords. What would a user type to find a product/service similar to that that you are selling? What keywords would the user have to type in order to find your specific web page? Keyword Attributes. Keywords research plan regarding: search volume, relevance, and competition. 1) Relevance: Relevant Keywords: Put yourself in the customers' shoes to discover their intent and understand their customer behaviour. In this way, you will find out which keywords might be relevant to your product/service. e.g., if you sell cars, don't just focus on the keyword \"car\" (this is what everybody includes in the car websites). You should write about the specific brands you sell and other car attributes. Successfully targeted descriptive keywords will help rank your website higher than the generic ones. 2) Search volume: The number of searches of a particular keyword per month. One tricky fact here is that on the one hand, although some specific keywords or groups of keywords might theoretically lead to your website successfully, they might not be popular queries from users. i.e. it does not matter if your website can be found by some specific query as long as this query is a \"strange\" query that nobody would really type it to find your product. Tools for researching the potential monthly search volume of keywords: moz explorer, wordstream, ahrefs, semrush.com, google trends. 3) Competition / Difficulty: Keyword competition/difficulty: if what you are selling is already on the web and sold by others as well, this inevitably means that there is already a lot of content around a group of keywords describing your product. When the \"difficulty\" feature in the analytics elements is low => competition low => the product that users are typing to find (query) does not lead to many websites, i.e. there are not so many sellers available for that product. It is like \"I am googling it but I can't find it anywhere\". The opposite scenario happens when the difficulty rate is high, i.e. when there is a lot of competition around that query as well as availability about the respective product/service that the users' query is referring to. SERP (Search Engine Results Page) Analysis Report: It is the process of analyzing the top web pages that rank for a specific keyword or topic. For instance, let's say you sell cars and you think that if someone types \"buy a car\" will find you. You can type that at the SERP Report and find out. How your website would rank bases on a series of given keywords? For example, if for a group of keywords at moz.com the search volume is high but the difficulty grade is low, this means that a lot of users have searched for that query but not too many websites are suitably responding based on that query. Keyword research has to be conducted iteratively through the year, and keyword performance evaluation comes at the end of each keyword research iteration. The only thing you cannot pre-define and predict is the conversion rate (success or not) of your keywords. 1) Brainstorming: What products/services do you offer? ==> Do it from the customer's perspective (and not business's), think like a customer. Getting insights about your website: Google Search Console (former Google Webmaster Tools). Keyword expansion tools: They can give potentially useful keywords regarding a topic. e.g., How people are searching for products/services on the web and what keywords are they using for finding out a specific item? In this way, you can get to know your target audience better, and generate a list f potential keywords. Tools: Google Trends, Answer the Public, moz.com 2) Search Volume Metrics: What is the current state of demand for those keywords? You should also focus on long-tail keywords, i.e. the descriptive keywords. For example, if you sell cars then it would be quite hard for you to be ranked first at search results when the user searches for \"car\". But users do not type only \"cars\" when they want to buy one. They also type many other queries (longer and more descriptive), e.g., BMW black cars, sports fast cars, electric cars, cars for sale in Germany, red Ferrari in the Netherlands, etc. Focusing on those long-tail keywords might give you better probabilities of higher ranking than focusing on the very competitive query \"car\". 3) Keyword Categorization: Clustering of your keywords by categorizing them into topics/themes in order to group them. The following twelve images (derived from https://answerthepublic.com/) depict three search query examples with four images per query, giving analytics insights in the context of SEO. The first four photos are with regard to the search query \"Data Science\", the following four regarding \"Machine Learning\", and the rest of the images with respect to query \"Artificial Intelligence\". For every search query, there are four analytics insights: questions, prepositions, comparisons, and related. Questions: how users ask a question Prepositions: what prepositions users use for asking that query Comparisons: what comparisons do users think of when they type their query Related: Related queries to the main query's subject (e.g., in Google they would be the top suggestions marked as \"Related Searches\") The last graph (derived from Google Trends) illustrates the search interest rate with regard to the same three queries aforementioned. A value of 100 is the peak popularity for the term, a value of 50 means that the term is half as popular, and a score of 0 means that there was not enough data for this term. Lastly, the data describing the images can be integrated into CSV files that are provided by both respective sources. Ιn the CSV directory, a CSV file provided by Moz.com can additionally be found with regard to the query \"Artificial Intelligence\", and how Moz.com aggregates the keyword results and metrics. Keyword Distribution It is the procedure of how you will assign and distribute your specific keywords across your website's pages. In this way: you can map keywords to pages: you can enhance your targeted keywords by figuring out which keywords you should assign to which pages you can keep track of keywords that need pages (or pages that need keyword if there was no keyword assignment) you can detect ad avoid keyword duplicates (search engine algorithms \"prefer\" unique and relevant information across your pages) you can reverse engineer the creation of the content of a new page to your website by first filling out the keyword distribution file. In this way, you would first decide on what keyword you are targeting, and then you would write the relevant content based on that keyword. In such a way, your content is more likely to be SEO successful you can adapt quickly: you can come back to this spreadsheet and add or redefine your keywords, as well as review the other metadata Content Optimization It is about how search engines and consumers view webpages, including yours. There is a need for: Clarity and quality: people tend to share with other people content that they like, find useful and relevant, and content that they trust Good website structure and layout: categorize and clarify your content in and across your web pages clearly both from business's and customer's perspective \"Inner\" vs. \"External\" SEOThe SEO procedures could generally be categorized into actions taken inside the website (on-page SEO), and optimizations that are undertaken off-page so that the website can get traffic. On-Page SEO features: Title tag of page Headings (h1..h5) keyword Optimization Eliminating duplicate content (Google Search Central) Images (e.g., using good alt descriptions) Meta tags and meta descriptions URL (good descriptive URL but not too long) Header Response Code (HTTP statuses) Loading time of website (page speed) Mobile Friendliness Quality of content and informativeness (to keep your content up-to-date) Internal Links Off-Page SEO: Social Media Link Building: getting backlinks from other sources (authoritative and popular) Creating quality and sharable content regularly Optimizing Text & Non-Text Elements Focus on URL, title, description, headers, body text, and images: URL: the keyword phrase that you are targeting should be included in the URL if that is possible construction of a good URL: descriptive but short and concise as possible Metadata meta title tag optimization make sure your <title_description> tag is successful (\"title\" tag in HTML\"), and that it contains (some of) your target keywords for the best SEO results headers: HTML h1 tag: give good descriptions (not very long or very short) that encompass your target keywords and your target content Although this might not impact your rankings, optimizing the meta description can improve your current click-through rate since it is often used in search engine results listing Optimize your content (body text) first for your customers and then for search engines (since the Natural Language Progress (NLP) has tremendously improved, search engines can comprehend text like human beings better and better over time) Make search engines understand your images: while NLP focuses on text and search engines can take advantage of that, not much help is given to them regarding images (all they can \"see\" is pixels), video or audio clips, unless specified: improve your \"src\" ad \"alt\" HTML attributes with reference to your images embrace structured data with JSON-LD (JavaScript Object Notation for Linked Data) to mark up your code with a specific and rich range of metadata of specific content for images, video, and audio. In this way, you can optimize the descriptions closer to the keywords and phrases. Implementation of structured data allows you to display information about specific content, location, dates, pricing content, and more You can use websites like schema.org to enhance your schema of your mark up code, and then test the effectiveness of your code with e.g., the google structure data testing tool Tools: https://moz.com/learn/seo/title-tag Technical Content Optimization Content & Links Ways to leverage SEO from a technical perspective: Construct HTML and XML sitemap: https://www.sitemaps.org/index.html, https://www.xml-sitemaps.com/, Google Code Sitemap, Best Practises for Sitemaps from Google A sitemap is a file where you provide information about the pages, videos, a d other files on your site, and the relationships between them Alternatively, use meta noindex / meta nofollow tags Control how easy or difficult is your site to be crawled: Have a robots.txt file on your main root directory for content you don't want to be discovered by search engines by setting rules of how the search engine will crawl, read, and navigate your web page However, if you don't want that \"hidden\" content to affect your ranking (i.e. to be ranked higher because of that undesired content that might crosscheck you with undesired user queries), then instead of robots.txt use \"meta name=\"robots\" content=\"noindex\"\" Although every separate page of your website should have a unique URL (i.e. /main.html, /contact.html) to discriminate content, you do not want different URL addresses to provide the same content because this would lead to confusion for search engines and you might end up competing with yourself. This confusion can happen when we try to store session ids or tracking parameters in which cas the URL can be different but the content remains exactly the same. Use link rel=\"canonical\" before href=\" \", to resolve the issue on the occurrence of providing the same content but with different URL links. The canonical tag can be used to indicate which is the primary URL for duplicate content across your website pages Another way to indicate that is directly via the crawl URL parameters section of the Google Search Console](https://search.google.com/search-console/about), and also at Bing Webmaster Tools Redirect issues: It happens when you use some content of your website to another location of your website, e.g., to another page of your website, however, this might not update directly the search engines. These kinds of issues might be either temporary or permanent, and you should use redirect rules after moving content across your web page: Temporary redirections: e.g., when you want to display a temporary content for users to view while you are maintaining your website ==> use 302 (Temporary Redirect) so that you tell the search engine not to take into consideration the content appearing now and which does not express you. Be careful as this might be interpreted as 301 (see below) if you keep that for too long Permanent redirections: e.g., when you moved a part of your content to another location ==> use 301 (Permanent Redirect). In this way, you tell search engines to apply all the necessary transformations to the content that moved from the old URL to the new one Apart from the above 301 and 302 redirect issues you always want your pages to return the status code of 200, and you never want the status code of 403 (page is forbidden), 404 (page not found), and 500 (application error) When redirecting URLs with JavaScript or meta refresh tags this may not be suitably processed by search engines Microformats and Microdata with schema: Semantic attributes of content can be more efficiently translated by search engines with microdata ==> schema.org Microdata markup ==> it provides documentation for specific mar up code syntax for several types of content that can be used in order to help search engines identify specific content as well as the characteristic attributes and metadata of that content across your web pages. Microformatting: JSON-LD (JavaScript Object Notation for Linked Data) Embedded or inline Microdata RDFa (Resource Description Framework in Attributes) Link Gap Analysis: Discover websites with high authenticity that already point to your competitors, but not you. Link Intersect: Link Gap Analysis by Moz Server-side Serving up your website's pages fast and reliably => quality experience Visibility of your website: physical location of the web server that hosts your website ==> loading time for visitors that are far away from that location you want to geographically locate your web server to a place that would be relatively near to the majority of your clients if your clients are spread all-over the world relatively equally: use a web host that can distribute requests for your website pages globally You can use Content Delivery Network (CDN) which minimizes the loading time delays (latency) which are due to the physical distance between the server and users Cashing: Enable server-side cashing to minimize the increased time load of the database workload. This would make the server and the database interact only once to generate the given pages (the server will \"remember\" the content for a period of time at a future and subsequent load request) Server reliability: prefer HTTPS and not the HTTP protocol, not only because it is safer but also because it can boost your ranking compared to using HTTP (HTTP deprecation) Google Search Console https://search.google.com/search-console/about add property => URL prefix => verification of domain => website verification through the \"Search results\" you can view your total clicks, total impressions, average clickthrough rate (CTR), and much more via the tools provided by the Google search console, you can reduce search engine crawl errors, address your SEO and optimize your content, by finding out various errors/bugs or non-optimal features that exist on your website. This can be achieved either from a technical perspective (e.g., 301 and 302 redirects), or from a non-technical perspective (e.g., duplicate content, block content, content no more relevant) via the \"Sitemaps\" section, you can upload your XML site maps via Removals, you can put the website parts of your websites that you do not want to be indexed by search engines (see about robots.txt or noindex meta tag here) submit specified directories: do not put your root domain URL as this will make your whole website gone from the search indexing perspective the removal lasts 6 months, hence after that period you should refresh the \"removal\" section Content Planning & Strategy It is about planning, creating, and managing a useful and usable content. Planning: To whom customers you are referring to. You should target a specific portion of customers that might be interested in your product/services Persona Templates for cumers' segmentation Creating: Quality of content should be greater than the quantity of content, the latter of which should be relevant and with useful sources to provide Managing: Through keyword attributes planning, keyword research, keyword distribution, and content optimization Content Strategy Clear definition of goals and objectives what keywords you chose to target what your customers are searching for how you want them to behave when they visit your website Comprehend your customers' needs demographic and psychographic information, interests, behaviours Monitoring trends your customer audience and competitors might change rapidly this also means reviewing, redefining, and refining your keywords research Make an editorial calendar (who writes what content in which page and section page at your website and social media) Content types: text, files (word, pdf, ppt), infographics, newsletters, images, videos, Augmented Reality, Virtual Reality Subject content: Educational Statistical Technical / Procedural I formational News Content Measurement popular content: what content do your customers view and like the most? customer engagement: do your customer share your content? Tools to analyze customers' behaviour upon your content, e.g.: Google Analytics Customer Engagement Metrics: Average time on site Pages view per visit Bounce rate (when a customer visits your website but leaves right away without engaging) / the lower the bounce rate the better Links Strategy Use anchor text at the links instead of just \"click here\" links, with meaningful text description upon the links You want qualitative links pointing back to your website, i.e. from authoritative and popular websites however, the more relative those links to your content are, the better (thematic connections), i.e. it would not make much sense for a non-relative website to provide a link towards your website External vs. Internal Links Internal Links Via the internal links of your website, search engines can get a good idea of the structure of your web pages cross your website. Navigational Links: The links for your main sections (pages) and subsections of your website Contextual Links: When a viewer clicks on a link embedded in some content and jumps e.g., from page one to the second page, i.e. when the content of some page references the content of another page from the same website. External Links Links from external sources that point towards your website are perceived as confidence votes by the search engines. web directories (selectively and trustworthy, after an approved review) / local business directories / social media/ websites with relevant content (e.g., when you reference another website along with some of your content) / links pointing to your website from other websites e.g., links from non-profit or educational organizations can be quite trustworthy Link-building: moz link explorer for backlink checker, and other tools like: majestic.com, ahrefs.com, raven tools, semrush you want backlinks with high page and domain authority you can examine the bcklinks of other popular websites with similar content to you by filling content gaps with your own content, you can build a series of websites network pointing at your website and referencing your product/services SEO Performance Evaluation SEO effectiveness can be evaluated both from the traffic derived from the organic search traffic and the business outcomes after defining your business objectives and Key Performance Indicators (KPIs), and with regard to your SEO strategies. For instance, you may designate as a conversion action the occurrence of your contact form being filled out and submitted by customers, and as a coversion rate the number of times that this happens. (But first of all, you should define your business goals and KPIs). Indicative KPIs: The delta rate in organic search over time Keyword (branded or not) search queries and ranking you can merge your Google Analytics 360 account along with your Google Search Console and get various insights from that combination. Number of newsletters subs and various signups Social followers Tools: Google Analytics 360, Adobe Analytics, Webtrends, IBM Data Analytics E-Commerce If your business organization is E-commerce, then other KPIs might be: Revenue Average order values Transactions In E-commerce, it is even more imperative to take advantage of the schema.org Microdata markup at your website's code, details here. take, also, care of the mobile navigation of your website, e.g.: good search functionality, mobile-friendly UI/UX design, filters, swipeable photos, enabling voice search for queries Google business listing for enhancing local business SEO (i.e. to appear on maps locally) Rules of thumb You probably won't have your webpage optimized if you first don't know which group of keywords you should be focusing on (through keywords research and more). If you have a high impression rate but low click-through-rates (CTRs) this means you are showing up at the search results but viewers don't click your website. If search volume is high and competition/difficulty is low, this means there is large potential traffic at the lowest levels of competition, i.e. demand is high and supply is low, a fact which may suggest a market opportunity. Use a specific group of keywords that have a meaningful search volume, are relevant, and are not too competitive (since it would be difficult for you to be discriminated against others if there is a lot of competition around those keywords). If a specific keyword is being aggressively bid on in Cost-Per-Click (CPC) markets, this is an indicator of how difficult it will be organically. i.e. If a keyword is being aggressively bid on, this means that significant competition from paid ads exists, and developing an alternative keyword might be necessary.\n"
          ],
          "name": "stdout"
        }
      ]
    },
    {
      "cell_type": "code",
      "metadata": {
        "id": "Qpk7LEfs6LVP"
      },
      "source": [
        "article_text = FileContent"
      ],
      "execution_count": 2,
      "outputs": []
    },
    {
      "cell_type": "code",
      "metadata": {
        "colab": {
          "base_uri": "https://localhost:8080/"
        },
        "id": "5B3I8z1a5qYu",
        "outputId": "a42be708-e1c2-4d3c-9f73-645b3bcd20a9"
      },
      "source": [
        "import re\n",
        "\n",
        "# Removing Square Brackets and Extra Spaces\n",
        "article_text = re.sub(r'[[0-9]*]', ' ', article_text)\n",
        "article_text = re.sub(r's+', ' ', article_text)"
      ],
      "execution_count": 3,
      "outputs": [
        {
          "output_type": "stream",
          "text": [
            "/usr/local/lib/python3.7/dist-packages/ipykernel_launcher.py:4: FutureWarning: Possible nested set at position 1\n",
            "  after removing the cwd from sys.path.\n"
          ],
          "name": "stderr"
        }
      ]
    },
    {
      "cell_type": "code",
      "metadata": {
        "id": "yOos3VlG6NN7"
      },
      "source": [
        "# Removing special characters and digits\n",
        "formatted_article_text = re.sub('[^a-zA-Z]', ' ', article_text )\n",
        "formatted_article_text = re.sub(r's+', ' ', formatted_article_text)"
      ],
      "execution_count": 4,
      "outputs": []
    },
    {
      "cell_type": "code",
      "metadata": {
        "colab": {
          "base_uri": "https://localhost:8080/"
        },
        "id": "RNwt5uwN6bEr",
        "outputId": "c84ae7dd-3411-4e52-cd0c-d664e3b4f3b8"
      },
      "source": [
        "import nltk\n",
        "nltk.download('stopwords')\n",
        "nltk.download('wordnet')\n",
        "nltk.download('punkt')\n",
        "nltk.download('averaged_perceptron_tagger') "
      ],
      "execution_count": 5,
      "outputs": [
        {
          "output_type": "stream",
          "text": [
            "[nltk_data] Downloading package stopwords to /root/nltk_data...\n",
            "[nltk_data]   Package stopwords is already up-to-date!\n",
            "[nltk_data] Downloading package wordnet to /root/nltk_data...\n",
            "[nltk_data]   Package wordnet is already up-to-date!\n",
            "[nltk_data] Downloading package punkt to /root/nltk_data...\n",
            "[nltk_data]   Package punkt is already up-to-date!\n",
            "[nltk_data] Downloading package averaged_perceptron_tagger to\n",
            "[nltk_data]     /root/nltk_data...\n",
            "[nltk_data]   Package averaged_perceptron_tagger is already up-to-\n",
            "[nltk_data]       date!\n"
          ],
          "name": "stdout"
        },
        {
          "output_type": "execute_result",
          "data": {
            "text/plain": [
              "True"
            ]
          },
          "metadata": {
            "tags": []
          },
          "execution_count": 5
        }
      ]
    },
    {
      "cell_type": "code",
      "metadata": {
        "id": "Ih-AlaFB6YGL"
      },
      "source": [
        "sentence_list = nltk.sent_tokenize(article_text)"
      ],
      "execution_count": 6,
      "outputs": []
    },
    {
      "cell_type": "code",
      "metadata": {
        "id": "kNWgfnrD6aNV"
      },
      "source": [
        "stopwords = nltk.corpus.stopwords.words('english')\n",
        "word_frequencies = {}\n",
        "for word in nltk.word_tokenize(formatted_article_text):\n",
        "    if word not in stopwords:\n",
        "        if word not in word_frequencies.keys():\n",
        "            word_frequencies[word] = 1\n",
        "        else:\n",
        "            word_frequencies[word] += 1"
      ],
      "execution_count": 7,
      "outputs": []
    },
    {
      "cell_type": "code",
      "metadata": {
        "id": "oixfAAag6ox0"
      },
      "source": [
        "maximum_frequncy = max(word_frequencies.values())\n",
        "for word in word_frequencies.keys():\n",
        "    word_frequencies[word] = (word_frequencies[word]/maximum_frequncy)"
      ],
      "execution_count": 8,
      "outputs": []
    },
    {
      "cell_type": "code",
      "metadata": {
        "id": "LR6Kffe96qPc"
      },
      "source": [
        "sentence_scores = {}\n",
        "for sent in sentence_list:\n",
        "    for word in nltk.word_tokenize(sent.lower()):\n",
        "        if word in word_frequencies.keys():\n",
        "            if len(sent.split(' ')) < 30:\n",
        "                if sent not in sentence_scores.keys():\n",
        "                    sentence_scores[sent] = word_frequencies[word]\n",
        "                else:\n",
        "                    sentence_scores[sent] += word_frequencies[word]"
      ],
      "execution_count": 9,
      "outputs": []
    },
    {
      "cell_type": "code",
      "metadata": {
        "colab": {
          "base_uri": "https://localhost:8080/"
        },
        "id": "DEIG9R3C6s4A",
        "outputId": "60c4f35f-24d9-460b-e1b5-0dbb2f8dbaac"
      },
      "source": [
        "import heapq\n",
        "summary_sentences = heapq.nlargest(100, sentence_scores, key=sentence_scores.get)\n",
        "summary = ' '.join(summary_sentences)\n",
        "print(summary)"
      ],
      "execution_count": 26,
      "outputs": [
        {
          "output_type": "stream",
          "text": [
            "it would not make much  en e for a non-relative web ite to provide a link toward  your web ite External v . when the content of  ome page reference  the content of another page from the  ame web ite. from authoritative and popular web ite  however, the more relative tho e link  to your content are, the better (thematic connection ), i.e. Keyword re earch ha  to be conducted iteratively through the year, and keyword performance evaluation come  at the end of each keyword re earch iteration. How your web ite would rank ba e  on a  erie  of given keyword ? What keyword  would the u er have to type in order to find your  pecific web page? Under tanding u er'  (commercial) intent (what u er  are looking for and how they  earch) i  important for con tructing the right keyword . In thi  way, you would fir t decide on what keyword you are targeting, and then you would write the relevant content ba ed on that keyword. Focu ing on tho e long-tail keyword  might give you better probabilitie  of higher ranking than focu ing on the very competitive query \"car\". U e link rel=\"canonical\" before href=\" \", to re olve the i ue on the occurrence of providing the  ame content but with different URL link . Succe fully targeted de criptive keyword  will help rank your web ite higher than the generic one . In thi  way, you can optimize the de cription  clo er to the keyword  and phra e . e.g., How people are  earching for product / ervice  on the web and what keyword  are they u ing for finding out a  pecific item? u er  that are really trying to  earch for  imilar content, product, or  ervice  of your . Keyword  re earch plan regarding:  earch volume, relevance, and competition. Keyword expan ion tool : They can give potentially u eful keyword  regarding a topic. 1) Relevance: Relevant Keyword : Put your elf in the cu tomer '  hoe  to di cover their intent and under tand their cu tomer behaviour. Getting in ight  about your web ite: Google Search Con ole (former Google Webma ter Tool ). if the re ult  that web ite  produce are relevant and authenticated. Tool  for re earching the potential monthly  earch volume of keyword : moz explorer, word tream, ahref ,  emru h.com, google trend . Tool : Google Trend , An wer the Public, moz.com 2) Search Volume Metric : What i  the current  tate of demand for tho e keyword ? not ju t keyword matching) Cognitive relevance level: the relation hip between u er'   tate of knowledge and text  (i.e. It tell  u  how u eful the re ult  are (effectivene  in term  of the given re ult ). take, al o, care of the mobile navigation of your web ite, e.g. cu tomer engagement: do your cu tomer  hare your content? In thi  way, you will find out which keyword  might be relevant to your product/ ervice. The problem here i  that if we tried to de cribe our document with 'common  en e' (i.e. 3) Keyword Categorization: Clu tering of your keyword  by categorizing them into topic /theme  in order to group them. earch engine ==> technical per pective ==> Information Retrieval. ==> Do it from the cu tomer'  per pective (and not bu ine ' ), think like a cu tomer. In thi  way, you can get to know your target audience better, and generate a li t f potential keyword . PageRank mea ure  how likely a  urfer i  to vi it a web page. Wherea  via non-organic SEO, you e entially pay for ad   uch that of Google'  pay-per-click (PPC) adverti ing  olution. What would a u er type to find a product/ ervice  imilar to that that you are  elling? For every  earch query, there are four analytic  in ight : que tion , prepo ition , compari on , and related. But u er  do not type only \"car \" when they want to buy one. Tool  to analyze cu tomer ' behaviour upon your content, e.g. What type  of  earch engine  require different  olution ?. It tell  u  how complete the re ult  are (completene  in term  of the given re ult ). E entially, it i  a mea ure of how authoritative your domain i . Hence,  ome of the mo t important ranking factor  can be found aggregately and hierarchically on importance a  followed: Keyword . The oppo ite  cenario happen  when the difficulty rate i  high, i.e. Word  are not evenly di tributed acro  document , and Engli h and other language  follow a Zipfian di tribution. The only thing you cannot pre-define and predict i  the conver ion rate ( ucce  or not) of your keyword . 2) Search volume: The number of  earche  of a particular keyword per month. the de criptive keyword . How do u er   eek information and how do they utilize it? You  hould al o focu  on long-tail keyword , i.e. What make  people  earch differently? How do people  tart a  earch? Information Behaviour de cribe  the way  through which people  eek and utilize information. La tly, the data de cribing the image  can be integrated into CSV file  that are provided by both re pective  ource . A large number of word  appear each in a  mall number of document  (low-frequency word ). By that, it i  meant that: A  mall number of word  appear each in a lot of document  (high-frequency word ). For in tance, let'   ay you  ell car  and you think that if  omeone type  \"buy a car\" will find you. Keyword Attribute . Example : Google ad , Google Product Li ting Ad , Google Shopping Ad , Bing Ad . Preci ion in the context of Information Retrieval: Preci ion. You  hould write about the  pecific brand  you  ell and other car attribute . con umer  ==> human per pective ==> Information Seeking. Type : There are two main SEO type : Organic (natural) SEO and Non-organic (paid / artificial) SEO. Planning: To whom cu tomer  you are referring to. (But fir t of all, you  hould define your bu ine  goal  and KPI ). A  Seth Stephen -Davidowitz ha   tated: \"Google  earche  are the mo t important data et ever collected on the human p yche\". Recall in the context of Information Retrieval: Recall in Information Retrieval. demand i  high and  upply i  low, a fact which may  ugge t a market opportunity. Zipfian Di tribution - Stopword  - Stemming. It i  like \"I am googling it but I can't find it anywhere\". 1) Brain torming: What product / ervice  do you offer? the ability to under tand the information given) Authenticity. You can type that at the SERP Report and find out. Preci ion. Authenticity in the context of SEO i  known a  Domain Authority. there are not  o many  eller  available for that product. Relevance & Authenticity. Relevance. Recommender Sy tem  Evaluation Metric . Recall.\n"
          ],
          "name": "stdout"
        }
      ]
    },
    {
      "cell_type": "code",
      "metadata": {
        "colab": {
          "base_uri": "https://localhost:8080/"
        },
        "id": "TQ6OnKpS6uud",
        "outputId": "2a3a1a37-73a0-4015-d6b7-e6269bf03cce"
      },
      "source": [
        "type(summary)"
      ],
      "execution_count": 27,
      "outputs": [
        {
          "output_type": "execute_result",
          "data": {
            "text/plain": [
              "str"
            ]
          },
          "metadata": {
            "tags": []
          },
          "execution_count": 27
        }
      ]
    },
    {
      "cell_type": "code",
      "metadata": {
        "colab": {
          "base_uri": "https://localhost:8080/",
          "height": 17
        },
        "id": "-KDrTjp3Awlc",
        "outputId": "aee20f42-85f9-43b2-8cde-40ebff38705b"
      },
      "source": [
        "import pandas as pd\n",
        "from google.colab import files\n",
        "\n",
        "seo_summary = pd.DataFrame({'summary': [summary]})\n",
        "seo_summary.to_csv('seo_summary', index = False) \n",
        "files.download('seo_summary')"
      ],
      "execution_count": 28,
      "outputs": [
        {
          "output_type": "display_data",
          "data": {
            "application/javascript": [
              "\n",
              "    async function download(id, filename, size) {\n",
              "      if (!google.colab.kernel.accessAllowed) {\n",
              "        return;\n",
              "      }\n",
              "      const div = document.createElement('div');\n",
              "      const label = document.createElement('label');\n",
              "      label.textContent = `Downloading \"${filename}\": `;\n",
              "      div.appendChild(label);\n",
              "      const progress = document.createElement('progress');\n",
              "      progress.max = size;\n",
              "      div.appendChild(progress);\n",
              "      document.body.appendChild(div);\n",
              "\n",
              "      const buffers = [];\n",
              "      let downloaded = 0;\n",
              "\n",
              "      const channel = await google.colab.kernel.comms.open(id);\n",
              "      // Send a message to notify the kernel that we're ready.\n",
              "      channel.send({})\n",
              "\n",
              "      for await (const message of channel.messages) {\n",
              "        // Send a message to notify the kernel that we're ready.\n",
              "        channel.send({})\n",
              "        if (message.buffers) {\n",
              "          for (const buffer of message.buffers) {\n",
              "            buffers.push(buffer);\n",
              "            downloaded += buffer.byteLength;\n",
              "            progress.value = downloaded;\n",
              "          }\n",
              "        }\n",
              "      }\n",
              "      const blob = new Blob(buffers, {type: 'application/binary'});\n",
              "      const a = document.createElement('a');\n",
              "      a.href = window.URL.createObjectURL(blob);\n",
              "      a.download = filename;\n",
              "      div.appendChild(a);\n",
              "      a.click();\n",
              "      div.remove();\n",
              "    }\n",
              "  "
            ],
            "text/plain": [
              "<IPython.core.display.Javascript object>"
            ]
          },
          "metadata": {
            "tags": []
          }
        },
        {
          "output_type": "display_data",
          "data": {
            "application/javascript": [
              "download(\"download_17d272fb-1e46-47bc-aec1-83716e0e7891\", \"seo_summary\", 6451)"
            ],
            "text/plain": [
              "<IPython.core.display.Javascript object>"
            ]
          },
          "metadata": {
            "tags": []
          }
        }
      ]
    }
  ]
}