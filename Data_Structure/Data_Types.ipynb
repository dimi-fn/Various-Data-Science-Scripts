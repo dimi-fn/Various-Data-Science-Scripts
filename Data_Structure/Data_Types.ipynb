{
  "nbformat": 4,
  "nbformat_minor": 0,
  "metadata": {
    "colab": {
      "name": "Data_Types.ipynb",
      "provenance": [],
      "collapsed_sections": [],
      "toc_visible": true,
      "authorship_tag": "ABX9TyP5yI7KVrsMcx/lMRhtfwt/",
      "include_colab_link": true
    },
    "kernelspec": {
      "name": "python3",
      "display_name": "Python 3"
    }
  },
  "cells": [
    {
      "cell_type": "markdown",
      "metadata": {
        "id": "view-in-github",
        "colab_type": "text"
      },
      "source": [
        "<a href=\"https://colab.research.google.com/github/dimi-fn/Various-Data-Science-Scripts/blob/main/Data_Types.ipynb\" target=\"_parent\"><img src=\"https://colab.research.google.com/assets/colab-badge.svg\" alt=\"Open In Colab\"/></a>"
      ]
    },
    {
      "cell_type": "markdown",
      "metadata": {
        "id": "ZobPCoUlugzR"
      },
      "source": [
        "# Objects in Python"
      ]
    },
    {
      "cell_type": "markdown",
      "metadata": {
        "id": "VeYrKerFzHca"
      },
      "source": [
        "| Class | Immutable  |\r\n",
        "|------|------|\r\n",
        "|  Bool  | Yes |\r\n",
        "|  int / float  | Yes|\r\n",
        "|  strings | Yes|\r\n",
        "|  Tuple | Yes |\r\n",
        "|  Frozenset | Yes |\r\n",
        "| List |  No|\r\n",
        "| Set |  No|\r\n",
        "| Dict|  No|\r\n"
      ]
    },
    {
      "cell_type": "markdown",
      "metadata": {
        "id": "0sWZkXOpy-6t"
      },
      "source": [
        "# Lists vs Sets vs Tuples"
      ]
    },
    {
      "cell_type": "markdown",
      "metadata": {
        "id": "paylQpBeuiv5"
      },
      "source": [
        "| List | Tuple  | Set |\r\n",
        "|------|------|------|\r\n",
        "|  Mutable  | Immutable | Mutable | \r\n",
        "|  Ordered  | Ordered| Unordered |\r\n",
        "|  Item values can be changed/replaced | Item values cannot be changed/replaced | Item values cannot be changed/replaced"
      ]
    },
    {
      "cell_type": "markdown",
      "metadata": {
        "id": "LwQ1Uux_vsAk"
      },
      "source": [
        "## Lists\r\n",
        "\r\n",
        "* Using square brackets **[ ]**\r\n",
        "* Lists are **mutable**, i.e. a list can change its stage or contents (lists they are **dynamic**).\r\n",
        "    * Thus, lists can contain strings, numbers, booleans and etc. all together separated by commas\r\n",
        "    * Its item values can be changed or replaced\r\n",
        "* Lists are **ordered**: They will be printed-executed based on the defined order assigned    "
      ]
    },
    {
      "cell_type": "code",
      "metadata": {
        "colab": {
          "base_uri": "https://localhost:8080/"
        },
        "id": "p5t4WJsuui8k",
        "outputId": "81e18dfa-69ca-4bfe-d950-4b131d41f88e"
      },
      "source": [
        "my_list1 = [1, 10, 10, 8, 20]\r\n",
        "my_list2= [1, 10, 10, 8, 20, \"text\"]\r\n",
        "my_list3= [\"first\", \"second\", \"second\", \"third\"]\r\n",
        "print(\"list:\", my_list1)\r\n",
        "print(\"list:\", my_list2)\r\n",
        "print(\"list:\", my_list3)"
      ],
      "execution_count": 1,
      "outputs": [
        {
          "output_type": "stream",
          "text": [
            "list: [1, 10, 10, 8, 20]\n",
            "list: [1, 10, 10, 8, 20, 'text']\n",
            "list: ['first', 'second', 'second', 'third']\n"
          ],
          "name": "stdout"
        }
      ]
    },
    {
      "cell_type": "markdown",
      "metadata": {
        "id": "p7KsU-H6ul9z"
      },
      "source": [
        "## Tuples\r\n",
        "\r\n",
        "* They are usually defined by parentheses **()**\r\n",
        "* Tuple objects are **immutable**, i.e. they do not allow modification after creation (they are **fixed size** in nature).\r\n",
        "* Tuples, as lists, are **ordered**: They will be printed-executed based on the defined order assigned "
      ]
    },
    {
      "cell_type": "code",
      "metadata": {
        "colab": {
          "base_uri": "https://localhost:8080/"
        },
        "id": "C_FXDbnaukXg",
        "outputId": "4f2139be-1f1b-49d8-f627-3194cc023ca3"
      },
      "source": [
        "my_list1 = [1, 10, 10, 8, 20]\r\n",
        "my_list2= [1, 10, 10, 8, 20, \"text\"]\r\n",
        "my_list3= [\"first\", \"second\", \"second\", \"third\"]\r\n",
        "print(\"tuple:\", tuple(my_list1))\r\n",
        "print(\"tuple:\", tuple(my_list2))\r\n",
        "print(\"tuple:\", tuple(my_list3))"
      ],
      "execution_count": 2,
      "outputs": [
        {
          "output_type": "stream",
          "text": [
            "tuple: (1, 10, 10, 8, 20)\n",
            "tuple: (1, 10, 10, 8, 20, 'text')\n",
            "tuple: ('first', 'second', 'second', 'third')\n"
          ],
          "name": "stdout"
        }
      ]
    },
    {
      "cell_type": "markdown",
      "metadata": {
        "id": "xzZpvyR4vKC2"
      },
      "source": [
        "## Sets\r\n",
        "\r\n",
        "* They are defined with curly braces **{}**\r\n",
        "* Sets are **mutable**, i.e. they can be converted into another data type, <u>however only immutable objects can be stored in it</u>\r\n",
        "* Sets are **unordered**, i.e. the order in which the elements are added into the set is not fixed; it can change frequently\r\n",
        "    * therefore, sets are also **unintended** collection of items\r\n",
        "* **duplicates** are **removed** when the set gets executed"
      ]
    },
    {
      "cell_type": "code",
      "metadata": {
        "colab": {
          "base_uri": "https://localhost:8080/"
        },
        "id": "jqoj5VzJv1eX",
        "outputId": "a19ad036-0f64-44ad-e71d-7d87d4742846"
      },
      "source": [
        "my_list1 = [1, 10, 10, 8, 20]\r\n",
        "my_list2= [1, 10, 10, 8, 20, \"text\"]\r\n",
        "my_list3= [\"first\", \"second\", \"second\", \"third\"]\r\n",
        "print(\"set:\", set(my_list1))\r\n",
        "print(\"set:\", set(my_list2))\r\n",
        "print(\"set:\", set(my_list3))"
      ],
      "execution_count": 3,
      "outputs": [
        {
          "output_type": "stream",
          "text": [
            "set: {8, 1, 10, 20}\n",
            "set: {1, 8, 10, 'text', 20}\n",
            "set: {'first', 'second', 'third'}\n"
          ],
          "name": "stdout"
        }
      ]
    }
  ]
}