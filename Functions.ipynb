{
  "nbformat": 4,
  "nbformat_minor": 0,
  "metadata": {
    "colab": {
      "name": "Functions.ipynb",
      "provenance": [],
      "collapsed_sections": [],
      "toc_visible": true,
      "authorship_tag": "ABX9TyO+KvdSnUwK5Q8BLo3Lhvse",
      "include_colab_link": true
    },
    "kernelspec": {
      "name": "python3",
      "display_name": "Python 3"
    }
  },
  "cells": [
    {
      "cell_type": "markdown",
      "metadata": {
        "id": "view-in-github",
        "colab_type": "text"
      },
      "source": [
        "<a href=\"https://colab.research.google.com/github/dimi-fn/Various-Data-Science-Scripts/blob/main/Functions.ipynb\" target=\"_parent\"><img src=\"https://colab.research.google.com/assets/colab-badge.svg\" alt=\"Open In Colab\"/></a>"
      ]
    },
    {
      "cell_type": "markdown",
      "metadata": {
        "id": "50KVICIWWgCj"
      },
      "source": [
        "# *args and **kwargs\r\n",
        "*args and **kwargs can be useful when we want to pass a variable (non pre-defined) number of arguments to a function using special symbols, making the function more flexible.\r\n",
        "- Thus, we can use *args and **kwargs as an argument <ins>when the number of arguments to be passed in the function is not pre-fixed</ins>.\r\n",
        "    * args: <ins>Non Keyword Arguments</ins> --> **Positional** arguments are declared by a _name_ only.\r\n",
        "    * kwargs: <ins>Keyword Arguments</ins> --> they are declared by a _name_ and a default _value_ (like key-value pairs in dictionaries)\r\n",
        "\r\n",
        "    * we first need to declare the positional arguments (args) and then the kewyord arguments (kwargs).\r\n",
        "\r\n",
        "    * the 1 and 2 asterisks in args and kwargs accordingly are mandatory, but the variable names can change - although it is common to maintain them."
      ]
    },
    {
      "cell_type": "code",
      "metadata": {
        "colab": {
          "base_uri": "https://localhost:8080/",
          "height": 35
        },
        "id": "E9p3NJLPWgie",
        "outputId": "2bb02803-006a-473c-8b1d-1c23d73a32b7"
      },
      "source": [
        "# for example, without using *args/ **kwargs, the following will give an error:\r\n",
        "'''\r\n",
        "def add_function(x,y,z):\r\n",
        "    print(\"sum:\",x+y+z)\r\n",
        "\r\n",
        "add_function(3,10,5,4)\r\n",
        "'''\r\n",
        "# since it is restricted only to 3 positional arguments and we gave 4"
      ],
      "execution_count": 1,
      "outputs": [
        {
          "output_type": "execute_result",
          "data": {
            "application/vnd.google.colaboratory.intrinsic+json": {
              "type": "string"
            },
            "text/plain": [
              "'\\ndef add_function(x,y,z):\\n    print(\"sum:\",x+y+z)\\n\\nadd_function(3,10,5,4)\\n'"
            ]
          },
          "metadata": {
            "tags": []
          },
          "execution_count": 1
        }
      ]
    },
    {
      "cell_type": "markdown",
      "metadata": {
        "id": "4WSyd0yNWnQv"
      },
      "source": [
        "## *args\r\n",
        "\r\n",
        "- arguments are passed as a **list**\r\n",
        "* more specifically, *args passes variable number of non-keyworded arguments list, and on which operation of the list can be performed\r\n",
        "* useful when you want a function to be called with a different number of arguments each time you call it\r\n",
        "\r\n"
      ]
    },
    {
      "cell_type": "code",
      "metadata": {
        "colab": {
          "base_uri": "https://localhost:8080/"
        },
        "id": "u4bO8C-1Wi2j",
        "outputId": "2e0386ca-34a7-445c-fa2c-d30cd96684c0"
      },
      "source": [
        "def add_function(*args):\r\n",
        "\r\n",
        "    sum = 0\r\n",
        "    for num in args:\r\n",
        "        sum = sum + num\r\n",
        "\r\n",
        "    print(\"The sum is:\", sum)\r\n",
        "\r\n",
        "add_function(3,10)\r\n",
        "add_function(30,10,5)\r\n",
        "add_function(30,10,5,4)"
      ],
      "execution_count": 2,
      "outputs": [
        {
          "output_type": "stream",
          "text": [
            "The sum is: 13\n",
            "The sum is: 45\n",
            "The sum is: 49\n"
          ],
          "name": "stdout"
        }
      ]
    },
    {
      "cell_type": "markdown",
      "metadata": {
        "id": "InonTPLBCX95"
      },
      "source": [
        "> we can use any other name instead of *args,  however \"*args\" is commonly preferable"
      ]
    },
    {
      "cell_type": "code",
      "metadata": {
        "colab": {
          "base_uri": "https://localhost:8080/"
        },
        "id": "tBsZYtCrWovu",
        "outputId": "74c97b58-eac8-414c-a189-fe58a3a76ae1"
      },
      "source": [
        "def add_function(*numbers):\r\n",
        "\r\n",
        "    sum = 0\r\n",
        "    for num in numbers:\r\n",
        "        sum = sum + num\r\n",
        "\r\n",
        "    print(\"The sum is:\", sum)\r\n",
        "\r\n",
        "add_function(3,10)\r\n",
        "add_function(30,10,5)\r\n",
        "add_function(30,10,5,4)"
      ],
      "execution_count": 3,
      "outputs": [
        {
          "output_type": "stream",
          "text": [
            "The sum is: 13\n",
            "The sum is: 45\n",
            "The sum is: 49\n"
          ],
          "name": "stdout"
        }
      ]
    },
    {
      "cell_type": "code",
      "metadata": {
        "colab": {
          "base_uri": "https://localhost:8080/"
        },
        "id": "WGZ_tNmaWqFo",
        "outputId": "9b6cb572-7ce9-4488-8c53-3885394761d7"
      },
      "source": [
        "def operation(*args):\r\n",
        "\r\n",
        "    sum = 0\r\n",
        "    multip= 1\r\n",
        "    for num in args:\r\n",
        "\r\n",
        "        # sum+=num\r\n",
        "        sum = sum + num\r\n",
        "\r\n",
        "        # multip*=num\r\n",
        "        multip = multip * num\r\n",
        "\r\n",
        "    print(\"Sum is: {}\".format(sum))\r\n",
        "    print(\"Multiplication is: {}\\n\".format(multip))\r\n",
        "\r\n",
        "\r\n",
        "operation(3,2)\r\n",
        "operation(3,2,5)\r\n",
        "operation(3,2,5,4)"
      ],
      "execution_count": 4,
      "outputs": [
        {
          "output_type": "stream",
          "text": [
            "Sum is: 5\n",
            "Multiplication is: 6\n",
            "\n",
            "Sum is: 10\n",
            "Multiplication is: 30\n",
            "\n",
            "Sum is: 14\n",
            "Multiplication is: 120\n",
            "\n"
          ],
          "name": "stdout"
        }
      ]
    },
    {
      "cell_type": "markdown",
      "metadata": {
        "id": "sINLKIjIWu1Y"
      },
      "source": [
        "## **kwargs\r\n",
        "\r\n",
        "Keyword arguments (`**kwargs`) are like list of arguments that are `dictionaries` instead of tuples\r\n",
        "\r\n",
        "**kwargs passes variable number of keyword arguments <ins>dictionary</ins> to function on which operation of a dictionary can be performed\r\n",
        "\r\n",
        "* it does the same operation as *args but for keyword arguments.\r\n",
        "* useful when a function may have different number of arguments each time it is called"
      ]
    },
    {
      "cell_type": "code",
      "metadata": {
        "colab": {
          "base_uri": "https://localhost:8080/"
        },
        "id": "LzZ3HOfvEQxR",
        "outputId": "073e31e1-0109-4670-f7e7-4435e957984c"
      },
      "source": [
        "def main():\r\n",
        "  car(brand=\"mercedes\", colour=\"black\", horses=\"300\")\r\n",
        "\r\n",
        "def car(**kwargs):\r\n",
        "  if len(kwargs):\r\n",
        "    for keys in kwargs:\r\n",
        "      print(\"{}: {}\".format(keys, kwargs[keys]))\r\n",
        "  else:\r\n",
        "    print(\"Not car found\")\r\n",
        "\r\n",
        "\r\n",
        "if __name__ == \"__main__\":\r\n",
        "  main()"
      ],
      "execution_count": 5,
      "outputs": [
        {
          "output_type": "stream",
          "text": [
            "brand: mercedes\n",
            "colour: black\n",
            "horses: 300\n"
          ],
          "name": "stdout"
        }
      ]
    },
    {
      "cell_type": "markdown",
      "metadata": {
        "id": "muGLYTwrHXRk"
      },
      "source": [
        "> **kwargs work as a dict:\r\n",
        "\r\n",
        ">> Same as above:"
      ]
    },
    {
      "cell_type": "code",
      "metadata": {
        "colab": {
          "base_uri": "https://localhost:8080/"
        },
        "id": "vwIQHGrxHdlG",
        "outputId": "7df44761-c457-4e46-d62c-b71682499b65"
      },
      "source": [
        "def main():\r\n",
        "\r\n",
        "  # car(brand=\"mercedes\", colour=\"black\", horses=\"300\")\r\n",
        "\r\n",
        "  # Instead of the above\r\n",
        "  car_dictionary= dict(brand=\"mercedes\", colour=\"black\", horses=\"300\") # Create the dictionary\r\n",
        "  car(**car_dictionary) # invoke the dictionary with \"**\"\r\n",
        "\r\n",
        "def car(**kwargs):\r\n",
        "  if len(kwargs):\r\n",
        "    for keys in kwargs:\r\n",
        "      print(\"{}: {}\".format(keys, kwargs[keys]))\r\n",
        "  else:\r\n",
        "    print(\"Not car found\")\r\n",
        "\r\n",
        "\r\n",
        "if __name__ == \"__main__\":\r\n",
        "  main()"
      ],
      "execution_count": 6,
      "outputs": [
        {
          "output_type": "stream",
          "text": [
            "brand: mercedes\n",
            "colour: black\n",
            "horses: 300\n"
          ],
          "name": "stdout"
        }
      ]
    },
    {
      "cell_type": "code",
      "metadata": {
        "colab": {
          "base_uri": "https://localhost:8080/"
        },
        "id": "_4L4n4phWtjp",
        "outputId": "ffa51570-b460-4b6e-d39a-8928f5eaa6b9"
      },
      "source": [
        "def intro(**kwargs):\r\n",
        "    print(\"\\nData type of the argument is: {}\".format(type(kwargs)))\r\n",
        "    print(\"***************************************************************\")\r\n",
        "\r\n",
        "    for key, value in kwargs.items():\r\n",
        "        print(\"{} is: {}\".format(key, value))\r\n",
        "\r\n",
        "intro(firstname=\"Peter\", lastname=\"Dosh\", age=22, phone=1234567890)\r\n",
        "intro(firstname=\"John\", lastname=\"Last\", age=32, email=\"johnlast@mail.com\", country=\"Norway\", phone=9999888)"
      ],
      "execution_count": 7,
      "outputs": [
        {
          "output_type": "stream",
          "text": [
            "\n",
            "Data type of the argument is: <class 'dict'>\n",
            "***************************************************************\n",
            "firstname is: Peter\n",
            "lastname is: Dosh\n",
            "age is: 22\n",
            "phone is: 1234567890\n",
            "\n",
            "Data type of the argument is: <class 'dict'>\n",
            "***************************************************************\n",
            "firstname is: John\n",
            "lastname is: Last\n",
            "age is: 32\n",
            "email is: johnlast@mail.com\n",
            "country is: Norway\n",
            "phone is: 9999888\n"
          ],
          "name": "stdout"
        }
      ]
    },
    {
      "cell_type": "markdown",
      "metadata": {
        "id": "5hD_n-njWyq2"
      },
      "source": [
        "## Additional examples"
      ]
    },
    {
      "cell_type": "code",
      "metadata": {
        "colab": {
          "base_uri": "https://localhost:8080/"
        },
        "id": "F0vTHWQxWwnv",
        "outputId": "cc96f200-60d7-4141-a011-254e53c110c1"
      },
      "source": [
        "#a and b are positional arguments\r\n",
        "def addition(a, b): \r\n",
        "   return a + b\r\n",
        "\r\n",
        "# thus, 2 required positional arguments\r\n",
        "print(addition(10,2))"
      ],
      "execution_count": 8,
      "outputs": [
        {
          "output_type": "stream",
          "text": [
            "12\n"
          ],
          "name": "stdout"
        }
      ]
    },
    {
      "cell_type": "code",
      "metadata": {
        "colab": {
          "base_uri": "https://localhost:8080/"
        },
        "id": "wsBHklrLW0Sg",
        "outputId": "9b91ec59-ed83-4b9b-b460-0fc25761b7f3"
      },
      "source": [
        "def addition(a, b=2): #a is positional, b is keyword argument\r\n",
        "   return a + b\r\n",
        "\r\n",
        "# \"b\" has been defined\r\n",
        "# only \"a\" needs to be defined   \r\n",
        "print(addition(10))"
      ],
      "execution_count": 9,
      "outputs": [
        {
          "output_type": "stream",
          "text": [
            "12\n"
          ],
          "name": "stdout"
        }
      ]
    },
    {
      "cell_type": "code",
      "metadata": {
        "colab": {
          "base_uri": "https://localhost:8080/"
        },
        "id": "e-LQ5oCkW1ae",
        "outputId": "3609d597-d00f-4fad-d843-ef28c2e6a550"
      },
      "source": [
        "def some_args(arg_1, arg_2, arg_3):\r\n",
        "    print(\"argument_1:\", arg_1)\r\n",
        "    print(\"argument_2:\", arg_2)\r\n",
        "    print(\"argument_3:\", arg_3)\r\n",
        "\r\n",
        "args = (\"aa\", \"ab\", \"ac\")\r\n",
        "some_args(*args)"
      ],
      "execution_count": 10,
      "outputs": [
        {
          "output_type": "stream",
          "text": [
            "argument_1: aa\n",
            "argument_2: ab\n",
            "argument_3: ac\n"
          ],
          "name": "stdout"
        }
      ]
    },
    {
      "cell_type": "markdown",
      "metadata": {
        "id": "O4SvTUNpW4CQ"
      },
      "source": [
        "# Lambda - Map Functions\r\n",
        "## Lambda Expressions\r\n",
        "\r\n",
        "Lambda expressions create functions without a name, and they are quite useful when functions are needed to be used once and they can be written in a single line.\r\n",
        "\r\n",
        "### Lambda expressions with one parameter\r\n",
        "Returning the cube of a number\r\n"
      ]
    },
    {
      "cell_type": "code",
      "metadata": {
        "colab": {
          "base_uri": "https://localhost:8080/"
        },
        "id": "URBXuJWBW2pz",
        "outputId": "e0f54791-a91b-43df-acc4-ab58074e34d4"
      },
      "source": [
        "cube= lambda num: num**3\r\n",
        "print(cube(4))"
      ],
      "execution_count": 11,
      "outputs": [
        {
          "output_type": "stream",
          "text": [
            "64\n"
          ],
          "name": "stdout"
        }
      ]
    },
    {
      "cell_type": "markdown",
      "metadata": {
        "id": "B_XTgLzOXELG"
      },
      "source": [
        "### Lambda expressions with multiple parameters"
      ]
    },
    {
      "cell_type": "code",
      "metadata": {
        "colab": {
          "base_uri": "https://localhost:8080/"
        },
        "id": "V_XnoNmoW52-",
        "outputId": "7aef561b-239b-4c3c-96d5-54b8bcd54e65"
      },
      "source": [
        "greater_number = lambda num1, num2: num1 if num1>num2 else num2\r\n",
        "greater_number(5,3)"
      ],
      "execution_count": 12,
      "outputs": [
        {
          "output_type": "execute_result",
          "data": {
            "text/plain": [
              "5"
            ]
          },
          "metadata": {
            "tags": []
          },
          "execution_count": 12
        }
      ]
    },
    {
      "cell_type": "markdown",
      "metadata": {
        "id": "Fz-t8X0pXIDw"
      },
      "source": [
        "### Filter Functions\r\n",
        "\r\n",
        "Filter functions can filter out an iterable object based on specified conditions."
      ]
    },
    {
      "cell_type": "code",
      "metadata": {
        "colab": {
          "base_uri": "https://localhost:8080/"
        },
        "id": "MUFyba9GXFWQ",
        "outputId": "add5b875-40aa-4fc9-d9da-01a8a899e2f9"
      },
      "source": [
        "#numbers_list = [1,2,3,4,5,6]\r\n",
        "list_even_numbers = list(filter(lambda x:x%2==0, [1,2,3,4,5,6]))\r\n",
        "print(list_even_numbers)"
      ],
      "execution_count": 13,
      "outputs": [
        {
          "output_type": "stream",
          "text": [
            "[2, 4, 6]\n"
          ],
          "name": "stdout"
        }
      ]
    },
    {
      "cell_type": "code",
      "metadata": {
        "colab": {
          "base_uri": "https://localhost:8080/"
        },
        "id": "1MlVXhmRXJcN",
        "outputId": "d3bf7ba5-c036-4d20-caaa-c9eefe771f4b"
      },
      "source": [
        "numbers_list = range(-10, 10)\r\n",
        "positive_numbers = list(filter(lambda x: x < 0, numbers_list))\r\n",
        "print(positive_numbers)"
      ],
      "execution_count": 14,
      "outputs": [
        {
          "output_type": "stream",
          "text": [
            "[-10, -9, -8, -7, -6, -5, -4, -3, -2, -1]\n"
          ],
          "name": "stdout"
        }
      ]
    },
    {
      "cell_type": "markdown",
      "metadata": {
        "id": "mPGH0ct5XL-H"
      },
      "source": [
        "## Map Function\r\n",
        "\r\n",
        "Map functions help us apply a function to each element in an iterable object, such as lists, strings, etc.\r\n",
        "\r\n",
        "> Instead of this:"
      ]
    },
    {
      "cell_type": "code",
      "metadata": {
        "colab": {
          "base_uri": "https://localhost:8080/"
        },
        "id": "KXT_w-zJXKcF",
        "outputId": "c1205f7a-68bf-4ca2-b491-8c2ce325e02e"
      },
      "source": [
        "items = [1, 2, 3, 4, 5]\r\n",
        "squared = []\r\n",
        "for i in items:\r\n",
        "    squared.append(i**2)\r\n",
        "    \r\n",
        "print(squared)"
      ],
      "execution_count": 15,
      "outputs": [
        {
          "output_type": "stream",
          "text": [
            "[1, 4, 9, 16, 25]\n"
          ],
          "name": "stdout"
        }
      ]
    },
    {
      "cell_type": "markdown",
      "metadata": {
        "id": "4MqQbl1gXTy6"
      },
      "source": [
        "> We can have this:"
      ]
    },
    {
      "cell_type": "code",
      "metadata": {
        "colab": {
          "base_uri": "https://localhost:8080/"
        },
        "id": "QwNaSTleXSqn",
        "outputId": "eb406313-1de1-4c75-ed0b-92a9cb65b417"
      },
      "source": [
        "numbers_list = [1,2,3,4,5]\r\n",
        "return_squared_list = list(map(lambda x:x**2, numbers_list))\r\n",
        "print(return_squared_list)"
      ],
      "execution_count": 16,
      "outputs": [
        {
          "output_type": "stream",
          "text": [
            "[1, 4, 9, 16, 25]\n"
          ],
          "name": "stdout"
        }
      ]
    },
    {
      "cell_type": "markdown",
      "metadata": {
        "id": "rSD5RCj4XYOU"
      },
      "source": [
        "### Calling functions - map"
      ]
    },
    {
      "cell_type": "code",
      "metadata": {
        "colab": {
          "base_uri": "https://localhost:8080/"
        },
        "id": "2g7T83v7XWUT",
        "outputId": "b9be04af-6678-4287-b506-564fc5756320"
      },
      "source": [
        "def powerof(num):\r\n",
        "    return num**2\r\n",
        "\r\n",
        "number = [1,2,3,4,5,6,7,8]\r\n",
        "\r\n",
        "s = list(map(powerof,number))\r\n",
        "print(s)"
      ],
      "execution_count": 17,
      "outputs": [
        {
          "output_type": "stream",
          "text": [
            "[1, 4, 9, 16, 25, 36, 49, 64]\n"
          ],
          "name": "stdout"
        }
      ]
    },
    {
      "cell_type": "code",
      "metadata": {
        "colab": {
          "base_uri": "https://localhost:8080/"
        },
        "id": "iB6Jkt1aZI4e",
        "outputId": "70c0b43e-ccba-4460-a360-f3469ccf09f0"
      },
      "source": [
        "def multiply(x):\r\n",
        "    return (x*x)\r\n",
        "def add(x):\r\n",
        "    return (x+x)\r\n",
        "\r\n",
        "functions = [multiply, add]\r\n",
        "for i in range(5):\r\n",
        "  value = list(map(lambda x: x(i), functions))\r\n",
        "  print(value)"
      ],
      "execution_count": 18,
      "outputs": [
        {
          "output_type": "stream",
          "text": [
            "[0, 0]\n",
            "[1, 2]\n",
            "[4, 4]\n",
            "[9, 6]\n",
            "[16, 8]\n"
          ],
          "name": "stdout"
        }
      ]
    },
    {
      "cell_type": "markdown",
      "metadata": {
        "id": "vV0HKbR9Xbby"
      },
      "source": [
        "## Reduce\r\n",
        "\r\n",
        "It can be useful for performing computations on lists and returning the result. It applies a rolling computation to sequential **pairs** of values in a list\r\n",
        "\r\n",
        "Example: Calculate the product result from a list of a given numbers.\r\n",
        "\r\n",
        "> Long way:"
      ]
    },
    {
      "cell_type": "code",
      "metadata": {
        "colab": {
          "base_uri": "https://localhost:8080/"
        },
        "id": "cp53n54pXZz1",
        "outputId": "ca8fe4b4-8726-41f1-9304-7534730199fe"
      },
      "source": [
        "product = 1\r\n",
        "list = [2, 3, 4, 5]\r\n",
        "for num in list:\r\n",
        "    product = product * num\r\n",
        "\r\n",
        "print(product)"
      ],
      "execution_count": 19,
      "outputs": [
        {
          "output_type": "stream",
          "text": [
            "120\n"
          ],
          "name": "stdout"
        }
      ]
    },
    {
      "cell_type": "markdown",
      "metadata": {
        "id": "jYZpCCQVXfAZ"
      },
      "source": [
        "> Using Reduce:"
      ]
    },
    {
      "cell_type": "code",
      "metadata": {
        "colab": {
          "base_uri": "https://localhost:8080/"
        },
        "id": "8EcskpiAXdss",
        "outputId": "a3bafc55-3c81-446d-e5da-c97eff4c4c5e"
      },
      "source": [
        "from functools import reduce\r\n",
        "list_numbers = [2, 3, 4, 5]\r\n",
        "product = reduce((lambda x, y: x * y), list_numbers)\r\n",
        "\r\n",
        "print(product)"
      ],
      "execution_count": 20,
      "outputs": [
        {
          "output_type": "stream",
          "text": [
            "120\n"
          ],
          "name": "stdout"
        }
      ]
    },
    {
      "cell_type": "markdown",
      "metadata": {
        "id": "ahREzckGXhkA"
      },
      "source": [
        "## Combining Lambda - Map - Filter\r\n",
        "\r\n",
        "Example: returning the square for those numbers that are even."
      ]
    },
    {
      "cell_type": "code",
      "metadata": {
        "id": "QO0ByMl4Xhyz"
      },
      "source": [
        "# numbers_list = [1,2,3,4,5]\r\n",
        "# return_squared_even_list = list(map(lambda x:x**2, filter(lambda x:x%2==0, numbers_list)))"
      ],
      "execution_count": 21,
      "outputs": []
    },
    {
      "cell_type": "markdown",
      "metadata": {
        "id": "Z82v9u258ps1"
      },
      "source": [
        "# Recursive vs Iterative Functions"
      ]
    },
    {
      "cell_type": "code",
      "metadata": {
        "colab": {
          "base_uri": "https://localhost:8080/"
        },
        "id": "Y1hcgkrL8wNV",
        "outputId": "17a4f601-9cdb-416d-b3c8-62b53f3b8853"
      },
      "source": [
        "# An iterative function repeatedly gets executed until the controlling condition becomes false\r\n",
        "\r\n",
        "def iterative_sum(n):\r\n",
        "\r\n",
        "    result = 1\r\n",
        "\r\n",
        "   # controlling condition: n+1\r\n",
        "    for i in range(2,n+1):\r\n",
        "        result *= i\r\n",
        "    return result\r\n",
        "print(iterative_sum(4))"
      ],
      "execution_count": 22,
      "outputs": [
        {
          "output_type": "stream",
          "text": [
            "24\n"
          ],
          "name": "stdout"
        }
      ]
    },
    {
      "cell_type": "code",
      "metadata": {
        "colab": {
          "base_uri": "https://localhost:8080/"
        },
        "id": "QLGn_55H9Pqp",
        "outputId": "7b5adcbc-4ee5-483f-eccf-a0825c93ac24"
      },
      "source": [
        "# A recursive function calls itself\r\n",
        "def recursive_sum(n):\r\n",
        "    if n == 1:\r\n",
        "        return 1\r\n",
        "    else:\r\n",
        "        return n * recursive_sum(n-1)\r\n",
        "print(recursive_sum(4))"
      ],
      "execution_count": 23,
      "outputs": [
        {
          "output_type": "stream",
          "text": [
            "24\n"
          ],
          "name": "stdout"
        }
      ]
    }
  ]
}